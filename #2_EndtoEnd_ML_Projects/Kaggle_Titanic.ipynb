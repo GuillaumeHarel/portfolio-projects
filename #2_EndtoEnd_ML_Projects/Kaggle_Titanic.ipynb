{
 "cells": [
  {
   "cell_type": "markdown",
   "metadata": {
    "collapsed": true
   },
   "source": [
    "# **Kaggle / Titanic, Machine Learning from Disaster**"
   ]
  },
  {
   "cell_type": "markdown",
   "metadata": {},
   "source": [
    "## **Tutorial competition description**"
   ]
  },
  {
   "cell_type": "markdown",
   "metadata": {},
   "source": [
    "From [Kaggle](https://www.kaggle.com/c/titanic) :\n",
    "<br> <br>\n",
    "*The sinking of the RMS Titanic is one of the most infamous shipwrecks in history.  On April 15, 1912, during her maiden voyage, the Titanic sank after colliding with an iceberg, killing 1502 out of 2224 passengers and crew. This sensational tragedy shocked the international community and led to better safety regulations for ships.*\n",
    "\n",
    "*One of the reasons that the shipwreck led to such loss of life was that there were not enough lifeboats for the passengers and crew. Although there was some element of luck involved in surviving the sinking, some groups of people were more likely to survive than others, such as women, children, and the upper-class.*\n",
    "\n",
    "*In this challenge, we ask you to complete the analysis of what sorts of people were likely to survive. In particular, we ask you to apply the tools of machine learning to predict which passengers survived the tragedy.*"
   ]
  },
  {
   "cell_type": "markdown",
   "metadata": {},
   "source": [
    "#### *Key skills* : Exploratory data analysis, Data cleaning, Binary Classification, Ensemble methods"
   ]
  },
  {
   "cell_type": "markdown",
   "metadata": {},
   "source": [
    "### **Set up**"
   ]
  },
  {
   "cell_type": "markdown",
   "metadata": {},
   "source": [
    "#### **Importing librairies**"
   ]
  },
  {
   "cell_type": "code",
   "execution_count": 1,
   "metadata": {},
   "outputs": [],
   "source": [
    "import sys, os\n",
    "import re\n",
    "from six.moves import urllib\n",
    "import numpy as np\n",
    "import pandas as pd\n",
    "from pandas.core.common import SettingWithCopyWarning\n",
    "import re\n",
    "import matplotlib\n",
    "import matplotlib.pyplot as plt\n",
    "%matplotlib inline\n",
    "from IPython.display import display #to have nice dataframe in Jupyter notebook\n",
    "\n",
    "import seaborn as sns\n",
    "import itertools\n",
    "import sklearn\n",
    "from sklearn.base import BaseEstimator, TransformerMixin\n",
    "from sklearn.pipeline import Pipeline\n",
    "from sklearn.preprocessing import StandardScaler, OneHotEncoder\n",
    "from sklearn.impute import SimpleImputer\n",
    "from sklearn.compose import ColumnTransformer\n",
    "from sklearn.svm import SVC, LinearSVC\n",
    "from sklearn.neighbors import KNeighborsClassifier\n",
    "from sklearn.linear_model import LogisticRegression\n",
    "from sklearn.tree import DecisionTreeClassifier\n",
    "from sklearn.neural_network import MLPClassifier\n",
    "from sklearn.naive_bayes import BernoulliNB\n",
    "from sklearn.ensemble import RandomForestClassifier, ExtraTreesClassifier, VotingClassifier, AdaBoostClassifier\n",
    "from sklearn.model_selection import cross_val_score, GridSearchCV, RandomizedSearchCV, cross_val_predict\n",
    "from scipy.stats import uniform, randint, expon, reciprocal\n",
    "from sklearn.externals import joblib\n",
    "from statsmodels.distributions.empirical_distribution import ECDF\n",
    "import xgboost as xgb\n",
    "\n",
    "import warnings"
   ]
  },
  {
   "cell_type": "code",
   "execution_count": 2,
   "metadata": {},
   "outputs": [
    {
     "name": "stdout",
     "output_type": "stream",
     "text": [
      "Python interpreter :  3.7.3 (default, Apr 24 2019, 15:29:51) [MSC v.1915 64 bit (AMD64)]\n",
      "Numpy version :  1.16.3\n",
      "Pandas version :  0.24.2\n",
      "Matplotlib version :  3.0.3\n",
      "Seaborn version :  0.9.0\n",
      "Scikit learn version :  0.20.3\n",
      "XGboost version :  0.82\n"
     ]
    }
   ],
   "source": [
    "print(\"Python interpreter : \", sys.version)\n",
    "print(\"Numpy version : \", np.__version__)\n",
    "print(\"Pandas version : \", pd.__version__)\n",
    "print(\"Matplotlib version : \", matplotlib.__version__)\n",
    "print(\"Seaborn version : \", sns.__version__)\n",
    "print(\"Scikit learn version : \", sklearn.__version__)\n",
    "print(\"XGboost version : \", xgb.__version__)"
   ]
  },
  {
   "cell_type": "code",
   "execution_count": 3,
   "metadata": {},
   "outputs": [],
   "source": [
    "warnings.simplefilter(action='ignore', category=(FutureWarning, SettingWithCopyWarning))\n",
    "plt.style.use('ggplot')\n",
    "pd.set_option('display.max_columns', 100)\n",
    "URL_ROOT_PATH = 'https://raw.githubusercontent.com/GuillaumeHarel/Hello_world_ML/master/Raw_data/Kaggle_titanic/'\n",
    "FILE_NAMES = ['train.csv', 'test.csv']\n",
    "MODEL_SAVING_PATH = \"./Models/\"\n",
    "DATA_SAVING_PATH = \"./Data/\""
   ]
  },
  {
   "cell_type": "markdown",
   "metadata": {},
   "source": [
    "### **Downloading the data**"
   ]
  },
  {
   "cell_type": "code",
   "execution_count": 4,
   "metadata": {},
   "outputs": [],
   "source": [
    "def fetch_datasets(dl_root = URL_ROOT_PATH, file_path=DATA_SAVING_PATH):\n",
    "    datasets = {}\n",
    "    if os.path.exists(file_path):\n",
    "        print(\"Files were previously downloaded, loading file from: \", file_path)\n",
    "        for root, dirs, files in os.walk(file_path):\n",
    "            for file in files:\n",
    "                datasets[file] = pd.read_csv(os.path.join(root, file), index_col=0)\n",
    "        return datasets\n",
    "    os.makedirs(file_path)\n",
    "    for file_name in FILE_NAMES:\n",
    "        dl_url = URL_ROOT_PATH + file_name\n",
    "        file_path = DATA_SAVING_PATH + file_name\n",
    "        urllib.request.urlretrieve(dl_url, file_path)\n",
    "        print(\"{} has been successfully donwloaded and saved in {}\".format(file_name, file_path))\n",
    "        print('~-'*30)\n",
    "        datasets[file_name] = pd.read_csv(file_path, index_col=0)\n",
    "    return datasets\n",
    "        "
   ]
  },
  {
   "cell_type": "code",
   "execution_count": 5,
   "metadata": {},
   "outputs": [
    {
     "name": "stdout",
     "output_type": "stream",
     "text": [
      "Files were previously downloaded, loading file from:  ./Data/\n"
     ]
    }
   ],
   "source": [
    "datasets = fetch_datasets()"
   ]
  },
  {
   "cell_type": "code",
   "execution_count": 6,
   "metadata": {},
   "outputs": [
    {
     "name": "stdout",
     "output_type": "stream",
     "text": [
      "dict_keys(['test.csv', 'train.csv'])\n",
      "(891, 11)\n"
     ]
    },
    {
     "data": {
      "text/html": [
       "<div>\n",
       "<style scoped>\n",
       "    .dataframe tbody tr th:only-of-type {\n",
       "        vertical-align: middle;\n",
       "    }\n",
       "\n",
       "    .dataframe tbody tr th {\n",
       "        vertical-align: top;\n",
       "    }\n",
       "\n",
       "    .dataframe thead th {\n",
       "        text-align: right;\n",
       "    }\n",
       "</style>\n",
       "<table border=\"1\" class=\"dataframe\">\n",
       "  <thead>\n",
       "    <tr style=\"text-align: right;\">\n",
       "      <th></th>\n",
       "      <th>Survived</th>\n",
       "      <th>Pclass</th>\n",
       "      <th>Name</th>\n",
       "      <th>Sex</th>\n",
       "      <th>Age</th>\n",
       "      <th>SibSp</th>\n",
       "      <th>Parch</th>\n",
       "      <th>Ticket</th>\n",
       "      <th>Fare</th>\n",
       "      <th>Cabin</th>\n",
       "      <th>Embarked</th>\n",
       "    </tr>\n",
       "    <tr>\n",
       "      <th>PassengerId</th>\n",
       "      <th></th>\n",
       "      <th></th>\n",
       "      <th></th>\n",
       "      <th></th>\n",
       "      <th></th>\n",
       "      <th></th>\n",
       "      <th></th>\n",
       "      <th></th>\n",
       "      <th></th>\n",
       "      <th></th>\n",
       "      <th></th>\n",
       "    </tr>\n",
       "  </thead>\n",
       "  <tbody>\n",
       "    <tr>\n",
       "      <th>1</th>\n",
       "      <td>0</td>\n",
       "      <td>3</td>\n",
       "      <td>Braund, Mr. Owen Harris</td>\n",
       "      <td>male</td>\n",
       "      <td>22.0</td>\n",
       "      <td>1</td>\n",
       "      <td>0</td>\n",
       "      <td>A/5 21171</td>\n",
       "      <td>7.2500</td>\n",
       "      <td>NaN</td>\n",
       "      <td>S</td>\n",
       "    </tr>\n",
       "    <tr>\n",
       "      <th>2</th>\n",
       "      <td>1</td>\n",
       "      <td>1</td>\n",
       "      <td>Cumings, Mrs. John Bradley (Florence Briggs Th...</td>\n",
       "      <td>female</td>\n",
       "      <td>38.0</td>\n",
       "      <td>1</td>\n",
       "      <td>0</td>\n",
       "      <td>PC 17599</td>\n",
       "      <td>71.2833</td>\n",
       "      <td>C85</td>\n",
       "      <td>C</td>\n",
       "    </tr>\n",
       "    <tr>\n",
       "      <th>3</th>\n",
       "      <td>1</td>\n",
       "      <td>3</td>\n",
       "      <td>Heikkinen, Miss. Laina</td>\n",
       "      <td>female</td>\n",
       "      <td>26.0</td>\n",
       "      <td>0</td>\n",
       "      <td>0</td>\n",
       "      <td>STON/O2. 3101282</td>\n",
       "      <td>7.9250</td>\n",
       "      <td>NaN</td>\n",
       "      <td>S</td>\n",
       "    </tr>\n",
       "  </tbody>\n",
       "</table>\n",
       "</div>"
      ],
      "text/plain": [
       "<div>\n",
       "<style scoped>\n",
       "    .dataframe tbody tr th:only-of-type {\n",
       "        vertical-align: middle;\n",
       "    }\n",
       "\n",
       "    .dataframe tbody tr th {\n",
       "        vertical-align: top;\n",
       "    }\n",
       "\n",
       "    .dataframe thead th {\n",
       "        text-align: right;\n",
       "    }\n",
       "</style>\n",
       "<table border=\"1\" class=\"dataframe\">\n",
       "  <thead>\n",
       "    <tr style=\"text-align: right;\">\n",
       "      <th></th>\n",
       "      <th>Survived</th>\n",
       "      <th>Pclass</th>\n",
       "      <th>Name</th>\n",
       "      <th>Sex</th>\n",
       "      <th>Age</th>\n",
       "      <th>SibSp</th>\n",
       "      <th>Parch</th>\n",
       "      <th>Ticket</th>\n",
       "      <th>Fare</th>\n",
       "      <th>Cabin</th>\n",
       "      <th>Embarked</th>\n",
       "    </tr>\n",
       "    <tr>\n",
       "      <th>PassengerId</th>\n",
       "      <th></th>\n",
       "      <th></th>\n",
       "      <th></th>\n",
       "      <th></th>\n",
       "      <th></th>\n",
       "      <th></th>\n",
       "      <th></th>\n",
       "      <th></th>\n",
       "      <th></th>\n",
       "      <th></th>\n",
       "      <th></th>\n",
       "    </tr>\n",
       "  </thead>\n",
       "  <tbody>\n",
       "    <tr>\n",
       "      <th>1</th>\n",
       "      <td>0</td>\n",
       "      <td>3</td>\n",
       "      <td>Braund, Mr. Owen Harris</td>\n",
       "      <td>male</td>\n",
       "      <td>22.0</td>\n",
       "      <td>1</td>\n",
       "      <td>0</td>\n",
       "      <td>A/5 21171</td>\n",
       "      <td>7.2500</td>\n",
       "      <td>NaN</td>\n",
       "      <td>S</td>\n",
       "    </tr>\n",
       "    <tr>\n",
       "      <th>2</th>\n",
       "      <td>1</td>\n",
       "      <td>1</td>\n",
       "      <td>Cumings, Mrs. John Bradley (Florence Briggs Th...</td>\n",
       "      <td>female</td>\n",
       "      <td>38.0</td>\n",
       "      <td>1</td>\n",
       "      <td>0</td>\n",
       "      <td>PC 17599</td>\n",
       "      <td>71.2833</td>\n",
       "      <td>C85</td>\n",
       "      <td>C</td>\n",
       "    </tr>\n",
       "    <tr>\n",
       "      <th>3</th>\n",
       "      <td>1</td>\n",
       "      <td>3</td>\n",
       "      <td>Heikkinen, Miss. Laina</td>\n",
       "      <td>female</td>\n",
       "      <td>26.0</td>\n",
       "      <td>0</td>\n",
       "      <td>0</td>\n",
       "      <td>STON/O2. 3101282</td>\n",
       "      <td>7.9250</td>\n",
       "      <td>NaN</td>\n",
       "      <td>S</td>\n",
       "    </tr>\n",
       "  </tbody>\n",
       "</table>\n",
       "</div>"
      ]
     },
     "execution_count": 0,
     "metadata": {},
     "output_type": "execute_result"
    },
    {
     "name": "stdout",
     "output_type": "stream",
     "text": [
      "(418, 10)\n"
     ]
    },
    {
     "data": {
      "text/html": [
       "<div>\n",
       "<style scoped>\n",
       "    .dataframe tbody tr th:only-of-type {\n",
       "        vertical-align: middle;\n",
       "    }\n",
       "\n",
       "    .dataframe tbody tr th {\n",
       "        vertical-align: top;\n",
       "    }\n",
       "\n",
       "    .dataframe thead th {\n",
       "        text-align: right;\n",
       "    }\n",
       "</style>\n",
       "<table border=\"1\" class=\"dataframe\">\n",
       "  <thead>\n",
       "    <tr style=\"text-align: right;\">\n",
       "      <th></th>\n",
       "      <th>Pclass</th>\n",
       "      <th>Name</th>\n",
       "      <th>Sex</th>\n",
       "      <th>Age</th>\n",
       "      <th>SibSp</th>\n",
       "      <th>Parch</th>\n",
       "      <th>Ticket</th>\n",
       "      <th>Fare</th>\n",
       "      <th>Cabin</th>\n",
       "      <th>Embarked</th>\n",
       "    </tr>\n",
       "    <tr>\n",
       "      <th>PassengerId</th>\n",
       "      <th></th>\n",
       "      <th></th>\n",
       "      <th></th>\n",
       "      <th></th>\n",
       "      <th></th>\n",
       "      <th></th>\n",
       "      <th></th>\n",
       "      <th></th>\n",
       "      <th></th>\n",
       "      <th></th>\n",
       "    </tr>\n",
       "  </thead>\n",
       "  <tbody>\n",
       "    <tr>\n",
       "      <th>892</th>\n",
       "      <td>3</td>\n",
       "      <td>Kelly, Mr. James</td>\n",
       "      <td>male</td>\n",
       "      <td>34.5</td>\n",
       "      <td>0</td>\n",
       "      <td>0</td>\n",
       "      <td>330911</td>\n",
       "      <td>7.8292</td>\n",
       "      <td>NaN</td>\n",
       "      <td>Q</td>\n",
       "    </tr>\n",
       "    <tr>\n",
       "      <th>893</th>\n",
       "      <td>3</td>\n",
       "      <td>Wilkes, Mrs. James (Ellen Needs)</td>\n",
       "      <td>female</td>\n",
       "      <td>47.0</td>\n",
       "      <td>1</td>\n",
       "      <td>0</td>\n",
       "      <td>363272</td>\n",
       "      <td>7.0000</td>\n",
       "      <td>NaN</td>\n",
       "      <td>S</td>\n",
       "    </tr>\n",
       "    <tr>\n",
       "      <th>894</th>\n",
       "      <td>2</td>\n",
       "      <td>Myles, Mr. Thomas Francis</td>\n",
       "      <td>male</td>\n",
       "      <td>62.0</td>\n",
       "      <td>0</td>\n",
       "      <td>0</td>\n",
       "      <td>240276</td>\n",
       "      <td>9.6875</td>\n",
       "      <td>NaN</td>\n",
       "      <td>Q</td>\n",
       "    </tr>\n",
       "  </tbody>\n",
       "</table>\n",
       "</div>"
      ],
      "text/plain": [
       "<div>\n",
       "<style scoped>\n",
       "    .dataframe tbody tr th:only-of-type {\n",
       "        vertical-align: middle;\n",
       "    }\n",
       "\n",
       "    .dataframe tbody tr th {\n",
       "        vertical-align: top;\n",
       "    }\n",
       "\n",
       "    .dataframe thead th {\n",
       "        text-align: right;\n",
       "    }\n",
       "</style>\n",
       "<table border=\"1\" class=\"dataframe\">\n",
       "  <thead>\n",
       "    <tr style=\"text-align: right;\">\n",
       "      <th></th>\n",
       "      <th>Pclass</th>\n",
       "      <th>Name</th>\n",
       "      <th>Sex</th>\n",
       "      <th>Age</th>\n",
       "      <th>SibSp</th>\n",
       "      <th>Parch</th>\n",
       "      <th>Ticket</th>\n",
       "      <th>Fare</th>\n",
       "      <th>Cabin</th>\n",
       "      <th>Embarked</th>\n",
       "    </tr>\n",
       "    <tr>\n",
       "      <th>PassengerId</th>\n",
       "      <th></th>\n",
       "      <th></th>\n",
       "      <th></th>\n",
       "      <th></th>\n",
       "      <th></th>\n",
       "      <th></th>\n",
       "      <th></th>\n",
       "      <th></th>\n",
       "      <th></th>\n",
       "      <th></th>\n",
       "    </tr>\n",
       "  </thead>\n",
       "  <tbody>\n",
       "    <tr>\n",
       "      <th>892</th>\n",
       "      <td>3</td>\n",
       "      <td>Kelly, Mr. James</td>\n",
       "      <td>male</td>\n",
       "      <td>34.5</td>\n",
       "      <td>0</td>\n",
       "      <td>0</td>\n",
       "      <td>330911</td>\n",
       "      <td>7.8292</td>\n",
       "      <td>NaN</td>\n",
       "      <td>Q</td>\n",
       "    </tr>\n",
       "    <tr>\n",
       "      <th>893</th>\n",
       "      <td>3</td>\n",
       "      <td>Wilkes, Mrs. James (Ellen Needs)</td>\n",
       "      <td>female</td>\n",
       "      <td>47.0</td>\n",
       "      <td>1</td>\n",
       "      <td>0</td>\n",
       "      <td>363272</td>\n",
       "      <td>7.0000</td>\n",
       "      <td>NaN</td>\n",
       "      <td>S</td>\n",
       "    </tr>\n",
       "    <tr>\n",
       "      <th>894</th>\n",
       "      <td>2</td>\n",
       "      <td>Myles, Mr. Thomas Francis</td>\n",
       "      <td>male</td>\n",
       "      <td>62.0</td>\n",
       "      <td>0</td>\n",
       "      <td>0</td>\n",
       "      <td>240276</td>\n",
       "      <td>9.6875</td>\n",
       "      <td>NaN</td>\n",
       "      <td>Q</td>\n",
       "    </tr>\n",
       "  </tbody>\n",
       "</table>\n",
       "</div>"
      ]
     },
     "execution_count": 0,
     "metadata": {},
     "output_type": "execute_result"
    }
   ],
   "source": [
    "print(datasets.keys())\n",
    "for file in FILE_NAMES:\n",
    "    print(datasets[file].shape)\n",
    "    display(datasets[file].head(3))"
   ]
  },
  {
   "cell_type": "markdown",
   "metadata": {},
   "source": [
    "### **Exploratory Data Analysis**"
   ]
  },
  {
   "cell_type": "code",
   "execution_count": 7,
   "metadata": {},
   "outputs": [
    {
     "name": "stdout",
     "output_type": "stream",
     "text": [
      "<class 'pandas.core.frame.DataFrame'>\n",
      "Int64Index: 891 entries, 1 to 891\n",
      "Data columns (total 11 columns):\n",
      "Survived    891 non-null int64\n",
      "Pclass      891 non-null int64\n",
      "Name        891 non-null object\n",
      "Sex         891 non-null object\n",
      "Age         714 non-null float64\n",
      "SibSp       891 non-null int64\n",
      "Parch       891 non-null int64\n",
      "Ticket      891 non-null object\n",
      "Fare        891 non-null float64\n",
      "Cabin       204 non-null object\n",
      "Embarked    889 non-null object\n",
      "dtypes: float64(2), int64(4), object(5)\n",
      "memory usage: 83.5+ KB\n",
      "None\n"
     ]
    }
   ],
   "source": [
    "df_train = datasets['train.csv']\n",
    "df_test = datasets['test.csv']\n",
    "print(df_train.info())"
   ]
  },
  {
   "cell_type": "markdown",
   "metadata": {},
   "source": [
    "Object dtype corresponds to strings while int64 et float64 object respectively stands for numeric categorical features and numeric continuous features. Survived viariable is the target variable we want to predict for the test dataset. \n",
    "Meaning of each feature is quickly indicated below :\n",
    "\n",
    "\n",
    "    Survived: that's the target, 0 means the passenger did not survive, while 1 means he/she survived.\n",
    "    Pclass: passenger class.\n",
    "    Name, Sex, Age: self-explanatory\n",
    "    SibSp: how many siblings & spouses of the passenger aboard the Titanic.\n",
    "    Parch: how many children & parents of the passenger aboard the Titanic.\n",
    "    Ticket: ticket id\n",
    "    Fare: price paid (in pounds)\n",
    "    Cabin: passenger's cabin number\n",
    "    Embarked: where the passenger embarked the Titanic\n",
    "\n",
    "\n",
    "\n",
    "From the .info method, some missing values (NaN values) can be observed for the Age (about roughly 20%) and for the Cabin number (> 75%). Two values are also missing for the Embarked feature. For these 3 features, missing values will have to be inmputed in order to be included in the model. Let's have a closer look at the train df head."
   ]
  },
  {
   "cell_type": "code",
   "execution_count": 8,
   "metadata": {},
   "outputs": [
    {
     "data": {
      "text/html": [
       "<div>\n",
       "<style scoped>\n",
       "    .dataframe tbody tr th:only-of-type {\n",
       "        vertical-align: middle;\n",
       "    }\n",
       "\n",
       "    .dataframe tbody tr th {\n",
       "        vertical-align: top;\n",
       "    }\n",
       "\n",
       "    .dataframe thead th {\n",
       "        text-align: right;\n",
       "    }\n",
       "</style>\n",
       "<table border=\"1\" class=\"dataframe\">\n",
       "  <thead>\n",
       "    <tr style=\"text-align: right;\">\n",
       "      <th></th>\n",
       "      <th>Survived</th>\n",
       "      <th>Pclass</th>\n",
       "      <th>Name</th>\n",
       "      <th>Sex</th>\n",
       "      <th>Age</th>\n",
       "      <th>SibSp</th>\n",
       "      <th>Parch</th>\n",
       "      <th>Ticket</th>\n",
       "      <th>Fare</th>\n",
       "      <th>Cabin</th>\n",
       "      <th>Embarked</th>\n",
       "    </tr>\n",
       "    <tr>\n",
       "      <th>PassengerId</th>\n",
       "      <th></th>\n",
       "      <th></th>\n",
       "      <th></th>\n",
       "      <th></th>\n",
       "      <th></th>\n",
       "      <th></th>\n",
       "      <th></th>\n",
       "      <th></th>\n",
       "      <th></th>\n",
       "      <th></th>\n",
       "      <th></th>\n",
       "    </tr>\n",
       "  </thead>\n",
       "  <tbody>\n",
       "    <tr>\n",
       "      <th>1</th>\n",
       "      <td>0</td>\n",
       "      <td>3</td>\n",
       "      <td>Braund, Mr. Owen Harris</td>\n",
       "      <td>male</td>\n",
       "      <td>22.0</td>\n",
       "      <td>1</td>\n",
       "      <td>0</td>\n",
       "      <td>A/5 21171</td>\n",
       "      <td>7.2500</td>\n",
       "      <td>NaN</td>\n",
       "      <td>S</td>\n",
       "    </tr>\n",
       "    <tr>\n",
       "      <th>2</th>\n",
       "      <td>1</td>\n",
       "      <td>1</td>\n",
       "      <td>Cumings, Mrs. John Bradley (Florence Briggs Th...</td>\n",
       "      <td>female</td>\n",
       "      <td>38.0</td>\n",
       "      <td>1</td>\n",
       "      <td>0</td>\n",
       "      <td>PC 17599</td>\n",
       "      <td>71.2833</td>\n",
       "      <td>C85</td>\n",
       "      <td>C</td>\n",
       "    </tr>\n",
       "    <tr>\n",
       "      <th>3</th>\n",
       "      <td>1</td>\n",
       "      <td>3</td>\n",
       "      <td>Heikkinen, Miss. Laina</td>\n",
       "      <td>female</td>\n",
       "      <td>26.0</td>\n",
       "      <td>0</td>\n",
       "      <td>0</td>\n",
       "      <td>STON/O2. 3101282</td>\n",
       "      <td>7.9250</td>\n",
       "      <td>NaN</td>\n",
       "      <td>S</td>\n",
       "    </tr>\n",
       "    <tr>\n",
       "      <th>4</th>\n",
       "      <td>1</td>\n",
       "      <td>1</td>\n",
       "      <td>Futrelle, Mrs. Jacques Heath (Lily May Peel)</td>\n",
       "      <td>female</td>\n",
       "      <td>35.0</td>\n",
       "      <td>1</td>\n",
       "      <td>0</td>\n",
       "      <td>113803</td>\n",
       "      <td>53.1000</td>\n",
       "      <td>C123</td>\n",
       "      <td>S</td>\n",
       "    </tr>\n",
       "    <tr>\n",
       "      <th>5</th>\n",
       "      <td>0</td>\n",
       "      <td>3</td>\n",
       "      <td>Allen, Mr. William Henry</td>\n",
       "      <td>male</td>\n",
       "      <td>35.0</td>\n",
       "      <td>0</td>\n",
       "      <td>0</td>\n",
       "      <td>373450</td>\n",
       "      <td>8.0500</td>\n",
       "      <td>NaN</td>\n",
       "      <td>S</td>\n",
       "    </tr>\n",
       "    <tr>\n",
       "      <th>6</th>\n",
       "      <td>0</td>\n",
       "      <td>3</td>\n",
       "      <td>Moran, Mr. James</td>\n",
       "      <td>male</td>\n",
       "      <td>NaN</td>\n",
       "      <td>0</td>\n",
       "      <td>0</td>\n",
       "      <td>330877</td>\n",
       "      <td>8.4583</td>\n",
       "      <td>NaN</td>\n",
       "      <td>Q</td>\n",
       "    </tr>\n",
       "    <tr>\n",
       "      <th>7</th>\n",
       "      <td>0</td>\n",
       "      <td>1</td>\n",
       "      <td>McCarthy, Mr. Timothy J</td>\n",
       "      <td>male</td>\n",
       "      <td>54.0</td>\n",
       "      <td>0</td>\n",
       "      <td>0</td>\n",
       "      <td>17463</td>\n",
       "      <td>51.8625</td>\n",
       "      <td>E46</td>\n",
       "      <td>S</td>\n",
       "    </tr>\n",
       "    <tr>\n",
       "      <th>8</th>\n",
       "      <td>0</td>\n",
       "      <td>3</td>\n",
       "      <td>Palsson, Master. Gosta Leonard</td>\n",
       "      <td>male</td>\n",
       "      <td>2.0</td>\n",
       "      <td>3</td>\n",
       "      <td>1</td>\n",
       "      <td>349909</td>\n",
       "      <td>21.0750</td>\n",
       "      <td>NaN</td>\n",
       "      <td>S</td>\n",
       "    </tr>\n",
       "    <tr>\n",
       "      <th>9</th>\n",
       "      <td>1</td>\n",
       "      <td>3</td>\n",
       "      <td>Johnson, Mrs. Oscar W (Elisabeth Vilhelmina Berg)</td>\n",
       "      <td>female</td>\n",
       "      <td>27.0</td>\n",
       "      <td>0</td>\n",
       "      <td>2</td>\n",
       "      <td>347742</td>\n",
       "      <td>11.1333</td>\n",
       "      <td>NaN</td>\n",
       "      <td>S</td>\n",
       "    </tr>\n",
       "    <tr>\n",
       "      <th>10</th>\n",
       "      <td>1</td>\n",
       "      <td>2</td>\n",
       "      <td>Nasser, Mrs. Nicholas (Adele Achem)</td>\n",
       "      <td>female</td>\n",
       "      <td>14.0</td>\n",
       "      <td>1</td>\n",
       "      <td>0</td>\n",
       "      <td>237736</td>\n",
       "      <td>30.0708</td>\n",
       "      <td>NaN</td>\n",
       "      <td>C</td>\n",
       "    </tr>\n",
       "  </tbody>\n",
       "</table>\n",
       "</div>"
      ],
      "text/plain": [
       "<div>\n",
       "<style scoped>\n",
       "    .dataframe tbody tr th:only-of-type {\n",
       "        vertical-align: middle;\n",
       "    }\n",
       "\n",
       "    .dataframe tbody tr th {\n",
       "        vertical-align: top;\n",
       "    }\n",
       "\n",
       "    .dataframe thead th {\n",
       "        text-align: right;\n",
       "    }\n",
       "</style>\n",
       "<table border=\"1\" class=\"dataframe\">\n",
       "  <thead>\n",
       "    <tr style=\"text-align: right;\">\n",
       "      <th></th>\n",
       "      <th>Survived</th>\n",
       "      <th>Pclass</th>\n",
       "      <th>Name</th>\n",
       "      <th>Sex</th>\n",
       "      <th>Age</th>\n",
       "      <th>SibSp</th>\n",
       "      <th>Parch</th>\n",
       "      <th>Ticket</th>\n",
       "      <th>Fare</th>\n",
       "      <th>Cabin</th>\n",
       "      <th>Embarked</th>\n",
       "    </tr>\n",
       "    <tr>\n",
       "      <th>PassengerId</th>\n",
       "      <th></th>\n",
       "      <th></th>\n",
       "      <th></th>\n",
       "      <th></th>\n",
       "      <th></th>\n",
       "      <th></th>\n",
       "      <th></th>\n",
       "      <th></th>\n",
       "      <th></th>\n",
       "      <th></th>\n",
       "      <th></th>\n",
       "    </tr>\n",
       "  </thead>\n",
       "  <tbody>\n",
       "    <tr>\n",
       "      <th>1</th>\n",
       "      <td>0</td>\n",
       "      <td>3</td>\n",
       "      <td>Braund, Mr. Owen Harris</td>\n",
       "      <td>male</td>\n",
       "      <td>22.0</td>\n",
       "      <td>1</td>\n",
       "      <td>0</td>\n",
       "      <td>A/5 21171</td>\n",
       "      <td>7.2500</td>\n",
       "      <td>NaN</td>\n",
       "      <td>S</td>\n",
       "    </tr>\n",
       "    <tr>\n",
       "      <th>2</th>\n",
       "      <td>1</td>\n",
       "      <td>1</td>\n",
       "      <td>Cumings, Mrs. John Bradley (Florence Briggs Th...</td>\n",
       "      <td>female</td>\n",
       "      <td>38.0</td>\n",
       "      <td>1</td>\n",
       "      <td>0</td>\n",
       "      <td>PC 17599</td>\n",
       "      <td>71.2833</td>\n",
       "      <td>C85</td>\n",
       "      <td>C</td>\n",
       "    </tr>\n",
       "    <tr>\n",
       "      <th>3</th>\n",
       "      <td>1</td>\n",
       "      <td>3</td>\n",
       "      <td>Heikkinen, Miss. Laina</td>\n",
       "      <td>female</td>\n",
       "      <td>26.0</td>\n",
       "      <td>0</td>\n",
       "      <td>0</td>\n",
       "      <td>STON/O2. 3101282</td>\n",
       "      <td>7.9250</td>\n",
       "      <td>NaN</td>\n",
       "      <td>S</td>\n",
       "    </tr>\n",
       "    <tr>\n",
       "      <th>4</th>\n",
       "      <td>1</td>\n",
       "      <td>1</td>\n",
       "      <td>Futrelle, Mrs. Jacques Heath (Lily May Peel)</td>\n",
       "      <td>female</td>\n",
       "      <td>35.0</td>\n",
       "      <td>1</td>\n",
       "      <td>0</td>\n",
       "      <td>113803</td>\n",
       "      <td>53.1000</td>\n",
       "      <td>C123</td>\n",
       "      <td>S</td>\n",
       "    </tr>\n",
       "    <tr>\n",
       "      <th>5</th>\n",
       "      <td>0</td>\n",
       "      <td>3</td>\n",
       "      <td>Allen, Mr. William Henry</td>\n",
       "      <td>male</td>\n",
       "      <td>35.0</td>\n",
       "      <td>0</td>\n",
       "      <td>0</td>\n",
       "      <td>373450</td>\n",
       "      <td>8.0500</td>\n",
       "      <td>NaN</td>\n",
       "      <td>S</td>\n",
       "    </tr>\n",
       "    <tr>\n",
       "      <th>6</th>\n",
       "      <td>0</td>\n",
       "      <td>3</td>\n",
       "      <td>Moran, Mr. James</td>\n",
       "      <td>male</td>\n",
       "      <td>NaN</td>\n",
       "      <td>0</td>\n",
       "      <td>0</td>\n",
       "      <td>330877</td>\n",
       "      <td>8.4583</td>\n",
       "      <td>NaN</td>\n",
       "      <td>Q</td>\n",
       "    </tr>\n",
       "    <tr>\n",
       "      <th>7</th>\n",
       "      <td>0</td>\n",
       "      <td>1</td>\n",
       "      <td>McCarthy, Mr. Timothy J</td>\n",
       "      <td>male</td>\n",
       "      <td>54.0</td>\n",
       "      <td>0</td>\n",
       "      <td>0</td>\n",
       "      <td>17463</td>\n",
       "      <td>51.8625</td>\n",
       "      <td>E46</td>\n",
       "      <td>S</td>\n",
       "    </tr>\n",
       "    <tr>\n",
       "      <th>8</th>\n",
       "      <td>0</td>\n",
       "      <td>3</td>\n",
       "      <td>Palsson, Master. Gosta Leonard</td>\n",
       "      <td>male</td>\n",
       "      <td>2.0</td>\n",
       "      <td>3</td>\n",
       "      <td>1</td>\n",
       "      <td>349909</td>\n",
       "      <td>21.0750</td>\n",
       "      <td>NaN</td>\n",
       "      <td>S</td>\n",
       "    </tr>\n",
       "    <tr>\n",
       "      <th>9</th>\n",
       "      <td>1</td>\n",
       "      <td>3</td>\n",
       "      <td>Johnson, Mrs. Oscar W (Elisabeth Vilhelmina Berg)</td>\n",
       "      <td>female</td>\n",
       "      <td>27.0</td>\n",
       "      <td>0</td>\n",
       "      <td>2</td>\n",
       "      <td>347742</td>\n",
       "      <td>11.1333</td>\n",
       "      <td>NaN</td>\n",
       "      <td>S</td>\n",
       "    </tr>\n",
       "    <tr>\n",
       "      <th>10</th>\n",
       "      <td>1</td>\n",
       "      <td>2</td>\n",
       "      <td>Nasser, Mrs. Nicholas (Adele Achem)</td>\n",
       "      <td>female</td>\n",
       "      <td>14.0</td>\n",
       "      <td>1</td>\n",
       "      <td>0</td>\n",
       "      <td>237736</td>\n",
       "      <td>30.0708</td>\n",
       "      <td>NaN</td>\n",
       "      <td>C</td>\n",
       "    </tr>\n",
       "  </tbody>\n",
       "</table>\n",
       "</div>"
      ]
     },
     "execution_count": 0,
     "metadata": {},
     "output_type": "execute_result"
    }
   ],
   "source": [
    "display(df_train.head(10))"
   ]
  },
  {
   "cell_type": "markdown",
   "metadata": {},
   "source": [
    "Cabin number feature might be a relevant feature since it might provide useful information on cabin location (e.g. top deck) but the low proportion of available data is trully an issue since missing values can hardly be imputed from other features. I will be likely to drop this feature.\n",
    "<br> <br>\n",
    "About the string features :\n",
    "<br>\n",
    "Ticket feature does not seem very useful at first sight. Although it might contain information (e.g. \"PC\" must stands for Premiere Class), most of them appear redundant with other features and the information format seems to vary a lot. The only useful information I could think off would be to link passenger between themselves (provided group of people can travel with a same ticket ?).\n",
    "<br>\n",
    "Name feature present a few information that might be useful like the name (to link family member/spouse) or a specific \"title\" (eg. \"Miss\") bringing extra information on the social status or age.\n"
   ]
  },
  {
   "cell_type": "markdown",
   "metadata": {},
   "source": [
    "Let's quickly go through continuous and categorical feature before digging into EDA"
   ]
  },
  {
   "cell_type": "code",
   "execution_count": 9,
   "metadata": {},
   "outputs": [
    {
     "name": "stdout",
     "output_type": "stream",
     "text": [
      "Total nb of passengers in the dataset: 1309 VS 2224 passengers + crew reported in records\n",
      "Mean survival rate - train set: 38.4% VS real records : 32.5%\n"
     ]
    }
   ],
   "source": [
    "th_total_pass_nb = 2224\n",
    "th_total_death = 1502\n",
    "th_SR = (th_total_pass_nb - th_total_death)/th_total_pass_nb\n",
    "data_total_pass_nb = len(df_train) + len(df_test)\n",
    "mean_train_SR = df_train['Survived'].mean()\n",
    "print(\"Total nb of passengers in the dataset: {} VS {} passengers + crew reported in records\".format(data_total_pass_nb, th_total_pass_nb))\n",
    "print(\"Mean survival rate - train set: {:.1f}% VS real records : {:.1f}%\".format(mean_train_SR*100, th_SR*100))\n"
   ]
  },
  {
   "cell_type": "markdown",
   "metadata": {},
   "source": [
    "Here I guess that many of \"missing\" passengers in the dataset correspond to crew members. Some passengers must probably still have been discarded from the dataset because of poor/unavailable data. At some point I think I read somewhere that the list of passengers and corresponding information were issued from an hand-written embarkation registry partially found after the shipwreck."
   ]
  },
  {
   "cell_type": "code",
   "execution_count": 10,
   "metadata": {},
   "outputs": [
    {
     "data": {
      "text/html": [
       "<div>\n",
       "<style scoped>\n",
       "    .dataframe tbody tr th:only-of-type {\n",
       "        vertical-align: middle;\n",
       "    }\n",
       "\n",
       "    .dataframe tbody tr th {\n",
       "        vertical-align: top;\n",
       "    }\n",
       "\n",
       "    .dataframe thead th {\n",
       "        text-align: right;\n",
       "    }\n",
       "</style>\n",
       "<table border=\"1\" class=\"dataframe\">\n",
       "  <thead>\n",
       "    <tr style=\"text-align: right;\">\n",
       "      <th></th>\n",
       "      <th>Age</th>\n",
       "      <th>Fare</th>\n",
       "    </tr>\n",
       "  </thead>\n",
       "  <tbody>\n",
       "    <tr>\n",
       "      <th>count</th>\n",
       "      <td>714.000000</td>\n",
       "      <td>891.000000</td>\n",
       "    </tr>\n",
       "    <tr>\n",
       "      <th>mean</th>\n",
       "      <td>29.699118</td>\n",
       "      <td>32.204208</td>\n",
       "    </tr>\n",
       "    <tr>\n",
       "      <th>std</th>\n",
       "      <td>14.526497</td>\n",
       "      <td>49.693429</td>\n",
       "    </tr>\n",
       "    <tr>\n",
       "      <th>min</th>\n",
       "      <td>0.420000</td>\n",
       "      <td>0.000000</td>\n",
       "    </tr>\n",
       "    <tr>\n",
       "      <th>25%</th>\n",
       "      <td>20.125000</td>\n",
       "      <td>7.910400</td>\n",
       "    </tr>\n",
       "    <tr>\n",
       "      <th>50%</th>\n",
       "      <td>28.000000</td>\n",
       "      <td>14.454200</td>\n",
       "    </tr>\n",
       "    <tr>\n",
       "      <th>75%</th>\n",
       "      <td>38.000000</td>\n",
       "      <td>31.000000</td>\n",
       "    </tr>\n",
       "    <tr>\n",
       "      <th>max</th>\n",
       "      <td>80.000000</td>\n",
       "      <td>512.329200</td>\n",
       "    </tr>\n",
       "  </tbody>\n",
       "</table>\n",
       "</div>"
      ],
      "text/plain": [
       "<div>\n",
       "<style scoped>\n",
       "    .dataframe tbody tr th:only-of-type {\n",
       "        vertical-align: middle;\n",
       "    }\n",
       "\n",
       "    .dataframe tbody tr th {\n",
       "        vertical-align: top;\n",
       "    }\n",
       "\n",
       "    .dataframe thead th {\n",
       "        text-align: right;\n",
       "    }\n",
       "</style>\n",
       "<table border=\"1\" class=\"dataframe\">\n",
       "  <thead>\n",
       "    <tr style=\"text-align: right;\">\n",
       "      <th></th>\n",
       "      <th>Age</th>\n",
       "      <th>Fare</th>\n",
       "    </tr>\n",
       "  </thead>\n",
       "  <tbody>\n",
       "    <tr>\n",
       "      <th>count</th>\n",
       "      <td>714.000000</td>\n",
       "      <td>891.000000</td>\n",
       "    </tr>\n",
       "    <tr>\n",
       "      <th>mean</th>\n",
       "      <td>29.699118</td>\n",
       "      <td>32.204208</td>\n",
       "    </tr>\n",
       "    <tr>\n",
       "      <th>std</th>\n",
       "      <td>14.526497</td>\n",
       "      <td>49.693429</td>\n",
       "    </tr>\n",
       "    <tr>\n",
       "      <th>min</th>\n",
       "      <td>0.420000</td>\n",
       "      <td>0.000000</td>\n",
       "    </tr>\n",
       "    <tr>\n",
       "      <th>25%</th>\n",
       "      <td>20.125000</td>\n",
       "      <td>7.910400</td>\n",
       "    </tr>\n",
       "    <tr>\n",
       "      <th>50%</th>\n",
       "      <td>28.000000</td>\n",
       "      <td>14.454200</td>\n",
       "    </tr>\n",
       "    <tr>\n",
       "      <th>75%</th>\n",
       "      <td>38.000000</td>\n",
       "      <td>31.000000</td>\n",
       "    </tr>\n",
       "    <tr>\n",
       "      <th>max</th>\n",
       "      <td>80.000000</td>\n",
       "      <td>512.329200</td>\n",
       "    </tr>\n",
       "  </tbody>\n",
       "</table>\n",
       "</div>"
      ]
     },
     "execution_count": 0,
     "metadata": {},
     "output_type": "execute_result"
    }
   ],
   "source": [
    "display(df_train[['Age', 'Fare']].describe())"
   ]
  },
  {
   "cell_type": "code",
   "execution_count": 11,
   "metadata": {},
   "outputs": [
    {
     "data": {
      "text/plain": [
       "0    549\n",
       "1    342\n",
       "Name: Survived, dtype: int64"
      ]
     },
     "execution_count": 0,
     "metadata": {},
     "output_type": "execute_result"
    },
    {
     "data": {
      "text/plain": [
       "3    491\n",
       "1    216\n",
       "2    184\n",
       "Name: Pclass, dtype: int64"
      ]
     },
     "execution_count": 0,
     "metadata": {},
     "output_type": "execute_result"
    },
    {
     "data": {
      "text/plain": [
       "male      577\n",
       "female    314\n",
       "Name: Sex, dtype: int64"
      ]
     },
     "execution_count": 0,
     "metadata": {},
     "output_type": "execute_result"
    },
    {
     "data": {
      "text/plain": [
       "0    608\n",
       "1    209\n",
       "2     28\n",
       "4     18\n",
       "3     16\n",
       "8      7\n",
       "5      5\n",
       "Name: SibSp, dtype: int64"
      ]
     },
     "execution_count": 0,
     "metadata": {},
     "output_type": "execute_result"
    },
    {
     "data": {
      "text/plain": [
       "0    678\n",
       "1    118\n",
       "2     80\n",
       "5      5\n",
       "3      5\n",
       "4      4\n",
       "6      1\n",
       "Name: Parch, dtype: int64"
      ]
     },
     "execution_count": 0,
     "metadata": {},
     "output_type": "execute_result"
    },
    {
     "data": {
      "text/plain": [
       "S    644\n",
       "C    168\n",
       "Q     77\n",
       "Name: Embarked, dtype: int64"
      ]
     },
     "execution_count": 0,
     "metadata": {},
     "output_type": "execute_result"
    }
   ],
   "source": [
    "cat_features = ['Survived', 'Pclass', 'Sex', 'SibSp', 'Parch', 'Embarked']\n",
    "for feat in cat_features:\n",
    "    display(df_train[feat].value_counts())"
   ]
  },
  {
   "cell_type": "code",
   "execution_count": 12,
   "metadata": {},
   "outputs": [
    {
     "data": {
      "text/plain": [
       "347082          7\n",
       "CA. 2343        7\n",
       "1601            7\n",
       "CA 2144         6\n",
       "347088          6\n",
       "3101295         6\n",
       "382652          5\n",
       "S.O.C. 14879    5\n",
       "4133            4\n",
       "PC 17757        4\n",
       "Name: Ticket, dtype: int64"
      ]
     },
     "execution_count": 0,
     "metadata": {},
     "output_type": "execute_result"
    }
   ],
   "source": [
    "display(df_train['Ticket'].value_counts()[:10])"
   ]
  },
  {
   "cell_type": "markdown",
   "metadata": {},
   "source": [
    "Thus a single ticket can be used for a group of passenger traveling together."
   ]
  },
  {
   "cell_type": "markdown",
   "metadata": {},
   "source": [
    "### **Studying Survival rate through categorical features**"
   ]
  },
  {
   "cell_type": "markdown",
   "metadata": {},
   "source": [
    "*Survival Rate VS Sex, Embarked and Pclass*"
   ]
  },
  {
   "cell_type": "code",
   "execution_count": 13,
   "metadata": {},
   "outputs": [
    {
     "data": {
      "image/png": "[encoded data removed]",
      "text/plain": [
       "<Figure size 936x360 with 3 Axes>"
      ]
     },
     "metadata": {},
     "output_type": "display_data"
    }
   ],
   "source": [
    "fig, axarr = plt.subplots(1,3, sharey=True, figsize=(13, 5))\n",
    "sns.pointplot(x='Sex', y='Survived', data=df_train, ax=axarr[0])\n",
    "axarr[0].set(ylabel='Survival rate (mean +/- 95% CI)', xlabel='')\n",
    "sns.catplot(x='Sex', y='Survived', hue='Pclass', data=df_train, ax=axarr[1], kind='bar')\n",
    "axarr[1].tick_params(axis='y', which='both', left=False, right=False, labelleft=False)\n",
    "axarr[1].set(ylabel='', xlabel='')\n",
    "sns.catplot(x='Sex', y='Survived', hue='Embarked', data=df_train, ax=axarr[2], kind='bar')\n",
    "axarr[2].tick_params(axis='y', which='both', left=False, right=True, labelleft=False, labelright=True)\n",
    "axarr[2].set(ylabel='', xlabel='')\n",
    "plt.close(2)\n",
    "plt.close(3)\n",
    "plt.tight_layout()\n",
    "plt.show()"
   ]
  },
  {
   "cell_type": "markdown",
   "metadata": {},
   "source": [
    "There is a huge statistically significant difference for the mean survival rate between men and women (roughly 20% VS 80 %!). As a result, the graphical EDA will be conducted through this dichotomy. <br>\n",
    "The PClass seems to also play an important role for the mean survival rate for both men and women. <br>\n",
    "The right graph would suggest that people who embarked at Cherbourg in France were more likely to survive than their american counterpart. I don't see any particular logical reason to that apart from the hypothesis of a specific or 'advantageous' allocation of the cabins for people embarking at Cherbourg. Let's double check with the distribution of embarking dock according to PClass. \n"
   ]
  },
  {
   "cell_type": "code",
   "execution_count": 14,
   "metadata": {},
   "outputs": [
    {
     "data": {
      "image/png": "[encoded data removed]",
      "text/plain": [
       "<Figure size 936x360 with 1 Axes>"
      ]
     },
     "metadata": {},
     "output_type": "display_data"
    }
   ],
   "source": [
    "fig, ax = plt.subplots(1, 1, figsize=(13,5))\n",
    "sns.countplot(x='Embarked', hue='Pclass', data=df_train)\n",
    "plt.close(2)\n",
    "plt.show()"
   ]
  },
  {
   "cell_type": "markdown",
   "metadata": {},
   "source": [
    "Distribution for embarkation deck along PClass is quite heterogenous... About half of people who embarked at Cherbourg were in Pclass 1, hence the highest survival rate looking back at the previous figure. The Embarked feature might not be very relevant for our model, let's decide that later."
   ]
  },
  {
   "cell_type": "markdown",
   "metadata": {},
   "source": [
    "**Feature engineering** "
   ]
  },
  {
   "cell_type": "markdown",
   "metadata": {},
   "source": [
    "*Survival Rate VS Family*"
   ]
  },
  {
   "cell_type": "markdown",
   "metadata": {},
   "source": [
    "SibSp and Parch are not very convenient features since they kind of mix \"opposite\" attributes into a single (or at least that might have been more useful if separated). Let's combine the whole thing into a single feature called \"Family\" representing the number of people from its family one is traveling with !"
   ]
  },
  {
   "cell_type": "code",
   "execution_count": 15,
   "metadata": {},
   "outputs": [
    {
     "data": {
      "image/png": "[encoded data removed]",
      "text/plain": [
       "<Figure size 936x432 with 6 Axes>"
      ]
     },
     "metadata": {},
     "output_type": "display_data"
    }
   ],
   "source": [
    "df_train['Family'] = df_train[\"SibSp\"] + df_train['Parch']\n",
    "fig, axarr = plt.subplots(2, 3, figsize=(13, 6))\n",
    "for ind, c in enumerate(['SibSp', 'Parch', 'Family']):\n",
    "    ax = axarr[0, ind]\n",
    "    sns.catplot(x=c, y='Survived', data=df_train, ax=ax, kind='bar', hue='Sex')\n",
    "    ax.set(xlabel='', ylabel='Survival rate (mean +/- 95% CI)')\n",
    "    ax.legend(loc='upper right')\n",
    "    ax = axarr[1, ind]\n",
    "    sns.countplot(x=c, data=df_train, hue='Survived', ax=ax)\n",
    "    ax.legend(loc='upper center')\n",
    "plt.close(2)\n",
    "plt.close(3)\n",
    "plt.close(4)\n",
    "plt.tight_layout()\n",
    "plt.show()\n"
   ]
  },
  {
   "cell_type": "markdown",
   "metadata": {},
   "source": [
    "It is quite difficult to appreciate difference in survival rate for SibSp and Parch. Looking at the family we might see that single men seem to present lower survival rates in contrast with men with one or two family member. Above 3 family members it's almost impossible to pronounce oneself because of the low data number and very high variability. Later it would surely be useful to rework the categorical values (e.g. 'single', '1 to 3' and 'above 3'). "
   ]
  },
  {
   "cell_type": "markdown",
   "metadata": {},
   "source": [
    "*Survival Rate VS Social title*"
   ]
  },
  {
   "cell_type": "code",
   "execution_count": 16,
   "metadata": {},
   "outputs": [
    {
     "data": {
      "image/png": "[encoded data removed]",
      "text/plain": [
       "<Figure size 1080x432 with 2 Axes>"
      ]
     },
     "metadata": {},
     "output_type": "display_data"
    }
   ],
   "source": [
    "df_train['Title'] = df_train['Name'].map(lambda name: re.split(',.|\\.', name)[1]).astype('category')\n",
    "title_order = df_train.groupby('Title')['Survived'].mean().sort_values(ascending=False).index\n",
    "fig, axarr = plt.subplots(2, 1, figsize=(15, 6))\n",
    "sns.catplot(x='Title', y='Survived', data=df_train, ax=axarr[0], order=title_order, kind='bar')\n",
    "axarr[0].set(xlabel='', ylabel='Survival rate (mean +/- 95% CI)')\n",
    "sns.countplot(x='Title', data=df_train, ax=axarr[1], order=title_order)\n",
    "axarr[1].set_ylim({0,50})\n",
    "axarr[1].set(xlabel='', ylabel='count(zoom 0-50)')\n",
    "plt.close(2)\n",
    "plt.show()"
   ]
  },
  {
   "cell_type": "code",
   "execution_count": 17,
   "metadata": {},
   "outputs": [
    {
     "data": {
      "text/plain": [
       "Mr              517\n",
       "Miss            182\n",
       "Mrs             125\n",
       "Master           40\n",
       "Dr                7\n",
       "Rev               6\n",
       "Col               2\n",
       "Mlle              2\n",
       "Major             2\n",
       "Jonkheer          1\n",
       "Don               1\n",
       "the Countess      1\n",
       "Lady              1\n",
       "Sir               1\n",
       "Mme               1\n",
       "Ms                1\n",
       "Capt              1\n",
       "Name: Title, dtype: int64"
      ]
     },
     "execution_count": 0,
     "metadata": {},
     "output_type": "execute_result"
    }
   ],
   "source": [
    "display(df_train[\"Title\"].value_counts())"
   ]
  },
  {
   "cell_type": "markdown",
   "metadata": {},
   "source": [
    "Title feature is a bit tricky here because of the very low number of instances for each specific title. Only Miss and Master are well enough represented among the passengers and seem to present an interest in comparison with respectively Mrs and Mr common titles. Later we might want to recode the categories of this feature."
   ]
  },
  {
   "cell_type": "markdown",
   "metadata": {},
   "source": [
    "#### **Continuous numeric features**"
   ]
  },
  {
   "cell_type": "markdown",
   "metadata": {},
   "source": [
    "*Survival Rate VS Age and Fare*"
   ]
  },
  {
   "cell_type": "code",
   "execution_count": 18,
   "metadata": {},
   "outputs": [
    {
     "data": {
      "image/png": "[encoded data removed]",
      "text/plain": [
       "<Figure size 864x432 with 4 Axes>"
      ]
     },
     "metadata": {},
     "output_type": "display_data"
    }
   ],
   "source": [
    "fig, axarr = plt.subplots(2, 2, figsize=(12, 6))\n",
    "ecdf_d = {}\n",
    "for idx, c in enumerate(['Age', 'Fare']):\n",
    "    for idy, s in enumerate(df_train.Sex.unique()):\n",
    "        ax = axarr[idx, idy]\n",
    "        for k in df_train.Survived.unique():\n",
    "            ecdf_d['ECDF_{Sex}_{Survived}'.format(Sex=s, Survived=k)] = ECDF(\n",
    "                df_train.loc[(df_train['Sex'] == s) & (df_train['Survived'] == k), c].dropna().values)\n",
    "            ax.plot(ecdf_d['ECDF_{Sex}_{Survived}'.format(Sex=s, Survived=k)].x,\n",
    "                    ecdf_d['ECDF_{Sex}_{Survived}'.format(Sex=s, Survived=k)].y,\n",
    "                    '.', linestyle='none', label='Survived : {} '.format(k), alpha=0.5,\n",
    "                    )\n",
    "            if idx == 0:\n",
    "                ax.set(title='Sex : {} '.format(s), xlabel=c, ylabel='ECDF')\n",
    "            else:\n",
    "                ax.set(xlabel=c, ylabel='ECDF')\n",
    "            ax.legend(loc='best')\n",
    "plt.tight_layout()\n",
    "plt.show()"
   ]
  },
  {
   "cell_type": "markdown",
   "metadata": {},
   "source": [
    "ECDFs for Age enlighten different statements according to Sex :\n",
    "\n",
    "- Men : proportion of young boy (below 15) is much more important among survivors. After 25, age distributions appear to be roughly similar between survivors and deceased <br>\n",
    "- Woman : An opposite trend could be observed within women (red curve above blue curve). Women who survived the shipwreck tend to be slighlty older. This is consistent with the small decrease of mean survival rate observed for the \"Miss\" title in comparison with \"Mrs\" title.\n",
    "\n",
    "\n",
    "\n",
    "ECDFs observed for the Fare are consistent with previous statements for Pclass and indicated that people with high fare ticket were more prone to survive. This is particularly true if you consider fare above 50 £.\n",
    "\n",
    "For age, we might later want to convert the continuous numeric feature into categoricical feature. Relying on top ECDFs, bucket 0-15 seems interesting. We could keep the same bucket size for the whole distribution. Let's have a closer look at the mean survival rates along age categories.\n"
   ]
  },
  {
   "cell_type": "code",
   "execution_count": 19,
   "metadata": {},
   "outputs": [
    {
     "data": {
      "text/plain": [
       "Sex     Age_bucket\n",
       "female  0.0           0.615385\n",
       "        15.0          0.750000\n",
       "        30.0          0.807692\n",
       "        45.0          0.781250\n",
       "        60.0          1.000000\n",
       "male    0.0           0.538462\n",
       "        15.0          0.151515\n",
       "        30.0          0.204380\n",
       "        45.0          0.192982\n",
       "        60.0          0.136364\n",
       "Name: Survived, dtype: float64"
      ]
     },
     "execution_count": 0,
     "metadata": {},
     "output_type": "execute_result"
    }
   ],
   "source": [
    "df_train['Age_bucket'] = np.clip(df_train['Age']//15 * 15, a_max=60, a_min=None)\n",
    "display(df_train.groupby(by=['Sex', 'Age_bucket'])['Survived'].mean())"
   ]
  },
  {
   "cell_type": "code",
   "execution_count": 20,
   "metadata": {},
   "outputs": [
    {
     "data": {
      "image/png": "[encoded data removed]",
      "text/plain": [
       "<Figure size 864x432 with 2 Axes>"
      ]
     },
     "metadata": {},
     "output_type": "display_data"
    }
   ],
   "source": [
    "x_tick_lab = ['0-14', '15-29', '30-44', '45-60', '>60']\n",
    "fig, axarr = plt.subplots(1, 2, figsize=(12, 6))\n",
    "sns.catplot(x='Age_bucket', y='Survived', data=df_train.loc[df_train['Sex'] == 'male', ], kind='bar', ax=axarr[0])\n",
    "axarr[0].set(title='Sex : male', xticklabels=x_tick_lab)\n",
    "sns.catplot(x='Age_bucket', y='Survived', data=df_train.loc[df_train['Sex'] == 'female', ], kind='bar', ax=axarr[1])\n",
    "axarr[1].set(title='Sex : female', xticklabels=x_tick_lab)\n",
    "plt.close(2)\n",
    "plt.close(3)\n"
   ]
  },
  {
   "cell_type": "markdown",
   "metadata": {},
   "source": [
    "### **Preprocessing the data**"
   ]
  },
  {
   "cell_type": "markdown",
   "metadata": {},
   "source": [
    "We will need to build a few transformers so we could handle data preprocessing in pipeline ! This concerns feature creation and missing value imputing."
   ]
  },
  {
   "cell_type": "markdown",
   "metadata": {},
   "source": [
    "#### **Feature Adder : Family, Title and Age bucket**"
   ]
  },
  {
   "cell_type": "code",
   "execution_count": 21,
   "metadata": {},
   "outputs": [],
   "source": [
    "class FeatureAdder(BaseEstimator, TransformerMixin):\n",
    "    def __init__(self, add_family=True, relevant_nb=3):\n",
    "        self.add_family = add_family\n",
    "        self.relevant_nb = relevant_nb\n",
    "    def fit(self, df, y=None):\n",
    "        return (self)\n",
    "    def transform(self, df, y=None):\n",
    "        df['Title'] = df['Name'].map(lambda name: re.split(',.|\\.', name)[1])\n",
    "        df.loc[(df['Title'] == 'Ms') | (df['Title'] == 'Mlle'), 'Title'] = 'Miss'\n",
    "        if self.add_family:\n",
    "            df['Family'] = df['SibSp'] + df['Parch']\n",
    "            fam_d = {n: \"small_fam\" if n < self.relevant_nb else \"large_fam\" for n in df['Family'].unique()}\n",
    "            fam_d[0] = 'single'  \n",
    "            df['Family'] = df['Family'].map(fam_d)\n",
    "        return(df)"
   ]
  },
  {
   "cell_type": "code",
   "execution_count": 22,
   "metadata": {},
   "outputs": [],
   "source": [
    "class AgeBucketAdder(BaseEstimator, TransformerMixin):\n",
    "    def __init__(self, bucket_size=15, bucket_cap=60):\n",
    "        self.bucket_size = bucket_size\n",
    "        self.bucket_cap = bucket_cap\n",
    "    def fit(self, df, y=None):\n",
    "        return (self)\n",
    "    def transform(self, df, y=None):\n",
    "        df['Age_bucket'] = np.clip(df['Age']//self.bucket_size * self.bucket_size, a_max=self.bucket_cap, a_min=None)\n",
    "        return(df)"
   ]
  },
  {
   "cell_type": "markdown",
   "metadata": {},
   "source": [
    "I need to seperate Age_bucket from other features to add because I will build an imputer for Age missing values based on Title..."
   ]
  },
  {
   "cell_type": "markdown",
   "metadata": {},
   "source": [
    "#### **Custom Age Imputer**"
   ]
  },
  {
   "cell_type": "markdown",
   "metadata": {},
   "source": [
    "From what I read on Kaggle, several imputing stategies were studied for missing Age values and a simple imputer with a median strategy should work just fine. For the sake of the exercise and a bit of practising with pandas, I will go for a custom imputer based on Title. Most of titles found for train set denote social or professional status and hence, according to me, contain some information about the age."
   ]
  },
  {
   "cell_type": "code",
   "execution_count": 23,
   "metadata": {},
   "outputs": [],
   "source": [
    "class CustomAgeImputer(BaseEstimator, TransformerMixin):\n",
    "    def __init__(self, feature_name='Age', group_by_title=True, imp_func=np.nanmedian):\n",
    "        self.feature_name = feature_name\n",
    "        self.group_by_title = group_by_title\n",
    "        self.imp_func = imp_func\n",
    "    def fit(self, df, y=None):\n",
    "        self.df_median = df.groupby(['Title'])[self.feature_name].agg(self.imp_func)\n",
    "        self.med_M = self.imp_func(df.loc[df['Sex'] == 'male', 'Age'])\n",
    "        self.med_F = self.imp_func(df.loc[df['Sex'] == 'female', 'Age'])\n",
    "        return self\n",
    "    def transform(self, df, y=None):\n",
    "        if self.group_by_title:\n",
    "            for title in df['Title'].unique():\n",
    "                if title in self.df_median.dropna().index:\n",
    "                    df.loc[(df['Title'] == title) & (df[self.feature_name].isna()), self.feature_name] = self.df_median[title] \n",
    "                    #filna method with inplace not working here... should investigate what's wrong later for nicer code\n",
    "                else:\n",
    "                    df.loc[(df['Title'] == title) & (df['Sex'] == 'male') & (df[self.feature_name].isna()), self.feature_name] = self.med_M\n",
    "                    df.loc[(df['Title'] == title) & (df['Sex'] == 'female') & (df[self.feature_name].isna()), self.feature_name] = self.med_F\n",
    "        else:\n",
    "            df.loc[(df['Sex'] == 'male') & (df[self.feature_name].isna()), self.feature_name] = self.med_M\n",
    "            df.loc[(df['Sex'] == 'female') & (df[self.feature_name].isna()), self.feature_name] = self.med_F\n",
    "        return df"
   ]
  },
  {
   "cell_type": "code",
   "execution_count": 24,
   "metadata": {},
   "outputs": [],
   "source": [
    "# Inspired from stackoverflow.com/questions/25239958 and copy from https://github.com/ageron/handson-ml/blob/master/03_classification.ipynb\n",
    "class MostFrequentImputer(BaseEstimator, TransformerMixin):\n",
    "    def fit(self, df, y=None):\n",
    "        self.most_frequent_ = pd.Series([df[c].value_counts().index[0] for c in df],\n",
    "                                        index=df.columns)\n",
    "        return self\n",
    "    def transform(self, df, y=None):\n",
    "        return df.fillna(self.most_frequent_)\n",
    "\n"
   ]
  },
  {
   "cell_type": "markdown",
   "metadata": {},
   "source": [
    "#### **DataFrame Selector**"
   ]
  },
  {
   "cell_type": "markdown",
   "metadata": {},
   "source": [
    "Let's finally add a DataFrame Selector Class so we can easily select relevant features within pipelines later if needed"
   ]
  },
  {
   "cell_type": "code",
   "execution_count": 25,
   "metadata": {},
   "outputs": [],
   "source": [
    "class DataFrameSelector(BaseEstimator, TransformerMixin):\n",
    "    def __init__(self, feature_names):\n",
    "        self.feature_names = feature_names\n",
    "    def fit(self, X, y=None):\n",
    "        return self\n",
    "    def transform(self, X):\n",
    "        return X[self.feature_names]"
   ]
  },
  {
   "cell_type": "markdown",
   "metadata": {},
   "source": [
    "#### **Pipelines**"
   ]
  },
  {
   "cell_type": "markdown",
   "metadata": {},
   "source": [
    "One last step before training models, we need to build the preprocessing pipelines"
   ]
  },
  {
   "cell_type": "code",
   "execution_count": 26,
   "metadata": {},
   "outputs": [],
   "source": [
    "add_imp_pipeline = Pipeline([('feat_add', FeatureAdder()),\n",
    "                             ('age_imp', CustomAgeImputer()),\n",
    "                             ('age_bucket_add', AgeBucketAdder())])\n",
    "\n",
    "num_features = ['Fare']\n",
    "cat_features = ['Pclass', 'Sex', 'Embarked', 'Title', 'Family', 'Age_bucket'] #not sure if Embarked is relevant. We'll see that later.\n",
    "feat_l = [[1, 2], ['female'], ['S', 'C'], ['Master', 'Miss'], ['single', 'sm_fam'], [0.0, 15.0, 30.0, 45.0]]\n",
    "\n",
    "num_pipeline = Pipeline([\n",
    "    ('num_imp', SimpleImputer(strategy='median')), #could have build imp based on pclass but no missing value for Fare in test set\n",
    "    ('scaler', StandardScaler())\n",
    "])\n",
    "\n",
    "cat_pipeline = Pipeline([\n",
    "    ('cat_imp', MostFrequentImputer()),\n",
    "    ('enc', OneHotEncoder(sparse=False, handle_unknown='ignore', categories=feat_l))\n",
    "])\n",
    "\n",
    "union_pipeline = ColumnTransformer([\n",
    "    ('num', num_pipeline, num_features),\n",
    "    ('cat', cat_pipeline, cat_features)\n",
    "])\n",
    "\n",
    "preproc_pipeline = Pipeline([\n",
    "    ('prep', add_imp_pipeline),\n",
    "    ('union', union_pipeline)\n",
    "])"
   ]
  },
  {
   "cell_type": "markdown",
   "metadata": {},
   "source": [
    "Let's give a try and check that everything looks fine"
   ]
  },
  {
   "cell_type": "code",
   "execution_count": 27,
   "metadata": {},
   "outputs": [
    {
     "name": "stdout",
     "output_type": "stream",
     "text": [
      "Files were previously downloaded, loading file from:  ./Data/\n"
     ]
    }
   ],
   "source": [
    "datasets = fetch_datasets()\n",
    "df_train = datasets['train.csv']\n",
    "df_prep = df_train.copy()\n",
    "df_test = datasets['test.csv']\n"
   ]
  },
  {
   "cell_type": "code",
   "execution_count": 28,
   "metadata": {},
   "outputs": [],
   "source": [
    "X_prep = preproc_pipeline.fit_transform(df_prep)"
   ]
  },
  {
   "cell_type": "code",
   "execution_count": 29,
   "metadata": {},
   "outputs": [
    {
     "name": "stdout",
     "output_type": "stream",
     "text": [
      "(891, 14)\n"
     ]
    },
    {
     "data": {
      "text/html": [
       "<div>\n",
       "<style scoped>\n",
       "    .dataframe tbody tr th:only-of-type {\n",
       "        vertical-align: middle;\n",
       "    }\n",
       "\n",
       "    .dataframe tbody tr th {\n",
       "        vertical-align: top;\n",
       "    }\n",
       "\n",
       "    .dataframe thead th {\n",
       "        text-align: right;\n",
       "    }\n",
       "</style>\n",
       "<table border=\"1\" class=\"dataframe\">\n",
       "  <thead>\n",
       "    <tr style=\"text-align: right;\">\n",
       "      <th></th>\n",
       "      <th>Fare</th>\n",
       "      <th>1</th>\n",
       "      <th>2</th>\n",
       "      <th>female</th>\n",
       "      <th>S</th>\n",
       "      <th>C</th>\n",
       "      <th>Master</th>\n",
       "      <th>Miss</th>\n",
       "      <th>single</th>\n",
       "      <th>sm_fam</th>\n",
       "      <th>0.0</th>\n",
       "      <th>15.0</th>\n",
       "      <th>30.0</th>\n",
       "      <th>45.0</th>\n",
       "    </tr>\n",
       "  </thead>\n",
       "  <tbody>\n",
       "    <tr>\n",
       "      <th>0</th>\n",
       "      <td>-0.502445</td>\n",
       "      <td>0.0</td>\n",
       "      <td>0.0</td>\n",
       "      <td>0.0</td>\n",
       "      <td>1.0</td>\n",
       "      <td>0.0</td>\n",
       "      <td>0.0</td>\n",
       "      <td>0.0</td>\n",
       "      <td>0.0</td>\n",
       "      <td>0.0</td>\n",
       "      <td>0.0</td>\n",
       "      <td>1.0</td>\n",
       "      <td>0.0</td>\n",
       "      <td>0.0</td>\n",
       "    </tr>\n",
       "    <tr>\n",
       "      <th>1</th>\n",
       "      <td>0.786845</td>\n",
       "      <td>1.0</td>\n",
       "      <td>0.0</td>\n",
       "      <td>1.0</td>\n",
       "      <td>0.0</td>\n",
       "      <td>1.0</td>\n",
       "      <td>0.0</td>\n",
       "      <td>0.0</td>\n",
       "      <td>0.0</td>\n",
       "      <td>0.0</td>\n",
       "      <td>0.0</td>\n",
       "      <td>0.0</td>\n",
       "      <td>1.0</td>\n",
       "      <td>0.0</td>\n",
       "    </tr>\n",
       "    <tr>\n",
       "      <th>2</th>\n",
       "      <td>-0.488854</td>\n",
       "      <td>0.0</td>\n",
       "      <td>0.0</td>\n",
       "      <td>1.0</td>\n",
       "      <td>1.0</td>\n",
       "      <td>0.0</td>\n",
       "      <td>0.0</td>\n",
       "      <td>1.0</td>\n",
       "      <td>1.0</td>\n",
       "      <td>0.0</td>\n",
       "      <td>0.0</td>\n",
       "      <td>1.0</td>\n",
       "      <td>0.0</td>\n",
       "      <td>0.0</td>\n",
       "    </tr>\n",
       "    <tr>\n",
       "      <th>3</th>\n",
       "      <td>0.420730</td>\n",
       "      <td>1.0</td>\n",
       "      <td>0.0</td>\n",
       "      <td>1.0</td>\n",
       "      <td>1.0</td>\n",
       "      <td>0.0</td>\n",
       "      <td>0.0</td>\n",
       "      <td>0.0</td>\n",
       "      <td>0.0</td>\n",
       "      <td>0.0</td>\n",
       "      <td>0.0</td>\n",
       "      <td>0.0</td>\n",
       "      <td>1.0</td>\n",
       "      <td>0.0</td>\n",
       "    </tr>\n",
       "    <tr>\n",
       "      <th>4</th>\n",
       "      <td>-0.486337</td>\n",
       "      <td>0.0</td>\n",
       "      <td>0.0</td>\n",
       "      <td>0.0</td>\n",
       "      <td>1.0</td>\n",
       "      <td>0.0</td>\n",
       "      <td>0.0</td>\n",
       "      <td>0.0</td>\n",
       "      <td>1.0</td>\n",
       "      <td>0.0</td>\n",
       "      <td>0.0</td>\n",
       "      <td>0.0</td>\n",
       "      <td>1.0</td>\n",
       "      <td>0.0</td>\n",
       "    </tr>\n",
       "    <tr>\n",
       "      <th>5</th>\n",
       "      <td>-0.478116</td>\n",
       "      <td>0.0</td>\n",
       "      <td>0.0</td>\n",
       "      <td>0.0</td>\n",
       "      <td>0.0</td>\n",
       "      <td>0.0</td>\n",
       "      <td>0.0</td>\n",
       "      <td>0.0</td>\n",
       "      <td>1.0</td>\n",
       "      <td>0.0</td>\n",
       "      <td>0.0</td>\n",
       "      <td>0.0</td>\n",
       "      <td>1.0</td>\n",
       "      <td>0.0</td>\n",
       "    </tr>\n",
       "    <tr>\n",
       "      <th>6</th>\n",
       "      <td>0.395814</td>\n",
       "      <td>1.0</td>\n",
       "      <td>0.0</td>\n",
       "      <td>0.0</td>\n",
       "      <td>1.0</td>\n",
       "      <td>0.0</td>\n",
       "      <td>0.0</td>\n",
       "      <td>0.0</td>\n",
       "      <td>1.0</td>\n",
       "      <td>0.0</td>\n",
       "      <td>0.0</td>\n",
       "      <td>0.0</td>\n",
       "      <td>0.0</td>\n",
       "      <td>1.0</td>\n",
       "    </tr>\n",
       "    <tr>\n",
       "      <th>7</th>\n",
       "      <td>-0.224083</td>\n",
       "      <td>0.0</td>\n",
       "      <td>0.0</td>\n",
       "      <td>0.0</td>\n",
       "      <td>1.0</td>\n",
       "      <td>0.0</td>\n",
       "      <td>1.0</td>\n",
       "      <td>0.0</td>\n",
       "      <td>0.0</td>\n",
       "      <td>0.0</td>\n",
       "      <td>1.0</td>\n",
       "      <td>0.0</td>\n",
       "      <td>0.0</td>\n",
       "      <td>0.0</td>\n",
       "    </tr>\n",
       "    <tr>\n",
       "      <th>8</th>\n",
       "      <td>-0.424256</td>\n",
       "      <td>0.0</td>\n",
       "      <td>0.0</td>\n",
       "      <td>1.0</td>\n",
       "      <td>1.0</td>\n",
       "      <td>0.0</td>\n",
       "      <td>0.0</td>\n",
       "      <td>0.0</td>\n",
       "      <td>0.0</td>\n",
       "      <td>0.0</td>\n",
       "      <td>0.0</td>\n",
       "      <td>1.0</td>\n",
       "      <td>0.0</td>\n",
       "      <td>0.0</td>\n",
       "    </tr>\n",
       "    <tr>\n",
       "      <th>9</th>\n",
       "      <td>-0.042956</td>\n",
       "      <td>0.0</td>\n",
       "      <td>1.0</td>\n",
       "      <td>1.0</td>\n",
       "      <td>0.0</td>\n",
       "      <td>1.0</td>\n",
       "      <td>0.0</td>\n",
       "      <td>0.0</td>\n",
       "      <td>0.0</td>\n",
       "      <td>0.0</td>\n",
       "      <td>1.0</td>\n",
       "      <td>0.0</td>\n",
       "      <td>0.0</td>\n",
       "      <td>0.0</td>\n",
       "    </tr>\n",
       "  </tbody>\n",
       "</table>\n",
       "</div>"
      ],
      "text/plain": [
       "<div>\n",
       "<style scoped>\n",
       "    .dataframe tbody tr th:only-of-type {\n",
       "        vertical-align: middle;\n",
       "    }\n",
       "\n",
       "    .dataframe tbody tr th {\n",
       "        vertical-align: top;\n",
       "    }\n",
       "\n",
       "    .dataframe thead th {\n",
       "        text-align: right;\n",
       "    }\n",
       "</style>\n",
       "<table border=\"1\" class=\"dataframe\">\n",
       "  <thead>\n",
       "    <tr style=\"text-align: right;\">\n",
       "      <th></th>\n",
       "      <th>Fare</th>\n",
       "      <th>1</th>\n",
       "      <th>2</th>\n",
       "      <th>female</th>\n",
       "      <th>S</th>\n",
       "      <th>C</th>\n",
       "      <th>Master</th>\n",
       "      <th>Miss</th>\n",
       "      <th>single</th>\n",
       "      <th>sm_fam</th>\n",
       "      <th>0.0</th>\n",
       "      <th>15.0</th>\n",
       "      <th>30.0</th>\n",
       "      <th>45.0</th>\n",
       "    </tr>\n",
       "  </thead>\n",
       "  <tbody>\n",
       "    <tr>\n",
       "      <th>0</th>\n",
       "      <td>-0.502445</td>\n",
       "      <td>0.0</td>\n",
       "      <td>0.0</td>\n",
       "      <td>0.0</td>\n",
       "      <td>1.0</td>\n",
       "      <td>0.0</td>\n",
       "      <td>0.0</td>\n",
       "      <td>0.0</td>\n",
       "      <td>0.0</td>\n",
       "      <td>0.0</td>\n",
       "      <td>0.0</td>\n",
       "      <td>1.0</td>\n",
       "      <td>0.0</td>\n",
       "      <td>0.0</td>\n",
       "    </tr>\n",
       "    <tr>\n",
       "      <th>1</th>\n",
       "      <td>0.786845</td>\n",
       "      <td>1.0</td>\n",
       "      <td>0.0</td>\n",
       "      <td>1.0</td>\n",
       "      <td>0.0</td>\n",
       "      <td>1.0</td>\n",
       "      <td>0.0</td>\n",
       "      <td>0.0</td>\n",
       "      <td>0.0</td>\n",
       "      <td>0.0</td>\n",
       "      <td>0.0</td>\n",
       "      <td>0.0</td>\n",
       "      <td>1.0</td>\n",
       "      <td>0.0</td>\n",
       "    </tr>\n",
       "    <tr>\n",
       "      <th>2</th>\n",
       "      <td>-0.488854</td>\n",
       "      <td>0.0</td>\n",
       "      <td>0.0</td>\n",
       "      <td>1.0</td>\n",
       "      <td>1.0</td>\n",
       "      <td>0.0</td>\n",
       "      <td>0.0</td>\n",
       "      <td>1.0</td>\n",
       "      <td>1.0</td>\n",
       "      <td>0.0</td>\n",
       "      <td>0.0</td>\n",
       "      <td>1.0</td>\n",
       "      <td>0.0</td>\n",
       "      <td>0.0</td>\n",
       "    </tr>\n",
       "    <tr>\n",
       "      <th>3</th>\n",
       "      <td>0.420730</td>\n",
       "      <td>1.0</td>\n",
       "      <td>0.0</td>\n",
       "      <td>1.0</td>\n",
       "      <td>1.0</td>\n",
       "      <td>0.0</td>\n",
       "      <td>0.0</td>\n",
       "      <td>0.0</td>\n",
       "      <td>0.0</td>\n",
       "      <td>0.0</td>\n",
       "      <td>0.0</td>\n",
       "      <td>0.0</td>\n",
       "      <td>1.0</td>\n",
       "      <td>0.0</td>\n",
       "    </tr>\n",
       "    <tr>\n",
       "      <th>4</th>\n",
       "      <td>-0.486337</td>\n",
       "      <td>0.0</td>\n",
       "      <td>0.0</td>\n",
       "      <td>0.0</td>\n",
       "      <td>1.0</td>\n",
       "      <td>0.0</td>\n",
       "      <td>0.0</td>\n",
       "      <td>0.0</td>\n",
       "      <td>1.0</td>\n",
       "      <td>0.0</td>\n",
       "      <td>0.0</td>\n",
       "      <td>0.0</td>\n",
       "      <td>1.0</td>\n",
       "      <td>0.0</td>\n",
       "    </tr>\n",
       "    <tr>\n",
       "      <th>5</th>\n",
       "      <td>-0.478116</td>\n",
       "      <td>0.0</td>\n",
       "      <td>0.0</td>\n",
       "      <td>0.0</td>\n",
       "      <td>0.0</td>\n",
       "      <td>0.0</td>\n",
       "      <td>0.0</td>\n",
       "      <td>0.0</td>\n",
       "      <td>1.0</td>\n",
       "      <td>0.0</td>\n",
       "      <td>0.0</td>\n",
       "      <td>0.0</td>\n",
       "      <td>1.0</td>\n",
       "      <td>0.0</td>\n",
       "    </tr>\n",
       "    <tr>\n",
       "      <th>6</th>\n",
       "      <td>0.395814</td>\n",
       "      <td>1.0</td>\n",
       "      <td>0.0</td>\n",
       "      <td>0.0</td>\n",
       "      <td>1.0</td>\n",
       "      <td>0.0</td>\n",
       "      <td>0.0</td>\n",
       "      <td>0.0</td>\n",
       "      <td>1.0</td>\n",
       "      <td>0.0</td>\n",
       "      <td>0.0</td>\n",
       "      <td>0.0</td>\n",
       "      <td>0.0</td>\n",
       "      <td>1.0</td>\n",
       "    </tr>\n",
       "    <tr>\n",
       "      <th>7</th>\n",
       "      <td>-0.224083</td>\n",
       "      <td>0.0</td>\n",
       "      <td>0.0</td>\n",
       "      <td>0.0</td>\n",
       "      <td>1.0</td>\n",
       "      <td>0.0</td>\n",
       "      <td>1.0</td>\n",
       "      <td>0.0</td>\n",
       "      <td>0.0</td>\n",
       "      <td>0.0</td>\n",
       "      <td>1.0</td>\n",
       "      <td>0.0</td>\n",
       "      <td>0.0</td>\n",
       "      <td>0.0</td>\n",
       "    </tr>\n",
       "    <tr>\n",
       "      <th>8</th>\n",
       "      <td>-0.424256</td>\n",
       "      <td>0.0</td>\n",
       "      <td>0.0</td>\n",
       "      <td>1.0</td>\n",
       "      <td>1.0</td>\n",
       "      <td>0.0</td>\n",
       "      <td>0.0</td>\n",
       "      <td>0.0</td>\n",
       "      <td>0.0</td>\n",
       "      <td>0.0</td>\n",
       "      <td>0.0</td>\n",
       "      <td>1.0</td>\n",
       "      <td>0.0</td>\n",
       "      <td>0.0</td>\n",
       "    </tr>\n",
       "    <tr>\n",
       "      <th>9</th>\n",
       "      <td>-0.042956</td>\n",
       "      <td>0.0</td>\n",
       "      <td>1.0</td>\n",
       "      <td>1.0</td>\n",
       "      <td>0.0</td>\n",
       "      <td>1.0</td>\n",
       "      <td>0.0</td>\n",
       "      <td>0.0</td>\n",
       "      <td>0.0</td>\n",
       "      <td>0.0</td>\n",
       "      <td>1.0</td>\n",
       "      <td>0.0</td>\n",
       "      <td>0.0</td>\n",
       "      <td>0.0</td>\n",
       "    </tr>\n",
       "  </tbody>\n",
       "</table>\n",
       "</div>"
      ]
     },
     "execution_count": 0,
     "metadata": {},
     "output_type": "execute_result"
    }
   ],
   "source": [
    "col_name = num_features + list(itertools.chain.from_iterable(feat_l))\n",
    "print(X_prep.shape)\n",
    "display(pd.DataFrame(X_prep, columns=col_name).head(10))"
   ]
  },
  {
   "cell_type": "markdown",
   "metadata": {},
   "source": [
    "Finally.... Everything looks fine and it will be very simple to modify or even tune preprocessing parameters thanks to pipelines. "
   ]
  },
  {
   "cell_type": "markdown",
   "metadata": {},
   "source": [
    "### **Training models**"
   ]
  },
  {
   "cell_type": "markdown",
   "metadata": {},
   "source": [
    "#### **Short-list of promising models**"
   ]
  },
  {
   "cell_type": "code",
   "execution_count": 30,
   "metadata": {},
   "outputs": [],
   "source": [
    "y_train = df_train['Survived']\n"
   ]
  },
  {
   "cell_type": "code",
   "execution_count": 31,
   "metadata": {},
   "outputs": [
    {
     "name": "stdout",
     "output_type": "stream",
     "text": [
      "KNeighborsClassifier(algorithm='auto', leaf_size=30, metric='minkowski',\n",
      "           metric_params=None, n_jobs=None, n_neighbors=5, p=2,\n",
      "           weights='uniform')\n",
      "Mean Accury scores for knn : 0.7823921802292588\n",
      "~-~-~-~-~-~-~-~-~-~-~-~-~-~-~-~-~-~-~-~-~-~-~-~-~-~-~-~-~-~-\n",
      "LinearSVC(C=1.0, class_weight=None, dual=True, fit_intercept=True,\n",
      "     intercept_scaling=1, loss='hinge', max_iter=1000, multi_class='ovr',\n",
      "     penalty='l2', random_state=None, tol=0.0001, verbose=0)\n",
      "Mean Accury scores for lin_svm : 0.7934777550788786\n",
      "~-~-~-~-~-~-~-~-~-~-~-~-~-~-~-~-~-~-~-~-~-~-~-~-~-~-~-~-~-~-\n",
      "SVC(C=1.0, cache_size=200, class_weight=None, coef0=0.0,\n",
      "  decision_function_shape='ovr', degree=3, gamma='auto', kernel='rbf',\n",
      "  max_iter=-1, probability=False, random_state=None, shrinking=True,\n",
      "  tol=0.001, verbose=False)\n",
      "Mean Accury scores for svm : 0.7844884235614572\n",
      "~-~-~-~-~-~-~-~-~-~-~-~-~-~-~-~-~-~-~-~-~-~-~-~-~-~-~-~-~-~-\n",
      "LogisticRegression(C=1.0, class_weight=None, dual=False, fit_intercept=True,\n",
      "          intercept_scaling=1, max_iter=100, multi_class='warn',\n",
      "          n_jobs=None, penalty='l2', random_state=None, solver='warn',\n",
      "          tol=0.0001, verbose=0, warm_start=False)\n",
      "Mean Accury scores for logit : 0.8047398138690273\n",
      "~-~-~-~-~-~-~-~-~-~-~-~-~-~-~-~-~-~-~-~-~-~-~-~-~-~-~-~-~-~-\n",
      "DecisionTreeClassifier(class_weight=None, criterion='gini', max_depth=None,\n",
      "            max_features=None, max_leaf_nodes=None,\n",
      "            min_impurity_decrease=0.0, min_impurity_split=None,\n",
      "            min_samples_leaf=1, min_samples_split=2,\n",
      "            min_weight_fraction_leaf=0.0, presort=False, random_state=42,\n",
      "            splitter='best')\n",
      "Mean Accury scores for dt : 0.7980101577573488\n",
      "~-~-~-~-~-~-~-~-~-~-~-~-~-~-~-~-~-~-~-~-~-~-~-~-~-~-~-~-~-~-\n",
      "RandomForestClassifier(bootstrap=True, class_weight=None, criterion='gini',\n",
      "            max_depth=None, max_features='auto', max_leaf_nodes=None,\n",
      "            min_impurity_decrease=0.0, min_impurity_split=None,\n",
      "            min_samples_leaf=1, min_samples_split=2,\n",
      "            min_weight_fraction_leaf=0.0, n_estimators='warn', n_jobs=None,\n",
      "            oob_score=False, random_state=42, verbose=0, warm_start=False)\n",
      "Mean Accury scores for rf : 0.8081361366473725\n",
      "~-~-~-~-~-~-~-~-~-~-~-~-~-~-~-~-~-~-~-~-~-~-~-~-~-~-~-~-~-~-\n",
      "MLPClassifier(activation='relu', alpha=0.0001, batch_size='auto', beta_1=0.9,\n",
      "       beta_2=0.999, early_stopping=False, epsilon=1e-08,\n",
      "       hidden_layer_sizes=(100,), learning_rate='constant',\n",
      "       learning_rate_init=0.001, max_iter=200, momentum=0.9,\n",
      "       n_iter_no_change=10, nesterovs_momentum=True, power_t=0.5,\n",
      "       random_state=42, shuffle=True, solver='adam', tol=0.0001,\n",
      "       validation_fraction=0.1, verbose=False, warm_start=False)\n",
      "Mean Accury scores for mlp : 0.8070241743275451\n",
      "~-~-~-~-~-~-~-~-~-~-~-~-~-~-~-~-~-~-~-~-~-~-~-~-~-~-~-~-~-~-\n",
      "BernoulliNB(alpha=1.0, binarize=0.0, class_prior=None, fit_prior=True)\n",
      "Mean Accury scores for nb_clf : 0.783440301895358\n"
     ]
    }
   ],
   "source": [
    "algo_d = {'knn': KNeighborsClassifier(),\n",
    "          'lin_svm': LinearSVC(loss='hinge'),\n",
    "          'svm': SVC(gamma='auto'),\n",
    "          'logit': LogisticRegression(),\n",
    "          'dt': DecisionTreeClassifier(random_state=42),\n",
    "          'rf': RandomForestClassifier(random_state=42),\n",
    "          'mlp': MLPClassifier(random_state=42),\n",
    "          }\n",
    "scores_d = {}\n",
    "for key, value in algo_d.items():\n",
    "    full_pipeline = Pipeline([\n",
    "        ('prep', add_imp_pipeline),\n",
    "        ('union', union_pipeline),\n",
    "        (key, value)\n",
    "    ])\n",
    "    print(value)\n",
    "    scores = cross_val_score(full_pipeline, df_train, y_train, cv=10, n_jobs=-1)\n",
    "    scores_d[key] = scores\n",
    "    print('Mean Accury scores for {} : {}'.format(key, scores.mean()))\n",
    "    print('~-' * 30)\n",
    "\n",
    "nb_pipeline = Pipeline([\n",
    "    ('prep', add_imp_pipeline),\n",
    "    ('df_sel', DataFrameSelector(feature_names=cat_features)),\n",
    "    ('cat', cat_pipeline),\n",
    "    ('b_nb', BernoulliNB())\n",
    "])\n",
    "print(BernoulliNB())\n",
    "scores = cross_val_score(nb_pipeline, df_train, y_train, cv=10, n_jobs=-1)\n",
    "print('Mean Accury scores for {} : {}'.format('nb_clf', scores.mean()))\n",
    "scores_d['b_nb'] = scores\n"
   ]
  },
  {
   "cell_type": "code",
   "execution_count": 32,
   "metadata": {},
   "outputs": [
    {
     "data": {
      "text/plain": [
       "Text(0, 0.5, 'Accuracy')"
      ]
     },
     "execution_count": 32,
     "metadata": {},
     "output_type": "execute_result"
    },
    {
     "data": {
      "image/png": "[encoded data removed]",
      "text/plain": [
       "<Figure size 432x288 with 1 Axes>"
      ]
     },
     "metadata": {},
     "output_type": "display_data"
    }
   ],
   "source": [
    "df_score = pd.DataFrame(scores_d).stack().reset_index()\n",
    "g = sns.violinplot(df_score['level_1'], df_score[0])\n",
    "g.set_xlabel('Models')\n",
    "g.set_ylabel('Accuracy')"
   ]
  },
  {
   "cell_type": "markdown",
   "metadata": {},
   "source": [
    "Since binary class proportion for the target feature is rather balanced (~40 VS ~60), accuracy is not too bad as a metric for classifier evaluation. ROC curves, auc scores could have been another option.<br>\n",
    "However, 10 fold cross-val scores for accuracy may varie a lot among a single classifier. Thus the median or the violin-box distribution might be a intereresting complement for the cross-val score estimation in addition of average score. Inter-clf score distributions and medians remain roughly similar, and thus it is tricky to establish a short-list of most-promising models. <br> <br>\n",
    "Here the dataset is pretty small and I will go with all the previous classifiers except DT (random forest should perform at least just as well) and naive_bayes bernoulli."
   ]
  },
  {
   "cell_type": "markdown",
   "metadata": {},
   "source": [
    "#### **Fine-tuning classifiers**"
   ]
  },
  {
   "cell_type": "markdown",
   "metadata": {},
   "source": [
    "*Random Forests*"
   ]
  },
  {
   "cell_type": "code",
   "execution_count": 33,
   "metadata": {},
   "outputs": [
    {
     "name": "stdout",
     "output_type": "stream",
     "text": [
      "Fitting 5 folds for each of 50 candidates, totalling 250 fits\n"
     ]
    },
    {
     "name": "stderr",
     "output_type": "stream",
     "text": [
      "[Parallel(n_jobs=-1)]: Using backend LokyBackend with 4 concurrent workers.\n",
      "[Parallel(n_jobs=-1)]: Done  33 tasks      | elapsed:   41.8s\n",
      "[Parallel(n_jobs=-1)]: Done 154 tasks      | elapsed:  3.1min\n",
      "[Parallel(n_jobs=-1)]: Done 250 out of 250 | elapsed:  5.0min finished\n"
     ]
    },
    {
     "data": {
      "text/plain": [
       "RandomizedSearchCV(cv=5, error_score='raise-deprecating',\n",
       "          estimator=Pipeline(memory=None,\n",
       "     steps=[('prep', Pipeline(memory=None,\n",
       "     steps=[('feat_add', FeatureAdder(add_family=True, relevant_nb=3)), ('age_imp', CustomAgeImputer(feature_name='Age', group_by_title=True,\n",
       "         imp_func=<function nanmedian at 0x000001C869560B70>)), ('age_bucket_add', AgeBucketAdder(bucket_cap=60, bucket_...rs='warn', n_jobs=None,\n",
       "            oob_score=False, random_state=42, verbose=0, warm_start=False))]),\n",
       "          fit_params=None, iid='warn', n_iter=50, n_jobs=-1,\n",
       "          param_distributions={'rf__n_estimators': [1000], 'rf__max_features': <scipy.stats._distn_infrastructure.rv_frozen object at 0x000001C86F77BDD8>, 'rf__max_depth': <scipy.stats._distn_infrastructure.rv_frozen object at 0x000001C86F7A7470>},\n",
       "          pre_dispatch='2*n_jobs', random_state=42, refit=True,\n",
       "          return_train_score='warn', scoring='accuracy', verbose=2)"
      ]
     },
     "execution_count": 33,
     "metadata": {},
     "output_type": "execute_result"
    }
   ],
   "source": [
    "full_pipeline = Pipeline([\n",
    "        ('prep', add_imp_pipeline),\n",
    "        ('union', union_pipeline),\n",
    "        ('rf', RandomForestClassifier(random_state=42))\n",
    "])\n",
    "\n",
    "param_dist = {'rf__n_estimators': [1000], 'rf__max_features': uniform(0.2, 0.7), 'rf__max_depth': randint(2, 9)}\n",
    "\n",
    "R_cv = RandomizedSearchCV(full_pipeline, param_distributions=param_dist, scoring='accuracy', n_iter=50, \n",
    "                          n_jobs=-1, verbose=2, cv=5, random_state=42)\n",
    "R_cv.fit(df_train, y_train)"
   ]
  },
  {
   "cell_type": "code",
   "execution_count": 34,
   "metadata": {},
   "outputs": [
    {
     "name": "stdout",
     "output_type": "stream",
     "text": [
      "0.8383838383838383 {'rf__max_depth': 7, 'rf__max_features': 0.848661206055656, 'rf__n_estimators': 1000}\n"
     ]
    }
   ],
   "source": [
    "print(R_cv.best_score_, R_cv.best_params_)"
   ]
  },
  {
   "cell_type": "code",
   "execution_count": 35,
   "metadata": {},
   "outputs": [],
   "source": [
    "def model_saver(model, saving_name, saving_path=MODEL_SAVING_PATH):\n",
    "    from sklearn.externals import joblib\n",
    "    os.makedirs(MODEL_SAVING_PATH, exist_ok=True)\n",
    "    joblib.dump(model, os.path.join(saving_path, saving_name))\n",
    "    print('Model saved in ', saving_path)"
   ]
  },
  {
   "cell_type": "code",
   "execution_count": 36,
   "metadata": {},
   "outputs": [
    {
     "name": "stdout",
     "output_type": "stream",
     "text": [
      "Model saved in  ./Models/\n"
     ]
    }
   ],
   "source": [
    "model_saver(R_cv.best_estimator_, 'rf_clf.pkl')"
   ]
  },
  {
   "cell_type": "markdown",
   "metadata": {},
   "source": [
    "Let's have a look to mean feature importances computed for Random Forests. "
   ]
  },
  {
   "cell_type": "code",
   "execution_count": 37,
   "metadata": {},
   "outputs": [
    {
     "name": "stdout",
     "output_type": "stream",
     "text": [
      "[(0.41423963289229854, 'female'), (0.2570248623117338, 'Fare'), (0.08181752544240835, 2), (0.07263040572797998, 1), (0.03952706451353138, 'Master'), (0.034386937954674554, 'Miss'), (0.020229231347220416, 'S'), (0.018610233182737666, 0.0), (0.015741908469049666, 15.0), (0.014104521529181787, 'single'), (0.012850585114821917, 30.0), (0.009985026768412836, 'C'), (0.008852064745948816, 45.0), (0.0, 'sm_fam')]\n"
     ]
    }
   ],
   "source": [
    "feature_importances = R_cv.best_estimator_.steps[2][1].feature_importances_ #3rd step in pipeline, 2nd element for estimator\n",
    "print(sorted(list(zip(feature_importances, col_name)), reverse=True))"
   ]
  },
  {
   "cell_type": "markdown",
   "metadata": {},
   "source": [
    "We should also give a try to some extra randomness with Extra-trees performing using random tresholds for features at splitting."
   ]
  },
  {
   "cell_type": "code",
   "execution_count": 38,
   "metadata": {},
   "outputs": [
    {
     "name": "stdout",
     "output_type": "stream",
     "text": [
      "Fitting 5 folds for each of 50 candidates, totalling 250 fits\n"
     ]
    },
    {
     "name": "stderr",
     "output_type": "stream",
     "text": [
      "[Parallel(n_jobs=-1)]: Using backend LokyBackend with 4 concurrent workers.\n",
      "[Parallel(n_jobs=-1)]: Done  33 tasks      | elapsed:   40.3s\n",
      "[Parallel(n_jobs=-1)]: Done 154 tasks      | elapsed:  2.9min\n",
      "[Parallel(n_jobs=-1)]: Done 250 out of 250 | elapsed:  4.8min finished\n"
     ]
    },
    {
     "data": {
      "text/plain": [
       "RandomizedSearchCV(cv=5, error_score='raise-deprecating',\n",
       "          estimator=Pipeline(memory=None,\n",
       "     steps=[('prep', Pipeline(memory=None,\n",
       "     steps=[('feat_add', FeatureAdder(add_family=True, relevant_nb=3)), ('age_imp', CustomAgeImputer(feature_name='Age', group_by_title=True,\n",
       "         imp_func=<function nanmedian at 0x000001C869560B70>)), ('age_bucket_add', AgeBucketAdder(bucket_cap=60, bucket_...ors='warn', n_jobs=None,\n",
       "           oob_score=False, random_state=42, verbose=0, warm_start=False))]),\n",
       "          fit_params=None, iid='warn', n_iter=50, n_jobs=-1,\n",
       "          param_distributions={'ext_tr__n_estimators': [1000], 'ext_tr__max_features': <scipy.stats._distn_infrastructure.rv_frozen object at 0x000001C86F3B9390>, 'ext_tr__max_depth': <scipy.stats._distn_infrastructure.rv_frozen object at 0x000001C86F3B9D30>},\n",
       "          pre_dispatch='2*n_jobs', random_state=42, refit=True,\n",
       "          return_train_score='warn', scoring='accuracy', verbose=2)"
      ]
     },
     "execution_count": 38,
     "metadata": {},
     "output_type": "execute_result"
    }
   ],
   "source": [
    "full_pipeline = Pipeline([\n",
    "        ('prep', add_imp_pipeline),\n",
    "        ('union', union_pipeline),\n",
    "        ('ext_tr', ExtraTreesClassifier(random_state=42))\n",
    "])\n",
    "\n",
    "param_dist = {'ext_tr__n_estimators': [1000], 'ext_tr__max_features': uniform(0.2, 0.7), 'ext_tr__max_depth': randint(2, 10)}\n",
    "\n",
    "R_cv = RandomizedSearchCV(full_pipeline, param_distributions=param_dist, scoring='accuracy', n_iter=50, \n",
    "                          n_jobs=-1, verbose=2, cv=5, random_state=42)\n",
    "R_cv.fit(df_train, y_train)"
   ]
  },
  {
   "cell_type": "code",
   "execution_count": 39,
   "metadata": {},
   "outputs": [
    {
     "name": "stdout",
     "output_type": "stream",
     "text": [
      "0.8215488215488216 {'ext_tr__max_depth': 5, 'ext_tr__max_features': 0.856986896311025, 'ext_tr__n_estimators': 1000}\n"
     ]
    }
   ],
   "source": [
    "print(R_cv.best_score_, R_cv.best_params_)"
   ]
  },
  {
   "cell_type": "code",
   "execution_count": 40,
   "metadata": {},
   "outputs": [
    {
     "name": "stdout",
     "output_type": "stream",
     "text": [
      "Model saved in  ./Models/\n"
     ]
    }
   ],
   "source": [
    "model_saver(R_cv.best_estimator_, 'ext_tr_clf.pkl')"
   ]
  },
  {
   "cell_type": "markdown",
   "metadata": {},
   "source": [
    "Let's define a final feature selector for other classifier pipelines using ordered feature importances from Random Forests."
   ]
  },
  {
   "cell_type": "code",
   "execution_count": 41,
   "metadata": {},
   "outputs": [],
   "source": [
    "def top_feat_k(l, k, rev=True): \n",
    "    l_zip = list(zip(l, range(len(l))))\n",
    "    l_zip.sort(reverse=rev)\n",
    "    l_ix = [l_zip[x][1] for x in range(len(l))]\n",
    "    return (l_ix[0:k])"
   ]
  },
  {
   "cell_type": "code",
   "execution_count": 42,
   "metadata": {},
   "outputs": [],
   "source": [
    "class FinalFeatureSelector(BaseEstimator, TransformerMixin):\n",
    "    def __init__(self, feat_import=feature_importances, k=len(feature_importances)):\n",
    "        self.k = k\n",
    "        self.feat_import = feat_import\n",
    "    def fit(self, X, y=None):\n",
    "        return(self)\n",
    "    def transform(self, X, y=None):\n",
    "        return X[:, top_feat_k(l=self.feat_import, k=self.k)]"
   ]
  },
  {
   "cell_type": "markdown",
   "metadata": {},
   "source": [
    "*Knn*"
   ]
  },
  {
   "cell_type": "code",
   "execution_count": 43,
   "metadata": {},
   "outputs": [
    {
     "name": "stdout",
     "output_type": "stream",
     "text": [
      "Fitting 5 folds for each of 84 candidates, totalling 420 fits\n"
     ]
    },
    {
     "name": "stderr",
     "output_type": "stream",
     "text": [
      "[Parallel(n_jobs=-1)]: Using backend LokyBackend with 4 concurrent workers.\n",
      "[Parallel(n_jobs=-1)]: Done  33 tasks      | elapsed:   25.1s\n",
      "[Parallel(n_jobs=-1)]: Done 154 tasks      | elapsed:  1.8min\n",
      "[Parallel(n_jobs=-1)]: Done 357 tasks      | elapsed:  4.2min\n",
      "[Parallel(n_jobs=-1)]: Done 420 out of 420 | elapsed:  4.9min finished\n",
      "C:\\Users\\ghare\\Anaconda3\\lib\\site-packages\\sklearn\\model_selection\\_search.py:841: DeprecationWarning: The default of the `iid` parameter will change from True to False in version 0.22 and will be removed in 0.24. This will change numeric results when test-set sizes are unequal.\n",
      "  DeprecationWarning)\n"
     ]
    },
    {
     "data": {
      "text/plain": [
       "GridSearchCV(cv=5, error_score='raise-deprecating',\n",
       "       estimator=Pipeline(memory=None,\n",
       "     steps=[('prep', Pipeline(memory=None,\n",
       "     steps=[('feat_add', FeatureAdder(add_family=True, relevant_nb=3)), ('age_imp', CustomAgeImputer(feature_name='Age', group_by_title=True,\n",
       "         imp_func=<function nanmedian at 0x000001C869560B70>)), ('age_bucket_add', AgeBucketAdder(bucket_cap=60, bucket_...ki',\n",
       "           metric_params=None, n_jobs=None, n_neighbors=5, p=2,\n",
       "           weights='uniform'))]),\n",
       "       fit_params=None, iid='warn', n_jobs=-1,\n",
       "       param_grid={'knn__n_neighbors': range(3, 10), 'feat_sel__k': range(3, 15)},\n",
       "       pre_dispatch='2*n_jobs', refit=True, return_train_score='warn',\n",
       "       scoring='accuracy', verbose=2)"
      ]
     },
     "execution_count": 43,
     "metadata": {},
     "output_type": "execute_result"
    }
   ],
   "source": [
    "full_pipeline = Pipeline([\n",
    "    ('prep', add_imp_pipeline),\n",
    "    ('union', union_pipeline),\n",
    "    ('feat_sel', FinalFeatureSelector(feat_import=feature_importances)),\n",
    "    ('knn', KNeighborsClassifier())\n",
    "])\n",
    "param = {'knn__n_neighbors': range(3, 10), 'feat_sel__k': range(3, len(feature_importances)+1)}\n",
    "G_cv = GridSearchCV(full_pipeline, param_grid=param, scoring='accuracy', n_jobs=-1, verbose=2, cv=5)\n",
    "G_cv.fit(df_train, y_train)\n"
   ]
  },
  {
   "cell_type": "code",
   "execution_count": 44,
   "metadata": {},
   "outputs": [
    {
     "name": "stdout",
     "output_type": "stream",
     "text": [
      "0.8249158249158249 {'feat_sel__k': 5, 'knn__n_neighbors': 8}\n"
     ]
    }
   ],
   "source": [
    "print(G_cv.best_score_, G_cv.best_params_)"
   ]
  },
  {
   "cell_type": "code",
   "execution_count": 45,
   "metadata": {},
   "outputs": [
    {
     "name": "stdout",
     "output_type": "stream",
     "text": [
      "Model saved in  ./Models/\n"
     ]
    }
   ],
   "source": [
    "model_saver(G_cv.best_estimator_, 'knn_clf.pkl')"
   ]
  },
  {
   "cell_type": "markdown",
   "metadata": {},
   "source": [
    "*RBF SVM*"
   ]
  },
  {
   "cell_type": "code",
   "execution_count": 46,
   "metadata": {},
   "outputs": [
    {
     "name": "stdout",
     "output_type": "stream",
     "text": [
      "Fitting 5 folds for each of 100 candidates, totalling 500 fits\n"
     ]
    },
    {
     "name": "stderr",
     "output_type": "stream",
     "text": [
      "[Parallel(n_jobs=-1)]: Using backend LokyBackend with 4 concurrent workers.\n",
      "[Parallel(n_jobs=-1)]: Done  33 tasks      | elapsed:   24.2s\n",
      "[Parallel(n_jobs=-1)]: Done 154 tasks      | elapsed:  1.8min\n",
      "[Parallel(n_jobs=-1)]: Done 357 tasks      | elapsed:  4.1min\n",
      "[Parallel(n_jobs=-1)]: Done 500 out of 500 | elapsed:  5.8min finished\n"
     ]
    },
    {
     "data": {
      "text/plain": [
       "RandomizedSearchCV(cv=5, error_score='raise-deprecating',\n",
       "          estimator=Pipeline(memory=None,\n",
       "     steps=[('prep', Pipeline(memory=None,\n",
       "     steps=[('feat_add', FeatureAdder(add_family=True, relevant_nb=3)), ('age_imp', CustomAgeImputer(feature_name='Age', group_by_title=True,\n",
       "         imp_func=<function nanmedian at 0x000001C869560B70>)), ('age_bucket_add', AgeBucketAdder(bucket_cap=60, bucket_...bf', max_iter=-1, probability=True, random_state=None,\n",
       "  shrinking=True, tol=0.001, verbose=False))]),\n",
       "          fit_params=None, iid='warn', n_iter=100, n_jobs=-1,\n",
       "          param_distributions={'svm__kernel': ['rbf'], 'svm__C': <scipy.stats._distn_infrastructure.rv_frozen object at 0x000001C86F4E3D30>, 'svm__gamma': <scipy.stats._distn_infrastructure.rv_frozen object at 0x000001C86F4E3C18>, 'feat_sel__k': range(4, 15)},\n",
       "          pre_dispatch='2*n_jobs', random_state=42, refit=True,\n",
       "          return_train_score='warn', scoring='accuracy', verbose=2)"
      ]
     },
     "execution_count": 46,
     "metadata": {},
     "output_type": "execute_result"
    }
   ],
   "source": [
    "full_pipeline = Pipeline([\n",
    "    ('prep', add_imp_pipeline),\n",
    "    ('union', union_pipeline),\n",
    "    ('feat_sel', FinalFeatureSelector(feat_import=feature_importances)),\n",
    "    ('svm', SVC(probability=True))#prob slow down training but useful later\n",
    "])\n",
    "\n",
    "param_dist = {'svm__kernel': ['rbf'], 'svm__C': reciprocal(1, 1000), 'svm__gamma': reciprocal(0.001, 1),\n",
    "         'feat_sel__k': range(4, len(feature_importances)+1)}\n",
    "R_cv = RandomizedSearchCV(full_pipeline, param_distributions=param_dist, scoring='accuracy', n_jobs=-1, verbose=2, \n",
    "                          n_iter=100, cv=5, random_state=42)\n",
    "R_cv.fit(df_train, y_train)"
   ]
  },
  {
   "cell_type": "code",
   "execution_count": 47,
   "metadata": {},
   "outputs": [
    {
     "name": "stdout",
     "output_type": "stream",
     "text": [
      "0.8305274971941639 {'feat_sel__k': 8, 'svm__C': 63.5835885667625, 'svm__gamma': 0.13311216080736882, 'svm__kernel': 'rbf'}\n"
     ]
    }
   ],
   "source": [
    "print(R_cv.best_score_, R_cv.best_params_)"
   ]
  },
  {
   "cell_type": "code",
   "execution_count": 48,
   "metadata": {},
   "outputs": [
    {
     "name": "stdout",
     "output_type": "stream",
     "text": [
      "Model saved in  ./Models/\n"
     ]
    }
   ],
   "source": [
    "model_saver(R_cv.best_estimator_, 'rbf_svm_clf.pkl')"
   ]
  },
  {
   "cell_type": "markdown",
   "metadata": {},
   "source": [
    "*Linear SVC*"
   ]
  },
  {
   "cell_type": "code",
   "execution_count": 49,
   "metadata": {},
   "outputs": [
    {
     "name": "stdout",
     "output_type": "stream",
     "text": [
      "Fitting 5 folds for each of 100 candidates, totalling 500 fits\n"
     ]
    },
    {
     "name": "stderr",
     "output_type": "stream",
     "text": [
      "[Parallel(n_jobs=-1)]: Using backend LokyBackend with 4 concurrent workers.\n",
      "[Parallel(n_jobs=-1)]: Done  33 tasks      | elapsed:   23.6s\n",
      "[Parallel(n_jobs=-1)]: Done 154 tasks      | elapsed:  1.7min\n",
      "[Parallel(n_jobs=-1)]: Done 357 tasks      | elapsed:  4.0min\n",
      "[Parallel(n_jobs=-1)]: Done 500 out of 500 | elapsed:  5.6min finished\n",
      "C:\\Users\\ghare\\Anaconda3\\lib\\site-packages\\sklearn\\model_selection\\_search.py:841: DeprecationWarning: The default of the `iid` parameter will change from True to False in version 0.22 and will be removed in 0.24. This will change numeric results when test-set sizes are unequal.\n",
      "  DeprecationWarning)\n",
      "C:\\Users\\ghare\\Anaconda3\\lib\\site-packages\\sklearn\\svm\\base.py:931: ConvergenceWarning: Liblinear failed to converge, increase the number of iterations.\n",
      "  \"the number of iterations.\", ConvergenceWarning)\n"
     ]
    },
    {
     "data": {
      "text/plain": [
       "RandomizedSearchCV(cv=5, error_score='raise-deprecating',\n",
       "          estimator=Pipeline(memory=None,\n",
       "     steps=[('prep', Pipeline(memory=None,\n",
       "     steps=[('feat_add', FeatureAdder(add_family=True, relevant_nb=3)), ('age_imp', CustomAgeImputer(feature_name='Age', group_by_title=True,\n",
       "         imp_func=<function nanmedian at 0x000001C869560B70>)), ('age_bucket_add', AgeBucketAdder(bucket_cap=60, bucket_...ax_iter=2000,\n",
       "     multi_class='ovr', penalty='l2', random_state=None, tol=0.0001,\n",
       "     verbose=0))]),\n",
       "          fit_params=None, iid='warn', n_iter=100, n_jobs=-1,\n",
       "          param_distributions={'svm__penalty': ['l2'], 'svm__loss': ['hinge', 'squared_hinge'], 'svm__C': <scipy.stats._distn_infrastructure.rv_frozen object at 0x000001C86F238B00>, 'feat_sel__k': range(4, 15)},\n",
       "          pre_dispatch='2*n_jobs', random_state=42, refit=True,\n",
       "          return_train_score='warn', scoring='accuracy', verbose=2)"
      ]
     },
     "execution_count": 49,
     "metadata": {},
     "output_type": "execute_result"
    }
   ],
   "source": [
    "full_pipeline = Pipeline([\n",
    "    ('prep', add_imp_pipeline),\n",
    "    ('union', union_pipeline),\n",
    "    ('feat_sel', FinalFeatureSelector(feat_import=feature_importances)),\n",
    "    ('svm', LinearSVC(max_iter=2000))\n",
    "])\n",
    "\n",
    "param_dist = {'svm__penalty': ['l2'], 'svm__loss': ['hinge', 'squared_hinge'], 'svm__C': reciprocal(1, 1000),\n",
    "         'feat_sel__k': range(4, len(feature_importances)+1)}\n",
    "R_cv = RandomizedSearchCV(full_pipeline, param_distributions=param_dist, scoring='accuracy', n_jobs=-1, verbose=2,\n",
    "                          cv=5, n_iter=100, random_state=42)\n",
    "R_cv.fit(df_train, y_train)"
   ]
  },
  {
   "cell_type": "code",
   "execution_count": 50,
   "metadata": {},
   "outputs": [
    {
     "name": "stdout",
     "output_type": "stream",
     "text": [
      "0.8047138047138047 {'feat_sel__k': 10, 'svm__C': 145.48552070164158, 'svm__loss': 'squared_hinge', 'svm__penalty': 'l2'}\n"
     ]
    }
   ],
   "source": [
    "print(R_cv.best_score_, R_cv.best_params_)"
   ]
  },
  {
   "cell_type": "code",
   "execution_count": 51,
   "metadata": {},
   "outputs": [
    {
     "name": "stdout",
     "output_type": "stream",
     "text": [
      "Model saved in  ./Models/\n"
     ]
    }
   ],
   "source": [
    "model_saver(R_cv.best_estimator_, 'lin_svm_clf.pkl')"
   ]
  },
  {
   "cell_type": "markdown",
   "metadata": {},
   "source": [
    "*Logit*"
   ]
  },
  {
   "cell_type": "code",
   "execution_count": 52,
   "metadata": {},
   "outputs": [
    {
     "name": "stdout",
     "output_type": "stream",
     "text": [
      "Fitting 5 folds for each of 68 candidates, totalling 340 fits\n"
     ]
    },
    {
     "name": "stderr",
     "output_type": "stream",
     "text": [
      "[Parallel(n_jobs=-1)]: Using backend LokyBackend with 4 concurrent workers.\n",
      "[Parallel(n_jobs=-1)]: Done  33 tasks      | elapsed:   23.2s\n",
      "[Parallel(n_jobs=-1)]: Done 154 tasks      | elapsed:  1.7min\n",
      "[Parallel(n_jobs=-1)]: Done 340 out of 340 | elapsed:  3.7min finished\n"
     ]
    },
    {
     "data": {
      "text/plain": [
       "GridSearchCV(cv=5, error_score='raise-deprecating',\n",
       "       estimator=Pipeline(memory=None,\n",
       "     steps=[('prep', Pipeline(memory=None,\n",
       "     steps=[('feat_add', FeatureAdder(add_family=True, relevant_nb=3)), ('age_imp', CustomAgeImputer(feature_name='Age', group_by_title=True,\n",
       "         imp_func=<function nanmedian at 0x000001C869560B70>)), ('age_bucket_add', AgeBucketAdder(bucket_cap=60, bucket_...penalty='l2', random_state=None, solver='warn',\n",
       "          tol=0.0001, verbose=0, warm_start=False))]),\n",
       "       fit_params=None, iid='warn', n_jobs=-1,\n",
       "       param_grid=[{'logit__penalty': ['l2'], 'logit__C': [1, 10, 30, 100], 'feat_sel__k': range(4, 14)}, {'logit__penalty': ['l1'], 'logit__C': [1, 10, 30, 100], 'feat_sel__k': range(8, 15)}],\n",
       "       pre_dispatch='2*n_jobs', refit=True, return_train_score='warn',\n",
       "       scoring='accuracy', verbose=2)"
      ]
     },
     "execution_count": 52,
     "metadata": {},
     "output_type": "execute_result"
    }
   ],
   "source": [
    "full_pipeline = Pipeline([\n",
    "    ('prep', add_imp_pipeline),\n",
    "    ('union', union_pipeline),\n",
    "    ('feat_sel', FinalFeatureSelector(feat_import=feature_importances)),\n",
    "    ('logit', LogisticRegression())\n",
    "])\n",
    "\n",
    "param = [{'logit__penalty': ['l2'], 'logit__C': [1, 10, 30, 100],\n",
    "         'feat_sel__k': range(4, len(feature_importances))},\n",
    "         {'logit__penalty': ['l1'], 'logit__C': [1, 10, 30, 100],\n",
    "         'feat_sel__k': range(8, len(feature_importances)+1)}] #Let lasso sparse the model\n",
    "         #Should try Elasticnet penalty with scikit-learn 0.21\n",
    "         \n",
    "G_cv = GridSearchCV(full_pipeline, param_grid=param, scoring='accuracy', n_jobs=-1, verbose=2, cv=5)\n",
    "G_cv.fit(df_train, y_train)"
   ]
  },
  {
   "cell_type": "code",
   "execution_count": 53,
   "metadata": {},
   "outputs": [
    {
     "name": "stdout",
     "output_type": "stream",
     "text": [
      "0.8170594837261503 {'feat_sel__k': 13, 'logit__C': 10, 'logit__penalty': 'l2'}\n"
     ]
    }
   ],
   "source": [
    "print(G_cv.best_score_, G_cv.best_params_)"
   ]
  },
  {
   "cell_type": "code",
   "execution_count": 54,
   "metadata": {},
   "outputs": [
    {
     "name": "stdout",
     "output_type": "stream",
     "text": [
      "Model saved in  ./Models/\n"
     ]
    }
   ],
   "source": [
    "model_saver(G_cv.best_estimator_, 'logit_clf.pkl')"
   ]
  },
  {
   "cell_type": "markdown",
   "metadata": {},
   "source": [
    "*Multi layer perceptron*"
   ]
  },
  {
   "cell_type": "code",
   "execution_count": 55,
   "metadata": {},
   "outputs": [
    {
     "name": "stdout",
     "output_type": "stream",
     "text": [
      "Fitting 5 folds for each of 180 candidates, totalling 900 fits\n"
     ]
    },
    {
     "name": "stderr",
     "output_type": "stream",
     "text": [
      "[Parallel(n_jobs=-1)]: Using backend LokyBackend with 4 concurrent workers.\n",
      "[Parallel(n_jobs=-1)]: Done  33 tasks      | elapsed:   54.2s\n",
      "[Parallel(n_jobs=-1)]: Done 154 tasks      | elapsed:  4.3min\n",
      "[Parallel(n_jobs=-1)]: Done 357 tasks      | elapsed:  8.0min\n",
      "[Parallel(n_jobs=-1)]: Done 640 tasks      | elapsed: 12.8min\n",
      "[Parallel(n_jobs=-1)]: Done 900 out of 900 | elapsed: 17.6min finished\n",
      "C:\\Users\\ghare\\Anaconda3\\lib\\site-packages\\sklearn\\neural_network\\multilayer_perceptron.py:562: ConvergenceWarning: Stochastic Optimizer: Maximum iterations (300) reached and the optimization hasn't converged yet.\n",
      "  % self.max_iter, ConvergenceWarning)\n"
     ]
    },
    {
     "data": {
      "text/plain": [
       "GridSearchCV(cv=5, error_score='raise-deprecating',\n",
       "       estimator=Pipeline(memory=None,\n",
       "     steps=[('prep', Pipeline(memory=None,\n",
       "     steps=[('feat_add', FeatureAdder(add_family=True, relevant_nb=3)), ('age_imp', CustomAgeImputer(feature_name='Age', group_by_title=True,\n",
       "         imp_func=<function nanmedian at 0x000001C869560B70>)), ('age_bucket_add', AgeBucketAdder(bucket_cap=60, bucket_...=True, solver='adam', tol=0.0001,\n",
       "       validation_fraction=0.1, verbose=False, warm_start=False))]),\n",
       "       fit_params=None, iid='warn', n_jobs=-1,\n",
       "       param_grid=[{'mlp__solver': ['lbfgs'], 'mlp__hidden_layer_sizes': [100, 300, 500], 'mlp__alpha': [1e-05, 0.0001, 0.001], 'feat_sel__k': range(5, 9)}, {'mlp__solver': ['sgd'], 'mlp__hidden_layer_sizes': [100, 300, 500], 'mlp__alpha': [1e-05, 0.0001, 0.001], 'mlp__early_stopping': [True, False], 'feat_sel__k': range(5, 9)}, {'mlp__solver': ['adam'], 'mlp__hidden_layer_sizes': [100, 300, 500], 'mlp__alpha': [1e-05, 0.0001, 0.001], 'mlp__early_stopping': [True, False], 'feat_sel__k': range(5, 9)}],\n",
       "       pre_dispatch='2*n_jobs', refit=True, return_train_score='warn',\n",
       "       scoring='accuracy', verbose=2)"
      ]
     },
     "execution_count": 55,
     "metadata": {},
     "output_type": "execute_result"
    }
   ],
   "source": [
    "full_pipeline = Pipeline([\n",
    "    ('prep', add_imp_pipeline),\n",
    "    ('union', union_pipeline),\n",
    "    ('feat_sel', FinalFeatureSelector(feat_import=feature_importances)),\n",
    "    ('mlp', MLPClassifier(random_state=42, max_iter=300))\n",
    "])\n",
    "\n",
    "param = [{'mlp__solver': ['lbfgs'], 'mlp__hidden_layer_sizes': [100, 300, 500], 'mlp__alpha': [0.00001, 0.0001, 0.001],\n",
    "          'feat_sel__k': range(5, 9)},\n",
    "         {'mlp__solver': ['sgd'], 'mlp__hidden_layer_sizes': [100, 300, 500], 'mlp__alpha': [0.00001, 0.0001, 0.001],\n",
    "          'mlp__early_stopping': [True, False], 'feat_sel__k': range(5, 9)},\n",
    "         {'mlp__solver': ['adam'], 'mlp__hidden_layer_sizes': [100, 300, 500], 'mlp__alpha': [0.00001, 0.0001, 0.001],\n",
    "          'mlp__early_stopping': [True, False], 'feat_sel__k': range(5, 9)}]\n",
    "         \n",
    "G_cv = GridSearchCV(full_pipeline, param_grid=param, scoring='accuracy', n_jobs=-1, verbose=2, cv=5)\n",
    "G_cv.fit(df_train, y_train)"
   ]
  },
  {
   "cell_type": "code",
   "execution_count": 56,
   "metadata": {},
   "outputs": [
    {
     "name": "stdout",
     "output_type": "stream",
     "text": [
      "0.8338945005611672 {'feat_sel__k': 7, 'mlp__alpha': 1e-05, 'mlp__early_stopping': False, 'mlp__hidden_layer_sizes': 300, 'mlp__solver': 'adam'}\n"
     ]
    }
   ],
   "source": [
    "print(G_cv.best_score_, G_cv.best_params_)"
   ]
  },
  {
   "cell_type": "code",
   "execution_count": 57,
   "metadata": {},
   "outputs": [
    {
     "name": "stdout",
     "output_type": "stream",
     "text": [
      "Model saved in  ./Models/\n"
     ]
    }
   ],
   "source": [
    "model_saver(G_cv.best_estimator_, 'mlp_clf.pkl')"
   ]
  },
  {
   "cell_type": "markdown",
   "metadata": {},
   "source": [
    "#### **Ensemble methods**"
   ]
  },
  {
   "cell_type": "markdown",
   "metadata": {},
   "source": [
    "*Voting clf*"
   ]
  },
  {
   "cell_type": "code",
   "execution_count": 58,
   "metadata": {},
   "outputs": [
    {
     "name": "stdout",
     "output_type": "stream",
     "text": [
      "[('knn', Pipeline(memory=None,\n",
      "     steps=[('prep', Pipeline(memory=None,\n",
      "     steps=[('feat_add', FeatureAdder(add_family=True, relevant_nb=3)), ('age_imp', CustomAgeImputer(feature_name='Age', group_by_title=True,\n",
      "         imp_func=<function nanmedian at 0x000001C869560B70>)), ('age_bucket_add', AgeBucketAdder(bucket_cap=60, bucket_...ki',\n",
      "           metric_params=None, n_jobs=None, n_neighbors=5, p=2,\n",
      "           weights='uniform'))])), ('svm', Pipeline(memory=None,\n",
      "     steps=[('prep', Pipeline(memory=None,\n",
      "     steps=[('feat_add', FeatureAdder(add_family=True, relevant_nb=3)), ('age_imp', CustomAgeImputer(feature_name='Age', group_by_title=True,\n",
      "         imp_func=<function nanmedian at 0x000001C869560B70>)), ('age_bucket_add', AgeBucketAdder(bucket_cap=60, bucket_...',\n",
      "  max_iter=-1, probability=True, random_state=None, shrinking=True,\n",
      "  tol=0.001, verbose=False))])), ('logit', Pipeline(memory=None,\n",
      "     steps=[('prep', Pipeline(memory=None,\n",
      "     steps=[('feat_add', FeatureAdder(add_family=True, relevant_nb=3)), ('age_imp', CustomAgeImputer(feature_name='Age', group_by_title=True,\n",
      "         imp_func=<function nanmedian at 0x000001C869560B70>)), ('age_bucket_add', AgeBucketAdder(bucket_cap=60, bucket_...penalty='l2', random_state=None, solver='warn',\n",
      "          tol=0.0001, verbose=0, warm_start=False))])), ('rf', Pipeline(memory=None,\n",
      "     steps=[('prep', Pipeline(memory=None,\n",
      "     steps=[('feat_add', FeatureAdder(add_family=True, relevant_nb=3)), ('age_imp', CustomAgeImputer(feature_name='Age', group_by_title=True,\n",
      "         imp_func=<function nanmedian at 0x000001C869560B70>)), ('age_bucket_add', AgeBucketAdder(bucket_cap=60, bucket_...rs='warn', n_jobs=None,\n",
      "            oob_score=False, random_state=42, verbose=0, warm_start=False))])), ('mlp', Pipeline(memory=None,\n",
      "     steps=[('prep', Pipeline(memory=None,\n",
      "     steps=[('feat_add', FeatureAdder(add_family=True, relevant_nb=3)), ('age_imp', CustomAgeImputer(feature_name='Age', group_by_title=True,\n",
      "         imp_func=<function nanmedian at 0x000001C869560B70>)), ('age_bucket_add', AgeBucketAdder(bucket_cap=60, bucket_...True, solver='lbfgs', tol=0.0001,\n",
      "       validation_fraction=0.1, verbose=False, warm_start=False))])), ('bnb', Pipeline(memory=None,\n",
      "     steps=[('prep', Pipeline(memory=None,\n",
      "     steps=[('feat_add', FeatureAdder(add_family=True, relevant_nb=3)), ('age_imp', CustomAgeImputer(feature_name='Age', group_by_title=True,\n",
      "         imp_func=<function nanmedian at 0x000001C869560B70>)), ('age_bucket_add', AgeBucketAdder(bucket_cap=60, bucket_...sparse=False))])), ('b_nb', BernoulliNB(alpha=1.0, binarize=0.0, class_prior=None, fit_prior=True))]))]\n"
     ]
    }
   ],
   "source": [
    "algo_d = {'knn': KNeighborsClassifier(),\n",
    "          'svm': SVC(gamma='auto', probability=True),\n",
    "          'logit': LogisticRegression(),\n",
    "          'rf': RandomForestClassifier(random_state=42),\n",
    "          'mlp': MLPClassifier(random_state=42, solver='lbfgs')\n",
    "          }\n",
    "\n",
    "model_pipe_d = {}\n",
    "for key, value in algo_d.items():\n",
    "    full_pipeline = Pipeline([\n",
    "        ('prep', add_imp_pipeline),\n",
    "        ('union', union_pipeline),\n",
    "        (key, value)\n",
    "    ])\n",
    "    model_pipe_d[key] = full_pipeline\n",
    "    \n",
    "nb_pipeline = Pipeline([\n",
    "    ('prep', add_imp_pipeline),\n",
    "    ('df_sel', DataFrameSelector(feature_names=cat_features)),\n",
    "    ('cat', cat_pipeline),\n",
    "    ('b_nb', BernoulliNB())\n",
    "])\n",
    "\n",
    "model_pipe_d['bnb'] = nb_pipeline\n",
    "\n",
    "estimators = [(key, value) for key, value in model_pipe_d.items()]\n",
    "print(estimators)"
   ]
  },
  {
   "cell_type": "code",
   "execution_count": 59,
   "metadata": {},
   "outputs": [
    {
     "name": "stderr",
     "output_type": "stream",
     "text": [
      "[Parallel(n_jobs=-1)]: Using backend LokyBackend with 4 concurrent workers.\n",
      "[Parallel(n_jobs=-1)]: Done  10 out of  10 | elapsed:   29.5s finished\n"
     ]
    }
   ],
   "source": [
    "hard_voting_clf = VotingClassifier(estimators=estimators, voting='hard')\n",
    "h_scores = cross_val_score(hard_voting_clf, df_train, y_train, cv=10, n_jobs=-1, verbose=2)"
   ]
  },
  {
   "cell_type": "code",
   "execution_count": 60,
   "metadata": {},
   "outputs": [
    {
     "name": "stderr",
     "output_type": "stream",
     "text": [
      "[Parallel(n_jobs=-1)]: Using backend LokyBackend with 4 concurrent workers.\n",
      "[Parallel(n_jobs=-1)]: Done  10 out of  10 | elapsed:   30.7s finished\n"
     ]
    }
   ],
   "source": [
    "soft_voting_clf = VotingClassifier(estimators=estimators, voting='soft')\n",
    "s_scores = cross_val_score(soft_voting_clf, df_train, y_train, cv=10, n_jobs=-1, verbose=2)"
   ]
  },
  {
   "cell_type": "code",
   "execution_count": 61,
   "metadata": {},
   "outputs": [
    {
     "name": "stdout",
     "output_type": "stream",
     "text": [
      "Mean Accury scores for hard_voting_clf : 0.8170993644308251\n",
      "Mean Accury scores for soft_voting_clf : 0.8160015889229373\n"
     ]
    }
   ],
   "source": [
    "print('Mean Accury scores for {} : {}'.format('hard_voting_clf', h_scores.mean()))\n",
    "print('Mean Accury scores for {} : {}'.format('soft_voting_clf', s_scores.mean()))"
   ]
  },
  {
   "cell_type": "code",
   "execution_count": 62,
   "metadata": {},
   "outputs": [
    {
     "name": "stdout",
     "output_type": "stream",
     "text": [
      "['./Models/knn_clf.pkl', './Models/logit_clf.pkl', './Models/mlp_clf.pkl', './Models/rf_clf.pkl', './Models/rbf_svm_clf.pkl']\n"
     ]
    }
   ],
   "source": [
    "trained_models_vot = [os.path.join(MODEL_SAVING_PATH, file_name)for file_name in \n",
    "                      ('knn_clf.pkl', 'logit_clf.pkl', 'mlp_clf.pkl', 'rf_clf.pkl', 'rbf_svm_clf.pkl')]\n",
    "print(trained_models_vot)"
   ]
  },
  {
   "cell_type": "code",
   "execution_count": 63,
   "metadata": {},
   "outputs": [
    {
     "name": "stdout",
     "output_type": "stream",
     "text": [
      "\n",
      " ('./Models/knn_clf.pkl', Pipeline(memory=None,\n",
      "     steps=[('prep', Pipeline(memory=None,\n",
      "     steps=[('feat_add', FeatureAdder(add_family=True, relevant_nb=3)), ('age_imp', CustomAgeImputer(feature_name='Age', group_by_title=True,\n",
      "         imp_func=<function nanmedian at 0x000001C869560B70>)), ('age_bucket_add', AgeBucketAdder(bucket_cap=60, bucket_...ki',\n",
      "           metric_params=None, n_jobs=None, n_neighbors=8, p=2,\n",
      "           weights='uniform'))]))\n",
      "\n",
      " ('./Models/logit_clf.pkl', Pipeline(memory=None,\n",
      "     steps=[('prep', Pipeline(memory=None,\n",
      "     steps=[('feat_add', FeatureAdder(add_family=True, relevant_nb=3)), ('age_imp', CustomAgeImputer(feature_name='Age', group_by_title=True,\n",
      "         imp_func=<function nanmedian at 0x000001C869560B70>)), ('age_bucket_add', AgeBucketAdder(bucket_cap=60, bucket_...penalty='l2', random_state=None, solver='warn',\n",
      "          tol=0.0001, verbose=0, warm_start=False))]))\n",
      "\n",
      " ('./Models/mlp_clf.pkl', Pipeline(memory=None,\n",
      "     steps=[('prep', Pipeline(memory=None,\n",
      "     steps=[('feat_add', FeatureAdder(add_family=True, relevant_nb=3)), ('age_imp', CustomAgeImputer(feature_name='Age', group_by_title=True,\n",
      "         imp_func=<function nanmedian at 0x000001C869560B70>)), ('age_bucket_add', AgeBucketAdder(bucket_cap=60, bucket_...=True, solver='adam', tol=0.0001,\n",
      "       validation_fraction=0.1, verbose=False, warm_start=False))]))\n",
      "\n",
      " ('./Models/rf_clf.pkl', Pipeline(memory=None,\n",
      "     steps=[('prep', Pipeline(memory=None,\n",
      "     steps=[('feat_add', FeatureAdder(add_family=True, relevant_nb=3)), ('age_imp', CustomAgeImputer(feature_name='Age', group_by_title=True,\n",
      "         imp_func=<function nanmedian at 0x000001C869560B70>)), ('age_bucket_add', AgeBucketAdder(bucket_cap=60, bucket_...tors=1000, n_jobs=None, oob_score=False,\n",
      "            random_state=42, verbose=0, warm_start=False))]))\n",
      "\n",
      " ('./Models/rbf_svm_clf.pkl', Pipeline(memory=None,\n",
      "     steps=[('prep', Pipeline(memory=None,\n",
      "     steps=[('feat_add', FeatureAdder(add_family=True, relevant_nb=3)), ('age_imp', CustomAgeImputer(feature_name='Age', group_by_title=True,\n",
      "         imp_func=<function nanmedian at 0x000001C869560B70>)), ('age_bucket_add', AgeBucketAdder(bucket_cap=60, bucket_...bf', max_iter=-1, probability=True, random_state=None,\n",
      "  shrinking=True, tol=0.001, verbose=False))]))\n"
     ]
    }
   ],
   "source": [
    "trained_estimators = [(key, joblib.load(key)) for key in trained_models_vot]\n",
    "for estimator in trained_estimators:\n",
    "    print(\"\\n\", estimator)"
   ]
  },
  {
   "cell_type": "code",
   "execution_count": 64,
   "metadata": {},
   "outputs": [
    {
     "name": "stderr",
     "output_type": "stream",
     "text": [
      "[Parallel(n_jobs=-1)]: Using backend LokyBackend with 4 concurrent workers.\n",
      "[Parallel(n_jobs=-1)]: Done  10 out of  10 | elapsed:   32.9s finished\n"
     ]
    }
   ],
   "source": [
    "hard_voting_clf = VotingClassifier(estimators=trained_estimators, voting='hard')\n",
    "h_scores = cross_val_score(hard_voting_clf, df_train, y_train, cv=10, n_jobs=-1, verbose=2)"
   ]
  },
  {
   "cell_type": "code",
   "execution_count": 65,
   "metadata": {},
   "outputs": [
    {
     "name": "stdout",
     "output_type": "stream",
     "text": [
      "Mean Accury scores for hard_voting_clf : 0.8362010554988082\n"
     ]
    }
   ],
   "source": [
    "print('Mean Accury scores for {} : {}'.format('hard_voting_clf', h_scores.mean()))"
   ]
  },
  {
   "cell_type": "code",
   "execution_count": 66,
   "metadata": {},
   "outputs": [
    {
     "name": "stderr",
     "output_type": "stream",
     "text": [
      "C:\\Users\\ghare\\Anaconda3\\lib\\site-packages\\sklearn\\neural_network\\multilayer_perceptron.py:562: ConvergenceWarning: Stochastic Optimizer: Maximum iterations (300) reached and the optimization hasn't converged yet.\n",
      "  % self.max_iter, ConvergenceWarning)\n"
     ]
    },
    {
     "name": "stdout",
     "output_type": "stream",
     "text": [
      "Model saved in  ./Models/\n"
     ]
    }
   ],
   "source": [
    "hard_voting_clf.fit_transform(df_train, y_train)\n",
    "model_saver(hard_voting_clf, 'hard_voting_clf.pkl')"
   ]
  },
  {
   "cell_type": "markdown",
   "metadata": {},
   "source": [
    "*Bagging/Pasting*"
   ]
  },
  {
   "cell_type": "markdown",
   "metadata": {},
   "source": [
    "See Random Forests & Extra-Trees"
   ]
  },
  {
   "cell_type": "markdown",
   "metadata": {},
   "source": [
    "*Boosting: AdaBoost*"
   ]
  },
  {
   "cell_type": "code",
   "execution_count": 67,
   "metadata": {},
   "outputs": [],
   "source": [
    "ada_clf = AdaBoostClassifier(DecisionTreeClassifier(max_depth=1), n_estimators=200, algorithm=\"SAMME.R\", learning_rate=0.5)\n",
    "full_pipeline = Pipeline([\n",
    "    ('prep', add_imp_pipeline),\n",
    "    ('union', union_pipeline),\n",
    "    ('ada_clf', ada_clf)\n",
    "])"
   ]
  },
  {
   "cell_type": "code",
   "execution_count": 68,
   "metadata": {},
   "outputs": [
    {
     "name": "stderr",
     "output_type": "stream",
     "text": [
      "[Parallel(n_jobs=-1)]: Using backend LokyBackend with 4 concurrent workers.\n",
      "[Parallel(n_jobs=-1)]: Done  10 out of  10 | elapsed:    5.6s finished\n"
     ]
    }
   ],
   "source": [
    "scores = cross_val_score(full_pipeline, df_train, y_train, cv=10, n_jobs=-1, verbose=2)"
   ]
  },
  {
   "cell_type": "code",
   "execution_count": 69,
   "metadata": {},
   "outputs": [
    {
     "name": "stdout",
     "output_type": "stream",
     "text": [
      "Mean Accury scores for ada_clf (Decision stumps) : 0.8260381908977413\n"
     ]
    }
   ],
   "source": [
    "print('Mean Accury scores for {} : {}'.format('ada_clf (Decision stumps)', scores.mean()))"
   ]
  },
  {
   "cell_type": "code",
   "execution_count": 70,
   "metadata": {},
   "outputs": [
    {
     "name": "stdout",
     "output_type": "stream",
     "text": [
      "Fitting 5 folds for each of 168 candidates, totalling 840 fits\n"
     ]
    },
    {
     "name": "stderr",
     "output_type": "stream",
     "text": [
      "[Parallel(n_jobs=-1)]: Using backend LokyBackend with 4 concurrent workers.\n",
      "[Parallel(n_jobs=-1)]: Done  33 tasks      | elapsed:   28.2s\n",
      "[Parallel(n_jobs=-1)]: Done 154 tasks      | elapsed:  2.2min\n",
      "[Parallel(n_jobs=-1)]: Done 357 tasks      | elapsed:  5.0min\n",
      "[Parallel(n_jobs=-1)]: Done 640 tasks      | elapsed:  8.9min\n",
      "[Parallel(n_jobs=-1)]: Done 840 out of 840 | elapsed: 11.7min finished\n"
     ]
    },
    {
     "data": {
      "text/plain": [
       "GridSearchCV(cv=5, error_score='raise-deprecating',\n",
       "       estimator=Pipeline(memory=None,\n",
       "     steps=[('prep', Pipeline(memory=None,\n",
       "     steps=[('feat_add', FeatureAdder(add_family=True, relevant_nb=3)), ('age_imp', CustomAgeImputer(feature_name='Age', group_by_title=True,\n",
       "         imp_func=<function nanmedian at 0x000001C869560B70>)), ('age_bucket_add', AgeBucketAdder(bucket_cap=60, bucket_...m='SAMME.R', base_estimator=None,\n",
       "          learning_rate=1.0, n_estimators=50, random_state=None))]),\n",
       "       fit_params=None, iid='warn', n_jobs=-1,\n",
       "       param_grid={'ada_clf__base_estimator': [DecisionTreeClassifier(class_weight=None, criterion='gini', max_depth=1,\n",
       "            max_features=None, max_leaf_nodes=None,\n",
       "            min_impurity_decrease=0.0, min_impurity_split=None,\n",
       "            min_samples_leaf=1, min_samples_split=2,\n",
       "            min_we...ators': [100, 200, 300, 400], 'ada_clf__learning_rate': [0.5, 0.75, 1], 'feat_sel__k': range(8, 15)},\n",
       "       pre_dispatch='2*n_jobs', refit=True, return_train_score='warn',\n",
       "       scoring='accuracy', verbose=2)"
      ]
     },
     "execution_count": 70,
     "metadata": {},
     "output_type": "execute_result"
    }
   ],
   "source": [
    "ada_clf = AdaBoostClassifier(algorithm=\"SAMME.R\")\n",
    "dt_1 = DecisionTreeClassifier(max_depth=1)\n",
    "dt_2 = DecisionTreeClassifier(max_depth=2)\n",
    "\n",
    "\n",
    "full_pipeline = Pipeline([\n",
    "    ('prep', add_imp_pipeline),\n",
    "    ('union', union_pipeline),\n",
    "    ('feat_sel', FinalFeatureSelector()),\n",
    "    ('ada_clf', ada_clf)\n",
    "])\n",
    "\n",
    "param = {'ada_clf__base_estimator': [dt_1, dt_2], 'ada_clf__n_estimators': [100, 200, 300, 400], \n",
    "         'ada_clf__learning_rate': [0.5, 0.75, 1], 'feat_sel__k': range(8, len(feature_importances)+1)}\n",
    "\n",
    "G_cv = GridSearchCV(full_pipeline, param_grid=param, scoring='accuracy', n_jobs=-1, verbose=2, cv=5)\n",
    "G_cv.fit(df_train, y_train)"
   ]
  },
  {
   "cell_type": "code",
   "execution_count": 71,
   "metadata": {},
   "outputs": [
    {
     "name": "stdout",
     "output_type": "stream",
     "text": [
      "0.8282828282828283 {'ada_clf__base_estimator': DecisionTreeClassifier(class_weight=None, criterion='gini', max_depth=1,\n",
      "            max_features=None, max_leaf_nodes=None,\n",
      "            min_impurity_decrease=0.0, min_impurity_split=None,\n",
      "            min_samples_leaf=1, min_samples_split=2,\n",
      "            min_weight_fraction_leaf=0.0, presort=False, random_state=None,\n",
      "            splitter='best'), 'ada_clf__learning_rate': 1, 'ada_clf__n_estimators': 400, 'feat_sel__k': 11}\n"
     ]
    }
   ],
   "source": [
    "print(G_cv.best_score_, G_cv.best_params_)"
   ]
  },
  {
   "cell_type": "code",
   "execution_count": 72,
   "metadata": {},
   "outputs": [
    {
     "name": "stdout",
     "output_type": "stream",
     "text": [
      "Model saved in  ./Models/\n"
     ]
    }
   ],
   "source": [
    "model_saver(G_cv.best_estimator_, 'ada_clf.pkl')"
   ]
  },
  {
   "cell_type": "markdown",
   "metadata": {},
   "source": [
    "*Boosting: Extreme Gradient Boosting*"
   ]
  },
  {
   "cell_type": "code",
   "execution_count": 73,
   "metadata": {},
   "outputs": [
    {
     "name": "stdout",
     "output_type": "stream",
     "text": [
      "Fitting 5 folds for each of 300 candidates, totalling 1500 fits\n"
     ]
    },
    {
     "name": "stderr",
     "output_type": "stream",
     "text": [
      "[Parallel(n_jobs=-1)]: Using backend LokyBackend with 4 concurrent workers.\n",
      "[Parallel(n_jobs=-1)]: Done  33 tasks      | elapsed:   28.3s\n",
      "[Parallel(n_jobs=-1)]: Done 154 tasks      | elapsed:  2.0min\n",
      "[Parallel(n_jobs=-1)]: Done 357 tasks      | elapsed:  4.6min\n",
      "[Parallel(n_jobs=-1)]: Done 640 tasks      | elapsed:  8.3min\n",
      "[Parallel(n_jobs=-1)]: Done 1005 tasks      | elapsed: 13.0min\n",
      "[Parallel(n_jobs=-1)]: Done 1450 tasks      | elapsed: 19.6min\n",
      "[Parallel(n_jobs=-1)]: Done 1500 out of 1500 | elapsed: 20.3min finished\n"
     ]
    },
    {
     "data": {
      "text/plain": [
       "RandomizedSearchCV(cv=5, error_score='raise-deprecating',\n",
       "          estimator=Pipeline(memory=None,\n",
       "     steps=[('prep', Pipeline(memory=None,\n",
       "     steps=[('feat_add', FeatureAdder(add_family=True, relevant_nb=3)), ('age_imp', CustomAgeImputer(feature_name='Age', group_by_title=True,\n",
       "         imp_func=<function nanmedian at 0x000001C869560B70>)), ('age_bucket_add', AgeBucketAdder(bucket_cap=60, bucket_...\n",
       "       reg_alpha=0, reg_lambda=1, scale_pos_weight=1, seed=None,\n",
       "       silent=True, subsample=1))]),\n",
       "          fit_params=None, iid='warn', n_iter=300, n_jobs=-1,\n",
       "          param_distributions={'xgb_clf__n_estimators': <scipy.stats._distn_infrastructure.rv_frozen object at 0x000001C870CB7DA0>, 'xgb_clf__max_depth': <scipy.stats._distn_infrastructure.rv_frozen object at 0x000001C870CB77F0>, 'xgb_clf__subsample': <scipy.stats._distn_infrastructure.rv_frozen object at 0x0...py.stats._distn_infrastructure.rv_frozen object at 0x000001C870CAB5C0>, 'feat_sel__k': range(8, 15)},\n",
       "          pre_dispatch='2*n_jobs', random_state=42, refit=True,\n",
       "          return_train_score='warn', scoring=None, verbose=2)"
      ]
     },
     "execution_count": 73,
     "metadata": {},
     "output_type": "execute_result"
    }
   ],
   "source": [
    "xgb_clf = xgb.XGBClassifier()\n",
    "full_pipeline = Pipeline([\n",
    "    ('prep', add_imp_pipeline),\n",
    "    ('union', union_pipeline),\n",
    "    ('feat_sel', FinalFeatureSelector()),\n",
    "    ('xgb_clf', xgb_clf)\n",
    "])\n",
    "param_dist = {'xgb_clf__n_estimators': randint(100, 150), \"xgb_clf__max_depth\": randint(2, 7), 'xgb_clf__subsample': uniform(0.6, 0.3),\n",
    "              'xgb_clf__colsammple_bytree': uniform(0.7, 0.3), 'xgb_clf__gamma': expon(0, 5), 'xgb_clf__eta': uniform(0.03, 0.3),\n",
    "              'feat_sel__k': range(8, len(feature_importances)+1)}\n",
    "\n",
    "R_cv = RandomizedSearchCV(full_pipeline, param_distributions=param_dist, n_iter=300, cv=5, verbose=2, n_jobs=-1, random_state=42)\n",
    "R_cv.fit(df_train, y_train)\n"
   ]
  },
  {
   "cell_type": "code",
   "execution_count": 74,
   "metadata": {},
   "outputs": [
    {
     "name": "stdout",
     "output_type": "stream",
     "text": [
      "0.8439955106621774 {'feat_sel__k': 12, 'xgb_clf__colsammple_bytree': 0.8920008900510741, 'xgb_clf__eta': 0.097410353091804, 'xgb_clf__gamma': 0.9923183371506022, 'xgb_clf__max_depth': 4, 'xgb_clf__n_estimators': 104, 'xgb_clf__subsample': 0.6309926871372047}\n"
     ]
    }
   ],
   "source": [
    "print(R_cv.best_score_, R_cv.best_params_)"
   ]
  },
  {
   "cell_type": "markdown",
   "metadata": {},
   "source": [
    "Let's have a quick look at our hyper parameter search space"
   ]
  },
  {
   "cell_type": "code",
   "execution_count": 75,
   "metadata": {},
   "outputs": [
    {
     "data": {
      "image/png": "[encoded data removed]",
      "text/plain": [
       "<Figure size 936x432 with 6 Axes>"
      ]
     },
     "metadata": {},
     "output_type": "display_data"
    }
   ],
   "source": [
    "fig, axarr = plt.subplots(2, 3, figsize=(13, 6))\n",
    "for i in range(2):\n",
    "    for j in range(3):\n",
    "        key = list(R_cv.best_params_.keys())[j + i*j +1] #+1 to skip feat_sel\n",
    "        best_val = R_cv.best_params_[key]\n",
    "        ax = axarr[i, j]\n",
    "        sns.distplot(R_cv.cv_results_['param_'+key].filled().astype(np.float32), ax=ax)\n",
    "        ax.set_title(re.split('__', key)[1])\n",
    "        ax.axvline(x=best_val, c=\"blue\")\n",
    "        ax.legend(['best', 'dist'])\n",
    "plt.tight_layout()\n",
    "plt.show()"
   ]
  },
  {
   "cell_type": "code",
   "execution_count": 76,
   "metadata": {},
   "outputs": [
    {
     "name": "stdout",
     "output_type": "stream",
     "text": [
      "Model saved in  ./Models/\n"
     ]
    }
   ],
   "source": [
    "model_saver(R_cv.best_estimator_, 'xgb_clf.pkl')"
   ]
  },
  {
   "cell_type": "markdown",
   "metadata": {},
   "source": [
    "*Stacking*"
   ]
  },
  {
   "cell_type": "markdown",
   "metadata": {},
   "source": [
    "Let's try to build a singlelayer stacking ensemble"
   ]
  },
  {
   "cell_type": "code",
   "execution_count": 77,
   "metadata": {},
   "outputs": [],
   "source": [
    "trained_models_path = [os.path.join(MODEL_SAVING_PATH, file_name)for file_name in \n",
    "                      ('knn_clf.pkl', 'logit_clf.pkl', 'mlp_clf.pkl', 'rf_clf.pkl', 'rbf_svm_clf.pkl')]\n",
    "tuned_estimators = [(key, joblib.load(key)) for key in trained_models_path]"
   ]
  },
  {
   "cell_type": "code",
   "execution_count": 78,
   "metadata": {},
   "outputs": [
    {
     "name": "stdout",
     "output_type": "stream",
     "text": [
      "\n",
      " Pipeline(memory=None,\n",
      "     steps=[('prep', Pipeline(memory=None,\n",
      "     steps=[('feat_add', FeatureAdder(add_family=True, relevant_nb=3)), ('age_imp', CustomAgeImputer(feature_name='Age', group_by_title=True,\n",
      "         imp_func=<function nanmedian at 0x000001C869560B70>)), ('age_bucket_add', AgeBucketAdder(bucket_cap=60, bucket_...ki',\n",
      "           metric_params=None, n_jobs=None, n_neighbors=8, p=2,\n",
      "           weights='uniform'))])\n",
      "\n",
      " Pipeline(memory=None,\n",
      "     steps=[('prep', Pipeline(memory=None,\n",
      "     steps=[('feat_add', FeatureAdder(add_family=True, relevant_nb=3)), ('age_imp', CustomAgeImputer(feature_name='Age', group_by_title=True,\n",
      "         imp_func=<function nanmedian at 0x000001C869560B70>)), ('age_bucket_add', AgeBucketAdder(bucket_cap=60, bucket_...penalty='l2', random_state=None, solver='warn',\n",
      "          tol=0.0001, verbose=0, warm_start=False))])\n",
      "\n",
      " Pipeline(memory=None,\n",
      "     steps=[('prep', Pipeline(memory=None,\n",
      "     steps=[('feat_add', FeatureAdder(add_family=True, relevant_nb=3)), ('age_imp', CustomAgeImputer(feature_name='Age', group_by_title=True,\n",
      "         imp_func=<function nanmedian at 0x000001C869560B70>)), ('age_bucket_add', AgeBucketAdder(bucket_cap=60, bucket_...=True, solver='adam', tol=0.0001,\n",
      "       validation_fraction=0.1, verbose=False, warm_start=False))])\n"
     ]
    },
    {
     "name": "stderr",
     "output_type": "stream",
     "text": [
      "C:\\Users\\ghare\\Anaconda3\\lib\\site-packages\\sklearn\\externals\\joblib\\externals\\loky\\process_executor.py:706: UserWarning: A worker stopped while some jobs were given to the executor. This can be caused by a too short worker timeout or by a memory leak.\n",
      "  \"timeout or by a memory leak.\", UserWarning\n"
     ]
    },
    {
     "name": "stdout",
     "output_type": "stream",
     "text": [
      "\n",
      " Pipeline(memory=None,\n",
      "     steps=[('prep', Pipeline(memory=None,\n",
      "     steps=[('feat_add', FeatureAdder(add_family=True, relevant_nb=3)), ('age_imp', CustomAgeImputer(feature_name='Age', group_by_title=True,\n",
      "         imp_func=<function nanmedian at 0x000001C869560B70>)), ('age_bucket_add', AgeBucketAdder(bucket_cap=60, bucket_...tors=1000, n_jobs=None, oob_score=False,\n",
      "            random_state=42, verbose=0, warm_start=False))])\n",
      "\n",
      " Pipeline(memory=None,\n",
      "     steps=[('prep', Pipeline(memory=None,\n",
      "     steps=[('feat_add', FeatureAdder(add_family=True, relevant_nb=3)), ('age_imp', CustomAgeImputer(feature_name='Age', group_by_title=True,\n",
      "         imp_func=<function nanmedian at 0x000001C869560B70>)), ('age_bucket_add', AgeBucketAdder(bucket_cap=60, bucket_...bf', max_iter=-1, probability=True, random_state=None,\n",
      "  shrinking=True, tol=0.001, verbose=False))])\n"
     ]
    }
   ],
   "source": [
    "first_layer_predictions = []\n",
    "for tuple in tuned_estimators:\n",
    "    estimator = tuple[1]\n",
    "    print(\"\\n\", estimator)\n",
    "    y_pred = cross_val_predict(estimator, df_train, y_train, method='predict_proba', n_jobs=-1, cv=5)\n",
    "    first_layer_predictions.append(y_pred[:, 1]) #cross val predict return proba for each class \n",
    "\n",
    "    \n"
   ]
  },
  {
   "cell_type": "code",
   "execution_count": 79,
   "metadata": {},
   "outputs": [
    {
     "data": {
      "text/plain": [
       "array([[0.        , 0.05585816, 0.10949213, 0.07344884, 0.17815104],\n",
       "       [1.        , 0.96781561, 0.98793834, 0.993     , 0.88581555],\n",
       "       [0.625     , 0.50862372, 0.33238464, 0.36735851, 0.1780791 ],\n",
       "       ...,\n",
       "       [0.625     , 0.47182458, 0.27934757, 0.31081835, 0.20095701],\n",
       "       [0.625     , 0.58732617, 0.31648037, 0.56822358, 0.20545482],\n",
       "       [0.        , 0.11756442, 0.1012727 , 0.05232193, 0.20507301]])"
      ]
     },
     "execution_count": 0,
     "metadata": {},
     "output_type": "execute_result"
    }
   ],
   "source": [
    "blender_train_set = np.array(first_layer_predictions).T\n",
    "display(blender_train_set)"
   ]
  },
  {
   "cell_type": "code",
   "execution_count": 80,
   "metadata": {},
   "outputs": [
    {
     "data": {
      "text/plain": [
       "RandomForestClassifier(bootstrap=True, class_weight=None, criterion='gini',\n",
       "            max_depth=None, max_features='auto', max_leaf_nodes=None,\n",
       "            min_impurity_decrease=0.0, min_impurity_split=None,\n",
       "            min_samples_leaf=1, min_samples_split=2,\n",
       "            min_weight_fraction_leaf=0.0, n_estimators=1000, n_jobs=-1,\n",
       "            oob_score=True, random_state=42, verbose=0, warm_start=False)"
      ]
     },
     "execution_count": 80,
     "metadata": {},
     "output_type": "execute_result"
    }
   ],
   "source": [
    "rf_blender_clf = RandomForestClassifier(oob_score=True, n_jobs=-1, n_estimators=1000, random_state=42)\n",
    "rf_blender_clf.fit(blender_train_set, y_train)"
   ]
  },
  {
   "cell_type": "code",
   "execution_count": 81,
   "metadata": {},
   "outputs": [
    {
     "name": "stdout",
     "output_type": "stream",
     "text": [
      "0.813692480359147\n"
     ]
    }
   ],
   "source": [
    "print(rf_blender_clf.oob_score_)"
   ]
  },
  {
   "cell_type": "code",
   "execution_count": 82,
   "metadata": {},
   "outputs": [],
   "source": [
    "max_depths = [1, 2, 3]\n",
    "max_features = [3, 4, 5]\n",
    "cv_results = []\n",
    "for max_depth in max_depths:\n",
    "    for max_feature in max_features:\n",
    "        rf_blender_clf = RandomForestClassifier(oob_score=True, n_jobs=-1, n_estimators=1000, random_state=42,\n",
    "                                                max_features=max_feature, max_depth=max_depth)\n",
    "        rf_blender_clf.fit(blender_train_set, y_train)\n",
    "        cv_results.append({\"max_depth\" : max_depth, \"max_features\": max_feature, \"oob_score\" : rf_blender_clf.oob_score_})"
   ]
  },
  {
   "cell_type": "code",
   "execution_count": 83,
   "metadata": {},
   "outputs": [
    {
     "data": {
      "text/html": [
       "<div>\n",
       "<style scoped>\n",
       "    .dataframe tbody tr th:only-of-type {\n",
       "        vertical-align: middle;\n",
       "    }\n",
       "\n",
       "    .dataframe tbody tr th {\n",
       "        vertical-align: top;\n",
       "    }\n",
       "\n",
       "    .dataframe thead th {\n",
       "        text-align: right;\n",
       "    }\n",
       "</style>\n",
       "<table border=\"1\" class=\"dataframe\">\n",
       "  <thead>\n",
       "    <tr style=\"text-align: right;\">\n",
       "      <th></th>\n",
       "      <th>max_depth</th>\n",
       "      <th>max_features</th>\n",
       "      <th>oob_score</th>\n",
       "    </tr>\n",
       "  </thead>\n",
       "  <tbody>\n",
       "    <tr>\n",
       "      <th>2</th>\n",
       "      <td>1</td>\n",
       "      <td>5</td>\n",
       "      <td>0.839506</td>\n",
       "    </tr>\n",
       "    <tr>\n",
       "      <th>1</th>\n",
       "      <td>1</td>\n",
       "      <td>4</td>\n",
       "      <td>0.837262</td>\n",
       "    </tr>\n",
       "    <tr>\n",
       "      <th>8</th>\n",
       "      <td>3</td>\n",
       "      <td>5</td>\n",
       "      <td>0.833895</td>\n",
       "    </tr>\n",
       "    <tr>\n",
       "      <th>6</th>\n",
       "      <td>3</td>\n",
       "      <td>3</td>\n",
       "      <td>0.831650</td>\n",
       "    </tr>\n",
       "    <tr>\n",
       "      <th>7</th>\n",
       "      <td>3</td>\n",
       "      <td>4</td>\n",
       "      <td>0.831650</td>\n",
       "    </tr>\n",
       "    <tr>\n",
       "      <th>3</th>\n",
       "      <td>2</td>\n",
       "      <td>3</td>\n",
       "      <td>0.827160</td>\n",
       "    </tr>\n",
       "    <tr>\n",
       "      <th>5</th>\n",
       "      <td>2</td>\n",
       "      <td>5</td>\n",
       "      <td>0.827160</td>\n",
       "    </tr>\n",
       "    <tr>\n",
       "      <th>0</th>\n",
       "      <td>1</td>\n",
       "      <td>3</td>\n",
       "      <td>0.824916</td>\n",
       "    </tr>\n",
       "    <tr>\n",
       "      <th>4</th>\n",
       "      <td>2</td>\n",
       "      <td>4</td>\n",
       "      <td>0.824916</td>\n",
       "    </tr>\n",
       "  </tbody>\n",
       "</table>\n",
       "</div>"
      ],
      "text/plain": [
       "<div>\n",
       "<style scoped>\n",
       "    .dataframe tbody tr th:only-of-type {\n",
       "        vertical-align: middle;\n",
       "    }\n",
       "\n",
       "    .dataframe tbody tr th {\n",
       "        vertical-align: top;\n",
       "    }\n",
       "\n",
       "    .dataframe thead th {\n",
       "        text-align: right;\n",
       "    }\n",
       "</style>\n",
       "<table border=\"1\" class=\"dataframe\">\n",
       "  <thead>\n",
       "    <tr style=\"text-align: right;\">\n",
       "      <th></th>\n",
       "      <th>max_depth</th>\n",
       "      <th>max_features</th>\n",
       "      <th>oob_score</th>\n",
       "    </tr>\n",
       "  </thead>\n",
       "  <tbody>\n",
       "    <tr>\n",
       "      <th>2</th>\n",
       "      <td>1</td>\n",
       "      <td>5</td>\n",
       "      <td>0.839506</td>\n",
       "    </tr>\n",
       "    <tr>\n",
       "      <th>1</th>\n",
       "      <td>1</td>\n",
       "      <td>4</td>\n",
       "      <td>0.837262</td>\n",
       "    </tr>\n",
       "    <tr>\n",
       "      <th>8</th>\n",
       "      <td>3</td>\n",
       "      <td>5</td>\n",
       "      <td>0.833895</td>\n",
       "    </tr>\n",
       "    <tr>\n",
       "      <th>6</th>\n",
       "      <td>3</td>\n",
       "      <td>3</td>\n",
       "      <td>0.831650</td>\n",
       "    </tr>\n",
       "    <tr>\n",
       "      <th>7</th>\n",
       "      <td>3</td>\n",
       "      <td>4</td>\n",
       "      <td>0.831650</td>\n",
       "    </tr>\n",
       "    <tr>\n",
       "      <th>3</th>\n",
       "      <td>2</td>\n",
       "      <td>3</td>\n",
       "      <td>0.827160</td>\n",
       "    </tr>\n",
       "    <tr>\n",
       "      <th>5</th>\n",
       "      <td>2</td>\n",
       "      <td>5</td>\n",
       "      <td>0.827160</td>\n",
       "    </tr>\n",
       "    <tr>\n",
       "      <th>0</th>\n",
       "      <td>1</td>\n",
       "      <td>3</td>\n",
       "      <td>0.824916</td>\n",
       "    </tr>\n",
       "    <tr>\n",
       "      <th>4</th>\n",
       "      <td>2</td>\n",
       "      <td>4</td>\n",
       "      <td>0.824916</td>\n",
       "    </tr>\n",
       "  </tbody>\n",
       "</table>\n",
       "</div>"
      ]
     },
     "execution_count": 0,
     "metadata": {},
     "output_type": "execute_result"
    }
   ],
   "source": [
    "cv_df = pd.DataFrame(cv_results)\n",
    "cv_df.sort_values(by='oob_score', ascending=False, inplace=True)\n",
    "display(cv_df)"
   ]
  },
  {
   "cell_type": "code",
   "execution_count": 84,
   "metadata": {},
   "outputs": [
    {
     "name": "stdout",
     "output_type": "stream",
     "text": [
      "Model saved in  ./Models/\n"
     ]
    }
   ],
   "source": [
    "rf_blender_clf = RandomForestClassifier(oob_score=True, n_jobs=-1, n_estimators=1000, random_state=42, max_depth=1, max_features=5)\n",
    "rf_blender_clf.fit(blender_train_set, y_train)\n",
    "model_saver(rf_blender_clf, 'rf_blender_clf.pkl')"
   ]
  },
  {
   "cell_type": "code",
   "execution_count": 85,
   "metadata": {},
   "outputs": [
    {
     "name": "stdout",
     "output_type": "stream",
     "text": [
      "[(0.608, 'rf_clf'), (0.335, 'mlp_clf'), (0.032, 'rbf_svm_clf'), (0.02, 'knn_clf'), (0.005, 'logit_clf')]\n"
     ]
    }
   ],
   "source": [
    "feature_importances = rf_blender_clf.feature_importances_ \n",
    "print(sorted(list(zip(feature_importances, ['knn_clf', 'logit_clf', 'mlp_clf', 'rf_clf', 'rbf_svm_clf'])), reverse=True))"
   ]
  },
  {
   "cell_type": "markdown",
   "metadata": {},
   "source": [
    "### **Predicting test set & preparing submissions**"
   ]
  },
  {
   "cell_type": "code",
   "execution_count": 86,
   "metadata": {},
   "outputs": [],
   "source": [
    "y_pred = R_cv.predict(df_test)\n"
   ]
  },
  {
   "cell_type": "code",
   "execution_count": 87,
   "metadata": {},
   "outputs": [],
   "source": [
    "id_values = df_test.index.values"
   ]
  },
  {
   "cell_type": "code",
   "execution_count": 88,
   "metadata": {},
   "outputs": [],
   "source": [
    "def Kaggle_sub(y_values, id_key='PassengerId', id_values=id_values, y_key='Survived', save_path='./Submissions', name='final_sub'):\n",
    "    df_sub = pd.DataFrame({id_key: id_values, y_key: y_values})\n",
    "    os.makedirs(save_path, exist_ok=True)\n",
    "    df_sub.to_csv(os.path.join(save_path, name+'.csv'), index=False)\n",
    "    print('{} was saved at {}'.format(name, save_path))\n"
   ]
  },
  {
   "cell_type": "code",
   "execution_count": 89,
   "metadata": {},
   "outputs": [
    {
     "name": "stdout",
     "output_type": "stream",
     "text": [
      "xgb_clf was saved at ./Submissions\n"
     ]
    }
   ],
   "source": [
    "Kaggle_sub(y_values=y_pred, name='xgb_clf')"
   ]
  },
  {
   "cell_type": "code",
   "execution_count": 90,
   "metadata": {},
   "outputs": [],
   "source": [
    "model_file_paths = [os.path.join(MODEL_SAVING_PATH, file) for file in os.listdir(MODEL_SAVING_PATH)]\n",
    "model_names = [re.search('/\\w*/(.*?)\\.pkl', file_path).group(1) for file_path in model_file_paths]\n",
    "model_file_paths.remove('./Models/rf_blender_clf.pkl')#need to prepare df_test prior to predictions\n"
   ]
  },
  {
   "cell_type": "code",
   "execution_count": 91,
   "metadata": {},
   "outputs": [
    {
     "name": "stdout",
     "output_type": "stream",
     "text": [
      "ada_clf was saved at ./Submissions\n",
      "ext_tr_clf was saved at ./Submissions\n",
      "hard_voting_clf was saved at ./Submissions\n",
      "knn_clf was saved at ./Submissions\n",
      "lin_svm_clf was saved at ./Submissions\n",
      "logit_clf was saved at ./Submissions\n",
      "mlp_clf was saved at ./Submissions\n",
      "rbf_svm_clf was saved at ./Submissions\n",
      "rf_blender_clf was saved at ./Submissions\n",
      "rf_clf was saved at ./Submissions\n"
     ]
    }
   ],
   "source": [
    "for i in range(len(model_file_paths)):\n",
    "    model = joblib.load(model_file_paths[i])\n",
    "    y_pred = model.predict(df_test)\n",
    "    Kaggle_sub(name=model_names[i], y_values=y_pred)"
   ]
  },
  {
   "cell_type": "markdown",
   "metadata": {},
   "source": [
    "Let's finally get predictions on test set for the rf blender trained earlier."
   ]
  },
  {
   "cell_type": "code",
   "execution_count": 92,
   "metadata": {},
   "outputs": [
    {
     "name": "stdout",
     "output_type": "stream",
     "text": [
      "\n",
      " Pipeline(memory=None,\n",
      "     steps=[('prep', Pipeline(memory=None,\n",
      "     steps=[('feat_add', FeatureAdder(add_family=True, relevant_nb=3)), ('age_imp', CustomAgeImputer(feature_name='Age', group_by_title=True,\n",
      "         imp_func=<function nanmedian at 0x000001C869560B70>)), ('age_bucket_add', AgeBucketAdder(bucket_cap=60, bucket_...ki',\n",
      "           metric_params=None, n_jobs=None, n_neighbors=8, p=2,\n",
      "           weights='uniform'))])\n",
      "\n",
      " Pipeline(memory=None,\n",
      "     steps=[('prep', Pipeline(memory=None,\n",
      "     steps=[('feat_add', FeatureAdder(add_family=True, relevant_nb=3)), ('age_imp', CustomAgeImputer(feature_name='Age', group_by_title=True,\n",
      "         imp_func=<function nanmedian at 0x000001C869560B70>)), ('age_bucket_add', AgeBucketAdder(bucket_cap=60, bucket_...penalty='l2', random_state=None, solver='warn',\n",
      "          tol=0.0001, verbose=0, warm_start=False))])\n",
      "\n",
      " Pipeline(memory=None,\n",
      "     steps=[('prep', Pipeline(memory=None,\n",
      "     steps=[('feat_add', FeatureAdder(add_family=True, relevant_nb=3)), ('age_imp', CustomAgeImputer(feature_name='Age', group_by_title=True,\n",
      "         imp_func=<function nanmedian at 0x000001C869560B70>)), ('age_bucket_add', AgeBucketAdder(bucket_cap=60, bucket_...=True, solver='adam', tol=0.0001,\n",
      "       validation_fraction=0.1, verbose=False, warm_start=False))])\n",
      "\n",
      " Pipeline(memory=None,\n",
      "     steps=[('prep', Pipeline(memory=None,\n",
      "     steps=[('feat_add', FeatureAdder(add_family=True, relevant_nb=3)), ('age_imp', CustomAgeImputer(feature_name='Age', group_by_title=True,\n",
      "         imp_func=<function nanmedian at 0x000001C869560B70>)), ('age_bucket_add', AgeBucketAdder(bucket_cap=60, bucket_...tors=1000, n_jobs=None, oob_score=False,\n",
      "            random_state=42, verbose=0, warm_start=False))])\n",
      "\n",
      " Pipeline(memory=None,\n",
      "     steps=[('prep', Pipeline(memory=None,\n",
      "     steps=[('feat_add', FeatureAdder(add_family=True, relevant_nb=3)), ('age_imp', CustomAgeImputer(feature_name='Age', group_by_title=True,\n",
      "         imp_func=<function nanmedian at 0x000001C869560B70>)), ('age_bucket_add', AgeBucketAdder(bucket_cap=60, bucket_...bf', max_iter=-1, probability=True, random_state=None,\n",
      "  shrinking=True, tol=0.001, verbose=False))])\n"
     ]
    }
   ],
   "source": [
    "first_layer_predictions_test = []\n",
    "for tuple in tuned_estimators:\n",
    "    estimator = tuple[1]\n",
    "    print(\"\\n\", estimator)\n",
    "    y_pred = estimator.predict_proba(df_test)\n",
    "    first_layer_predictions_test.append(y_pred[:, 1]) #cross val predict return proba for each class \n"
   ]
  },
  {
   "cell_type": "code",
   "execution_count": 93,
   "metadata": {},
   "outputs": [
    {
     "data": {
      "text/plain": [
       "array([[0.125     , 0.0973147 , 0.11533647, 0.09808368, 0.18084736],\n",
       "       [0.875     , 0.39042611, 0.58902918, 0.41912481, 0.31562791],\n",
       "       [0.        , 0.16138245, 0.14728242, 0.1249521 , 0.18077995],\n",
       "       ...,\n",
       "       [0.        , 0.0639328 , 0.11133759, 0.04425423, 0.18083837],\n",
       "       [0.25      , 0.0639633 , 0.10824612, 0.12299177, 0.18084209],\n",
       "       [0.5       , 0.59787291, 0.48131907, 0.3835006 , 0.42147026]])"
      ]
     },
     "execution_count": 0,
     "metadata": {},
     "output_type": "execute_result"
    }
   ],
   "source": [
    "blender_test_set = np.array(first_layer_predictions_test).T\n",
    "display(blender_test_set)"
   ]
  },
  {
   "cell_type": "code",
   "execution_count": 94,
   "metadata": {},
   "outputs": [
    {
     "name": "stdout",
     "output_type": "stream",
     "text": [
      "rf_blender_clf was saved at ./Submissions\n"
     ]
    }
   ],
   "source": [
    "y_pred = rf_blender_clf.predict(blender_test_set)\n",
    "Kaggle_sub(y_values=y_pred, name='rf_blender_clf')\n"
   ]
  }
 ],
 "metadata": {
  "kernelspec": {
   "display_name": "Python 3",
   "language": "python",
   "name": "python3"
  },
  "language_info": {
   "codemirror_mode": {
    "name": "ipython",
    "version": 3
   },
   "file_extension": ".py",
   "mimetype": "text/x-python",
   "name": "python",
   "nbconvert_exporter": "python",
   "pygments_lexer": "ipython3",
   "version": "3.7.3"
  }
 },
 "nbformat": 4,
 "nbformat_minor": 1
}
