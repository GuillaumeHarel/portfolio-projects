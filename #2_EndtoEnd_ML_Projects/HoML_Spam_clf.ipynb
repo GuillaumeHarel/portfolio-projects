{
 "cells": [
  {
   "cell_type": "markdown",
   "metadata": {
    "collapsed": true
   },
   "source": [
    "# Spam Classifier"
   ]
  },
  {
   "cell_type": "markdown",
   "metadata": {},
   "source": [
    "### **Exercise : Build a spam classifier with a fair trade-off between precision and recall**"
   ]
  },
  {
   "cell_type": "markdown",
   "metadata": {},
   "source": [
    "From A. Guéron, \"Hands-On Machine Learning with Scikit-Learn & TensorFlow\", O'Reilly, 2017.\n",
    "<br>\n",
    "Chapter 3 - Classification. Notebook of the author available \n",
    "[here](https://github.com/ageron/handson-ml/blob/master/03_classification.ipynb)"
   ]
  },
  {
   "cell_type": "markdown",
   "metadata": {},
   "source": [
    "#### *Key skills* : Text analysis, bag of words, regular expression, ntlk, binary classification**"
   ]
  },
  {
   "cell_type": "markdown",
   "metadata": {},
   "source": [
    "### **Set up**"
   ]
  },
  {
   "cell_type": "markdown",
   "metadata": {},
   "source": [
    "#### **Importing librairies**"
   ]
  },
  {
   "cell_type": "code",
   "execution_count": 1,
   "metadata": {},
   "outputs": [
    {
     "name": "stderr",
     "output_type": "stream",
     "text": [
      "[nltk_data] Downloading package punkt to\n",
      "[nltk_data]     C:\\Users\\ghare\\AppData\\Roaming\\nltk_data...\n",
      "[nltk_data]   Package punkt is already up-to-date!\n",
      "[nltk_data] Downloading package wordnet to\n",
      "[nltk_data]     C:\\Users\\ghare\\AppData\\Roaming\\nltk_data...\n",
      "[nltk_data]   Package wordnet is already up-to-date!\n"
     ]
    }
   ],
   "source": [
    "import sys\n",
    "import os\n",
    "import tarfile\n",
    "from six.moves import urllib\n",
    "import re\n",
    "\n",
    "import numpy as np\n",
    "import pandas as pd\n",
    "import seaborn as sns\n",
    "import matplotlib\n",
    "import matplotlib.pyplot as plt\n",
    "%matplotlib inline\n",
    "from IPython.display import display #to have nice dataframe in Jupyter notebook\n",
    "\n",
    "import sklearn\n",
    "from sklearn.feature_extraction.text import CountVectorizer, TfidfTransformer\n",
    "from sklearn.linear_model import SGDClassifier, LogisticRegression\n",
    "from sklearn.ensemble import RandomForestClassifier\n",
    "from sklearn.neighbors import KNeighborsClassifier\n",
    "from sklearn.naive_bayes import BernoulliNB, MultinomialNB\n",
    "from sklearn.svm import SVC, LinearSVC\n",
    "from sklearn.model_selection import cross_val_predict, cross_val_score, GridSearchCV, train_test_split\n",
    "from sklearn.pipeline import Pipeline\n",
    "from sklearn.base import BaseEstimator, TransformerMixin\n",
    "from sklearn.metrics import precision_recall_curve, recall_score, precision_score, accuracy_score\n",
    "\n",
    "import nltk\n",
    "nltk.download('punkt')\n",
    "nltk.download('wordnet')\n",
    "from nltk import word_tokenize          \n",
    "from nltk.stem import WordNetLemmatizer \n",
    "from nltk.stem.snowball import EnglishStemmer\n",
    "\n",
    "import warnings"
   ]
  },
  {
   "cell_type": "code",
   "execution_count": 2,
   "metadata": {},
   "outputs": [
    {
     "name": "stdout",
     "output_type": "stream",
     "text": [
      "Python interpreter :  3.7.3 (default, Apr 24 2019, 15:29:51) [MSC v.1915 64 bit (AMD64)]\n",
      "Numpy version:  1.16.3\n",
      "Pandas version:  0.24.2\n",
      "Seaborn version:  0.9.0\n",
      "Matplotlib version:  3.0.3\n",
      "Scikit-learn version:  0.20.3\n",
      "NTLK version:  3.4.1\n"
     ]
    }
   ],
   "source": [
    "print(\"Python interpreter : \", sys.version)\n",
    "print(\"Numpy version: \", np.__version__)\n",
    "print(\"Pandas version: \", pd.__version__)\n",
    "print(\"Seaborn version: \", sns.__version__)\n",
    "print(\"Matplotlib version: \", matplotlib.__version__)\n",
    "print(\"Scikit-learn version: \", sklearn.__version__)\n",
    "print(\"NTLK version: \", nltk.__version__)"
   ]
  },
  {
   "cell_type": "code",
   "execution_count": 3,
   "metadata": {},
   "outputs": [],
   "source": [
    "plt.style.use('ggplot')\n",
    "pd.set_option('display.width', 100)\n",
    "pd.set_option('display.max_columns', 30)\n",
    "pd.set_option('display.max_colwidth', 500)\n",
    "warnings.simplefilter(\"ignore\", category=FutureWarning)\n",
    "MODEL_SAVING_PATH = \"./Models/\""
   ]
  },
  {
   "cell_type": "markdown",
   "metadata": {},
   "source": [
    "#### **Downloading the data**"
   ]
  },
  {
   "cell_type": "code",
   "execution_count": 4,
   "metadata": {},
   "outputs": [],
   "source": [
    "DOWNLOAD_ROOT = 'https://spamassassin.apache.org/old/publiccorpus/'\n",
    "FILE_NAMES = ['20030228_easy_ham.tar.bz2', \n",
    "              '20030228_easy_ham_2.tar.bz2', \n",
    "              '20030228_hard_ham.tar.bz2',\n",
    "              '20030228_spam.tar.bz2',\n",
    "              '20050311_spam_2.tar.bz2']\n",
    "SPAM_PATH = os.path.join('datasets', 'spam')"
   ]
  },
  {
   "cell_type": "code",
   "execution_count": 5,
   "metadata": {},
   "outputs": [],
   "source": [
    "def fetch_spam_data(dl_root=DOWNLOAD_ROOT, file_path=SPAM_PATH):\n",
    "    if not os.path.isdir(file_path):\n",
    "        os.makedirs(file_path)\n",
    "    for file_name in FILE_NAMES:\n",
    "        dl_url = dl_root + file_name\n",
    "        bz2_path = os.path.join(file_path, file_name)\n",
    "        urllib.request.urlretrieve(dl_url, bz2_path)\n",
    "        print(\"{} has been successfully donwloaded on {}\".format(file_name, dl_root))\n",
    "        with tarfile.open(bz2_path, mode='r:bz2') as bz2_file:\n",
    "            bz2_file.extractall(path=file_path)\n",
    "        print(\"It has been successfully unzipped in {}\".format(file_path))\n",
    "        print('~-'*30)"
   ]
  },
  {
   "cell_type": "code",
   "execution_count": 6,
   "metadata": {},
   "outputs": [
    {
     "name": "stdout",
     "output_type": "stream",
     "text": [
      "20030228_easy_ham.tar.bz2 has been successfully donwloaded on https://spamassassin.apache.org/old/publiccorpus/\n",
      "It has been successfully unzipped in datasets\\spam\n",
      "~-~-~-~-~-~-~-~-~-~-~-~-~-~-~-~-~-~-~-~-~-~-~-~-~-~-~-~-~-~-\n",
      "20030228_easy_ham_2.tar.bz2 has been successfully donwloaded on https://spamassassin.apache.org/old/publiccorpus/\n",
      "It has been successfully unzipped in datasets\\spam\n",
      "~-~-~-~-~-~-~-~-~-~-~-~-~-~-~-~-~-~-~-~-~-~-~-~-~-~-~-~-~-~-\n",
      "20030228_hard_ham.tar.bz2 has been successfully donwloaded on https://spamassassin.apache.org/old/publiccorpus/\n",
      "It has been successfully unzipped in datasets\\spam\n",
      "~-~-~-~-~-~-~-~-~-~-~-~-~-~-~-~-~-~-~-~-~-~-~-~-~-~-~-~-~-~-\n",
      "20030228_spam.tar.bz2 has been successfully donwloaded on https://spamassassin.apache.org/old/publiccorpus/\n",
      "It has been successfully unzipped in datasets\\spam\n",
      "~-~-~-~-~-~-~-~-~-~-~-~-~-~-~-~-~-~-~-~-~-~-~-~-~-~-~-~-~-~-\n",
      "20050311_spam_2.tar.bz2 has been successfully donwloaded on https://spamassassin.apache.org/old/publiccorpus/\n",
      "It has been successfully unzipped in datasets\\spam\n",
      "~-~-~-~-~-~-~-~-~-~-~-~-~-~-~-~-~-~-~-~-~-~-~-~-~-~-~-~-~-~-\n"
     ]
    }
   ],
   "source": [
    "fetch_spam_data()"
   ]
  },
  {
   "cell_type": "markdown",
   "metadata": {},
   "source": [
    "More info on the data could be found in the readme note [here](https://spamassassin.apache.org/old/publiccorpus/readme.html)"
   ]
  },
  {
   "cell_type": "code",
   "execution_count": 7,
   "metadata": {},
   "outputs": [
    {
     "name": "stdout",
     "output_type": "stream",
     "text": [
      "dict_keys(['easy_ham', 'easy_ham_2', 'hard_ham', 'spam', 'spam_2'])\n"
     ]
    }
   ],
   "source": [
    "email_type = ['easy_ham', 'easy_ham_2', 'hard_ham', 'spam', 'spam_2']\n",
    "emails_d = {}\n",
    "for type_ in email_type:\n",
    "    email_names = os.listdir(os.path.join(SPAM_PATH, type_))\n",
    "    email_names.remove('cmds')\n",
    "    emails_d[type_] = email_names\n",
    "print(emails_d.keys())"
   ]
  },
  {
   "cell_type": "code",
   "execution_count": 8,
   "metadata": {},
   "outputs": [],
   "source": [
    "def read_email(email_path, email_name, encoding='utf8'):\n",
    "    with open(os.path.join(email_path, email_name), 'rb') as file: #rb, issues with specific char\n",
    "        email = file.read().decode(encoding, errors='replace') #back to utf-8 and managing errors\n",
    "    return email\n",
    "     \n",
    "some_email = read_email(email_path=os.path.join(SPAM_PATH, 'easy_ham'), \n",
    "                        email_name='00002.9c4069e25e1ef370c078db7ee85ff9ac')\n",
    "some_email_encoded = some_email.encode()"
   ]
  },
  {
   "cell_type": "code",
   "execution_count": 9,
   "metadata": {},
   "outputs": [
    {
     "name": "stdout",
     "output_type": "stream",
     "text": [
      "b'From Steve_Burt@cursor-system.com  Thu Aug 22 12:46:39 2002\\nReturn-Path: <Steve_Burt@cursor-system.com>\\nDelivered-To: zzzz@localhost.netnoteinc.com\\nReceived: from localhost (localhost [127.0.0.1])\\n\\tby phobos.labs.netnoteinc.com (Postfix) with ESMTP id BE12E43C34\\n\\tfor <zzzz@localhost>; Thu, 22 Aug 2002 07:46:38 -0400 (EDT)\\nReceived: from phobos [127.0.0.1]\\n\\tby localhost with IMAP (fetchmail-5.9.0)\\n\\tfor zzzz@localhost (single-drop); Thu, 22 Aug 2002 12:46:38 +0100 (IST)\\nReceived: from n20.grp.scd.yahoo.com (n20.grp.scd.yahoo.com\\n    [66.218.66.76]) by dogma.slashnull.org (8.11.6/8.11.6) with SMTP id\\n    g7MBkTZ05087 for <zzzz@spamassassin.taint.org>; Thu, 22 Aug 2002 12:46:29 +0100\\nX-Egroups-Return: sentto-2242572-52726-1030016790-zzzz=spamassassin.taint.org@returns.groups.yahoo.com\\nReceived: from [66.218.67.196] by n20.grp.scd.yahoo.com with NNFMP;\\n    22 Aug 2002 11:46:30 -0000\\nX-Sender: steve.burt@cursor-system.com\\nX-Apparently-To: zzzzteana@yahoogroups.com\\nReceived: (EGP: mail-8_1_0_1); 22 Aug 2002 11:46:29 -0000\\nReceived: (qmail 11764 invoked from network); 22 Aug 2002 11:46:29 -0000\\nReceived: from unknown (66.218.66.217) by m3.grp.scd.yahoo.com with QMQP;\\n    22 Aug 2002 11:46:29 -0000\\nReceived: from unknown (HELO mailgateway.cursor-system.com) (62.189.7.27)\\n    by mta2.grp.scd.yahoo.com with SMTP; 22 Aug 2002 11:46:29 -0000\\nReceived: from exchange1.cps.local (unverified) by\\n    mailgateway.cursor-system.com (Content Technologies SMTPRS 4.2.10) with\\n    ESMTP id <T5cde81f695ac1d100407d@mailgateway.cursor-system.com> for\\n    <forteana@yahoogroups.com>; Thu, 22 Aug 2002 13:14:10 +0100\\nReceived: by exchange1.cps.local with Internet Mail Service (5.5.2653.19)\\n    id <PXX6AT23>; Thu, 22 Aug 2002 12:46:27 +0100\\nMessage-Id: <5EC2AD6D2314D14FB64BDA287D25D9EF12B4F6@exchange1.cps.local>\\nTo: \"\\'zzzzteana@yahoogroups.com\\'\" <zzzzteana@yahoogroups.com>\\nX-Mailer: Internet Mail Service (5.5.2653.19)\\nX-Egroups-From: Steve Burt <steve.burt@cursor-system.com>\\nFrom: Steve Burt <Steve_Burt@cursor-system.com>\\nX-Yahoo-Profile: pyruse\\nMIME-Version: 1.0\\nMailing-List: list zzzzteana@yahoogroups.com; contact\\n    forteana-owner@yahoogroups.com\\nDelivered-To: mailing list zzzzteana@yahoogroups.com\\nPrecedence: bulk\\nList-Unsubscribe: <mailto:zzzzteana-unsubscribe@yahoogroups.com>\\nDate: Thu, 22 Aug 2002 12:46:18 +0100\\nSubject: [zzzzteana] RE: Alexander\\nReply-To: zzzzteana@yahoogroups.com\\nContent-Type: text/plain; charset=US-ASCII\\nContent-Transfer-Encoding: 7bit\\n\\nMartin A posted:\\nTassos Papadopoulos, the Greek sculptor behind the plan, judged that the\\n limestone of Mount Kerdylio, 70 miles east of Salonika and not far from the\\n Mount Athos monastic community, was ideal for the patriotic sculpture. \\n \\n As well as Alexander\\'s granite features, 240 ft high and 170 ft wide, a\\n museum, a restored amphitheatre and car park for admiring crowds are\\nplanned\\n---------------------\\nSo is this mountain limestone or granite?\\nIf it\\'s limestone, it\\'ll weather pretty fast.\\n\\n------------------------ Yahoo! Groups Sponsor ---------------------~-->\\n4 DVDs Free +s&p Join Now\\nhttp://us.click.yahoo.com/pt6YBB/NXiEAA/mG3HAA/7gSolB/TM\\n---------------------------------------------------------------------~->\\n\\nTo unsubscribe from this group, send an email to:\\nforteana-unsubscribe@egroups.com\\n\\n \\n\\nYour use of Yahoo! Groups is subject to http://docs.yahoo.com/info/terms/ \\n\\n\\n\\n'\n"
     ]
    }
   ],
   "source": [
    "print(some_email_encoded)"
   ]
  },
  {
   "cell_type": "code",
   "execution_count": 10,
   "metadata": {},
   "outputs": [
    {
     "name": "stdout",
     "output_type": "stream",
     "text": [
      "From Steve_Burt@cursor-system.com  Thu Aug 22 12:46:39 2002\n",
      "Return-Path: <Steve_Burt@cursor-system.com>\n",
      "Delivered-To: zzzz@localhost.netnoteinc.com\n",
      "Received: from localhost (localhost [127.0.0.1])\n",
      "\tby phobos.labs.netnoteinc.com (Postfix) with ESMTP id BE12E43C34\n",
      "\tfor <zzzz@localhost>; Thu, 22 Aug 2002 07:46:38 -0400 (EDT)\n",
      "Received: from phobos [127.0.0.1]\n",
      "\tby localhost with IMAP (fetchmail-5.9.0)\n",
      "\tfor zzzz@localhost (single-drop); Thu, 22 Aug 2002 12:46:38 +0100 (IST)\n",
      "Received: from n20.grp.scd.yahoo.com (n20.grp.scd.yahoo.com\n",
      "    [66.218.66.76]) by dogma.slashnull.org (8.11.6/8.11.6) with SMTP id\n",
      "    g7MBkTZ05087 for <zzzz@spamassassin.taint.org>; Thu, 22 Aug 2002 12:46:29 +0100\n",
      "X-Egroups-Return: sentto-2242572-52726-1030016790-zzzz=spamassassin.taint.org@returns.groups.yahoo.com\n",
      "Received: from [66.218.67.196] by n20.grp.scd.yahoo.com with NNFMP;\n",
      "    22 Aug 2002 11:46:30 -0000\n",
      "X-Sender: steve.burt@cursor-system.com\n",
      "X-Apparently-To: zzzzteana@yahoogroups.com\n",
      "Received: (EGP: mail-8_1_0_1); 22 Aug 2002 11:46:29 -0000\n",
      "Received: (qmail 11764 invoked from network); 22 Aug 2002 11:46:29 -0000\n",
      "Received: from unknown (66.218.66.217) by m3.grp.scd.yahoo.com with QMQP;\n",
      "    22 Aug 2002 11:46:29 -0000\n",
      "Received: from unknown (HELO mailgateway.cursor-system.com) (62.189.7.27)\n",
      "    by mta2.grp.scd.yahoo.com with SMTP; 22 Aug 2002 11:46:29 -0000\n",
      "Received: from exchange1.cps.local (unverified) by\n",
      "    mailgateway.cursor-system.com (Content Technologies SMTPRS 4.2.10) with\n",
      "    ESMTP id <T5cde81f695ac1d100407d@mailgateway.cursor-system.com> for\n",
      "    <forteana@yahoogroups.com>; Thu, 22 Aug 2002 13:14:10 +0100\n",
      "Received: by exchange1.cps.local with Internet Mail Service (5.5.2653.19)\n",
      "    id <PXX6AT23>; Thu, 22 Aug 2002 12:46:27 +0100\n",
      "Message-Id: <5EC2AD6D2314D14FB64BDA287D25D9EF12B4F6@exchange1.cps.local>\n",
      "To: \"'zzzzteana@yahoogroups.com'\" <zzzzteana@yahoogroups.com>\n",
      "X-Mailer: Internet Mail Service (5.5.2653.19)\n",
      "X-Egroups-From: Steve Burt <steve.burt@cursor-system.com>\n",
      "From: Steve Burt <Steve_Burt@cursor-system.com>\n",
      "X-Yahoo-Profile: pyruse\n",
      "MIME-Version: 1.0\n",
      "Mailing-List: list zzzzteana@yahoogroups.com; contact\n",
      "    forteana-owner@yahoogroups.com\n",
      "Delivered-To: mailing list zzzzteana@yahoogroups.com\n",
      "Precedence: bulk\n",
      "List-Unsubscribe: <mailto:zzzzteana-unsubscribe@yahoogroups.com>\n",
      "Date: Thu, 22 Aug 2002 12:46:18 +0100\n",
      "Subject: [zzzzteana] RE: Alexander\n",
      "Reply-To: zzzzteana@yahoogroups.com\n",
      "Content-Type: text/plain; charset=US-ASCII\n",
      "Content-Transfer-Encoding: 7bit\n",
      "\n",
      "Martin A posted:\n",
      "Tassos Papadopoulos, the Greek sculptor behind the plan, judged that the\n",
      " limestone of Mount Kerdylio, 70 miles east of Salonika and not far from the\n",
      " Mount Athos monastic community, was ideal for the patriotic sculpture. \n",
      " \n",
      " As well as Alexander's granite features, 240 ft high and 170 ft wide, a\n",
      " museum, a restored amphitheatre and car park for admiring crowds are\n",
      "planned\n",
      "---------------------\n",
      "So is this mountain limestone or granite?\n",
      "If it's limestone, it'll weather pretty fast.\n",
      "\n",
      "------------------------ Yahoo! Groups Sponsor ---------------------~-->\n",
      "4 DVDs Free +s&p Join Now\n",
      "http://us.click.yahoo.com/pt6YBB/NXiEAA/mG3HAA/7gSolB/TM\n",
      "---------------------------------------------------------------------~->\n",
      "\n",
      "To unsubscribe from this group, send an email to:\n",
      "forteana-unsubscribe@egroups.com\n",
      "\n",
      " \n",
      "\n",
      "Your use of Yahoo! Groups is subject to http://docs.yahoo.com/info/terms/ \n",
      "\n",
      "\n",
      "\n",
      "\n"
     ]
    }
   ],
   "source": [
    "print(some_email)"
   ]
  },
  {
   "cell_type": "markdown",
   "metadata": {},
   "source": [
    "#### **Reading and preparing the data**"
   ]
  },
  {
   "cell_type": "code",
   "execution_count": 11,
   "metadata": {},
   "outputs": [
    {
     "name": "stdout",
     "output_type": "stream",
     "text": [
      "<class 'pandas.core.frame.DataFrame'>\n",
      "RangeIndex: 6046 entries, 0 to 6045\n",
      "Data columns (total 3 columns):\n",
      "email    6046 non-null object\n",
      "type     6046 non-null object\n",
      "spam     6046 non-null int64\n",
      "dtypes: int64(1), object(2)\n",
      "memory usage: 141.8+ KB\n",
      "None\n"
     ]
    }
   ],
   "source": [
    "df = pd.DataFrame(columns=['email', 'type'])\n",
    "for k, v in emails_d.items():\n",
    "    email_path = os.path.join(SPAM_PATH, k)\n",
    "    emails_l = [read_email(email_path, name) for name in v]\n",
    "    sub_df = pd.DataFrame({'email': emails_l})\n",
    "    sub_df['type'] = k\n",
    "    df = df.append(sub_df)\n",
    "df['spam'] = df['type'].map(lambda x: 1 if x in('spam', 'spam_2') else 0) \n",
    "df = df.reset_index(drop=True)\n",
    "print(df.info())"
   ]
  },
  {
   "cell_type": "markdown",
   "metadata": {},
   "source": [
    "### **Short EDA**"
   ]
  },
  {
   "cell_type": "code",
   "execution_count": 12,
   "metadata": {},
   "outputs": [
    {
     "data": {
      "text/html": [
       "<div>\n",
       "<style scoped>\n",
       "    .dataframe tbody tr th:only-of-type {\n",
       "        vertical-align: middle;\n",
       "    }\n",
       "\n",
       "    .dataframe tbody tr th {\n",
       "        vertical-align: top;\n",
       "    }\n",
       "\n",
       "    .dataframe thead th {\n",
       "        text-align: right;\n",
       "    }\n",
       "</style>\n",
       "<table border=\"1\" class=\"dataframe\">\n",
       "  <thead>\n",
       "    <tr style=\"text-align: right;\">\n",
       "      <th></th>\n",
       "      <th>email</th>\n",
       "      <th>type</th>\n",
       "      <th>spam</th>\n",
       "    </tr>\n",
       "  </thead>\n",
       "  <tbody>\n",
       "    <tr>\n",
       "      <th>0</th>\n",
       "      <td>From exmh-workers-admin@redhat.com  Thu Aug 22 12:36:23 2002\\nReturn-Path: &lt;exmh-workers-admin@spamassassin.taint.org&gt;\\nDelivered-To: zzzz@localhost.netnoteinc.com\\nReceived: from localhost (localhost [127.0.0.1])\\n\\tby phobos.labs.netnoteinc.com (Postfix) with ESMTP id D03E543C36\\n\\tfor &lt;zzzz@localhost&gt;; Thu, 22 Aug 2002 07:36:16 -0400 (EDT)\\nReceived: from phobos [127.0.0.1]\\n\\tby localhost with IMAP (fetchmail-5.9.0)\\n\\tfor zzzz@localhost (single-drop); Thu, 22 Aug 2002 12:36:16 +0100 (IS...</td>\n",
       "      <td>easy_ham</td>\n",
       "      <td>0</td>\n",
       "    </tr>\n",
       "    <tr>\n",
       "      <th>1</th>\n",
       "      <td>From Steve_Burt@cursor-system.com  Thu Aug 22 12:46:39 2002\\nReturn-Path: &lt;Steve_Burt@cursor-system.com&gt;\\nDelivered-To: zzzz@localhost.netnoteinc.com\\nReceived: from localhost (localhost [127.0.0.1])\\n\\tby phobos.labs.netnoteinc.com (Postfix) with ESMTP id BE12E43C34\\n\\tfor &lt;zzzz@localhost&gt;; Thu, 22 Aug 2002 07:46:38 -0400 (EDT)\\nReceived: from phobos [127.0.0.1]\\n\\tby localhost with IMAP (fetchmail-5.9.0)\\n\\tfor zzzz@localhost (single-drop); Thu, 22 Aug 2002 12:46:38 +0100 (IST)\\nReceived: ...</td>\n",
       "      <td>easy_ham</td>\n",
       "      <td>0</td>\n",
       "    </tr>\n",
       "    <tr>\n",
       "      <th>2</th>\n",
       "      <td>From timc@2ubh.com  Thu Aug 22 13:52:59 2002\\nReturn-Path: &lt;timc@2ubh.com&gt;\\nDelivered-To: zzzz@localhost.netnoteinc.com\\nReceived: from localhost (localhost [127.0.0.1])\\n\\tby phobos.labs.netnoteinc.com (Postfix) with ESMTP id 0314547C66\\n\\tfor &lt;zzzz@localhost&gt;; Thu, 22 Aug 2002 08:52:58 -0400 (EDT)\\nReceived: from phobos [127.0.0.1]\\n\\tby localhost with IMAP (fetchmail-5.9.0)\\n\\tfor zzzz@localhost (single-drop); Thu, 22 Aug 2002 13:52:59 +0100 (IST)\\nReceived: from n16.grp.scd.yahoo.com (n1...</td>\n",
       "      <td>easy_ham</td>\n",
       "      <td>0</td>\n",
       "    </tr>\n",
       "    <tr>\n",
       "      <th>3</th>\n",
       "      <td>From irregulars-admin@tb.tf  Thu Aug 22 14:23:39 2002\\nReturn-Path: &lt;irregulars-admin@tb.tf&gt;\\nDelivered-To: zzzz@localhost.netnoteinc.com\\nReceived: from localhost (localhost [127.0.0.1])\\n\\tby phobos.labs.netnoteinc.com (Postfix) with ESMTP id 9DAE147C66\\n\\tfor &lt;zzzz@localhost&gt;; Thu, 22 Aug 2002 09:23:38 -0400 (EDT)\\nReceived: from phobos [127.0.0.1]\\n\\tby localhost with IMAP (fetchmail-5.9.0)\\n\\tfor zzzz@localhost (single-drop); Thu, 22 Aug 2002 14:23:38 +0100 (IST)\\nReceived: from web.tb....</td>\n",
       "      <td>easy_ham</td>\n",
       "      <td>0</td>\n",
       "    </tr>\n",
       "    <tr>\n",
       "      <th>4</th>\n",
       "      <td>From Stewart.Smith@ee.ed.ac.uk  Thu Aug 22 14:44:26 2002\\nReturn-Path: &lt;Stewart.Smith@ee.ed.ac.uk&gt;\\nDelivered-To: zzzz@localhost.netnoteinc.com\\nReceived: from localhost (localhost [127.0.0.1])\\n\\tby phobos.labs.netnoteinc.com (Postfix) with ESMTP id EC69D47C66\\n\\tfor &lt;zzzz@localhost&gt;; Thu, 22 Aug 2002 09:44:25 -0400 (EDT)\\nReceived: from phobos [127.0.0.1]\\n\\tby localhost with IMAP (fetchmail-5.9.0)\\n\\tfor zzzz@localhost (single-drop); Thu, 22 Aug 2002 14:44:25 +0100 (IST)\\nReceived: from n...</td>\n",
       "      <td>easy_ham</td>\n",
       "      <td>0</td>\n",
       "    </tr>\n",
       "  </tbody>\n",
       "</table>\n",
       "</div>"
      ],
      "text/plain": [
       "<div>\n",
       "<style scoped>\n",
       "    .dataframe tbody tr th:only-of-type {\n",
       "        vertical-align: middle;\n",
       "    }\n",
       "\n",
       "    .dataframe tbody tr th {\n",
       "        vertical-align: top;\n",
       "    }\n",
       "\n",
       "    .dataframe thead th {\n",
       "        text-align: right;\n",
       "    }\n",
       "</style>\n",
       "<table border=\"1\" class=\"dataframe\">\n",
       "  <thead>\n",
       "    <tr style=\"text-align: right;\">\n",
       "      <th></th>\n",
       "      <th>email</th>\n",
       "      <th>type</th>\n",
       "      <th>spam</th>\n",
       "    </tr>\n",
       "  </thead>\n",
       "  <tbody>\n",
       "    <tr>\n",
       "      <th>0</th>\n",
       "      <td>From exmh-workers-admin@redhat.com  Thu Aug 22 12:36:23 2002\\nReturn-Path: &lt;exmh-workers-admin@spamassassin.taint.org&gt;\\nDelivered-To: zzzz@localhost.netnoteinc.com\\nReceived: from localhost (localhost [127.0.0.1])\\n\\tby phobos.labs.netnoteinc.com (Postfix) with ESMTP id D03E543C36\\n\\tfor &lt;zzzz@localhost&gt;; Thu, 22 Aug 2002 07:36:16 -0400 (EDT)\\nReceived: from phobos [127.0.0.1]\\n\\tby localhost with IMAP (fetchmail-5.9.0)\\n\\tfor zzzz@localhost (single-drop); Thu, 22 Aug 2002 12:36:16 +0100 (IS...</td>\n",
       "      <td>easy_ham</td>\n",
       "      <td>0</td>\n",
       "    </tr>\n",
       "    <tr>\n",
       "      <th>1</th>\n",
       "      <td>From Steve_Burt@cursor-system.com  Thu Aug 22 12:46:39 2002\\nReturn-Path: &lt;Steve_Burt@cursor-system.com&gt;\\nDelivered-To: zzzz@localhost.netnoteinc.com\\nReceived: from localhost (localhost [127.0.0.1])\\n\\tby phobos.labs.netnoteinc.com (Postfix) with ESMTP id BE12E43C34\\n\\tfor &lt;zzzz@localhost&gt;; Thu, 22 Aug 2002 07:46:38 -0400 (EDT)\\nReceived: from phobos [127.0.0.1]\\n\\tby localhost with IMAP (fetchmail-5.9.0)\\n\\tfor zzzz@localhost (single-drop); Thu, 22 Aug 2002 12:46:38 +0100 (IST)\\nReceived: ...</td>\n",
       "      <td>easy_ham</td>\n",
       "      <td>0</td>\n",
       "    </tr>\n",
       "    <tr>\n",
       "      <th>2</th>\n",
       "      <td>From timc@2ubh.com  Thu Aug 22 13:52:59 2002\\nReturn-Path: &lt;timc@2ubh.com&gt;\\nDelivered-To: zzzz@localhost.netnoteinc.com\\nReceived: from localhost (localhost [127.0.0.1])\\n\\tby phobos.labs.netnoteinc.com (Postfix) with ESMTP id 0314547C66\\n\\tfor &lt;zzzz@localhost&gt;; Thu, 22 Aug 2002 08:52:58 -0400 (EDT)\\nReceived: from phobos [127.0.0.1]\\n\\tby localhost with IMAP (fetchmail-5.9.0)\\n\\tfor zzzz@localhost (single-drop); Thu, 22 Aug 2002 13:52:59 +0100 (IST)\\nReceived: from n16.grp.scd.yahoo.com (n1...</td>\n",
       "      <td>easy_ham</td>\n",
       "      <td>0</td>\n",
       "    </tr>\n",
       "    <tr>\n",
       "      <th>3</th>\n",
       "      <td>From irregulars-admin@tb.tf  Thu Aug 22 14:23:39 2002\\nReturn-Path: &lt;irregulars-admin@tb.tf&gt;\\nDelivered-To: zzzz@localhost.netnoteinc.com\\nReceived: from localhost (localhost [127.0.0.1])\\n\\tby phobos.labs.netnoteinc.com (Postfix) with ESMTP id 9DAE147C66\\n\\tfor &lt;zzzz@localhost&gt;; Thu, 22 Aug 2002 09:23:38 -0400 (EDT)\\nReceived: from phobos [127.0.0.1]\\n\\tby localhost with IMAP (fetchmail-5.9.0)\\n\\tfor zzzz@localhost (single-drop); Thu, 22 Aug 2002 14:23:38 +0100 (IST)\\nReceived: from web.tb....</td>\n",
       "      <td>easy_ham</td>\n",
       "      <td>0</td>\n",
       "    </tr>\n",
       "    <tr>\n",
       "      <th>4</th>\n",
       "      <td>From Stewart.Smith@ee.ed.ac.uk  Thu Aug 22 14:44:26 2002\\nReturn-Path: &lt;Stewart.Smith@ee.ed.ac.uk&gt;\\nDelivered-To: zzzz@localhost.netnoteinc.com\\nReceived: from localhost (localhost [127.0.0.1])\\n\\tby phobos.labs.netnoteinc.com (Postfix) with ESMTP id EC69D47C66\\n\\tfor &lt;zzzz@localhost&gt;; Thu, 22 Aug 2002 09:44:25 -0400 (EDT)\\nReceived: from phobos [127.0.0.1]\\n\\tby localhost with IMAP (fetchmail-5.9.0)\\n\\tfor zzzz@localhost (single-drop); Thu, 22 Aug 2002 14:44:25 +0100 (IST)\\nReceived: from n...</td>\n",
       "      <td>easy_ham</td>\n",
       "      <td>0</td>\n",
       "    </tr>\n",
       "  </tbody>\n",
       "</table>\n",
       "</div>"
      ]
     },
     "execution_count": 0,
     "metadata": {},
     "output_type": "execute_result"
    },
    {
     "data": {
      "text/html": [
       "<div>\n",
       "<style scoped>\n",
       "    .dataframe tbody tr th:only-of-type {\n",
       "        vertical-align: middle;\n",
       "    }\n",
       "\n",
       "    .dataframe tbody tr th {\n",
       "        vertical-align: top;\n",
       "    }\n",
       "\n",
       "    .dataframe thead th {\n",
       "        text-align: right;\n",
       "    }\n",
       "</style>\n",
       "<table border=\"1\" class=\"dataframe\">\n",
       "  <thead>\n",
       "    <tr style=\"text-align: right;\">\n",
       "      <th></th>\n",
       "      <th>email</th>\n",
       "      <th>type</th>\n",
       "      <th>spam</th>\n",
       "    </tr>\n",
       "  </thead>\n",
       "  <tbody>\n",
       "    <tr>\n",
       "      <th>4150</th>\n",
       "      <td>From 12a1mailbot1@web.de  Thu Aug 22 13:17:22 2002\\nReturn-Path: &lt;12a1mailbot1@web.de&gt;\\nDelivered-To: zzzz@localhost.spamassassin.taint.org\\nReceived: from localhost (localhost [127.0.0.1])\\n\\tby phobos.labs.spamassassin.taint.org (Postfix) with ESMTP id 136B943C32\\n\\tfor &lt;zzzz@localhost&gt;; Thu, 22 Aug 2002 08:17:21 -0400 (EDT)\\nReceived: from mail.webnote.net [193.120.211.219]\\n\\tby localhost with POP3 (fetchmail-5.9.0)\\n\\tfor zzzz@localhost (single-drop); Thu, 22 Aug 2002 13:17:21 +0100 (IS...</td>\n",
       "      <td>spam</td>\n",
       "      <td>1</td>\n",
       "    </tr>\n",
       "  </tbody>\n",
       "</table>\n",
       "</div>"
      ],
      "text/plain": [
       "<div>\n",
       "<style scoped>\n",
       "    .dataframe tbody tr th:only-of-type {\n",
       "        vertical-align: middle;\n",
       "    }\n",
       "\n",
       "    .dataframe tbody tr th {\n",
       "        vertical-align: top;\n",
       "    }\n",
       "\n",
       "    .dataframe thead th {\n",
       "        text-align: right;\n",
       "    }\n",
       "</style>\n",
       "<table border=\"1\" class=\"dataframe\">\n",
       "  <thead>\n",
       "    <tr style=\"text-align: right;\">\n",
       "      <th></th>\n",
       "      <th>email</th>\n",
       "      <th>type</th>\n",
       "      <th>spam</th>\n",
       "    </tr>\n",
       "  </thead>\n",
       "  <tbody>\n",
       "    <tr>\n",
       "      <th>4150</th>\n",
       "      <td>From 12a1mailbot1@web.de  Thu Aug 22 13:17:22 2002\\nReturn-Path: &lt;12a1mailbot1@web.de&gt;\\nDelivered-To: zzzz@localhost.spamassassin.taint.org\\nReceived: from localhost (localhost [127.0.0.1])\\n\\tby phobos.labs.spamassassin.taint.org (Postfix) with ESMTP id 136B943C32\\n\\tfor &lt;zzzz@localhost&gt;; Thu, 22 Aug 2002 08:17:21 -0400 (EDT)\\nReceived: from mail.webnote.net [193.120.211.219]\\n\\tby localhost with POP3 (fetchmail-5.9.0)\\n\\tfor zzzz@localhost (single-drop); Thu, 22 Aug 2002 13:17:21 +0100 (IS...</td>\n",
       "      <td>spam</td>\n",
       "      <td>1</td>\n",
       "    </tr>\n",
       "  </tbody>\n",
       "</table>\n",
       "</div>"
      ]
     },
     "execution_count": 0,
     "metadata": {},
     "output_type": "execute_result"
    }
   ],
   "source": [
    "display(df.head())\n",
    "display(df.loc[df['type'] == 'spam', :].head(1))"
   ]
  },
  {
   "cell_type": "code",
   "execution_count": 13,
   "metadata": {},
   "outputs": [
    {
     "name": "stdout",
     "output_type": "stream",
     "text": [
      "0    0.686404\n",
      "1    0.313596\n",
      "Name: spam, dtype: float64\n"
     ]
    }
   ],
   "source": [
    "print(df['spam'].value_counts(normalize=True))"
   ]
  },
  {
   "cell_type": "code",
   "execution_count": 14,
   "metadata": {},
   "outputs": [
    {
     "data": {
      "image/png": "[encoded data removed]",
      "text/plain": [
       "<Figure size 864x432 with 2 Axes>"
      ]
     },
     "metadata": {},
     "output_type": "display_data"
    }
   ],
   "source": [
    "fig, ax_arr = plt.subplots(1, 2, figsize=(12, 6))\n",
    "sns.countplot(df['type'], order=email_type, ax=ax_arr[0])\n",
    "sns.countplot(df['spam'], palette=['palegreen', 'darkorange'], ax=ax_arr[1])\n",
    "plt.show()"
   ]
  },
  {
   "cell_type": "markdown",
   "metadata": {},
   "source": [
    "Before going further, let's create and keep aside the test dataset !"
   ]
  },
  {
   "cell_type": "code",
   "execution_count": 15,
   "metadata": {},
   "outputs": [],
   "source": [
    "X_train, X_test, y_train, y_test = train_test_split(df['email'], df['spam'], stratify=df['spam'], \n",
    "                                                    test_size=0.2, shuffle=True, random_state=42)                                                       \n"
   ]
  },
  {
   "cell_type": "markdown",
   "metadata": {},
   "source": [
    "*Reading back what I have done, here it would be a better call to stratify on df['type'] to ensure a balanced distribution between easy/hard spam/ham*"
   ]
  },
  {
   "cell_type": "code",
   "execution_count": 16,
   "metadata": {},
   "outputs": [],
   "source": [
    "X_exp = X_train.copy()\n",
    "X_spam = X_exp[y_train == 1].reset_index(drop=True)\n",
    "for i in range(0, 101, 25):\n",
    "    print(X_spam[i])\n",
    "    print('~-'*30)"
   ]
  },
  {
   "cell_type": "markdown",
   "metadata": {},
   "source": [
    "Let's have a quick look on simple and usefull information that might be contained in header e-mail : sender domain, content types and charset ! re library will allow us to play with regular expressions and build the relevant patterns to isolate these information. "
   ]
  },
  {
   "cell_type": "code",
   "execution_count": 17,
   "metadata": {},
   "outputs": [
    {
     "name": "stdout",
     "output_type": "stream",
     "text": [
      "linux.ie\n",
      "text/plain iso-8859-1\n"
     ]
    }
   ],
   "source": [
    "dom_p, cont_p, char_p = 'From .+@(\\S+)',  'Content-Type:\\s?([\\w/]+)\\;', 'charset=\"?([\\w\\-\\_]+)\"?'  \n",
    "get_domain_sender = lambda x: re.findall(dom_p, x)[0].lower() if len(re.findall(dom_p, x)) != 0 else None\n",
    "get_content_type = lambda x: re.findall(cont_p, x)[0].lower() if len(re.findall(cont_p, x)) != 0 else None\n",
    "get_charset = lambda x: re.findall(char_p, x)[0].lower() if len(re.findall(char_p, x)) != 0 else None\n",
    "print(get_domain_sender(X_spam[100]))\n",
    "print(get_content_type(X_spam[100]), get_charset(X_spam[100]))\n"
   ]
  },
  {
   "cell_type": "markdown",
   "metadata": {},
   "source": [
    "Functions to retrieve domain, content types and charset look to work fine. Let's dig for the full train_set"
   ]
  },
  {
   "cell_type": "code",
   "execution_count": 18,
   "metadata": {},
   "outputs": [
    {
     "data": {
      "text/html": [
       "<div>\n",
       "<style scoped>\n",
       "    .dataframe tbody tr th:only-of-type {\n",
       "        vertical-align: middle;\n",
       "    }\n",
       "\n",
       "    .dataframe tbody tr th {\n",
       "        vertical-align: top;\n",
       "    }\n",
       "\n",
       "    .dataframe thead th {\n",
       "        text-align: right;\n",
       "    }\n",
       "</style>\n",
       "<table border=\"1\" class=\"dataframe\">\n",
       "  <thead>\n",
       "    <tr style=\"text-align: right;\">\n",
       "      <th></th>\n",
       "      <th>dom</th>\n",
       "      <th>cont</th>\n",
       "      <th>char</th>\n",
       "    </tr>\n",
       "  </thead>\n",
       "  <tbody>\n",
       "    <tr>\n",
       "      <th>5644</th>\n",
       "      <td>None</td>\n",
       "      <td>text/html</td>\n",
       "      <td>iso-8859-1</td>\n",
       "    </tr>\n",
       "    <tr>\n",
       "      <th>2589</th>\n",
       "      <td>linux.ie</td>\n",
       "      <td>text/plain</td>\n",
       "      <td>iso-8859-1</td>\n",
       "    </tr>\n",
       "    <tr>\n",
       "      <th>2245</th>\n",
       "      <td>jmason.org</td>\n",
       "      <td>text/plain</td>\n",
       "      <td>None</td>\n",
       "    </tr>\n",
       "    <tr>\n",
       "      <th>2706</th>\n",
       "      <td>linux.ie</td>\n",
       "      <td>text/plain</td>\n",
       "      <td>iso-8859-15</td>\n",
       "    </tr>\n",
       "    <tr>\n",
       "      <th>1120</th>\n",
       "      <td>freshrpms.net</td>\n",
       "      <td>text/plain</td>\n",
       "      <td>us-ascii</td>\n",
       "    </tr>\n",
       "    <tr>\n",
       "      <th>5475</th>\n",
       "      <td>None</td>\n",
       "      <td>text/plain</td>\n",
       "      <td>iso-8859-1</td>\n",
       "    </tr>\n",
       "    <tr>\n",
       "      <th>4417</th>\n",
       "      <td>lists.sourceforge.net</td>\n",
       "      <td>text/html</td>\n",
       "      <td>iso-8859-9</td>\n",
       "    </tr>\n",
       "    <tr>\n",
       "      <th>5336</th>\n",
       "      <td>rocketmail.com</td>\n",
       "      <td>text/plain</td>\n",
       "      <td>windows-1252</td>\n",
       "    </tr>\n",
       "    <tr>\n",
       "      <th>3181</th>\n",
       "      <td>redhat.com</td>\n",
       "      <td>None</td>\n",
       "      <td>None</td>\n",
       "    </tr>\n",
       "    <tr>\n",
       "      <th>5671</th>\n",
       "      <td>None</td>\n",
       "      <td>text/html</td>\n",
       "      <td>us-ascii</td>\n",
       "    </tr>\n",
       "  </tbody>\n",
       "</table>\n",
       "</div>"
      ],
      "text/plain": [
       "<div>\n",
       "<style scoped>\n",
       "    .dataframe tbody tr th:only-of-type {\n",
       "        vertical-align: middle;\n",
       "    }\n",
       "\n",
       "    .dataframe tbody tr th {\n",
       "        vertical-align: top;\n",
       "    }\n",
       "\n",
       "    .dataframe thead th {\n",
       "        text-align: right;\n",
       "    }\n",
       "</style>\n",
       "<table border=\"1\" class=\"dataframe\">\n",
       "  <thead>\n",
       "    <tr style=\"text-align: right;\">\n",
       "      <th></th>\n",
       "      <th>dom</th>\n",
       "      <th>cont</th>\n",
       "      <th>char</th>\n",
       "    </tr>\n",
       "  </thead>\n",
       "  <tbody>\n",
       "    <tr>\n",
       "      <th>5644</th>\n",
       "      <td>None</td>\n",
       "      <td>text/html</td>\n",
       "      <td>iso-8859-1</td>\n",
       "    </tr>\n",
       "    <tr>\n",
       "      <th>2589</th>\n",
       "      <td>linux.ie</td>\n",
       "      <td>text/plain</td>\n",
       "      <td>iso-8859-1</td>\n",
       "    </tr>\n",
       "    <tr>\n",
       "      <th>2245</th>\n",
       "      <td>jmason.org</td>\n",
       "      <td>text/plain</td>\n",
       "      <td>None</td>\n",
       "    </tr>\n",
       "    <tr>\n",
       "      <th>2706</th>\n",
       "      <td>linux.ie</td>\n",
       "      <td>text/plain</td>\n",
       "      <td>iso-8859-15</td>\n",
       "    </tr>\n",
       "    <tr>\n",
       "      <th>1120</th>\n",
       "      <td>freshrpms.net</td>\n",
       "      <td>text/plain</td>\n",
       "      <td>us-ascii</td>\n",
       "    </tr>\n",
       "    <tr>\n",
       "      <th>5475</th>\n",
       "      <td>None</td>\n",
       "      <td>text/plain</td>\n",
       "      <td>iso-8859-1</td>\n",
       "    </tr>\n",
       "    <tr>\n",
       "      <th>4417</th>\n",
       "      <td>lists.sourceforge.net</td>\n",
       "      <td>text/html</td>\n",
       "      <td>iso-8859-9</td>\n",
       "    </tr>\n",
       "    <tr>\n",
       "      <th>5336</th>\n",
       "      <td>rocketmail.com</td>\n",
       "      <td>text/plain</td>\n",
       "      <td>windows-1252</td>\n",
       "    </tr>\n",
       "    <tr>\n",
       "      <th>3181</th>\n",
       "      <td>redhat.com</td>\n",
       "      <td>None</td>\n",
       "      <td>None</td>\n",
       "    </tr>\n",
       "    <tr>\n",
       "      <th>5671</th>\n",
       "      <td>None</td>\n",
       "      <td>text/html</td>\n",
       "      <td>us-ascii</td>\n",
       "    </tr>\n",
       "  </tbody>\n",
       "</table>\n",
       "</div>"
      ]
     },
     "execution_count": 0,
     "metadata": {},
     "output_type": "execute_result"
    }
   ],
   "source": [
    "func_l = [get_domain_sender, get_content_type, get_charset]\n",
    "df_exp = pd.concat([X_exp.map(func) for func in func_l], axis=1)\n",
    "df_exp.columns = ['dom', 'cont', 'char']\n",
    "display(df_exp.head(10))\n"
   ]
  },
  {
   "cell_type": "code",
   "execution_count": 19,
   "metadata": {},
   "outputs": [],
   "source": [
    "def value_freq_graph(X0, X1, figsize=(10, 5)):\n",
    "    \"\"\" Returns a graph for the value frequencies of 2 Series Ham/Spam from value_counts method \"\"\"\n",
    "    fig, ax_arr = plt.subplots(1, 2, figsize=figsize)\n",
    "    sns.barplot(x= X0.values, y = X0.index, ax=ax_arr[0])\n",
    "    sns.barplot(x= X1.values, y = X1.index, ax=ax_arr[1])\n",
    "    ax_arr[0].set(xlabel='Frequencies', title='Ham')\n",
    "    ax_arr[1].set(xlabel='Frequencies', title='Spam')\n",
    "    plt.tight_layout()\n",
    "    plt.show()"
   ]
  },
  {
   "cell_type": "markdown",
   "metadata": {},
   "source": [
    "**Domain**"
   ]
  },
  {
   "cell_type": "code",
   "execution_count": 20,
   "metadata": {},
   "outputs": [],
   "source": [
    "X0 = df_exp.loc[y_train == 0, 'dom'].value_counts(normalize=True)\n",
    "X1 = df_exp.loc[y_train == 1, 'dom'].value_counts(normalize=True)"
   ]
  },
  {
   "cell_type": "code",
   "execution_count": 21,
   "metadata": {},
   "outputs": [
    {
     "data": {
      "image/png": "[encoded data removed]",
      "text/plain": [
       "<Figure size 720x360 with 2 Axes>"
      ]
     },
     "metadata": {},
     "output_type": "display_data"
    }
   ],
   "source": [
    "value_freq_graph(X0[:15], X1[:15])"
   ]
  },
  {
   "cell_type": "code",
   "execution_count": 22,
   "metadata": {},
   "outputs": [
    {
     "data": {
      "text/plain": [
       "yahoo.com                     0.079148\n",
       "aol.com                       0.038052\n",
       "insurancemail.net             0.032725\n",
       "msn.com                       0.030441\n",
       "btamail.net.cn                0.019787\n",
       "insiq.us                      0.018265\n",
       "excite.com                    0.016743\n",
       "eudoramail.com                0.015982\n",
       "flashmail.com                 0.015221\n",
       "smtp1.admanmail.com           0.011416\n",
       "netscape.net                  0.010654\n",
       "mail.com                      0.009893\n",
       "caramail.com                  0.007610\n",
       "yahoo.co.uk                   0.006088\n",
       "mail.ru                       0.005327\n",
       "freemail.nl                   0.005327\n",
       "lycos.com                     0.005327\n",
       "email.com                     0.005327\n",
       "frugaljoe.330w.com            0.004566\n",
       "freeuk.com                    0.003805\n",
       "netzero.net                   0.003805\n",
       "internationalfreecall.com     0.003805\n",
       "bluemail.dk                   0.003805\n",
       "firemail.de                   0.003044\n",
       "permissionpass.com            0.003044\n",
       "aeopublishing.com             0.003044\n",
       "ecis.com                      0.003044\n",
       "framesetup.com                0.003044\n",
       "terra.es                      0.003044\n",
       "usa.net                       0.003044\n",
       "                                ...   \n",
       "earthlink.com                 0.000761\n",
       "marketingontarget.net         0.000761\n",
       "icqmail.com                   0.000761\n",
       "missouri.co.jp                0.000761\n",
       "aa64.toplinequotes.com        0.000761\n",
       "coulam1.freeserve.co.uk       0.000761\n",
       "pac6.westernbarge.com         0.000761\n",
       "tcts1.seed.net.tw             0.000761\n",
       "371.net                       0.000761\n",
       "abanet.it                     0.000761\n",
       "abptrade.com.br               0.000761\n",
       "chinchilla.freeserve.co.uk    0.000761\n",
       "fresnomail.com                0.000761\n",
       "none.com                      0.000761\n",
       "tytcorp.com                   0.000761\n",
       "yahoo.com>                    0.000761\n",
       "hushmail.com                  0.000761\n",
       "engfac.uct.ac.za              0.000761\n",
       "loveable.com                  0.000761\n",
       "aemail4u.com                  0.000761\n",
       "theperfumebox.ie              0.000761\n",
       "spl.at                        0.000761\n",
       "yourservice.com               0.000761\n",
       "home.se                       0.000761\n",
       "netscape.com                  0.000761\n",
       "topsitez.us                   0.000761\n",
       "godisenga.com                 0.000761\n",
       "iafrica.com                   0.000761\n",
       "marysstore.com                0.000761\n",
       "swbell.net                    0.000761\n",
       "Name: dom, Length: 462, dtype: float64"
      ]
     },
     "execution_count": 0,
     "metadata": {},
     "output_type": "execute_result"
    },
    {
     "name": "stdout",
     "output_type": "stream",
     "text": [
      "\n",
      " And what about hotmail.com in ham ?  0.0006523157208088715\n"
     ]
    }
   ],
   "source": [
    "susp_dom = [x for x in X1.index if x not in X0.index]\n",
    "display(X1[susp_dom])\n",
    "print(\"\\n And what about hotmail.com in ham ? \", X0['hotmail.com'])"
   ]
  },
  {
   "cell_type": "markdown",
   "metadata": {},
   "source": [
    "**Content type**"
   ]
  },
  {
   "cell_type": "code",
   "execution_count": 23,
   "metadata": {},
   "outputs": [],
   "source": [
    "X0 = df_exp.loc[y_train == 0, 'cont'].value_counts(normalize=True)\n",
    "X1 = df_exp.loc[y_train == 1, 'cont'].value_counts(normalize=True)"
   ]
  },
  {
   "cell_type": "code",
   "execution_count": 24,
   "metadata": {},
   "outputs": [
    {
     "data": {
      "image/png": "[encoded data removed]",
      "text/plain": [
       "<Figure size 720x360 with 2 Axes>"
      ]
     },
     "metadata": {},
     "output_type": "display_data"
    }
   ],
   "source": [
    "value_freq_graph(X0, X1)"
   ]
  },
  {
   "cell_type": "markdown",
   "metadata": {},
   "source": [
    "**Charset**"
   ]
  },
  {
   "cell_type": "code",
   "execution_count": 25,
   "metadata": {},
   "outputs": [],
   "source": [
    "X0 = df_exp.loc[y_train == 0, 'char'].value_counts(normalize=True)\n",
    "X1 = df_exp.loc[y_train == 1, 'char'].value_counts(normalize=True)"
   ]
  },
  {
   "cell_type": "code",
   "execution_count": 26,
   "metadata": {},
   "outputs": [
    {
     "data": {
      "image/png": "[encoded data removed]",
      "text/plain": [
       "<Figure size 720x504 with 2 Axes>"
      ]
     },
     "metadata": {},
     "output_type": "display_data"
    }
   ],
   "source": [
    "value_freq_graph(X0, X1, figsize=(10, 7))"
   ]
  },
  {
   "cell_type": "markdown",
   "metadata": {},
   "source": [
    "### **Preprocessing the data in prevision of ML**"
   ]
  },
  {
   "cell_type": "markdown",
   "metadata": {},
   "source": [
    "#### Definitions of a few functions and a class to preprocess the raw data"
   ]
  },
  {
   "cell_type": "code",
   "execution_count": 27,
   "metadata": {},
   "outputs": [],
   "source": [
    "def get_header_subject_message(email):\n",
    "    pattern = '\\n{2}'\n",
    "    separator = re.split(pattern, email, maxsplit=1)\n",
    "    header, message = separator[0], separator[1]\n",
    "    subjects = re.findall('Subject:\\s(.*)\\n', header)\n",
    "    if len(subjects) != 0:\n",
    "        subject = subjects[0]\n",
    "    else:\n",
    "        subject = ''\n",
    "    return header, subject, message"
   ]
  },
  {
   "cell_type": "code",
   "execution_count": 28,
   "metadata": {},
   "outputs": [
    {
     "name": "stdout",
     "output_type": "stream",
     "text": [
      "Re: [zzzzteana] Which Muppet Are You?\n",
      "~-~-~-~-~-~-~-~-~-~-~-~-~-~-~-~-~-~-~-~-~-~-~-~-~-~-~-~-~-~-\n",
      "From timc@2ubh.com  Thu Aug 22 17:31:00 2002\n",
      "Return-Path: <timc@2ubh.com>\n",
      "Delivered-To: zzzz@localhost.netnoteinc.com\n",
      "Received: from localhost (localhost [127.0.0.1])\n",
      "\tby phobos.labs.netnoteinc.com (Postfix) with ESMTP id A97BE43F99\n",
      "\tfor <zzzz@localhost>; Thu, 22 Aug 2002 12:30:58 -0400 (EDT)\n",
      "Received: from phobos [127.0.0.1]\n",
      "\tby localhost with IMAP (fetchmail-5.9.0)\n",
      "\tfor zzzz@localhost (single-drop); Thu, 22 Aug 2002 17:30:58 +0100 (IST)\n",
      "Received: from n17.grp.scd.yahoo.com (n17.grp.scd.yahoo.com\n",
      "    [66.218.66.72]) by dogma.slashnull.org (8.11.6/8.11.6) with SMTP id\n",
      "    g7MGOFZ14344 for <zzzz@spamassassin.taint.org>; Thu, 22 Aug 2002 17:24:16 +0100\n",
      "X-Egroups-Return: sentto-2242572-52744-1030033454-zzzz=spamassassin.taint.org@returns.groups.yahoo.com\n",
      "Received: from [66.218.67.201] by n17.grp.scd.yahoo.com with NNFMP;\n",
      "    22 Aug 2002 16:24:16 -0000\n",
      "X-Sender: timc@2ubh.com\n",
      "X-Apparently-To: zzzzteana@yahoogroups.com\n",
      "Received: (EGP: mail-8_1_0_1); 22 Aug 2002 16:24:14 -0000\n",
      "Received: (qmail 12796 invoked from network); 22 Aug 2002 16:24:13 -0000\n",
      "Received: from unknown (66.218.66.216) by m9.grp.scd.yahoo.com with QMQP;\n",
      "    22 Aug 2002 16:24:13 -0000\n",
      "Received: from unknown (HELO carbon) (194.73.73.92) by\n",
      "    mta1.grp.scd.yahoo.com with SMTP; 22 Aug 2002 16:24:15 -0000\n",
      "Received: from host217-36-23-185.in-addr.btopenworld.com ([217.36.23.185])\n",
      "    by carbon with esmtp (Exim 3.22 #8) id 17huko-0000JF-00 for\n",
      "    forteana@yahoogroups.com; Thu, 22 Aug 2002 17:24:14 +0100\n",
      "X-Mailer: Microsoft Outlook Express Macintosh Edition - 4.5 (0410)\n",
      "To: zzzzteana@yahoogroups.com\n",
      "X-Priority: 3\n",
      "Message-Id: <E17huko-0000JF-00@carbon>\n",
      "From: \"Tim Chapman\" <timc@2ubh.com>\n",
      "X-Yahoo-Profile: tim2ubh\n",
      "MIME-Version: 1.0\n",
      "Mailing-List: list zzzzteana@yahoogroups.com; contact\n",
      "    forteana-owner@yahoogroups.com\n",
      "Delivered-To: mailing list zzzzteana@yahoogroups.com\n",
      "Precedence: bulk\n",
      "List-Unsubscribe: <mailto:zzzzteana-unsubscribe@yahoogroups.com>\n",
      "Date: Thu, 22 Aug 2002 17:23:28 +0100\n",
      "Subject: Re: [zzzzteana] Which Muppet Are You?\n",
      "Reply-To: zzzzteana@yahoogroups.com\n",
      "Content-Type: text/plain; charset=US-ASCII\n",
      "Content-Transfer-Encoding: 7bit\n",
      "~-~-~-~-~-~-~-~-~-~-~-~-~-~-~-~-~-~-~-~-~-~-~-~-~-~-~-~-~-~-\n",
      "> Apols if this has been posted before:\n",
      "> \n",
      "> http://www.pinkpaperclips.net/subs/quiz2.html\n",
      ">\n",
      "So, anyone who isn't Beaker?\n",
      "\n",
      "TimC\n",
      "Meep\n",
      "\n",
      "------------------------ Yahoo! Groups Sponsor ---------------------~-->\n",
      "4 DVDs Free +s&p Join Now\n",
      "http://us.click.yahoo.com/pt6YBB/NXiEAA/mG3HAA/7gSolB/TM\n",
      "---------------------------------------------------------------------~->\n",
      "\n",
      "To unsubscribe from this group, send an email to:\n",
      "forteana-unsubscribe@egroups.com\n",
      "\n",
      " \n",
      "\n",
      "Your use of Yahoo! Groups is subject to http://docs.yahoo.com/info/terms/ \n",
      "\n",
      "\n",
      "\n",
      "\n"
     ]
    }
   ],
   "source": [
    "header, subject, message = get_header_subject_message(X_train[20])\n",
    "print(subject)\n",
    "print('~-'*30)\n",
    "print(header)\n",
    "print('~-'*30)\n",
    "print(message)"
   ]
  },
  {
   "cell_type": "code",
   "execution_count": 29,
   "metadata": {},
   "outputs": [],
   "source": [
    "def get_dom_cont_char(header):\n",
    "    pattern_d = {'dom_': 'From .+@(\\S+)', 'cont_': 'Content-Type: ([\\w/]+)\\;', 'char_': 'charset=\"?([\\w\\-\\_]+)\"?'}\n",
    "    get_results_d = {}\n",
    "    for key, value in pattern_d.items():\n",
    "        try_match = re.findall(value, header)\n",
    "        if len(try_match) != 0:\n",
    "            get_results_d[key] = try_match[0]\n",
    "        else:\n",
    "            get_results_d[key] = ' '\n",
    "    return get_results_d.values()"
   ]
  },
  {
   "cell_type": "code",
   "execution_count": 30,
   "metadata": {},
   "outputs": [
    {
     "name": "stdout",
     "output_type": "stream",
     "text": [
      "2ubh.com text/plain US-ASCII\n"
     ]
    }
   ],
   "source": [
    "dom, cont, char = get_dom_cont_char(header)\n",
    "print (dom, cont, char)"
   ]
  },
  {
   "cell_type": "code",
   "execution_count": 31,
   "metadata": {},
   "outputs": [],
   "source": [
    "masking_url = lambda x: re.sub('\\S*www\\S+|http://\\S+', 'urlmasked', x)\n",
    "masking_number = lambda x: re.sub('\\d+(?:[\\s\\,]?\\d+)*(?:\\.\\d+)?', 'digitnumber', x)"
   ]
  },
  {
   "cell_type": "code",
   "execution_count": 32,
   "metadata": {},
   "outputs": [
    {
     "name": "stdout",
     "output_type": "stream",
     "text": [
      "> Apols if this has been posted before:\n",
      "> \n",
      "> http://www.pinkpaperclips.net/subs/quiz2.html\n",
      ">\n",
      "So, anyone who isn't Beaker?\n",
      "\n",
      "TimC\n",
      "Meep\n",
      "\n",
      "------------------------ Yahoo! Groups Sponsor ---------------------~-->\n",
      "4 DVDs Free +s&p Join Now\n",
      "http://us.click.yahoo.com/pt6YBB/NXiEAA/mG3HAA/7gSolB/TM\n",
      "---------------------------------------------------------------------~->\n",
      "\n",
      "To unsubscribe from this group, send an email to:\n",
      "forteana-unsubscribe@egroups.com\n",
      "\n",
      " \n",
      "\n",
      "Your use of Yahoo! Groups is subject to http://docs.yahoo.com/info/terms/ \n",
      "\n",
      "\n",
      "\n",
      "\n"
     ]
    }
   ],
   "source": [
    "print(message)"
   ]
  },
  {
   "cell_type": "code",
   "execution_count": 33,
   "metadata": {},
   "outputs": [
    {
     "name": "stdout",
     "output_type": "stream",
     "text": [
      "> Apols if this has been posted before:\n",
      "> \n",
      "> urlmasked\n",
      ">\n",
      "So, anyone who isn't Beaker?\n",
      "\n",
      "TimC\n",
      "Meep\n",
      "\n",
      "------------------------ Yahoo! Groups Sponsor ---------------------~-->\n",
      "digitnumber DVDs Free +s&p Join Now\n",
      "urlmasked\n",
      "---------------------------------------------------------------------~->\n",
      "\n",
      "To unsubscribe from this group, send an email to:\n",
      "forteana-unsubscribe@egroups.com\n",
      "\n",
      " \n",
      "\n",
      "Your use of Yahoo! Groups is subject to urlmasked \n",
      "\n",
      "\n",
      "\n",
      "\n"
     ]
    }
   ],
   "source": [
    "print(masking_number(masking_url(message)))"
   ]
  },
  {
   "cell_type": "markdown",
   "metadata": {},
   "source": [
    "**Let's build the preprocessing class with these functions**"
   ]
  },
  {
   "cell_type": "code",
   "execution_count": 34,
   "metadata": {},
   "outputs": [],
   "source": [
    "class MessageSelector(BaseEstimator, TransformerMixin):\n",
    "    def __init__(self, keep_header=False, keep_subject=False, mask_number=True, mask_URL=True, add_main_par=True):\n",
    "        self.keep_header = keep_header\n",
    "        self.keep_subject = keep_subject\n",
    "        self.mask_number = mask_number\n",
    "        self.mask_URL = mask_URL\n",
    "        self.add_main_par = add_main_par\n",
    "    def fit(self, X, y=None):\n",
    "        return self\n",
    "    def transform(self, X, y=None):\n",
    "        ind = X.index\n",
    "        X_mess = pd.Series(index=ind)\n",
    "        for ix in ind:\n",
    "            header, subject, content = get_header_subject_message(X[ix])\n",
    "            domain, cont_type, character = get_dom_cont_char(header)\n",
    "            main_sending_par = domain + ' ' + cont_type + ' ' + character\n",
    "            if self.mask_URL:\n",
    "                content, subject = masking_url(content), masking_url(subject)\n",
    "            if self.mask_number:\n",
    "                content, subject, header = masking_number(content), masking_number(subject), masking_number(header)\n",
    "            if self.add_main_par & (not self.keep_header): #want to keep usefull par. while removing header\n",
    "                content += '\\n' + main_sending_par\n",
    "            mail = self.keep_header * header + '\\n' + self.keep_subject * subject + '\\n' + content\n",
    "            X_mess[ix] = mail\n",
    "        return X_mess"
   ]
  },
  {
   "cell_type": "code",
   "execution_count": 35,
   "metadata": {},
   "outputs": [
    {
     "name": "stdout",
     "output_type": "stream",
     "text": [
      "\n",
      "Re: [zzzzteana] Which Muppet Are You?\n",
      "> Apols if this has been posted before:\n",
      "> \n",
      "> urlmasked\n",
      ">\n",
      "So, anyone who isn't Beaker?\n",
      "\n",
      "TimC\n",
      "Meep\n",
      "\n",
      "------------------------ Yahoo! Groups Sponsor ---------------------~-->\n",
      "digitnumber DVDs Free +s&p Join Now\n",
      "urlmasked\n",
      "---------------------------------------------------------------------~->\n",
      "\n",
      "To unsubscribe from this group, send an email to:\n",
      "forteana-unsubscribe@egroups.com\n",
      "\n",
      " \n",
      "\n",
      "Your use of Yahoo! Groups is subject to urlmasked \n",
      "\n",
      "\n",
      "\n",
      "\n",
      "2ubh.com text/plain US-ASCII\n"
     ]
    }
   ],
   "source": [
    "X_mess = MessageSelector(keep_subject=True).fit_transform(X_train)\n",
    "print(X_mess[20])\n"
   ]
  },
  {
   "cell_type": "markdown",
   "metadata": {},
   "source": [
    "Finally we need to convert text into understandable values for a model. For that we will use the CountVectorizer class than will perform word tokenizing and occurence counting. "
   ]
  },
  {
   "cell_type": "code",
   "execution_count": 36,
   "metadata": {},
   "outputs": [
    {
     "name": "stdout",
     "output_type": "stream",
     "text": [
      "(4836, 87075)\n",
      "77776\n",
      "17786\n"
     ]
    }
   ],
   "source": [
    "count_vect = CountVectorizer()\n",
    "X_train_count = count_vect.fit_transform(X_mess)\n",
    "print(X_train_count.shape)\n",
    "print(count_vect.vocabulary_.get('urlmasked'))\n",
    "print(count_vect.vocabulary_.get('digitnumber'))"
   ]
  },
  {
   "cell_type": "markdown",
   "metadata": {},
   "source": [
    "Going further we can also add a Tfidf transformer to compute an ajusted word occurence frequency upon counting."
   ]
  },
  {
   "cell_type": "markdown",
   "metadata": {},
   "source": [
    "### **Building the ML model**"
   ]
  },
  {
   "cell_type": "markdown",
   "metadata": {},
   "source": [
    "#### **Determining the short-list of most promising models**"
   ]
  },
  {
   "cell_type": "code",
   "execution_count": 37,
   "metadata": {},
   "outputs": [
    {
     "name": "stdout",
     "output_type": "stream",
     "text": [
      "\n",
      " KNeighborsClassifier(algorithm='auto', leaf_size=30, metric='minkowski',\n",
      "           metric_params=None, n_jobs=None, n_neighbors=5, p=2,\n",
      "           weights='uniform')\n"
     ]
    },
    {
     "name": "stderr",
     "output_type": "stream",
     "text": [
      "[Parallel(n_jobs=-1)]: Using backend LokyBackend with 4 concurrent workers.\n",
      "[Parallel(n_jobs=-1)]: Done   5 out of   5 | elapsed:   24.5s finished\n",
      "[Parallel(n_jobs=-1)]: Using backend LokyBackend with 4 concurrent workers.\n"
     ]
    },
    {
     "name": "stdout",
     "output_type": "stream",
     "text": [
      "\n",
      " Accuracy - 5Fcv with knn : mean : 94.4%, Std : 0.76%\n",
      "~-~-~-~-~-~-~-~-~-~-~-~-~-~-~-~-~-~-~-~-~-~-~-~-~-~-~-~-~-~-\n",
      "\n",
      " LogisticRegression(C=1.0, class_weight=None, dual=False, fit_intercept=True,\n",
      "          intercept_scaling=1, max_iter=100, multi_class='warn',\n",
      "          n_jobs=None, penalty='l2', random_state=None, solver='warn',\n",
      "          tol=0.0001, verbose=0, warm_start=False)\n"
     ]
    },
    {
     "name": "stderr",
     "output_type": "stream",
     "text": [
      "[Parallel(n_jobs=-1)]: Done   5 out of   5 | elapsed:   20.5s finished\n",
      "[Parallel(n_jobs=-1)]: Using backend LokyBackend with 4 concurrent workers.\n"
     ]
    },
    {
     "name": "stdout",
     "output_type": "stream",
     "text": [
      "\n",
      " Accuracy - 5Fcv with logit : mean : 96.5%, Std : 0.54%\n",
      "~-~-~-~-~-~-~-~-~-~-~-~-~-~-~-~-~-~-~-~-~-~-~-~-~-~-~-~-~-~-\n",
      "\n",
      " SGDClassifier(alpha=0.0001, average=False, class_weight=None,\n",
      "       early_stopping=False, epsilon=0.1, eta0=0.0, fit_intercept=True,\n",
      "       l1_ratio=0.15, learning_rate='optimal', loss='hinge', max_iter=None,\n",
      "       n_iter=None, n_iter_no_change=5, n_jobs=None, penalty='l2',\n",
      "       power_t=0.5, random_state=42, shuffle=True, tol=None,\n",
      "       validation_fraction=0.1, verbose=0, warm_start=False)\n"
     ]
    },
    {
     "name": "stderr",
     "output_type": "stream",
     "text": [
      "[Parallel(n_jobs=-1)]: Done   5 out of   5 | elapsed:   20.4s finished\n",
      "[Parallel(n_jobs=-1)]: Using backend LokyBackend with 4 concurrent workers.\n"
     ]
    },
    {
     "name": "stdout",
     "output_type": "stream",
     "text": [
      "\n",
      " Accuracy - 5Fcv with sgd : mean : 98.4%, Std : 0.42%\n",
      "~-~-~-~-~-~-~-~-~-~-~-~-~-~-~-~-~-~-~-~-~-~-~-~-~-~-~-~-~-~-\n",
      "\n",
      " RandomForestClassifier(bootstrap=True, class_weight=None, criterion='gini',\n",
      "            max_depth=None, max_features='auto', max_leaf_nodes=None,\n",
      "            min_impurity_decrease=0.0, min_impurity_split=None,\n",
      "            min_samples_leaf=1, min_samples_split=2,\n",
      "            min_weight_fraction_leaf=0.0, n_estimators=500, n_jobs=None,\n",
      "            oob_score=False, random_state=42, verbose=0, warm_start=False)\n"
     ]
    },
    {
     "name": "stderr",
     "output_type": "stream",
     "text": [
      "[Parallel(n_jobs=-1)]: Done   5 out of   5 | elapsed:  1.1min finished\n",
      "[Parallel(n_jobs=-1)]: Using backend LokyBackend with 4 concurrent workers.\n"
     ]
    },
    {
     "name": "stdout",
     "output_type": "stream",
     "text": [
      "\n",
      " Accuracy - 5Fcv with rf : mean : 97.1%, Std : 0.57%\n",
      "~-~-~-~-~-~-~-~-~-~-~-~-~-~-~-~-~-~-~-~-~-~-~-~-~-~-~-~-~-~-\n",
      "\n",
      " LinearSVC(C=1.0, class_weight=None, dual=True, fit_intercept=True,\n",
      "     intercept_scaling=1, loss='hinge', max_iter=1000, multi_class='ovr',\n",
      "     penalty='l2', random_state=None, tol=0.0001, verbose=0)\n"
     ]
    },
    {
     "name": "stderr",
     "output_type": "stream",
     "text": [
      "[Parallel(n_jobs=-1)]: Done   5 out of   5 | elapsed:   21.3s finished\n",
      "[Parallel(n_jobs=-1)]: Using backend LokyBackend with 4 concurrent workers.\n"
     ]
    },
    {
     "name": "stdout",
     "output_type": "stream",
     "text": [
      "\n",
      " Accuracy - 5Fcv with lin_svc : mean : 98.3%, Std : 0.37%\n",
      "~-~-~-~-~-~-~-~-~-~-~-~-~-~-~-~-~-~-~-~-~-~-~-~-~-~-~-~-~-~-\n",
      "\n",
      " SVC(C=1.0, cache_size=200, class_weight=None, coef0=0.0,\n",
      "  decision_function_shape='ovr', degree=3, gamma='auto', kernel='rbf',\n",
      "  max_iter=-1, probability=False, random_state=None, shrinking=True,\n",
      "  tol=0.001, verbose=False)\n"
     ]
    },
    {
     "name": "stderr",
     "output_type": "stream",
     "text": [
      "[Parallel(n_jobs=-1)]: Done   5 out of   5 | elapsed:   59.1s finished\n",
      "[Parallel(n_jobs=-1)]: Using backend LokyBackend with 4 concurrent workers.\n"
     ]
    },
    {
     "name": "stdout",
     "output_type": "stream",
     "text": [
      "\n",
      " Accuracy - 5Fcv with rbf_svc : mean : 68.6%, Std : 0.03%\n",
      "~-~-~-~-~-~-~-~-~-~-~-~-~-~-~-~-~-~-~-~-~-~-~-~-~-~-~-~-~-~-\n",
      "\n",
      " MultinomialNB(alpha=1.0, class_prior=None, fit_prior=True)\n",
      "\n",
      " Accuracy - 5Fcv with nb_m : mean : 86.3%, Std : 0.94%\n",
      "~-~-~-~-~-~-~-~-~-~-~-~-~-~-~-~-~-~-~-~-~-~-~-~-~-~-~-~-~-~-\n"
     ]
    },
    {
     "name": "stderr",
     "output_type": "stream",
     "text": [
      "[Parallel(n_jobs=-1)]: Done   5 out of   5 | elapsed:   19.4s finished\n"
     ]
    }
   ],
   "source": [
    "algo_d = {\n",
    "    'knn': KNeighborsClassifier(),\n",
    "    'logit': LogisticRegression(),\n",
    "    'sgd': SGDClassifier(random_state=42),\n",
    "    'rf': RandomForestClassifier(n_estimators=500, random_state=42),\n",
    "    'lin_svc': LinearSVC(loss='hinge'),\n",
    "    'rbf_svc': SVC(gamma='auto'),\n",
    "    'nb_m': MultinomialNB()\n",
    "}\n",
    "for key, clf in algo_d.items():\n",
    "    spam_clf = Pipeline([\n",
    "        ('mess_selector', MessageSelector()),\n",
    "        ('vectorizer', CountVectorizer()),\n",
    "        ('tfidf', TfidfTransformer()),\n",
    "        ('clf', clf)\n",
    "    ])\n",
    "    print(\"\\n\", clf)\n",
    "    cv = cross_val_score(spam_clf, X_train, y_train, cv=5, verbose=2, n_jobs=-1, scoring='accuracy')\n",
    "    print(\"\\n Accuracy - 5Fcv with {} : mean : {:.1f}%, Std : {:.2f}%\".format(\n",
    "        key, 100 * cv.mean(), 100 * np.std(cv)))\n",
    "    print('~-'*30)"
   ]
  },
  {
   "cell_type": "markdown",
   "metadata": {},
   "source": [
    "Linear SVC sounds very promising ! Its stochastic \"variant\" here gives even slightly better results (randomness might help getting out of local optima ?) ! On the opposite, rbf svc acts like a dumb classifier, assuming everything is ham e-mail (most frequent target class).<br> <br>\n",
    "Multinomial Naive Bayes classifier is a bit disappointing. It's known to work very well for text analysis. Multinomial NB classifier is suitable with discret features (like word counts) and multinomial distribution requires normal integer features counts but, in practice, fractional counts (like the ones provided by tf-idf) also work. Let's give a try with count vectors instead of fractionnal ones. I will also give a chance to bernoulli NB classifier with 0-1 counts."
   ]
  },
  {
   "cell_type": "code",
   "execution_count": 38,
   "metadata": {},
   "outputs": [
    {
     "name": "stderr",
     "output_type": "stream",
     "text": [
      "[Parallel(n_jobs=-1)]: Using backend LokyBackend with 4 concurrent workers.\n",
      "[Parallel(n_jobs=-1)]: Done   5 out of   5 | elapsed:   19.1s finished\n",
      "[Parallel(n_jobs=-1)]: Using backend LokyBackend with 4 concurrent workers.\n"
     ]
    },
    {
     "name": "stdout",
     "output_type": "stream",
     "text": [
      "Accuracy - 5Fcv with Mnb : mean : 94.4%, Std : 1.35%\n",
      "Accuracy - 5Fcv with Bnb : mean : 86.8%, Std : 1.09%\n"
     ]
    },
    {
     "name": "stderr",
     "output_type": "stream",
     "text": [
      "[Parallel(n_jobs=-1)]: Done   5 out of   5 | elapsed:   18.9s finished\n"
     ]
    }
   ],
   "source": [
    "Mnb_clf = Pipeline([\n",
    "    ('mess_selector', MessageSelector()),\n",
    "    ('vectorizer', CountVectorizer()),\n",
    "    ('Mnb', MultinomialNB())\n",
    "])\n",
    "\n",
    "cv = cross_val_score(Mnb_clf, X_train, y_train, cv=5, verbose=2, n_jobs=-1, scoring='accuracy')\n",
    "print(\"Accuracy - 5Fcv with Mnb : mean : {:.1f}%, Std : {:.2f}%\".format(100 * cv.mean(), 100 * np.std(cv)))\n",
    "\n",
    "Bnb_clf = Pipeline([\n",
    "    ('mess_selector', MessageSelector()),\n",
    "    ('vectorizer', CountVectorizer(binary=True)),\n",
    "    ('Bnb', BernoulliNB())\n",
    "])\n",
    "cv = cross_val_score(Bnb_clf, X_train, y_train, cv=5, verbose=2, n_jobs=-1, scoring='accuracy')\n",
    "print(\"Accuracy - 5Fcv with Bnb : mean : {:.1f}%, Std : {:.2f}%\".format(100 * cv.mean(), 100 * np.std(cv)))"
   ]
  },
  {
   "cell_type": "markdown",
   "metadata": {},
   "source": [
    "Much better for the Multinomial NB clf ! <br> <br>\n",
    "Although accuracy is not so terrible as a metric here (considering the rather balanced distribution of target classes, roughly 65 VS 35) but we should rely on a more robust metric including recall and precision. Let's have a look at precision-recall curves for our best classifiers at this stage of the study. I will keep SGD with hinge loss for linear SVC algo (no predict proba method for Linear SVC implying to use SVC class or probability calibration)."
   ]
  },
  {
   "cell_type": "code",
   "execution_count": 39,
   "metadata": {},
   "outputs": [
    {
     "name": "stderr",
     "output_type": "stream",
     "text": [
      "[Parallel(n_jobs=-1)]: Using backend LokyBackend with 4 concurrent workers.\n",
      "[Parallel(n_jobs=-1)]: Done   5 out of   5 | elapsed:   19.3s finished\n",
      "[Parallel(n_jobs=-1)]: Using backend LokyBackend with 4 concurrent workers.\n",
      "[Parallel(n_jobs=-1)]: Done   5 out of   5 | elapsed:   18.9s finished\n",
      "[Parallel(n_jobs=-1)]: Using backend LokyBackend with 4 concurrent workers.\n",
      "[Parallel(n_jobs=-1)]: Done   5 out of   5 | elapsed:   20.2s finished\n",
      "[Parallel(n_jobs=-1)]: Using backend LokyBackend with 4 concurrent workers.\n",
      "[Parallel(n_jobs=-1)]: Done   5 out of   5 | elapsed:   19.4s finished\n",
      "[Parallel(n_jobs=-1)]: Using backend LokyBackend with 4 concurrent workers.\n",
      "[Parallel(n_jobs=-1)]: Done   5 out of   5 | elapsed:  1.0min finished\n"
     ]
    },
    {
     "data": {
      "image/png": "[encoded data removed]",
      "text/plain": [
       "<Figure size 720x576 with 1 Axes>"
      ]
     },
     "metadata": {},
     "output_type": "display_data"
    }
   ],
   "source": [
    "y_score_d = {}\n",
    "\n",
    "sgd_clf = Pipeline([\n",
    "    ('mess_selector', MessageSelector()),\n",
    "    ('vectorizer', CountVectorizer()),\n",
    "    ('tfidf', TfidfTransformer()),\n",
    "    ('sgd', SGDClassifier(random_state=42))\n",
    "])\n",
    "y_score_sgd = cross_val_predict(sgd_clf, X_train, y_train, cv=5, verbose=2, n_jobs=-1, method='decision_function')\n",
    "y_score_d['sgd'] = y_score_sgd\n",
    "\n",
    "y_proba_Mnb = cross_val_predict(Mnb_clf, X_train, y_train, cv=5, verbose=2, n_jobs=-1, method='predict_proba')\n",
    "y_score_Mnb = y_proba_Mnb[:, 1]\n",
    "y_score_d['Mnb'] = y_score_Mnb\n",
    "\n",
    "\n",
    "algo_short_d = {\n",
    "    'knn': KNeighborsClassifier(),\n",
    "    'logit': LogisticRegression(),\n",
    "    'rf': RandomForestClassifier(n_estimators=500, random_state=42)\n",
    "}\n",
    "for key, clf in algo_short_d.items():\n",
    "    spam_clf = Pipeline([\n",
    "        ('mess_selector', MessageSelector()),\n",
    "        ('vectorizer', CountVectorizer()),\n",
    "        ('tfidf', TfidfTransformer()),\n",
    "        ('clf', clf)\n",
    "    ])\n",
    "    y_proba = cross_val_predict(spam_clf, X_train, y_train, cv=5, verbose=2, n_jobs=-1, method='predict_proba')\n",
    "    y_score = y_proba[:, 1]\n",
    "    y_score_d[key] = y_score\n",
    "    \n",
    "plt.figure(figsize=(10, 8))\n",
    "for key, score in y_score_d.items():\n",
    "    precisions, recalls, thresholds = precision_recall_curve(y_train, score)\n",
    "    plt.plot(recalls, precisions, label=key)\n",
    "plt.ylim([0, 1.01])\n",
    "plt.xlabel('Recall')\n",
    "plt.ylabel('Precision')\n",
    "plt.legend(loc='center')\n",
    "plt.show()"
   ]
  },
  {
   "cell_type": "markdown",
   "metadata": {},
   "source": [
    "SGD for linear SVC, Random Forests and Logit give the most promising results. Logit and SGD for linear SVC might be a bit a redundant here (linear svc should out-perform the logit anyway ...). I will only carry on with SGD and RF for this exercise. Extra spare time for computation could then be allocated to search the preprocessing parameter space. In a real-life study, LinearSVC classifier should also be investigated and one might even want to try mini-batch gradient descent !"
   ]
  },
  {
   "cell_type": "markdown",
   "metadata": {},
   "source": [
    "#### **Fine-tuning the models**"
   ]
  },
  {
   "cell_type": "markdown",
   "metadata": {},
   "source": [
    "*First, let's add a lemmatizer or stemmer that might slightly improve the models* \n",
    "<br>\n",
    "As mentionned in Sklearn documentation : \"Fancy token-level analysis such as stemming, lemmatizing, compound splitting, filtering based on part-of-speech, etc. are not included in the scikit-learn codebase, but can be added by customizing either the tokenizer or the analyzer\".\n",
    "Let's build custom classes for a token-lemmatizer/stemmer using NLTK."
   ]
  },
  {
   "cell_type": "code",
   "execution_count": 40,
   "metadata": {},
   "outputs": [],
   "source": [
    "class StemTokenizer(object):\n",
    "    def __init__(self, stm=EnglishStemmer()):\n",
    "        self.stm = stm\n",
    "    def __call__(self, doc): \n",
    "        return [self.stm.stem(t) for t in word_tokenize(doc)]"
   ]
  },
  {
   "cell_type": "code",
   "execution_count": 41,
   "metadata": {},
   "outputs": [],
   "source": [
    "class LemmaTokenizer(object):\n",
    "    def __init__(self, wnl=WordNetLemmatizer()):\n",
    "        self.wnl = wnl\n",
    "    def __call__(self, doc):\n",
    "        return [self.wnl.lemmatize(t) for t in word_tokenize(doc)]"
   ]
  },
  {
   "cell_type": "markdown",
   "metadata": {},
   "source": [
    "These classes can be modified by replacing word_tokenize(doc) to CountVectorizer().build_analyzer()(doc)\n",
    "<br>\n",
    "In this case the custom class should be pass as an analyzer within CountVectorizer(). Here I prefered to keep hands on punctuation for further investigations and therefore choose to pass the custom class to tokenizer."
   ]
  },
  {
   "cell_type": "code",
   "execution_count": 42,
   "metadata": {},
   "outputs": [
    {
     "name": "stdout",
     "output_type": "stream",
     "text": [
      "{'where': 21, 'were': 20, 'your': 22, 'cat': 3, 'go': 7, '?': 1, 'they': 18, 'head': 8, 'to': 19, 'the': 16, 'northern': 11, 'part': 14, 'of': 12, 'citi': 4, '.': 0, 'and': 2, 'my': 10, 'did': 5, 'it': 9, 'onc': 13, 'feel': 6, 'stronger': 15, 'then': 17}\n",
      "{'where': 21, 'were': 20, 'your': 22, 'cat': 3, 'going': 7, '?': 1, 'they': 18, 'headed': 8, 'to': 19, 'the': 16, 'northern': 11, 'part': 14, 'of': 12, 'city': 4, '.': 0, 'and': 2, 'yours': 23, 'my': 10, 'did': 5, 'it': 9, 'once': 13, 'feel': 6, 'stronger': 15, 'then': 17}\n"
     ]
    }
   ],
   "source": [
    "corpus = [\"Where were your cats going ?\",\n",
    "          \"They headed to the northern part of the city. And yours ?\",\n",
    "          \"My cat did it once. It feels stronger then\"]\n",
    "\n",
    "stem_vectorizer = CountVectorizer(tokenizer=StemTokenizer())\n",
    "stem_vectorizer.fit_transform(corpus)\n",
    "print(stem_vectorizer.vocabulary_)\n",
    "lem_vectorizer = CountVectorizer(tokenizer=LemmaTokenizer())\n",
    "lem_vectorizer.fit_transform(corpus)\n",
    "print(lem_vectorizer.vocabulary_)"
   ]
  },
  {
   "cell_type": "markdown",
   "metadata": {},
   "source": [
    "Let's add a final option to our previous MessageSelector class to handle custom punctuation selection"
   ]
  },
  {
   "cell_type": "code",
   "execution_count": 43,
   "metadata": {},
   "outputs": [],
   "source": [
    "class MessagePunctSelector(BaseEstimator, TransformerMixin):\n",
    "    def __init__(self, keep_header=False, keep_subject=False, add_main_par=True, keep_punct=False,\n",
    "                 mask_number=True, mask_URL=True):\n",
    "        self.keep_header = keep_header\n",
    "        self.keep_subject = keep_subject\n",
    "        self.mask_number = mask_number\n",
    "        self.mask_URL = mask_URL\n",
    "        self.add_main_par = add_main_par\n",
    "        self.keep_punct = keep_punct\n",
    "    def fit(self, X, y=None):\n",
    "        return self\n",
    "    def transform(self, X, y=None):\n",
    "        ind = X.index\n",
    "        X_mess = pd.Series(index=ind)\n",
    "        for ix in ind:\n",
    "            header, subject, content = get_header_subject_message(X[ix])\n",
    "            domain, cont_type, character = get_dom_cont_char(header)\n",
    "            main_sending_par = domain + ' ' + cont_type + ' ' + character\n",
    "            if self.mask_URL:\n",
    "                content, subject = masking_url(content), masking_url(subject)\n",
    "            if self.mask_number:\n",
    "                content, subject, header = masking_number(content), masking_number(subject), masking_number(header)\n",
    "            if not self.keep_punct:\n",
    "                text_punct = '''!\"#%&'()*+,-./:;<=>?@[\\]^_`{|}~''' #want to keep $ for 'money' occurence\n",
    "                header_punct = '''!\"#$%&'()*+,:;<=>?@[\\]^`{|}~''' #specific punctuation for header\n",
    "                translator_text = str.maketrans(text_punct, ' '*len(text_punct)) #prefer empty space to None\n",
    "                translator_header = str.maketrans(header_punct, ' '*len(header_punct)) #prefer empty space to None\n",
    "                content, subject = content.translate(translator_text), subject.translate(translator_text)\n",
    "                header = header.translate(translator_header)\n",
    "            if self.add_main_par & (not self.keep_header):\n",
    "                content += '\\n' + main_sending_par\n",
    "            mail = self.keep_header * header + '\\n' + self.keep_subject * subject + '\\n' + content\n",
    "            X_mess[ix] = mail\n",
    "        return X_mess"
   ]
  },
  {
   "cell_type": "markdown",
   "metadata": {},
   "source": [
    "#### **Hyperparameter tuning**"
   ]
  },
  {
   "cell_type": "markdown",
   "metadata": {},
   "source": [
    "Considering the large number of hyperparameters that could be modified throughout the preprocessing steps and the computation time required, fine tuning will be sliced in three consecutive GridsearchCV works. It's not the best approach but it should work just fine for this exercise. If extra time, another strategies could be to use a big parameter distribution and perform a large randomize search or to conduct the search in two steps : the first roughly determining best approximate buckets for parameters and the second to refine the first search. <br> <br>\n",
    "\n",
    "Here I decided to firstly tune all the preprocessing parameters and then to look for the best hyperparameters of the clf.<br>\n",
    "For metric I will go with the 'average_precision' score, corresponding to area under the precision-recall curve (equivalent to auc score for ROC curves, up to 1 and the higher the better !). Depending on final purpose, precision or recall would also have been relevant."
   ]
  },
  {
   "cell_type": "markdown",
   "metadata": {},
   "source": [
    "#### *Linear SVC with stochastic gradient descent*"
   ]
  },
  {
   "cell_type": "code",
   "execution_count": 44,
   "metadata": {},
   "outputs": [
    {
     "name": "stdout",
     "output_type": "stream",
     "text": [
      "Fitting 3 folds for each of 96 candidates, totalling 288 fits\n"
     ]
    },
    {
     "name": "stderr",
     "output_type": "stream",
     "text": [
      "[Parallel(n_jobs=-1)]: Using backend LokyBackend with 4 concurrent workers.\n",
      "C:\\Users\\ghare\\Anaconda3\\lib\\site-packages\\sklearn\\externals\\joblib\\externals\\loky\\process_executor.py:706: UserWarning: A worker stopped while some jobs were given to the executor. This can be caused by a too short worker timeout or by a memory leak.\n",
      "  \"timeout or by a memory leak.\", UserWarning\n",
      "C:\\Users\\ghare\\Anaconda3\\lib\\site-packages\\sklearn\\externals\\joblib\\externals\\loky\\process_executor.py:706: UserWarning: A worker stopped while some jobs were given to the executor. This can be caused by a too short worker timeout or by a memory leak.\n",
      "  \"timeout or by a memory leak.\", UserWarning\n",
      "C:\\Users\\ghare\\Anaconda3\\lib\\site-packages\\sklearn\\externals\\joblib\\externals\\loky\\process_executor.py:706: UserWarning: A worker stopped while some jobs were given to the executor. This can be caused by a too short worker timeout or by a memory leak.\n",
      "  \"timeout or by a memory leak.\", UserWarning\n",
      "C:\\Users\\ghare\\Anaconda3\\lib\\site-packages\\sklearn\\externals\\joblib\\externals\\loky\\process_executor.py:706: UserWarning: A worker stopped while some jobs were given to the executor. This can be caused by a too short worker timeout or by a memory leak.\n",
      "  \"timeout or by a memory leak.\", UserWarning\n",
      "[Parallel(n_jobs=-1)]: Done  33 tasks      | elapsed: 40.3min\n",
      "C:\\Users\\ghare\\Anaconda3\\lib\\site-packages\\sklearn\\externals\\joblib\\externals\\loky\\process_executor.py:706: UserWarning: A worker stopped while some jobs were given to the executor. This can be caused by a too short worker timeout or by a memory leak.\n",
      "  \"timeout or by a memory leak.\", UserWarning\n",
      "[Parallel(n_jobs=-1)]: Done 154 tasks      | elapsed: 143.4min\n",
      "[Parallel(n_jobs=-1)]: Done 288 out of 288 | elapsed: 173.2min finished\n"
     ]
    },
    {
     "data": {
      "text/plain": [
       "GridSearchCV(cv=3, error_score='raise-deprecating',\n",
       "       estimator=Pipeline(memory=None,\n",
       "     steps=[('mess', MessagePunctSelector(add_main_par=True, keep_header=False, keep_punct=False,\n",
       "           keep_subject=False, mask_URL=True, mask_number=True)), ('vect', CountVectorizer(analyzer='word', binary=False, decode_error='strict',\n",
       "        dtype=<class 'numpy.int64'>, encoding='utf-8', input='...dom_state=42, shuffle=True, tol=None,\n",
       "       validation_fraction=0.1, verbose=0, warm_start=False))]),\n",
       "       fit_params=None, iid='warn', n_jobs=-1,\n",
       "       param_grid=[{'mess__keep_header': [True, False], 'mess__keep_subject': [True, False], 'mess__mask_URL': [True, False], 'mess__mask_number': [True, False], 'mess__keep_punct': [True, False], 'vect__lowercase': [True], 'vect__tokenizer': [<__main__.StemTokenizer object at 0x00000258E366FA20>, <__main_...enizer': [None], 'vect__token_pattern': ['\\\\w\\\\w+', '\\\\w\\\\w+|[!\"#%&\\'()*+,-./:;<=>?@[\\\\]^_`{|}~]']}],\n",
       "       pre_dispatch='2*n_jobs', refit=True, return_train_score='warn',\n",
       "       scoring='average_precision', verbose=2)"
      ]
     },
     "execution_count": 44,
     "metadata": {},
     "output_type": "execute_result"
    }
   ],
   "source": [
    "sgd_clf = Pipeline([\n",
    "    ('mess', MessagePunctSelector()),\n",
    "    ('vect', CountVectorizer()),\n",
    "    ('tfidf', TfidfTransformer()),\n",
    "    ('sgd', SGDClassifier(random_state=42))\n",
    "])\n",
    "param_grid = [\n",
    "    {'mess__keep_header': [True, False], 'mess__keep_subject': [True, False], 'mess__mask_URL': [True, False], \n",
    "     'mess__mask_number': [True, False], 'mess__keep_punct': [True, False], 'vect__lowercase': [True],\n",
    "     'vect__tokenizer': [StemTokenizer(), LemmaTokenizer()]\n",
    "     },\n",
    "    {'mess__keep_header': [True, False], 'mess__keep_subject': [True, False], 'mess__mask_URL': [True, False], \n",
    "     'mess__mask_number': [True, False], 'mess__keep_punct': [True], 'vect__lowercase': [True], \n",
    "     'vect__tokenizer': [None], 'vect__token_pattern': ['\\w\\w+', '''\\w\\w+|[!\"#%&'()*+,-./:;<=>?@[\\]^_`{|}~]''']\n",
    "     } #specific custom pattern for tokenization with/wo punctuation\n",
    "]\n",
    "cv = GridSearchCV(sgd_clf, param_grid=param_grid, cv=3, verbose=2, n_jobs=-1, scoring='average_precision')\n",
    "cv.fit(X_train, y_train)"
   ]
  },
  {
   "cell_type": "code",
   "execution_count": 45,
   "metadata": {},
   "outputs": [
    {
     "name": "stdout",
     "output_type": "stream",
     "text": [
      "Best score : 99.82%, best parameters : {'mess__keep_header': True, 'mess__keep_punct': False, 'mess__keep_subject': False, 'mess__mask_URL': False, 'mess__mask_number': True, 'vect__lowercase': True, 'vect__tokenizer': <__main__.StemTokenizer object at 0x00000258E366FA20>}\n"
     ]
    }
   ],
   "source": [
    "print('Best score : {:.2f}%, best parameters : {}'.format(cv.best_score_ * 100, cv.best_params_))"
   ]
  },
  {
   "cell_type": "code",
   "execution_count": 46,
   "metadata": {},
   "outputs": [
    {
     "name": "stdout",
     "output_type": "stream",
     "text": [
      "Fitting 3 folds for each of 27 candidates, totalling 81 fits\n"
     ]
    },
    {
     "name": "stderr",
     "output_type": "stream",
     "text": [
      "[Parallel(n_jobs=-1)]: Using backend LokyBackend with 4 concurrent workers.\n",
      "[Parallel(n_jobs=-1)]: Done  33 tasks      | elapsed: 47.0min\n",
      "[Parallel(n_jobs=-1)]: Done  81 out of  81 | elapsed: 107.2min finished\n"
     ]
    },
    {
     "data": {
      "text/plain": [
       "GridSearchCV(cv=3, error_score='raise-deprecating',\n",
       "       estimator=Pipeline(memory=None,\n",
       "     steps=[('mess', MessagePunctSelector(add_main_par=True, keep_header=True, keep_punct=False,\n",
       "           keep_subject=False, mask_URL=False, mask_number=True)), ('vect', CountVectorizer(analyzer='word', binary=False, decode_error='strict',\n",
       "        dtype=<class 'numpy.int64'>, encoding='utf-8', input='...dom_state=42, shuffle=True, tol=None,\n",
       "       validation_fraction=0.1, verbose=0, warm_start=False))]),\n",
       "       fit_params=None, iid='warn', n_jobs=-1,\n",
       "       param_grid=[{'vect__ngram_range': [(1, 1), (1, 2), (2, 2)], 'vect__max_df': [1.0, 0.8, 0.6], 'vect__min_df': [1, 0.001, 0.005]}],\n",
       "       pre_dispatch='2*n_jobs', refit=True, return_train_score='warn',\n",
       "       scoring='average_precision', verbose=2)"
      ]
     },
     "execution_count": 46,
     "metadata": {},
     "output_type": "execute_result"
    }
   ],
   "source": [
    "sgd_clf = Pipeline([\n",
    "    ('mess', MessagePunctSelector(keep_header=True, keep_subject=False, keep_punct=False, \n",
    "                                  mask_URL=False, mask_number=True)),\n",
    "    ('vect', CountVectorizer(lowercase=True, tokenizer=StemTokenizer())),\n",
    "    ('tfidf', TfidfTransformer()),\n",
    "    ('sgd', SGDClassifier(random_state=42))\n",
    "])\n",
    "param_grid = [\n",
    "    {'vect__ngram_range': [(1, 1), (1, 2), (2, 2)], 'vect__max_df': [1.0, 0.8, 0.6], \n",
    "     'vect__min_df': [1, 0.001, 0.005]\n",
    "     }\n",
    "]\n",
    "cv = GridSearchCV(sgd_clf, param_grid=param_grid, cv=3, verbose=2, n_jobs=-1, scoring='average_precision')\n",
    "cv.fit(X_train, y_train)"
   ]
  },
  {
   "cell_type": "code",
   "execution_count": 47,
   "metadata": {},
   "outputs": [
    {
     "name": "stdout",
     "output_type": "stream",
     "text": [
      "Best score : 99.86%, best parameters : {'vect__max_df': 0.6, 'vect__min_df': 0.001, 'vect__ngram_range': (1, 2)}\n"
     ]
    }
   ],
   "source": [
    "print('Best score : {:.2f}%, best parameters : {}'.format(cv.best_score_ * 100, cv.best_params_))"
   ]
  },
  {
   "cell_type": "markdown",
   "metadata": {},
   "source": [
    "If available sparte time, you might want to investigate further max_df parameter for CountVectorizer..."
   ]
  },
  {
   "cell_type": "code",
   "execution_count": 48,
   "metadata": {},
   "outputs": [],
   "source": [
    "prep_pip = Pipeline([\n",
    "    ('mess', MessagePunctSelector(keep_header=True, keep_subject=False, keep_punct=False, \n",
    "                                  mask_URL=False, mask_number=True)),\n",
    "    ('vect', CountVectorizer(lowercase=True, tokenizer=StemTokenizer(), \n",
    "                             max_df=0.6, min_df=0.001, ngram_range=(1, 2))),\n",
    "    ('tfidf', TfidfTransformer())\n",
    "])\n",
    "\n",
    "X_prep = prep_pip.fit_transform(X_train)"
   ]
  },
  {
   "cell_type": "code",
   "execution_count": 49,
   "metadata": {},
   "outputs": [
    {
     "name": "stdout",
     "output_type": "stream",
     "text": [
      "Fitting 3 folds for each of 288 candidates, totalling 864 fits\n"
     ]
    },
    {
     "name": "stderr",
     "output_type": "stream",
     "text": [
      "[Parallel(n_jobs=-1)]: Using backend LokyBackend with 4 concurrent workers.\n",
      "[Parallel(n_jobs=-1)]: Done  33 tasks      | elapsed:  1.7min\n",
      "[Parallel(n_jobs=-1)]: Done 154 tasks      | elapsed:  5.0min\n",
      "[Parallel(n_jobs=-1)]: Done 357 tasks      | elapsed: 18.8min\n",
      "[Parallel(n_jobs=-1)]: Done 640 tasks      | elapsed: 40.4min\n",
      "[Parallel(n_jobs=-1)]: Done 864 out of 864 | elapsed: 58.1min finished\n"
     ]
    },
    {
     "data": {
      "text/plain": [
       "GridSearchCV(cv=3, error_score='raise-deprecating',\n",
       "       estimator=SGDClassifier(alpha=0.0001, average=False, class_weight=None,\n",
       "       early_stopping=False, epsilon=0.1, eta0=0.0, fit_intercept=True,\n",
       "       l1_ratio=0.15, learning_rate='optimal', loss='hinge', max_iter=None,\n",
       "       n_iter=None, n_iter_no_change=5, n_jobs=None, penalty='l2',\n",
       "       power_t=0.5, random_state=42, shuffle=True, tol=None,\n",
       "       validation_fraction=0.1, verbose=0, warm_start=False),\n",
       "       fit_params=None, iid='warn', n_jobs=-1,\n",
       "       param_grid=[{'alpha': array([1.e-03, 1.e-04, 1.e-05]), 'penalty': ['l2'], 'loss': ['hinge', 'squared_hinge'], 'early_stopping': [True, False], 'n_iter_no_change': [5], 'learning_rate': ['optimal', 'adaptive'], 'eta0': [0.05], 'max_iter': [5, 206, 1000]}, {'alpha': array([1.e-03, 1.e-04, 1.e-05]), 'p...change': [5], 'learning_rate': ['optimal', 'adaptive'], 'eta0': [0.05], 'max_iter': [5, 206, 1000]}],\n",
       "       pre_dispatch='2*n_jobs', refit=True, return_train_score='warn',\n",
       "       scoring='average_precision', verbose=2)"
      ]
     },
     "execution_count": 49,
     "metadata": {},
     "output_type": "execute_result"
    }
   ],
   "source": [
    "sgd_clf = SGDClassifier(random_state=42)\n",
    "\n",
    "param_grid = [\n",
    "    {'alpha': 10.0**-np.arange(3, 6), 'penalty': [\"l2\"], 'loss': [\"hinge\", \"squared_hinge\"], \n",
    "     'early_stopping': [True, False], 'n_iter_no_change':[5], 'learning_rate': ['optimal', 'adaptive'], \n",
    "     'eta0': [0.05], 'max_iter':[5, 10**6//len(X_train), 1000]},\n",
    "    {'alpha': 10.0**-np.arange(3, 6), 'penalty': [\"elasticnet\"], 'loss': [\"hinge\", \"squared_hinge\"], \n",
    "     'l1_ratio': [0.15, 0.25, 0.4], 'early_stopping': [True, False], 'n_iter_no_change':[5],\n",
    "     'learning_rate': ['optimal', 'adaptive'],  'eta0': [0.05], 'max_iter':[5, 10**6//len(X_train), 1000]}\n",
    "]\n",
    "cv = GridSearchCV(sgd_clf, param_grid=param_grid, scoring='average_precision', cv=3, verbose=2, n_jobs=-1)\n",
    "cv.fit(X_prep, y_train)"
   ]
  },
  {
   "cell_type": "code",
   "execution_count": 50,
   "metadata": {},
   "outputs": [
    {
     "name": "stdout",
     "output_type": "stream",
     "text": [
      "Best score : 99.88%, best parameters : {'alpha': 1e-05, 'early_stopping': False, 'eta0': 0.05, 'learning_rate': 'adaptive', 'loss': 'hinge', 'max_iter': 206, 'n_iter_no_change': 5, 'penalty': 'l2'}\n"
     ]
    }
   ],
   "source": [
    "print('Best score : {:.2f}%, best parameters : {}'.format(cv.best_score_ * 100, cv.best_params_))"
   ]
  },
  {
   "cell_type": "code",
   "execution_count": 51,
   "metadata": {},
   "outputs": [
    {
     "name": "stderr",
     "output_type": "stream",
     "text": [
      "[Parallel(n_jobs=-1)]: Using backend LokyBackend with 4 concurrent workers.\n",
      "[Parallel(n_jobs=-1)]: Done   5 out of   5 | elapsed:  4.8min finished\n"
     ]
    }
   ],
   "source": [
    "sgd_clf_final = Pipeline([\n",
    "    ('mess', MessagePunctSelector(keep_header=True, keep_subject=False, keep_punct=False, \n",
    "                                  mask_URL=False, mask_number=True)),\n",
    "    ('vect', CountVectorizer(lowercase=True, tokenizer=StemTokenizer(), \n",
    "                             max_df=0.6, min_df=0.001, ngram_range=(1, 2))),\n",
    "    ('tfidf', TfidfTransformer()),\n",
    "    ('sgd', SGDClassifier(random_state=42, alpha=1e-05, loss='hinge', max_iter=10**6//len(X_train),\n",
    "                          penalty='l2', early_stopping=False, learning_rate='adaptive', n_iter_no_change=5,\n",
    "                          eta0=0.05))\n",
    "])\n",
    "y_pred = cross_val_predict(sgd_clf_final, X_train, y_train, cv=5, verbose=2, n_jobs=-1)"
   ]
  },
  {
   "cell_type": "code",
   "execution_count": 52,
   "metadata": {},
   "outputs": [
    {
     "name": "stdout",
     "output_type": "stream",
     "text": [
      "Final accuracy score on validation set: 98.92%\n",
      "Final precision score on validation set: 98.10%\n",
      "Final recall score on validation set: 98.48%\n"
     ]
    }
   ],
   "source": [
    "print(\"Final accuracy score on validation set: {:.2f}%\".format(accuracy_score(y_train, y_pred)*100))\n",
    "print(\"Final precision score on validation set: {:.2f}%\".format(precision_score(y_train, y_pred)*100))\n",
    "print(\"Final recall score on validation set: {:.2f}%\".format(recall_score(y_train, y_pred)*100))"
   ]
  },
  {
   "cell_type": "code",
   "execution_count": 53,
   "metadata": {},
   "outputs": [
    {
     "name": "stderr",
     "output_type": "stream",
     "text": [
      "[Parallel(n_jobs=-1)]: Using backend LokyBackend with 4 concurrent workers.\n",
      "[Parallel(n_jobs=-1)]: Done   3 out of   3 | elapsed:  2.4min finished\n"
     ]
    }
   ],
   "source": [
    "y_score = cross_val_predict(sgd_clf_final, X_train, y_train, cv=3, verbose=2, n_jobs=-1, \n",
    "                            method='decision_function')"
   ]
  },
  {
   "cell_type": "code",
   "execution_count": 74,
   "metadata": {},
   "outputs": [
    {
     "data": {
      "image/png": "[encoded data removed]",
      "text/plain": [
       "<Figure size 1152x432 with 2 Axes>"
      ]
     },
     "metadata": {},
     "output_type": "display_data"
    }
   ],
   "source": [
    "fig, ax_arr = plt.subplots(1, 2, figsize=(16, 6))\n",
    "precisions, recalls, thresholds = precision_recall_curve(y_train, y_score)\n",
    "ax_arr[0].plot(recalls, precisions, label='Final model with SGD classifier')\n",
    "ax_arr[0].set(xlabel='Recall', ylabel='Precision', ylim=[0.8, 1.01], xlim=[0, 1.01])\n",
    "ax_arr[1].plot(thresholds, precisions[:-1], \"b--\", label='Precision')\n",
    "ax_arr[1].plot(thresholds, recalls[:-1], \"g-\", label='Recall')\n",
    "ax_arr[1].set(xlabel='Thresholds', ylim=[0.8, 1.01])\n",
    "ax_arr[1].legend(loc='best')\n",
    "plt.tight_layout()\n",
    "plt.show()"
   ]
  },
  {
   "cell_type": "markdown",
   "metadata": {},
   "source": [
    "Threshold value can still be changed to aim at a specific precision/recall tradeoff. For example, let's try to reach a precision of 99%. Looking at the precision-recall/tresholds curves, the corresponding thresholds should be arount 0.3."
   ]
  },
  {
   "cell_type": "code",
   "execution_count": 55,
   "metadata": {},
   "outputs": [
    {
     "name": "stdout",
     "output_type": "stream",
     "text": [
      "New precision score on validation set: 99.06%\n",
      "New recall score on validation set: 96.84%\n"
     ]
    }
   ],
   "source": [
    "y_pred_99 = (y_score > 0.3)\n",
    "print(\"New precision score on validation set: {:.2f}%\".format(precision_score(y_train, y_pred_99)*100))\n",
    "print(\"New recall score on validation set: {:.2f}%\".format(recall_score(y_train, y_pred_99)*100))\n"
   ]
  },
  {
   "cell_type": "code",
   "execution_count": 56,
   "metadata": {},
   "outputs": [
    {
     "name": "stdout",
     "output_type": "stream",
     "text": [
      "29 23\n"
     ]
    }
   ],
   "source": [
    "FP_train = X_train[(y_train == 0) & (y_pred == 1)].reset_index(drop=True)\n",
    "FN_train = X_train[(y_train == 1) & (y_pred == 0)].reset_index(drop=True)\n",
    "print(len(FP_train), len(FN_train))"
   ]
  },
  {
   "cell_type": "code",
   "execution_count": 75,
   "metadata": {},
   "outputs": [
    {
     "name": "stdout",
     "output_type": "stream",
     "text": [
      "Return-Path: <mailer@desktopengineer.com>\n",
      "Delivered-To: Jost.Krieger+freetechmail@ruhr-uni-bochum.de\n",
      "Received: (qmail 8473 invoked by alias); 24 Jul 2002 00:13:25 -0000\n",
      "Received: (qmail 8465 invoked by uid 82); 24 Jul 2002 00:13:25 -0000\n",
      "Received: from mailer@desktopengineer.com by mailhost with qmail-scanner-1.00 (uvscan: v4.1.40/v4213. . Clean. Processed in 0.632524 secs); 24 Jul 2002 00:13:25 -0000\n",
      "Received: from enterprisedesktop.com (HELO server1.enterprisedesktop.com) (209.61.182.209)\n",
      "  by mi-1.rz.ruhr-uni-bochum.de with SMTP; 24 Jul 2002 00:13:24 -0000\n",
      "Received: from localhost.localdomain (localhost [127.0.0.1])\n",
      "\tby server1.enterprisedesktop.com (8.11.3/8.11.3) with SMTP id g6O0D2k32482\n",
      "\tfor <Jost.Krieger+freetechmail@ruhr-uni-bochum.de>; Tue, 23 Jul 2002 20:13:02 -0400\n",
      "Message-Id: <200207240013.g6O0D2k32482@server1.enterprisedesktop.com>\n",
      "Received: from Octeth Email Manager Pro ([207.34.72.13]) by www.desktopengineer.com with HTTP (Apache/1.3.22 (Unix)  (Red-Hat/Linux) mod_ssl/2.8.5 OpenSSL/0.9.6 PHP/4.0.4pl1 mod_perl/1.21 FrontPage/4.0.4.3);\n",
      "\t Tue, 23 Jul 2002 20:13:02 -0400\n",
      "Date: Tue, 23 Jul 2002 20:13:02 -0400\n",
      "To: \"Jost.Krieger+freetechmail@ruhr-uni-bochum.de \" <Jost.Krieger+freetechmail@ruhr-uni-bochum.de>\n",
      "From: \"DesktopEngineer.com\" <mailer@desktopengineer.com>\n",
      "Reply-to: \"Jost.Krieger+freetechmail@ruhr-uni-bochum.de \" <Jost.Krieger+freetechmail@ruhr-uni-bochum.de>\n",
      "Subject: [DEJD] DesktopEngineer.com Headlines - $200 For The Best Submission\n",
      "X-Priority: 3\n",
      "X-Sender: DesktopEngineer.com <mailer@desktopengineer.com>\n",
      "X-Mailer: Octeth Email Manager Pro\n",
      "X-MSMail-Priority: Medium\n",
      "Importance: Medium\n",
      "MIME-Version: 1.0\n",
      "Content-Type: Multipart/Mixed;\n",
      "\tboundary=\"Boundary-=_bcea19c9d6337c63081baf1d5ee3466aa\"\n",
      "\n",
      "This is a MIME message. If you are reading this text, you\n",
      "might want to consider changing to a mail reader that\n",
      "understands how to properly display MIME multipart messages.\n",
      "\n",
      "--Boundary-=_bcea19c9d6337c63081baf1d5ee3466aa\n",
      "Content-Type: multipart/alternative; charset = \"iso-8859-1\";\n",
      "\tboundary=\"Boundary-=_sb73baa252922041f1e5a038a67575b2a2\";\n",
      "\n",
      "--Boundary-=_sb73baa252922041f1e5a038a67575b2a2\n",
      "Content-Type: text/plain; charset = \"iso-8859-1\";\n",
      "Content-Transfer-Encoding: 8bit\n",
      "\n",
      "If you are seeing this message, please visit http://desktopengineer.com to see the latest stories.\n",
      "\n",
      "--Boundary-=_sb73baa252922041f1e5a038a67575b2a2\n",
      "Content-Type: text/html; charset = \"iso-8859-1\";\n",
      "Content-Transfer-Encoding: 8bit\n",
      "\n",
      "<!DOCTYPE HTML PUBLIC \"-//SoftQuad Software//DTD HoTMetaL PRO 6.0::19990601::extensions to HTML 4.0//EN\" \"hmpro6.dtd\">\n",
      "<HTML> \n",
      "  <HEAD> \n",
      "\t <TITLE>Desktop Engineers Junk Drawer - Handy Odds N Ends for Windows 98, NT\n",
      "\t\tand 2000</TITLE> <META NAME=\"GeekLog\" CONTENT=\"Created with GeekLog 1.5rc1\">\n",
      "\t <META HTTP-EQUIV=\"expires\" CONTENT=\"60\"> <STYLE TYPE=\"text/css\">\n",
      "<!--\t\n",
      "BODY, TD\t{ color: black; font-size: x-small; font-family: verdana, arial, sans-serif }\n",
      "H1 \t\t{ color: black; font-size: medium; font-weight: bold; font-family: verdana, arial, sans-serif }\n",
      "H2 \t\t{ color: black; font-size: small; font-weight: bold; font-family: verdana, arial, sans-serif }\n",
      ".blocktitle \t{ color: white; font-size: x-small; font-weight: bold; font-family: verdana, arial, sans-serif }\n",
      ".footer \t{ font-size: xx-small; font-family: verdana, arial, sans-serif }\n",
      "-->\n",
      "</STYLE> \n",
      "  </HEAD> \n",
      "  <BODY TEXT=\"#000000\" BGCOLOR=\"#FFFFFF\" LINK=\"#333333\" VLINK=\"#333333\"\n",
      "\tALINK=\"#333333\" LEFTMARGIN=\"0\" TOPMARGIN=\"0\">\n",
      "<!-- begin header.tmpl -->\n",
      "\t <TABLE BORDER=\"0\" WIDTH=\"630\" ALIGN=\"LEFT\" CELLSPACING=\"0\" CELLPADDING=\"0\">\n",
      "\t\t\n",
      "\t\t<TR ALIGN=\"right\" VALIGN=\"middle\"> \n",
      "\t\t  <TD COLSPAN=\"2\" HEIGHT=\"18\"></TD> \n",
      "\t\t</TR> \n",
      "\t\t<TR VALIGN=\"bottom\"> \n",
      "\t\t  <TD COLSPAN=\"2\" ALIGN=\"LEFT\" WIDTH=\"630\"><A\n",
      "\t\t\t HREF=\"http://desktopengineer.com\" TARGET=\"promo\"><IMG\n",
      "\t\t\t SRC=\"http://desktopengineer.com/images/deblue5.gif\" HEIGHT=\"84\" BORDER=\"0\"\n",
      "\t\t\t ALT=\"http://desktopengineer.com\" WIDTH=\"630\"></A></TD> \n",
      "\t\t</TR> \n",
      "\t\t<TR> \n",
      "\t\t  <TD COLSPAN=\"2\" BGCOLOR=\"#000000\"><IMG\n",
      "\t\t\t SRC=\"http://desktopengineer.com/images/speck.gif\" WIDTH=\"1\" HEIGHT=\"1\"\n",
      "\t\t\t ALT=\"\"></TD> \n",
      "\t\t</TR> \n",
      "\t\t<TR> \n",
      "\t\t  <TD COLSPAN=\"2\" BGCOLOR=\"#AAAAAA\"><IMG\n",
      "\t\t\t SRC=\"http://desktopengineer.com/images/speck.gif\" WIDTH=\"1\" HEIGHT=\"6\"\n",
      "\t\t\t ALT=\"\"></TD> \n",
      "\t\t</TR> \n",
      "\t\t<TR> \n",
      "\t\t  <TD COLSPAN=\"2\" BGCOLOR=\"#FFFFFF\"><IMG\n",
      "\t\t\t SRC=\"http://desktopengineer.com/images/speck.gif\" WIDTH=\"1\" HEIGHT=\"1\"\n",
      "\t\t\t ALT=\"\"></TD> \n",
      "\t\t</TR> \n",
      "\t\t<TR BGCOLOR=\"#648DAD\"> \n",
      "\t\t  <TD COLSPAN=\"2\"><B><FONT COLOR=\"#333333\">Desktop Engineer's Junk Drawer\n",
      "\t\t\t Headline Mailer!</FONT></B></TD> \n",
      "\t\t</TR> \n",
      "\t\t<TR> \n",
      "\t\t  <TD COLSPAN=\"2\" BGCOLOR=\"#AAAAAA\" HEIGHT=\"6\"></TD> \n",
      "\t\t</TR> \n",
      "\t\t<TR> \n",
      "\t\t  <TD COLSPAN=\"2\" BGCOLOR=\"#EEEEEE\"><SMALL>To subscribe, send a blank\n",
      "\t\t\t email to: <A\n",
      "\t\t\t HREF=\"mailto:dejdweekly-subscribe@topica.com\">dejdweekly-subscribe@topica.com</A></SMALL></TD>\n",
      "\t\t  \n",
      "\t\t</TR> \n",
      "\t\t<TR> \n",
      "\t\t  <TD COLSPAN=\"2\"> <BR> \n",
      "\t\t\t <TABLE CELLSPACING=\"0\" CELLPADDING=\"1\" WIDTH=\"500\" BORDER=\"0\"\n",
      "\t\t\t ALIGN=\"CENTER\"> \n",
      "\t\t\t\t<TBODY> \n",
      "\t\t\t\t  <TR BGCOLOR=\"#304a63\"> \n",
      "\t\t\t\t\t <TD> \n",
      "\t\t\t\t\t\t<TABLE CELLSPACING=\"0\" CELLPADDING=\"2\" WIDTH=\"100%\"\n",
      "\t\t\t\t\t\tBORDER=\"0\"> \n",
      "\t\t\t\t\t\t  <TBODY> \n",
      "\t\t\t\t\t\t\t <TR BGCOLOR=\"#304a63\"> \n",
      "\t\t\t\t\t\t\t\t<TD CLASS=\"blocktitle\" COLSPAN=\"2\"\n",
      "\t\t\t\t\t\t\t\tALIGN=\"CENTER\">ADVERTISEMENT<BR><FONT COLOR=\"#FF0000\"> Discover the Powerful\n",
      "\t\t\t\t\t\t\t\t  Repackaging Capabilities of AdminStudio</FONT></TD> \n",
      "\t\t\t\t\t\t\t </TR> \n",
      "\t\t\t\t\t\t\t <TR> \n",
      "\t\t\t\t\t\t\t\t<TD BGCOLOR=\"#e9edf2\" COLSPAN=\"2\">Let InstallShield\n",
      "\t\t\t\t\t\t\t\t  show you the easy process for converting packages to MSI by demonstrating an\n",
      "\t\t\t\t\t\t\t\t  application conversion using AdminStudio 3. Get detailed explanations of many\n",
      "\t\t\t\t\t\t\t\t  best practices, and don't miss the Q&amp;A session afterwards. Register Now!\n",
      "\t\t\t\t\t\t\t\t  <A\n",
      "\t\t\t\t\t\t\t\t\tHREF=\"http://www.installshield.com/0207/DesktopEngineer0723\">http://www.installshield.com/0207/DesktopEngineer0723</A></TD>\n",
      "\t\t\t\t\t\t\t\t\n",
      "\t\t\t\t\t\t\t </TR> \n",
      "\t\t\t\t\t\t  </TBODY> \n",
      "\t\t\t\t\t\t</TABLE></TD> \n",
      "\t\t\t\t  </TR> \n",
      "\t\t\t\t</TBODY> \n",
      "\t\t\t </TABLE><BR></TD> \n",
      "\t\t</TR> \n",
      "\t\t<TR> \n",
      "\t\t  <TD><IMG SRC=\"http://desktopengineer.com/images/speck.gif\" WIDTH=\"10\"\n",
      "\t\t\t HEIGHT=\"1\" ALT=\"\"></TD> \n",
      "\t\t  <TD> <HR><B>DesktopEngineer.com Giving Away $200 Submission Of The\n",
      "\t\t\t Month Award</B><BR> Friday, July 12 2002 @ 07:41 AM EDT by Darwin_Sanoy<BR> \n",
      "\t\t\t <P>How about a little cash to buy something really cool? Send us\n",
      "\t\t\t\tthose tips! </P>\n",
      "\t\t\t <A\n",
      "\t\t\t  HREF=\"http://desktopengineer.com/article.php?story=20020718005048357\">http://desktopengineer.com/article.php?story=20020718005048357</A><BR><BR>\n",
      "\t\t\t <HR><B>Microsoft Webcast: WMIC: Managing Windows from a Command Line (07/24/02\n",
      "\t\t\t @ 10am PST)</B><BR> Thursday, July 11 2002 @ 11:22 AM EDT by Darwin_Sanoy<BR> \n",
      "\t\t\t <P>WMI is the powerful management API Microsoft built into Windows\n",
      "\t\t\t\t2000. Getting scripted access to this management functionality can not be done\n",
      "\t\t\t\tthrough shell scripts - until WMIC was released with XP. </P>\n",
      "\t\t\t <A\n",
      "\t\t\t  HREF=\"http://desktopengineer.com/article.php?story=20020718002155930\">http://desktopengineer.com/article.php?story=20020718002155930</A><BR><BR>\n",
      "\t\t\t <HR> \n",
      "\t\t\t <P ALIGN=\"CENTER\">\n",
      "\t\t\t\t<A\n",
      "\t\t\t\t HREF=\"http://desktopengineer.com/cgi-bin/ads/adclick.cgi?manager=adcycle.com&gid=1&cid=26&mid=84&id=472\"\n",
      "\t\t\t\t TARGET=\"_blank\"><IMG\n",
      "\t\t\t\tSRC=\"http://desktopengineer.com/cgi-bin/ads/adcycle.cgi?gid=1&cid=26&mid=84&id=472\"\n",
      "\t\t\t\tWIDTH=\"468\" HEIGHT=\"60\" BORDER=\"0\" ALT=\"Click to Visit InstallShield\"></A></P>\n",
      "\t\t\t <HR><B>Wise Black Belt Series: Application Isolation Webinar</B><BR> Wednesday,\n",
      "\t\t\t July 10 2002 @ 06:12 AM EDT by Darwin_Sanoy<BR> \n",
      "\t\t\t <P><B>Session: Application Isolation and Windows Installer</B> This\n",
      "\t\t\t\twebinar covered how .LOCAL and .NET (Manifests) isolation work. Webinar\n",
      "\t\t\t\tincluded demonstrations of both isolation technologies for traditional\n",
      "\t\t\t\tapplications. </P>\n",
      "\t\t\t <A\n",
      "\t\t\t  HREF=\"http://desktopengineer.com/article.php?story=2002071415404212\">http://desktopengineer.com/article.php?story=2002071415404212</A><BR><BR>\n",
      "\t\t\t <HR><B>Nice Linksys 4 Port USB Mini-Hub for $11.65 at Buy.com</B><BR> Tuesday,\n",
      "\t\t\t July 09 2002 @ 07:55 AM EDT by Darwin_Sanoy<BR> \n",
      "\t\t\t <P>This is a great prices for four ports! </P>\n",
      "\t\t\t <A\n",
      "\t\t\t  HREF=\"http://desktopengineer.com/article.php?story=20020718005709995\">http://desktopengineer.com/article.php?story=20020718005709995</A><BR><BR><HR>\n",
      "\t\t\t </TD> \n",
      "\t\t</TR> \n",
      "\t\t<TR> \n",
      "\t\t  <TD COLSPAN=\"2\"> <BR> \n",
      "\t\t\t <TABLE CELLSPACING=\"0\" CELLPADDING=\"1\" WIDTH=\"500\" BORDER=\"0\"\n",
      "\t\t\t  ALIGN=\"CENTER\"> \n",
      "\t\t\t\t<TBODY> \n",
      "\t\t\t\t  <TR BGCOLOR=\"#304a63\"> \n",
      "\t\t\t\t\t <TD> \n",
      "\t\t\t\t\t\t<TABLE CELLSPACING=\"0\" CELLPADDING=\"2\" WIDTH=\"100%\"\n",
      "\t\t\t\t\t\t BORDER=\"0\"> \n",
      "\t\t\t\t\t\t  <TBODY> \n",
      "\t\t\t\t\t\t\t <TR BGCOLOR=\"#304a63\"> \n",
      "\t\t\t\t\t\t\t\t<TD CLASS=\"blocktitle\" COLSPAN=\"2\"\n",
      "\t\t\t\t\t\t\t\t ALIGN=\"CENTER\">ADVERTISEMENT<BR><FONT COLOR=\"#FF0000\"> Discover the Powerful\n",
      "\t\t\t\t\t\t\t\t  Repackaging Capabilities of AdminStudio</FONT></TD> \n",
      "\t\t\t\t\t\t\t </TR> \n",
      "\t\t\t\t\t\t\t <TR> \n",
      "\t\t\t\t\t\t\t\t<TD BGCOLOR=\"#e9edf2\" COLSPAN=\"2\">Let InstallShield\n",
      "\t\t\t\t\t\t\t\t  show you the easy process for converting packages to MSI by demonstrating an\n",
      "\t\t\t\t\t\t\t\t  application conversion using AdminStudio 3. Get detailed explanations of many\n",
      "\t\t\t\t\t\t\t\t  best practices, and don't miss the Q&amp;A session afterwards. Register Now!\n",
      "\t\t\t\t\t\t\t\t  <A\n",
      "\t\t\t\t\t\t\t\t  HREF=\"http://www.installshield.com/0207/DesktopEngineer0723\">http://www.installshield.com/0207/DesktopEngineer0723</A></TD>\n",
      "\t\t\t\t\t\t\t\t\n",
      "\t\t\t\t\t\t\t </TR> \n",
      "\t\t\t\t\t\t  </TBODY> \n",
      "\t\t\t\t\t\t</TABLE></TD> \n",
      "\t\t\t\t  </TR> \n",
      "\t\t\t\t</TBODY> \n",
      "\t\t\t </TABLE><BR> </TD> \n",
      "\t\t</TR> \n",
      "\t\t<TR> \n",
      "\t\t  <TD BGCOLOR=\"#000000\" COLSPAN=\"2\"><IMG\n",
      "\t\t\t SRC=\"http://desktopengineer.com/images/speck.gif\" WIDTH=\"1\" HEIGHT=\"1\"\n",
      "\t\t\t ALT=\"\"></TD> \n",
      "\t\t</TR> \n",
      "\t\t<TR> \n",
      "\t\t  <TD BGCOLOR=\"#AAAAAA\" COLSPAN=\"2\"><IMG\n",
      "\t\t\t SRC=\"http://desktopengineer.com/images/speck.gif\" WIDTH=\"1\" HEIGHT=\"6\"\n",
      "\t\t\t ALT=\"\"></TD> \n",
      "\t\t</TR> \n",
      "\t\t<TR> \n",
      "\t\t  <TD BGCOLOR=\"#EEEEEE\" COLSPAN=\"2\"><IMG\n",
      "\t\t\t SRC=\"http://desktopengineer.com/images/speck.gif\" WIDTH=\"1\" HEIGHT=\"1\"\n",
      "\t\t\t ALT=\"\"></TD> \n",
      "\t\t</TR> \n",
      "\t\t<TR BGCOLOR=\"#648DAD\" VALIGN=\"top\"> \n",
      "\t\t  <TD HEIGHT=\"20\" CLASS=\"footer\" COLSPAN=\"2\">&nbsp;Copyright &copy; 2002\n",
      "\t\t\t Desktop Engineers Junk Drawer, ISSN: 1522-7693<BR> &nbsp;All trademarks and\n",
      "\t\t\t copyrights on this page are owned by their respective owners.</TD> \n",
      "\t\t</TR> \n",
      "\t\t<TR> \n",
      "\t\t  <TD BGCOLOR=\"#AAAAAA\" COLSPAN=\"2\"><IMG\n",
      "\t\t\t SRC=\"http://desktopengineer.com/images/speck.gif\" WIDTH=\"1\" HEIGHT=\"1\"\n",
      "\t\t\t ALT=\"\"></TD> \n",
      "\t\t</TR> \n",
      "\t </TABLE> </BODY>\n",
      "</HTML>\n",
      "\n",
      "\n",
      "--Boundary-=_sb73baa252922041f1e5a038a67575b2a2--\n",
      "\n",
      "\n",
      "--Boundary-=_bcea19c9d6337c63081baf1d5ee3466aa--\n",
      "\n",
      "\n",
      " Return-Path: nobody@example.com\n",
      "Delivery-Date: Wed Sep 18 00:00:00 1972\n",
      "Received: from timhunt.net (ns1.timhunt.net [216.27.147.130])\n",
      "\tby dogma.slashnull.org (8.11.6/8.11.6) with ESMTP id g6Q4AC423036\n",
      "\tfor <tim_timhunt_net@spamtraps.taint.org>; Fri, 26 Jul 2002 05:10:13 +0100\n",
      "Received: from applenews.lists.apple.com (applenews.lists.apple.com [17.254.0.152])\n",
      "\tby timhunt.net (8.11.3/8.11.1) with ESMTP id g6Q49SE45947\n",
      "\tfor <sagfsg@fsg.com>; Fri, 26 Jul 2002 00:09:28 -0400 (EDT)\n",
      "\t(envelope-from owner-quicktime_news@applenews.lists.apple.com)\n",
      "Received: from localhost (daemon@localhost)\n",
      "        by applenews.lists.apple.com (8.11.6/8.11.6) with SMTP id g6Q3QAX10809\n",
      "        ; Thu, 25 Jul 2002 20:26:10 -0700 (PDT)\n",
      "Date: Thu, 25 Jul 2002 20:26:10 -0700 (PDT)\n",
      "Errors-to: owner-quicktime_news@applenews.lists.apple.com\n",
      "Received: by applenews.lists.apple.com (ulkbay_ailermay v1.5); Thu, 25 Jul 2002 20:13:25 -0700\n",
      "To: QuickTime News <quicktime_news@applenews.lists.apple.com>\n",
      "From: QuickTime News <quicktime_news@applenews.lists.apple.com>\n",
      "Subject: QuickTime News: July 26, 2002\n",
      "MIME-Version: 1.0\n",
      "Content-Type: multipart/alternative; charset=us-ascii;\n",
      "\tboundary=\"This_is_the_boundary_hip_ho\"\n",
      "Content-Transfer-Encoding: 7bit\n",
      "Precedence: bulk\n",
      "Message-ID: <bulk.1889.20020725201325@applenews.lists.apple.com>\n",
      "\n",
      "\n",
      "--This_is_the_boundary_hip_ho\n",
      "Content-Type: text/plain; charset=us-ascii\n",
      "Content-Transfer-Encoding: 7bit\n",
      "\n",
      "You appear to be using an email application that won't properly\n",
      "display the graphical (or HTML) version of our newsletter. Because\n",
      "we want you to enjoy reading QuickTime News, we recommend that you\n",
      "visit the following site and switch to the plain text version of\n",
      "this newsletter:\n",
      "\n",
      "    http://www.apple.com/enews/change/\n",
      "\n",
      "If you have trouble reading today's issue of QuickTime News, please\n",
      "consider visiting the following web page where it has been posted\n",
      "for your enjoyment:\n",
      "\n",
      "    http://www.apple.com/enews/currentqissue/\n",
      "    \n",
      "If you receive a blank message with an enclosure, drag the enclosure\n",
      "into the window of your web browser and today's issue of QuickTime News\n",
      "will display in your web browser.\n",
      "\n",
      "Thank you.\n",
      "\n",
      "\n",
      "--This_is_the_boundary_hip_ho\n",
      "Content-Type: text/html; charset=us-ascii\n",
      "Content-Transfer-Encoding: 7bit\n",
      "\n",
      "\n",
      "<!DOCTYPE HTML PUBLIC \"-//W3C//DTD HTML 4.01 Transitional//EN\">\n",
      "<html>\n",
      "<head>\n",
      "\t<title>QuickTime News: July 26, 2002</title>\n",
      "\t<meta name=\"generator\" content=\"BBEdit 6.0.1\">\n",
      "</head>\n",
      "<body background=\"http://a772.g.akamai.net/7/772/51/c241f0d493a981/www.apple.com/enews/eimages/stripes.gif\" bgcolor=\"#CCCCCC\">\n",
      "\n",
      "<!-- START MAIN TABLE -->\n",
      "<a name=\"top\"></a>\n",
      "\n",
      "<table border=\"0\" width=\"600\" cellspacing=\"0\" cellpadding=\"0\" align=\"center\">\n",
      "\t<tr>\n",
      "\t\t<td><img src=\"http://a772.g.akamai.net/7/772/51/9fa804f4688ffc/www.apple.com/enews/2002/05/images/box-topleft.gif\" alt=\"\" width=\"1\" height=\"14\" border=\"0\"></td>\n",
      "\t\t<td><img src=\"http://a772.g.akamai.net/7/772/51/c22ed219eeb953/www.apple.com/enews/2002/05/images/box-topmiddle.gif\" alt=\"\" width=\"598\" height=\"14\" border=\"0\"></td>\n",
      "\t\t<td><img src=\"http://a772.g.akamai.net/7/772/51/97518749dde4f5/www.apple.com/enews/2002/05/images/box-topright.gif\" alt=\"\" width=\"1\" height=\"14\" border=\"0\"></td>\n",
      "\t</tr>\n",
      "\t<tr>\n",
      "\t\t<td bgcolor=\"#7e7e7e\"><img src=\"http://a772.g.akamai.net/7/772/51/84485f130fd0fe/www.apple.com/enews/eimages/spacer.gif\" alt=\"\" width=\"1\" height=\"1\" border=\"0\"></td>\n",
      "\t\t<td bgcolor=\"#ffffff\">\n",
      "\t\t<a href=\"http://www.apple.com/quicktime/\"><img src=\"http://a772.g.akamai.net/7/772/51/8c1280c5572c24/www.apple.com/enews/2002/05/images/logo-quicktime.gif\" alt=\"\" width=\"366\" height=\"52\" border=\"0\"></a><a href=\"http://www.apple.com/enews/schedule/\"><img src=\"http://a772.g.akamai.net/7/772/51/405c7d71bf1a3b/www.apple.com/enews/2002/07/images/26vol.gif\" alt=\"\" width=\"232\" height=\"52\" border=\"0\"></a><br>\n",
      "\t\t<a href=\"http://www.apple.com/hotnews/\"><img src=\"http://a1552.g.akamai.net/7/1552/51/1e05f706dc3a33/www.apple.com/enews/2002/07/images/25ticker.gif\" alt=\"\" width=\"598\" height=\"28\" border=\"0\"></a><br><br>\n",
      "\t\t\n",
      "\t\t<table border=\"0\" cellpadding=\"0\" cellspacing=\"0\" width=\"598\">\n",
      "\t\t\t<tr>\n",
      "\t\t\t\t<td><img src=\"http://a772.g.akamai.net/7/772/51/84485f130fd0fe/www.apple.com/enews/eimages/spacer.gif\" alt=\"\" width=\"8\" height=\"1\" border=\"0\"></td>\n",
      "\t\t\t\t<td valign=\"top\">\n",
      "\t\t\t\t<img src=\"http://a772.g.akamai.net/7/772/51/93e5c294690bb5/www.apple.com/enews/eimages/thisissue.gif\" alt=\"In This Issue:\" width=\"150\" height=\"40\" border=\"0\"><br>\n",
      "\t\t\t\t<a href=\"#article1\"><img src=\"http://a772.g.akamai.net/7/772/51/3efcf8160adc84/www.apple.com/enews/eimages/toc_arrow.gif\" alt=\"\" width=\"11\" height=\"20\" border=\"0\"><img src=\"http://a772.g.akamai.net/7/772/51/bb9fb46de41f5f/www.apple.com/enews/2002/07/images/26qtc1.gif\" alt=\"\" width=\"340\" height=\"20\" border=\"0\"></a><br>\n",
      "\t\t\t\t<a href=\"#article2\"><img src=\"http://a772.g.akamai.net/7/772/51/3efcf8160adc84/www.apple.com/enews/eimages/toc_arrow.gif\" alt=\"\" width=\"11\" height=\"20\" border=\"0\"><img src=\"http://a772.g.akamai.net/7/772/51/f8e16e24427062/www.apple.com/enews/2002/07/images/26qtc2.gif\" alt=\"\" width=\"340\" height=\"20\" border=\"0\"></a><br>\n",
      "\t\t\t\t<a href=\"#article3\"><img src=\"http://a772.g.akamai.net/7/772/51/3efcf8160adc84/www.apple.com/enews/eimages/toc_arrow.gif\" alt=\"\" width=\"11\" height=\"20\" border=\"0\"><img src=\"http://a772.g.akamai.net/7/772/51/95c481448e9005/www.apple.com/enews/2002/07/images/26qtc3.gif\" alt=\"\" width=\"340\" height=\"20\" border=\"0\"></a><br>\n",
      "\t\t\t\t<a href=\"#article4\"><img src=\"http://a772.g.akamai.net/7/772/51/3efcf8160adc84/www.apple.com/enews/eimages/toc_arrow.gif\" alt=\"\" width=\"11\" height=\"20\" border=\"0\"><img src=\"http://a772.g.akamai.net/7/772/51/67f3124e242d18/www.apple.com/enews/2002/07/images/26qtc4.gif\" alt=\"\" width=\"340\" height=\"20\" border=\"0\"></a><br>\n",
      "\t\t\t\t<a href=\"#article5\"><img src=\"http://a772.g.akamai.net/7/772/51/3efcf8160adc84/www.apple.com/enews/eimages/toc_arrow.gif\" alt=\"\" width=\"11\" height=\"20\" border=\"0\"><img src=\"http://a772.g.akamai.net/7/772/51/9562dd6341274e/www.apple.com/enews/eimages/toc_qtpark.gif\" alt=\"\" width=\"340\" height=\"20\" border=\"0\"></a><br>\n",
      "\t\t\t\t<a href=\"#article1\"><img src=\"http://a772.g.akamai.net/7/772/51/3efcf8160adc84/www.apple.com/enews/eimages/toc_arrow.gif\" alt=\"\" width=\"11\" height=\"20\" border=\"0\"><img src=\"http://a772.g.akamai.net/7/772/51/7cee5fe5dea417/www.apple.com/enews/eimages/toc_qtmusic.gif\" alt=\"\" width=\"340\" height=\"20\" border=\"0\"></a><br>\n",
      "\t\t\t\t<a href=\"#article7\"><img src=\"http://a772.g.akamai.net/7/772/51/3efcf8160adc84/www.apple.com/enews/eimages/toc_arrow.gif\" alt=\"\" width=\"11\" height=\"20\" border=\"0\"><img src=\"http://a772.g.akamai.net/7/772/51/5de80697882f02/www.apple.com/enews/eimages/toc_quicktakes.gif\" alt=\"\" width=\"340\" height=\"20\" border=\"0\"></a><br>\n",
      "\t\t\t\t</td>\n",
      "\t\t\t\t<td>\n",
      "\t\t\t\t<a href=\"http://www.apple.com/trailers/wb/matrix_reloaded.html\"><img src=\"http://a772.g.akamai.net/7/772/51/f12e1402a6f4b5/www.apple.com/enews/2002/07/images/matrix2.jpg\" alt=\"\" width=\"160\" height=\"132\" border=\"0\"></a>\n",
      "\t\t\t\t</td>\n",
      "\t\t\t</tr>\n",
      "\t\t</table>\n",
      "\t\t<br>\n",
      "\t\t\n",
      "\t\t<table border=\"0\" cellpadding=\"0\" cellspacing=\"0\" width=\"598\">\n",
      "\t\t\t<tr>\n",
      "\t\t\t\t<td bgcolor=\"#e5e5e5\" colspan=\"3\"><img src=\"http://a772.g.akamai.net/7/772/51/358f94896524e7/www.apple.com/enews/2002/05/images/greypixel.gif\" alt=\"\" width=\"598\" height=\"1\" border=\"0\"></td>\n",
      "\t\t\t</tr>\n",
      "\t\t\t<tr>\n",
      "\t\t\t\t<td bgcolor=\"#ffffff\" valign=\"top\" width=\"377\">\n",
      "\t\t\t\t<img src=\"http://a772.g.akamai.net/7/772/51/84485f130fd0fe/www.apple.com/enews/eimages/spacer.gif\" alt=\"\" width=\"377\" height=\"1\" border=\"0\">\n",
      "\t\t\t\t\n",
      "\t\t\t\t<!-- Article 1 --><a name=\"article1\"></a>\n",
      "\t\t\t\t<table border=\"0\" cellpadding=\"8\" cellspacing=\"0\">\n",
      "\t\t\t\t\t<tr>\n",
      "\t\t\t\t\t\t<td><font size=2 face=\"Lucida Grande,Geneva,Arial,Helvetica,sans-serif\" class=\"L12\">\n",
      "\t\t\t\t\t\t<a href=\"#top\"><img src=\"http://a772.g.akamai.net/7/772/51/05d9778050e4e9/www.apple.com/enews/2002/07/images/26qh1.gif\" alt=\"\" width=\"344\" height=\"27\" border=\"0\"></a><br>\n",
      "\n",
      "\t\t\t\t\t\t<a href=\"http://www.apple.com/hotnews/articles/2002/07/mwny/\"><img src=\"http://a772.g.akamai.net/7/772/51/78c70455db9bfe/www.apple.com/enews/2002/07/images/nycab.jpg\" alt=\"\" width=\"155\" height=\"121\" border=\"0\" align=\"left\"></a>\n",
      "\t\t\t\t\t\tOn July 17, tens of thousands packed New York City&#146;s Jacob K. Javitz\n",
      "\t\t\t\t\t\tCenter&#151;and more than 50,000 tuned in online &#151; to watch Apple CEO\n",
      "\t\t\t\t\t\tSteve Jobs unveil exciting new Apple products and technologies at\n",
      "\t\t\t\t\t\tMacworld.\n",
      "\t\t\t\t\t\t<br><br>\n",
      "\t\t\t\t\t\tMiss the keynote? Not to worry, we already have an <a href=\"http://www.apple.com/quicktime/qtv/mwny02/\">MPEG-4 stream</a>\n",
      "\t\t\t\t\t\tavailable on our website.\n",
      "\t\t\t\t\t\t<br><br>\n",
      "\t\t\t\t\t\tWhat can you expect to see?\n",
      "\t\t\t\t\t\t<br><br>\n",
      "\t\t\t\t\t\tWatch Jobs highlight the amazing new features&#151;there are over\n",
      "\t\t\t\t\t\t150 of them&#151;in Jaguar, Mac OS X v10.2, due to ship in late August.\n",
      "\t\t\t\t\t\tLearn about the new benefits of Apple&#146;s online .Mac service. And\n",
      "\t\t\t\t\t\tcheck out the new 17-inch widescreen iMac, as well as the newest\n",
      "\t\t\t\t\t\tiPod models&#151;including iPod for Windows.\n",
      "\t\t\t\t\t\t</font>\n",
      "\t\t\t\t\t\t</td>\n",
      "\t\t\t\t\t</tr>\n",
      "\t\t\t\t</table>\n",
      "\t\t\t\t\n",
      "\t\t\t\t<img src=\"http://a772.g.akamai.net/7/772/51/358f94896524e7/www.apple.com/enews/2002/05/images/greypixel.gif\" alt=\"\" width=\"377\" height=\"1\" border=\"0\">\n",
      "\t\t\t\t\n",
      "\t\t\t\t<!-- Article 2 --><a name=\"article2\"></a>\n",
      "\t\t\t\t<table border=\"0\" cellpadding=\"8\" cellspacing=\"0\">\n",
      "\t\t\t\t\t<tr>\n",
      "\t\t\t\t\t\t<td><font size=2 face=\"Lucida Grande,Geneva,Arial,Helvetica,sans-serif\" class=\"L12\">\n",
      "\t\t\t\t\t\t<a href=\"#top\"><img src=\"http://a772.g.akamai.net/7/772/51/de19f93c7c8fd5/www.apple.com/enews/2002/07/images/26qh2.gif\" alt=\"\" width=\"344\" height=\"27\" border=\"0\"></a><br>\n",
      "\n",
      "\t\t\t\t\t\t<a href=\"http://www.apple.com/quicktime/products/qt/\"><img src=\"http://a772.g.akamai.net/7/772/51/b34cb1cb78c08a/www.apple.com/enews/2002/07/images/QTlogo.gif\" alt=\"\" width=\"100\" height=\"82\" border=\"0\" align=\"left\"></a>\n",
      "\t\t\t\t\t\tQuickTime 6 is now available for <a href=\"http://www.apple.com/quicktime/download/\">download</a>.\n",
      "\t\t\t\t\t\t<br><br>\n",
      "\t\t\t\t\t\tIncorporating MPEG-4 and its next-generation digital media\n",
      "\t\t\t\t\t\ttechnology, QuickTime 6 delivers an unparalleled multimedia\n",
      "\t\t\t\t\t\texperience. It features:\n",
      "\t\t\t\t\t\t<br clear=\"all\"><br>\n",
      "\t\t\t\t\t\t<table border=\"0\" cellpadding=\"0\" cellspacing=\"0\">\n",
      "\t\t\t\t\t\t\t<tr>\n",
      "\t\t\t\t\t\t\t\t<td valign=\"top\"><font size=2 face=\"Lucida Grande,Geneva,Arial,Helvetica,sans-serif\" class=\"L12\">&#149;&nbsp;&nbsp; </font></td>\n",
      "\t\t\t\t\t\t\t\t<td valign=\"top\"><font size=2 face=\"Lucida Grande,Geneva,Arial,Helvetica,sans-serif\" class=\"L12\">Instant-On streaming. No more waiting through buffer delays.\n",
      "\t\t\t\t\t\tInstant-On gives you instant access to whatever section of a movie\n",
      "\t\t\t\t\t\tyou want to jump to.</font></td>\n",
      "\t\t\t\t\t\t\t</tr>\n",
      "\t\t\t\t\t\t\t<tr>\n",
      "\t\t\t\t\t\t\t\t<td valign=\"top\"><font size=2 face=\"Lucida Grande,Geneva,Arial,Helvetica,sans-serif\" class=\"L12\">&#149;&nbsp;&nbsp; </font></td>\n",
      "\t\t\t\t\t\t\t\t<td valign=\"top\"><font size=2 face=\"Lucida Grande,Geneva,Arial,Helvetica,sans-serif\" class=\"L12\">Advanced Audio Coding (AAC). The new standard in professional audio,\n",
      "\t\t\t\t\t\tAAC provides more efficient compression than ever yet delivers\n",
      "\t\t\t\t\t\tsound quality rivaling that of uncompressed CD audio.</font></td>\n",
      "\t\t\t\t\t\t\t</tr>\n",
      "\t\t\t\t\t\t\t<tr>\n",
      "\t\t\t\t\t\t\t\t<td valign=\"top\"><font size=2 face=\"Lucida Grande,Geneva,Arial,Helvetica,sans-serif\" class=\"L12\">&#149;&nbsp;&nbsp; </font></td>\n",
      "\t\t\t\t\t\t\t\t<td valign=\"top\"><font size=2 face=\"Lucida Grande,Geneva,Arial,Helvetica,sans-serif\" class=\"L12\">An updated user interface. Accessing QuickTime content is now easier\n",
      "\t\t\t\t\t\tthan ever. We&#146;ve also added a new Favorites menu, so you can bookmark\n",
      "\t\t\t\t\t\tyou favorite QuickTime movies.</font></td>\n",
      "\t\t\t\t\t\t\t</tr>\n",
      "\t\t\t\t\t\t</table>\n",
      "\t\t\t\t\t\t<br>\n",
      "\t\t\t\t\t\tAnd that&#146;s just the <a href=\"http://www.apple.com/quicktime/products/qt/\">beginning</a> of the great QuickTime 6 story.\n",
      "\n",
      "\t\t\t\t\t\t</font>\n",
      "\t\t\t\t\t\t</td>\n",
      "\t\t\t\t\t</tr>\n",
      "\t\t\t\t</table>\n",
      "\t\t\t\t\n",
      "\t\t\t\t<img src=\"http://a772.g.akamai.net/7/772/51/358f94896524e7/www.apple.com/enews/2002/05/images/greypixel.gif\" alt=\"\" width=\"377\" height=\"1\" border=\"0\">\n",
      "\t\t\t\t\n",
      "\t\t\t\t<!-- Article 3 --><a name=\"article3\"></a>\n",
      "\t\t\t\t<table border=\"0\" cellpadding=\"8\" cellspacing=\"0\">\n",
      "\t\t\t\t\t<tr>\n",
      "\t\t\t\t\t\t<td><font size=2 face=\"Lucida Grande,Geneva,Arial,Helvetica,sans-serif\" class=\"L12\">\n",
      "\t\t\t\t\t\t<a href=\"#top\"><img src=\"http://a772.g.akamai.net/7/772/51/fa075b8742884b/www.apple.com/enews/2002/07/images/26qh3.gif\" alt=\"\" width=\"344\" height=\"27\" border=\"0\"></a><br>\n",
      "\t\t\t\t\t\t\n",
      "\t\t\t\t\t\t<a href=\"http://www.apple.com/ipod/\"><img src=\"http://a772.g.akamai.net/7/772/51/c69266217d00c8/www.apple.com/enews/2002/07/images/ipodwin.jpg\" alt=\"\" width=\"155\" height=\"165\" border=\"0\" align=\"left\"></a>\n",
      "\t\t\t\t\t\tWe know that QuickTime News readers love music. And soon, more of\n",
      "\t\t\t\t\t\tyou will be able to take your favorite tunes with you wherever you\n",
      "\t\t\t\t\t\tgo. That&#146;s because iPod, Apple&#146;s incredibly popular MP3 player, is\n",
      "\t\t\t\t\t\tnow available for both Mac and Windows users.\n",
      "\t\t\t\t\t\t<br><br>\n",
      "\n",
      "\t\t\t\t\t\t<a href=\"http://www.apple.com/ipod\">iPod for Windows</a> comes with the leading jukebox software for\n",
      "\t\t\t\t\t\tPCs&#151;MUSICMATCH Jukebox Plus. So you can easily manage your digital\n",
      "\t\t\t\t\t\tmusic library. Quickly transfer your music collection&#151;and\n",
      "\t\t\t\t\t\tplaylists&#151;to iPod via FireWire. Automatically sync with iPod when\n",
      "\t\t\t\t\t\tyour music library changes. And use it to convert your music CDs,\n",
      "\t\t\t\t\t\ttapes and vinyl to MP3s.\n",
      "\t\t\t\t\t\t<br><br>\n",
      "\t\t\t\t\t\tiPod for Windows ships in August, but you can order yours today from\n",
      "\t\t\t\t\t\tthe Apple Store. \n",
      "\n",
      "\n",
      "\t\t\t\t\t\t\n",
      "\t\t\t\t\t\t</font>\n",
      "\t\t\t\t\t\t</td>\n",
      "\t\t\t\t\t</tr>\n",
      "\t\t\t\t</table>\n",
      "\t\t\t\t\n",
      "\t\t\t\t<img src=\"http://a772.g.akamai.net/7/772/51/358f94896524e7/www.apple.com/enews/2002/05/images/greypixel.gif\" alt=\"\" width=\"377\" height=\"1\" border=\"0\">\n",
      "\t\t\t\t\n",
      "\t\t\t\t<!-- Article 4 --><a name=\"article4\"></a>\n",
      "\t\t\t\t<table border=\"0\" cellpadding=\"8\" cellspacing=\"0\">\n",
      "\t\t\t\t\t<tr>\n",
      "\t\t\t\t\t\t<td><font size=2 face=\"Lucida Grande,Geneva,Arial,Helvetica,sans-serif\" class=\"L12\">\n",
      "\t\t\t\t\t\t<a href=\"#top\"><img src=\"http://a772.g.akamai.net/7/772/51/eb4a44cf4859cc/www.apple.com/enews/2002/07/images/26qh4.gif\" alt=\"\" width=\"344\" height=\"28\" border=\"0\"></a><br><br>\n",
      "\n",
      "\t\t\t\t\t\t<a href=\"http://www.apple.com/quicktime/whatson/\"><img src=\"http://a772.g.akamai.net/7/772/51/ded24b6aeecb8f/www.apple.com/enews/2002/07/images/ozzy.jpg\" alt=\"\" width=\"130\" height=\"113\" border=\"0\" align=\"left\"></a>\n",
      "\t\t\t\t\t\tLike to find great QuickTime content all in one place? Visit our new\n",
      "\t\t\t\t\t\tstreamlined website. You&#146;ll now find links to a vast assortment of\n",
      "\t\t\t\t\t\tQuickTime video and audio consolidated onto our new <a href=\"http://www.apple.com/quicktime/whatson/\">What&#146;s On</a> page.\n",
      "\t\t\t\t\t\t<br><br>\n",
      "\t\t\t\t\t\tTune in, for example, to Ozzy Osbourne. Enjoying new-found celebrity\n",
      "\t\t\t\t\t\tthanks to his hit cable series, Ozzy performs &#147;Junkie&#148; live at Budokan on Epic \n",
      "\t\t\t\t\t\tRecords&#146; New Music Mondays.\n",
      "\t\t\t\t\t\t<br><br>\n",
      "\t\t\t\t\t\tOr explore the surreal world of realMyst. MacPlay&#146;s 3D version of\n",
      "\t\t\t\t\t\tthe classic game Myst takes you on a dreamlike journey of mystical\n",
      "\t\t\t\t\t\tadventure. Is it really just a game?\n",
      "\t\t\t\t\t\t<br><br>\n",
      "\t\t\t\t\t\tJump back into reality by visiting VRway. Over 3000 QuickTime VRs\n",
      "\t\t\t\t\t\ttake you to some of the most beautiful sites of Europe.\n",
      "\t\t\t\t\t\t\n",
      "\t\t\t\t\t\t</font>\n",
      "\t\t\t\t\t\t</td>\n",
      "\t\t\t\t\t</tr>\n",
      "\t\t\t\t</table>\n",
      "\t\t\t\t\n",
      "\t\t\t\t\n",
      "\t\t\t\t<img src=\"http://a772.g.akamai.net/7/772/51/358f94896524e7/www.apple.com/enews/2002/05/images/greypixel.gif\" alt=\"\" width=\"377\" height=\"1\" border=\"0\">\n",
      "\n",
      "\t\t\t\t<!-- Article 4b --><a name=\"article4\"></a>\n",
      "\t\t\t\t<table border=\"0\" cellpadding=\"8\" cellspacing=\"0\">\n",
      "\t\t\t\t\t<tr>\n",
      "\t\t\t\t\t\t<td><font size=2 face=\"Lucida Grande,Geneva,Arial,Helvetica,sans-serif\" class=\"L12\">\n",
      "\t\t\t\t\t\t<a href=\"#top\"><img src=\"http://a772.g.akamai.net/7/772/51/74d5945dcc6372/www.apple.com/enews/2002/05/images/03qh4.gif\" alt=\"\" width=\"344\" height=\"27\" border=\"0\"></a><br>\n",
      "\n",
      "\t\t\t\t\t\t<a href=\"http://www.apple.com/quicktime/upgrade/\"><img src=\"http://a772.g.akamai.net/7/772/51/5d9f53de4124f7/www.apple.com/enews/2002/07/images/qtpro.jpg\" alt=\"\" width=\"140\" height=\"125\" border=\"0\" align=\"left\"></a>\n",
      "\t\t\t\t\t\tEager to author content in the new international standard format for\n",
      "\t\t\t\t\t\tthe Internet&#151;MPEG-4? Now you can do so easily by upgrading to\n",
      "\t\t\t\t\t\tQuickTime 6 Pro.\n",
      "\t\t\t\t\t\t<br><br>\n",
      "\t\t\t\t\t\tWith QuickTime 6 Pro, not only can you harness the power of MPEG-4,\n",
      "\t\t\t\t\t\tbut you can play movies in full screen, edit movies by simply\n",
      "\t\t\t\t\t\tcutting and pasting, prepare movies for streaming.\n",
      "\t\t\t\t\t\t<br><br>\n",
      "\t\t\t\t\t\tLearn more about <a href=\"http://www.apple.com/quicktime/upgrade/\">QuickTime 6 Pro</a> on our website.\n",
      "\t\t\t\t\t\t\n",
      "\t\t\t\t\t\t<p align=\"center\">\n",
      "\t\t\t\t\t\t<img src=\"http://a772.g.akamai.net/7/772/51/82815b4b56f654/www.apple.com/enews/eimages/separator.jpg\" alt=\"\" width=\"33\" height=\"12\" border=\"0\" align=\"middle\">\t\t\t\t\n",
      "\t\t\t\t\t\t</p>\n",
      "\t\t\t\t\t\t\n",
      "\t\t\t\t\t\tFor those of you who want the ability to preview MPEG-2 content, we\n",
      "\t\t\t\t\t\tnow offer the <a href=\"http://www.apple.com/quicktime/products/mpeg2playback/\">QuickTime 6 MPEG-2 Playback Component</a>, available for\n",
      "\t\t\t\t\t\tpurchase at the online Apple Store.\n",
      "\t\t\t\t\t\t<br><br>\n",
      "\t\t\t\t\t\tBy adding this component to QuickTime 6, you have the perfect tool\n",
      "\t\t\t\t\t\tfor previewing and sharing your work with your clients throughout\n",
      "\t\t\t\t\t\tthe production process.\n",
      "\t\t\t\t\t\t\n",
      "\t\t\t\t\t\t</font>\n",
      "\t\t\t\t\t\t</td>\n",
      "\t\t\t\t\t</tr>\n",
      "\t\t\t\t</table>\n",
      "\t\t\t\t\n",
      "\t\t\t\t\n",
      "\t\t\t\t<img src=\"http://a772.g.akamai.net/7/772/51/358f94896524e7/www.apple.com/enews/2002/05/images/greypixel.gif\" alt=\"\" width=\"377\" height=\"1\" border=\"0\">\n",
      "\t\t\t\t\n",
      "\t\t\t\t<!-- Article 5 --><a name=\"article5\"></a>\n",
      "\t\t\t\t<table border=\"0\" cellpadding=\"8\" cellspacing=\"0\">\n",
      "\t\t\t\t\t<tr>\n",
      "\t\t\t\t\t\t<td><font size=2 face=\"Lucida Grande,Geneva,Arial,Helvetica,sans-serif\" class=\"L12\">\n",
      "\t\t\t\t\t\t<a href=\"#top\"><img src=\"http://a772.g.akamai.net/7/772/51/b1ef1322d15e1c/www.apple.com/enews/2002/05/images/31qh6.gif\" alt=\"\" width=\"204\" height=\"27\" border=\"0\"></a><br>\n",
      "\t\t\t\t\t\t\n",
      "\t\t\t\t\t\t<a href=\"http://www.apple.com/trailers/touchstone/signs/\"><img src=\"http://a772.g.akamai.net/7/772/51/fe5a07ea09f1a8/www.apple.com/enews/2002/07/images/signs.jpg\" alt=\"\" width=\"105\" height=\"150\" border=\"0\" align=\"right\"></a>\n",
      "\t\t\t\t\t\tIn rural Pennsylvania, pastor Graham Hess and his family are\n",
      "\t\t\t\t\t\tterrified when mysterious giant crop circles appear in their\n",
      "\t\t\t\t\t\tcornfield&#151;as well as around the world. Is it a sign from alien\n",
      "\t\t\t\t\t\tbeings? Or something else?\n",
      "\t\t\t\t\t\t<br><br>\n",
      "\t\t\t\t\t\tStarring Mel Gibson and directed by M. Night Shyamalan (&#147;The Sixth\n",
      "\t\t\t\t\t\tSense&#148;), &#147;<a href=\"http://www.apple.com/trailers/touchstone/signs/\">Signs</a>&#148; opens in U.S. theaters on August 2.\n",
      "\t\t\t\t\t\t<br><br>\n",
      "\t\t\t\t\t\tSome believe that supernatural forces create crop circles, while\n",
      "\t\t\t\t\t\tothers remain skeptical. To help you decide, Touchstone Pictures\n",
      "\t\t\t\t\t\tpresents images of actual circles, as well as interviews with\n",
      "\t\t\t\t\t\twitnesses and experts. Click on &#147;<a href=\"http://bventertainment.go.com/movies/signs/\">Is it a Sign?</a>&#148; to find out more.\n",
      "\n",
      "\t\t\t\t\t\t</font>\n",
      "\t\t\t\t\t\t</td>\n",
      "\t\t\t\t\t</tr>\n",
      "\t\t\t\t</table>\n",
      "\t\t\t\t\n",
      "\t\t\t\t<img src=\"http://a772.g.akamai.net/7/772/51/358f94896524e7/www.apple.com/enews/2002/05/images/greypixel.gif\" alt=\"\" width=\"377\" height=\"1\" border=\"0\">\n",
      "\t\t\t\t\n",
      "\t\t\t\t<table border=\"0\" cellpadding=\"8\" cellspacing=\"0\" width=\"100%\">\n",
      "\t\t\t\t\t<tr>\n",
      "\t\t\t\t\t\t<td align=\"center\"><font size=2 face=\"Lucida Grande,Geneva,Arial,Helvetica,sans-serif\" class=\"L12\">\n",
      "\t\t\t\t\t\t\n",
      "\t\t\t\t\t\tWe hope you enjoyed reading this issue of QuickTime News.<br>\n",
      "\t\t\t\t\t\tWe&#146;ll send your next issue on August 9.<br>\n",
      "\t\t\t\t\t\t</font>\n",
      "\t\t\t\t\t\t</td>\n",
      "\t\t\t\t\t</tr>\n",
      "\t\t\t\t</table>\n",
      "\n",
      "\t\t\t\t</td>\n",
      "\t\t\t\t<td bgcolor=\"#e5e5e5\" width=\"1\"><img src=\"http://a772.g.akamai.net/7/772/51/358f94896524e7/www.apple.com/enews/2002/05/images/greypixel.gif\" alt=\"\" width=\"1\" height=\"1\" border=\"0\"></td>\n",
      "\t\t\t\t<td bgcolor=\"#ffffff\" valign=\"top\" width=\"220\">\n",
      "\t\t\t\t<img src=\"http://a772.g.akamai.net/7/772/51/84485f130fd0fe/www.apple.com/enews/eimages/spacer.gif\" alt=\"\" width=\"220\" height=\"1\" border=\"0\"><br>\n",
      "\t\t\t\t\n",
      "\t\t\t\t<!-- Article 5 --><a name=\"article1\"></a>\n",
      "\t\t\t\t<table border=\"0\" cellpadding=\"8\" cellspacing=\"0\">\n",
      "\t\t\t\t\t<tr>\n",
      "\t\t\t\t\t\t<td><font size=2 face=\"Lucida Grande,Geneva,Arial,Helvetica,sans-serif\" class=\"L12\">\n",
      "\t\t\t\t\t\t<a href=\"#top\"><img src=\"http://a772.g.akamai.net/7/772/51/6f9427aa8f03c0/www.apple.com/enews/2002/05/images/03qh5.gif\" alt=\"\" width=\"204\" height=\"27\" border=\"0\"></a><br>\n",
      "\n",
      "\t\t\t\t\t\t<a href=\"http://getmusic.com/microsites/michaelbolton/\"><img src=\"http://a772.g.akamai.net/7/772/51/3d1a049d1ddfe2/www.apple.com/enews/2002/07/images/MBoltonCD.jpg\" alt=\"\" width=\"100\" height=\"100\" border=\"0\" align=\"left\"></a>\n",
      "\t\t\t\t\t\tAfter four years out of the spotlight, singer/songwriter Michael\n",
      "\t\t\t\t\t\tBolton returns with a new album, &#147;<a href=\"http://www.michaelboltonmusic.com\">Only a Woman Like You</a>.&#148; Watch the\n",
      "\t\t\t\t\t\tvideo for the first single (which bears the same name as the album),\n",
      "\t\t\t\t\t\tco-written by Bolton, country sensation Shania Twain, and her\n",
      "\t\t\t\t\t\thusband, record producer Mutt Lang.\n",
      "\t\t\t\t\t\t\n",
      "\t\t\t\t\t\t<p align=\"center\">\n",
      "\t\t\t\t\t\t<img src=\"http://a772.g.akamai.net/7/772/51/82815b4b56f654/www.apple.com/enews/eimages/separator.jpg\" alt=\"\" width=\"33\" height=\"12\" border=\"0\" align=\"middle\">\t\t\t\t\n",
      "\t\t\t\t\t\t</p>\n",
      "\t\t\t\t\t\t\n",
      "\t\t\t\t\t\t<a href=\"http://www.bethorton.mu\"><img src=\"http://a772.g.akamai.net/7/772/51/6e4cdf6a36f414/www.apple.com/enews/2002/07/images/bethorton.jpg\" alt=\"\" border=\"0\" align=\"right\"></a>\n",
      "\t\t\t\t\t\tBeth Orton&#151;the British singer/songwriter whose eagerly awaited third album arrives \n",
      "\t\t\t\t\t\ton US store shelves next week&#151;invited a few vocal friends to join her on &#147;<a href=\"http://www.bethorton.mu\">Daybreaker</a>.&#148;\n",
      "\t\t\t\t\t\tLike Emmylou Harris (who chimes in on &#147;God Song&#148;), the Chemical Brothers, Ben Watt, Johnny Marr and William Orbit.\n",
      "\t\t\t\t\t\t<br><br>\n",
      "\t\t\t\t\t\tVisit Orton&#146;s site and watch the music <i>video</i> for &#147;Concrete Sky&#148; and hear \n",
      "\t\t\t\t\t\tthree <i>audio</i> tracks from the album: &#147;Carmella,&#148; &#147;Daybreaker,&#148; and &#147;Thinking \n",
      "\t\t\t\t\t\tAbout Tomorrow.&#148;\n",
      "\n",
      "\t\t\t\t\t\t<p align=\"center\">\n",
      "\t\t\t\t\t\t<img src=\"http://a772.g.akamai.net/7/772/51/82815b4b56f654/www.apple.com/enews/eimages/separator.jpg\" alt=\"\" width=\"33\" height=\"12\" border=\"0\" align=\"middle\">\t\t\t\t\n",
      "\t\t\t\t\t\t</p>\n",
      "\t\t\t\t\n",
      "\t\t\t\t\t\tWhat&#146;s new on Columbia&#146;s Midweek Music?\n",
      "\t\t\t\t\t\t<br><br>\n",
      "\t\t\t\t\t\t<a href=\"http://columbiarecords.com/midweekmusic/\"><img src=\"http://a772.g.akamai.net/7/772/51/d27baaa466600d/www.apple.com/enews/2002/07/images/aerials.jpg\" alt=\"\" width=\"100\" height=\"86\" border=\"0\" align=\"right\"></a>\n",
      "\t\t\t\t\t\tOne of the headlining bands at this year&#146;s Ozzfest, L.A.&#146;s\n",
      "\t\t\t\t\t\tmulticultural metal men System of a Down perform &#147;<a href=\"http://columbiarecords.com/midweekmusic/\">Aerials</a>,&#148; the\n",
      "\t\t\t\t\t\tlatest from their 2001 album &#147;Toxicity.&#148; Watch the video through\n",
      "\t\t\t\t\t\tJuly 31.\n",
      "\t\t\t\t\t\t<br><br>\n",
      "\t\t\t\t\t\t\n",
      "\t\t\t\t\t\tAnd from <i>July 31 to August 7</i>, check out &#147;<a href=\"http://columbiarecords.com/midweekmusic/\">Girls of Summer</a>,&#148; the\n",
      "\t\t\t\t\t\tvideo for one of two new tracks included on the classic compilation,\n",
      "\t\t\t\t\t\t&#147;O Yeah! Ultimate Aerosmith Hits.&#148;\n",
      "\t\t\t\t\t\t\t\t\t\t\t\t\n",
      "\t\t\t\t\t\t<p align=\"center\">\n",
      "\t\t\t\t\t\t<img src=\"http://a772.g.akamai.net/7/772/51/82815b4b56f654/www.apple.com/enews/eimages/separator.jpg\" alt=\"\" width=\"33\" height=\"12\" border=\"0\" align=\"middle\">\t\t\t\t\n",
      "\t\t\t\t\t\t</p>\n",
      "\t\t\t\t\t\t\t\t\t\t\t\t\n",
      "\t\t\t\t\t\t&#147;They&#146;re personal/political odes with the bite of twenty\n",
      "\t\t\t\t\t\trottweilers. Passionate songs full of fear and loathing, but with a\n",
      "\t\t\t\t\t\tpop rush.&#148; So says the REM-inspired, London band Wilt about their\n",
      "\t\t\t\t\t\tnew album, &#147;My Medicine.&#148;\n",
      "\t\t\t\t\t\t<br><br>\n",
      "\t\t\t\t\t\tReady for a dose? Then tune in to hear <a href=\"http://www.w-mm.co.uk\">eleven complete tracks</a>.\n",
      "\t\t\t\t\t\t\t\t\t\t\t\t\n",
      "\t\t\t\t\t\t<p align=\"center\">\n",
      "\t\t\t\t\t\t<img src=\"http://a772.g.akamai.net/7/772/51/82815b4b56f654/www.apple.com/enews/eimages/separator.jpg\" alt=\"\" width=\"33\" height=\"12\" border=\"0\" align=\"middle\">\t\t\t\t\n",
      "\t\t\t\t\t\t</p>\n",
      "\t\t\t\t\t\t\n",
      "\t\t\t\t\t\t<a href=\"http://www.rhino.com/fun/listeningparties/78184_PartyPlayer.mgi2?P=RHIQT\"><img src=\"http://a772.g.akamai.net/7/772/51/59514d2e33f301/www.apple.com/enews/2002/07/images/RandyTravis.jpg\" alt=\"\" width=\"100\" height=\"90\" border=\"0\" align=\"left\"></a>\n",
      "\t\t\t\t\t\tIn 1986, with his debut album &#147;Storms of Life,&#148; Randy Travis became\n",
      "\t\t\t\t\t\tthe first country music artist to go multi-platinum. &#147;Trail of\n",
      "\t\t\t\t\t\tMemories: The Randy Travis Anthology&#148; brings together over 40 of the\n",
      "\t\t\t\t\t\tlegendary star&#146;s hits from 1986 to 1999, including duets with George\n",
      "\t\t\t\t\t\tJones, B.B. King, Tammy Wynette, and Merle Haggard. Join the <a href=\"http://www.rhino.com/fun/listeningparties/78184_PartyPlayer.mgi2?P=RHIQT\">Randy\n",
      "\t\t\t\t\t\tTravis Listening Party</a> and enjoy Disc One of this 2-disc collection.\n",
      "\t\t\t\t\t\t\t\t\t\t\t\t\n",
      "\t\t\t\t\t\t\n",
      "\t\t\t\t\t\t<p align=\"center\">\n",
      "\t\t\t\t\t\t<img src=\"http://a772.g.akamai.net/7/772/51/82815b4b56f654/www.apple.com/enews/eimages/separator.jpg\" alt=\"\" width=\"33\" height=\"12\" border=\"0\" align=\"middle\">\t\t\t\t\n",
      "\t\t\t\t\t\t</p>\n",
      "\t\t\t\t\t\t\n",
      "\t\t\t\t\t\tThe music of alternative rock band <a href=\"http://www.swither.com/\">Swither</a> evokes both the opacity\n",
      "\t\t\t\t\t\tand richness of human emotions. Watch the MPEG-4 videos of &#147;Here and\n",
      "\t\t\t\t\t\tNow&#148; and &#147;Pri-Mer.&#148;\n",
      "\t\t\t\t\t\t\t\t\t\t\t\t\n",
      "\t\t\t\t\t\t</font>\n",
      "\t\t\t\t\t\t</td>\n",
      "\t\t\t\t\t</tr>\n",
      "\t\t\t\t</table>\n",
      "\t\t\t\t\n",
      "\t\t\t\t<img src=\"http://a772.g.akamai.net/7/772/51/358f94896524e7/www.apple.com/enews/2002/05/images/greypixel.gif\" alt=\"\" width=\"220\" height=\"1\" border=\"0\">\n",
      "\t\t\t\t\n",
      "\t\t\t\t<!-- Article 7 --><a name=\"article7\"></a>\n",
      "\t\t\t\t<table border=\"0\" cellpadding=\"8\" cellspacing=\"0\">\n",
      "\t\t\t\t\t<tr>\n",
      "\t\t\t\t\t\t<td><font size=2 face=\"Lucida Grande,Geneva,Arial,Helvetica,sans-serif\" class=\"L12\">\n",
      "\t\t\t\t\t\t<a href=\"#top\"><img src=\"http://a772.g.akamai.net/7/772/51/39bcd94d38b883/www.apple.com/enews/2002/05/images/02ih8.gif\" alt=\"\" width=\"204\" height=\"27\" border=\"0\"></a><br>\n",
      "\t\t\t\t\t\t\n",
      "\t\t\t\t\t\t&#147;So much music, it makes me feel powerful.&#148; That&#146;s <a href=\"http://www.apple.com/hotnews/articles/2002/07/mwny/hamiltonmorris.html\">Hamilton Morris</a>\n",
      "\t\t\t\t\t\ttalking about his iPod in one of the new ads featured in last\n",
      "\t\t\t\t\t\tweek&#146;s Macworld New York expo. Catch the QuickTime movie.\n",
      "\n",
      "\t\t\t\t\t\t<p align=\"center\">\n",
      "\t\t\t\t\t\t<img src=\"http://a772.g.akamai.net/7/772/51/82815b4b56f654/www.apple.com/enews/eimages/separator.jpg\" alt=\"\" width=\"33\" height=\"12\" border=\"0\" align=\"middle\">\t\t\t\t\n",
      "\t\t\t\t\t\t</p>\n",
      "\n",
      "\t\t\t\t\t\t<img src=\"http://a772.g.akamai.net/7/772/51/3dfa419404e68b/www.apple.com/enews/2002/07/images/tiefly.jpg\" alt=\"\" width=\"100\" height=\"76\" border=\"0\" align=\"right\">\n",
      "\t\t\t\t\t\tHow good are your fly-tying techniques? Watch these tutorials from\n",
      "\t\t\t\t\t\tabout.com and learn how fly fishermen tie one on the right way.\n",
      "\t\t\t\t\t\t\n",
      "\t\t\t\t\t\tFirst up, watch <a href=\"http://flyfishing.about.com/library/ffm/ftb/aajbwhipfinish.htm\">QuickTime video seminars</a> illustrating how to tie the\n",
      "\t\t\t\t\t\tDouble Hitch and Hand Whip-Finish and how to use a Matarelli\n",
      "\t\t\t\t\t\tWhip-finish Tool.\n",
      "\t\t\t\t\t\t<br><br>\n",
      "\t\t\t\t\t\tThen, in <a href=\"http://flyfishing.miningco.com/library/ffm/skills/aajbknotvideos.htm\">another video seminar</a>, find out how to tie the Improved\n",
      "\t\t\t\t\t\tClinch Knot, Non-Slip Loop, George Harvey Dry-Fly Knot, and\n",
      "\t\t\t\t\t\tNail-less Nail Knot.\n",
      "\n",
      "\t\t\t\t\t\t<p align=\"center\">\n",
      "\t\t\t\t\t\t<img src=\"http://a772.g.akamai.net/7/772/51/82815b4b56f654/www.apple.com/enews/eimages/separator.jpg\" alt=\"\" width=\"33\" height=\"12\" border=\"0\" align=\"middle\">\t\t\t\t\n",
      "\t\t\t\t\t\t</p>\n",
      "\t\t\t\t\t\t\n",
      "\t\t\t\t\t\tIf you&#146;re dying to know what the dead relatives of famous people are\n",
      "\t\t\t\t\t\tthinking, investigate the celebrity readings on psychic John\n",
      "\t\t\t\t\t\tEdward&#146;s <a href=\"http://www.scifi.com/johnedward/celebrity/\">Crossing Over</a> website.\n",
      "\n",
      "\t\t\t\t\t\t</font>\n",
      "\t\t\t\t\t\t</td>\n",
      "\t\t\t\t\t</tr>\n",
      "\t\t\t\t</table>\n",
      "\n",
      "\t\t\t\t</td>\n",
      "\t\t\t</tr>\n",
      "\t\t\t<tr>\n",
      "\t\t\t\t<td bgcolor=\"#e5e5e5\" colspan=\"3\"><img src=\"http://a772.g.akamai.net/7/772/51/358f94896524e7/www.apple.com/enews/2002/05/images/greypixel.gif\" alt=\"\" width=\"598\" height=\"1\" border=\"0\"></td>\n",
      "\t\t\t</tr>\n",
      "\t\t\t<tr>\n",
      "\t\t\t\t<td bgcolor=\"#ffffff\" colspan=\"3\">\n",
      "\t\t\t\t\n",
      "\t\t\t\t<table border=\"0\" cellpadding=\"8\" cellspacing=\"0\">\n",
      "\t\t\t\t\t<tr>\n",
      "\t\t\t\t\t\t<td><font face=\"Geneva, Verdana, Arial, Helvetica, sans-serif\" size=\"1\" class=\"G10\">\n",
      "\t\t\t\t\t\t\n",
      "\t\t\t\t\t\tQuickTime News is a free, bi-weekly email publication.<br><br>\n",
      "\t\t\n",
      "\t\t\t\t\t\tEvent dates are subject to change. Some products, programs, or promotions are not available outside the U.S. Visit your local \n",
      "\t\t\t\t\t\tApple site or call your local authorized Apple reseller for more information. Prices are estimated retail prices and are listed \n",
      "\t\t\t\t\t\tin U.S. dollars. Product specifications are subject to change.\t\t\n",
      "\t\t\t\t\t\t\n",
      "\t\t\t\t\t\t</font></td>\n",
      "\t\t\t\t\t</tr>\n",
      "\t\t\t\t</table>\n",
      "\t\t\t\t\n",
      "\t\t\t\t</td>\n",
      "\t\t\t</tr>\n",
      "\t\t\t<tr>\n",
      "\t\t\t\t<td bgcolor=\"#e5e5e5\" colspan=\"3\"><img src=\"http://a772.g.akamai.net/7/772/51/358f94896524e7/www.apple.com/enews/2002/05/images/greypixel.gif\" alt=\"\" width=\"598\" height=\"1\" border=\"0\"></td>\n",
      "\t\t\t</tr>\n",
      "\t\t\t<tr>\n",
      "\t\t\t\t<td bgcolor=\"#ffffff\" colspan=\"3\" align=\"center\">\n",
      "\t\t\t\t\n",
      "\t\t\t\t<table border=\"0\" cellpadding=\"8\" cellspacing=\"0\">\n",
      "\t\t\t\t\t<tr>\n",
      "\t\t\t\t\t\t<td align=\"center\"><font face=\"Geneva, Verdana, Arial, Helvetica, sans-serif\" size=\"1\" class=\"G10\">\n",
      "\t\t\t\t\t\t\n",
      "\t\t\t\t\t\t<img src=\"http://a772.g.akamai.net/7/772/51/c219cc85bc9fbf/www.apple.com/enews/eimages/red_apple_logo.gif\" width=\"25\" height=\"30\" border=\"0\" alt=\"\"><br>\n",
      "\t\t\t\t\t\t\n",
      "\t\t\t\t\t\tCopyright&#169;2002 Apple Computer, Inc.&nbsp;&nbsp;<a href=\"http://www.apple.com/legal/default.html\">All Rights Reserved</a><br>\n",
      "\t\t\t\t\t\t<a href=\"http://www.apple.com/enews/subscribe/\">Subscribe</a> | <a href=\"http://www.apple.com/enews/unsubscribe/\">Unsubscribe</a> | <a href=\"http://www.apple.com/enews/change/\">Change Settings</a> | <a href=\"http://www.apple.com/legal/privacy/\">Privacy Policy</a></font>\n",
      "\t\t\t\t\t\t\n",
      "\t\t\t\t\t\t</font></td>\n",
      "\t\t\t\t\t</tr>\n",
      "\t\t\t\t</table>\n",
      "\t\t\t\t\n",
      "\t\t\t\t</td>\n",
      "\t\t\t</tr>\n",
      "\t\t</table>\n",
      "\t\t\n",
      "\t\t</td>\t\t\n",
      "\t\t<td bgcolor=\"#7e7e7e\"><img src=\"http://a772.g.akamai.net/7/772/51/84485f130fd0fe/www.apple.com/enews/eimages/spacer.gif\" alt=\"\" width=\"1\" height=\"1\" border=\"0\"></td>\n",
      "\t</tr>\t\t\n",
      "\t<tr>\n",
      "\t\t<td colspan=\"3\"><img src=\"http://a772.g.akamai.net/7/772/51/aa230f243aeaa0/www.apple.com/enews/2002/05/images/box-bottom.gif\" alt=\"\" width=\"600\" height=\"12\" border=\"0\"></td>\n",
      "\t</tr>\n",
      "</table>\n",
      "\n",
      "\n",
      "</body>\n",
      "\n",
      "\n",
      "\n",
      "\n",
      "--This_is_the_boundary_hip_ho--\n",
      "\n",
      "\n",
      " Return-Path: ler@lerami.lerctr.org\n",
      "Delivery-Date: Mon Sep  9 08:44:17 2002\n",
      "Received: via dmail-2002(12) for +lists/pgsql/sql; Mon, 9 Sep 2002 08:44:17 -0500 (CDT)\n",
      "Return-Path: <pgsql-sql-owner+M9320@postgresql.org>\n",
      "Received: from relay1.pgsql.com (relay1.pgsql.com [64.49.215.129])\n",
      "\tby lerami.lerctr.org (8.12.2/8.12.2/20020902/$Revision: 1.30 $) with ESMTP id g89DiBE9024795\n",
      "\tfor <ler@lerctr.org>; Mon, 9 Sep 2002 08:44:12 -0500 (CDT)\n",
      "Received: from postgresql.org (postgresql.org [64.49.215.8])\n",
      "\tby relay1.pgsql.com (Postfix) with ESMTP\n",
      "\tid 98ADA743D68; Mon,  9 Sep 2002 09:43:52 -0400 (EDT)\n",
      "Received: from localhost (postgresql.org [64.49.215.8])\n",
      "\tby postgresql.org (Postfix) with ESMTP id 413114763CA\n",
      "\tfor <pgsql-sql@postgresql.org>; Mon,  9 Sep 2002 04:57:48 -0400 (EDT)\n",
      "Received: from addr-mx02.addr.com (addr-mx02.addr.com [209.249.147.146])\n",
      "\tby postgresql.org (Postfix) with ESMTP id EE82C4763BE\n",
      "\tfor <pgsql-sql@postgresql.org>; Mon,  9 Sep 2002 04:57:46 -0400 (EDT)\n",
      "Received: from proxy1.addr.com (proxy1.addr.com [209.249.147.28])\n",
      "\tby addr-mx02.addr.com (8.12.5/8.12.2) with ESMTP id g898vlSV060755\n",
      "\tfor <pgsql-sql@postgresql.org>; Mon, 9 Sep 2002 01:57:47 -0700 (PDT)\n",
      "Received: from JD1 ([202.71.153.170])\n",
      "\tby proxy1.addr.com (8.11.6/8.9.1) with SMTP id g898vks91718\n",
      "\tfor <pgsql-sql@postgresql.org>; Mon, 9 Sep 2002 01:57:46 -0700 (PDT)\n",
      "\t(envelope-from jayps@addr.com)(envelope-to <pgsql-sql@postgresql.org>)\n",
      "Message-ID: <005101c257df$0343be50$a800a8c0@blraddrcom>\n",
      "From: \"Jay\" <jayps@addr.com>\n",
      "To: <pgsql-sql@postgresql.org>\n",
      "Subject: [SQL] Database joins\n",
      "Date: Mon, 9 Sep 2002 14:28:04 +0530\n",
      "MIME-Version: 1.0\n",
      "X-Priority: 3\n",
      "X-MSMail-Priority: Normal\n",
      "X-Mailer: Microsoft Outlook Express 6.00.2600.0000\n",
      "X-MimeOLE: Produced By Microsoft MimeOLE V6.00.2600.0000\n",
      "X-Scanned-By: MIMEDefang 2.15 (www dot roaringpenguin dot com slash mimedefang)\n",
      "X-Virus-Scanned: by amavisd-milter (http://amavis.org/)\n",
      "X-Virus-Scanned: by AMaViS new-20020517\n",
      "Precedence: bulk\n",
      "Sender: pgsql-sql-owner@postgresql.org\n",
      "Content-Type: multipart/alternative; boundary=\"----=_NextPart_000_004E_01C2580D.1BC61260\"\n",
      "X-Status: \n",
      "X-Keywords: \n",
      "\n",
      "This is a multi-part message in MIME format.\n",
      "\n",
      "------=_NextPart_000_004E_01C2580D.1BC61260\n",
      "Content-Type: text/plain;\n",
      "\tcharset=\"iso-8859-1\"\n",
      "Content-Transfer-Encoding: quoted-printable\n",
      "\n",
      "Hi,\n",
      "I have created two databases, db1 and db2  in my POSTGRESQL database system.\n",
      "And both the databases contains few tables also.\n",
      "Could you please help me to write a query which should retrieve data from b=\n",
      "oth the databases\n",
      "(Database joins and table joins)\n",
      "Expecting and earliest reply\n",
      "Regards\n",
      "Jay\n",
      "\n",
      "\n",
      "------=_NextPart_000_004E_01C2580D.1BC61260\n",
      "Content-Type: text/html;\n",
      "\tcharset=\"iso-8859-1\"\n",
      "Content-Transfer-Encoding: quoted-printable\n",
      "\n",
      "<!DOCTYPE HTML PUBLIC \"-//W3C//DTD HTML 4.0 Transitional//EN\">\n",
      "<HTML><HEAD>\n",
      "<META http-equiv=3DContent-Type content=3D\"text/html; charset=3Diso-8859-1\">\n",
      "<META content=3D\"MSHTML 6.00.2719.2200\" name=3DGENERATOR>\n",
      "<STYLE></STYLE>\n",
      "</HEAD>\n",
      "<BODY bgColor=3D#ffffff>\n",
      "<DIV><FONT face=3DArial color=3D#800080 size=3D2>Hi,</FONT></DIV>\n",
      "<DIV><FONT face=3DArial color=3D#800080 size=3D2>I have created two databas=\n",
      "es,=20\n",
      "db1&nbsp;and db2 &nbsp;in my POSTGRESQL database system.</FONT></DIV>\n",
      "<DIV><FONT face=3DArial color=3D#800080 size=3D2>And both the databases con=\n",
      "tains few=20\n",
      "tables also.</FONT></DIV>\n",
      "<DIV><FONT face=3DArial color=3D#800080 size=3D2>Could you please help me t=\n",
      "o write a=20\n",
      "query which should retrieve data from both the databases</FONT></DIV>\n",
      "<DIV><FONT face=3DArial color=3D#800080 size=3D2>(Database joins and table=\n",
      "=20\n",
      "joins)</FONT></DIV>\n",
      "<DIV><FONT face=3DArial color=3D#800080 size=3D2>Expecting and earliest=20\n",
      "reply</FONT></DIV>\n",
      "<DIV><FONT face=3DArial color=3D#800080 size=3D2>Regards</FONT></DIV>\n",
      "<DIV><FONT face=3DArial color=3D#800080 size=3D2>Jay</FONT></DIV>\n",
      "<DIV><FONT face=3DArial color=3D#800080 size=3D2></FONT>&nbsp;</DIV></BODY>=\n",
      "</HTML>\n",
      "\n",
      "------=_NextPart_000_004E_01C2580D.1BC61260--\n",
      "\n",
      "\n"
     ]
    }
   ],
   "source": [
    "print(FP_train[0], FP_train[10], FP_train[20])"
   ]
  },
  {
   "cell_type": "code",
   "execution_count": 76,
   "metadata": {},
   "outputs": [
    {
     "name": "stdout",
     "output_type": "stream",
     "text": [
      "From rathcairn@eircom.net  Mon Jun 24 17:05:37 2002\n",
      "Return-Path: rathcairn@eircom.net\n",
      "Delivery-Date: Tue May 21 16:22:21 2002\n",
      "Received: from mandark.labs.netnoteinc.com ([213.105.180.140]) by\n",
      "    dogma.slashnull.org (8.11.6/8.11.6) with ESMTP id g4LFARe13905 for\n",
      "    <jm@jmason.org>; Tue, 21 May 2002 16:10:29 +0100\n",
      "Received: from mail03.svc.cra.dublin.eircom.net\n",
      "    (mail03.svc.cra.dublin.eircom.net [159.134.118.19]) by\n",
      "    mandark.labs.netnoteinc.com (8.11.2/8.11.2) with SMTP id g4LFA7D26547 for\n",
      "    <jm@netnoteinc.com>; Tue, 21 May 2002 16:10:12 +0100\n",
      "Received: (qmail 26210 messnum 563502 invoked from\n",
      "    network[159.134.184.93/p93.as2.virginia1.eircom.net]); 21 May 2002\n",
      "    15:09:42 -0000\n",
      "Received: from p93.as2.virginia1.eircom.net (HELO r60qn) (159.134.184.93)\n",
      "    by mail03.svc.cra.dublin.eircom.net (qp 26210) with SMTP; 21 May 2002\n",
      "    15:09:42 -0000\n",
      "Message-Id: <00c701c200d9$a14bd540$5db8869f@r60qn>\n",
      "From: \"rathcairn\" <rathcairn@eircom.net>\n",
      "To: \"Zofia\"\n",
      "    <m22527@24h.co.jp>, <zen5@moroccomail.com>, <xxx2@ewasher.org>,\n",
      "    <x8350w24@surftimemag.com>, <wtilson19348@joymail.com>, <wfh5@wfh.org>,\n",
      "    \"Werner Gebert\"\n",
      "    <Werner.Gebert@t-online.de>,\n",
      "    \"Wendy O'Sullivan\"\n",
      "    <dwrlc@indigo.ie>,\n",
      "    \"Weedman\"\n",
      "    <fddgl@ella.hu>,\n",
      "    \"Weedman\"\n",
      "    <bxabl@dit.upm.es>,\n",
      "    \"Weedman\"\n",
      "    <uzicz@eagle.acadiau.ca>, <webmaster@korcin.com>, <web-cr@wallon.net>,\n",
      "    \"Wasted\"\n",
      "    <abykwlldfsur@egertp.ericsson.se>, <vv0033777@yahoo.com>,\n",
      "    <voiyt786@priestmail.com>, <viagraonline_376@koreainsights.com>,\n",
      "    \"Viagra to your door\"\n",
      "    <sales@globalscoop.com>, <veling@indigo.ie>,\n",
      "    \"Vanessa Roberts\"\n",
      "    <abruka@hotmail.com>,\n",
      "    \"val nelson\"\n",
      "    <valnelson@eircom.net>, <Vacation@msn.com>, <v522584@asia-links.com>,\n",
      "    <uweudj@yahoo.com>, <usave9507@eudoramail.com>, <usave783@arabia.com>,\n",
      "    \"U.S. Bachelors\"\n",
      "    <bachclub@usa.com>,\n",
      "    \"trim visitor centre\"\n",
      "    <trimvisitorcenter@eircom.net>, =?iso-8859-1?Q?Treasa_U=ED_Mh=E1irt=EDn?=\n",
      "    <treasauimhairtin@ireland.com>, <Tracy8753l27@yahoo.com>,\n",
      "    =?iso-8859-1?Q?Tracey_N=ED_Bhreathnach?= <treacybwalsh@hotmail.com>,\n",
      "    <tophatpub@tiscali.co.uk>, <tonylyons2744@spartan.dnet.co.uk>,\n",
      "    \"Tony Parker, BBC\"\n",
      "    <tony@reallife.co.uk>,\n",
      "    \"Tony McManus\"\n",
      "    <_mcmanust@eircom.net>,\n",
      "    \"Tony Corley\"\n",
      "    <t.corley@heythrop.ac.uk>, =?iso-8859-1?Q?Tom=E1s_Jim_Mac_Gearailt?=\n",
      "    <cfcdteo@iol.ie>, <tom.richardson@ie.pwcglobal.com>,\n",
      "    \"Tom O'Bryan\"\n",
      "    <obryanco@iol.ie>,\n",
      "    \"Tom Farrell\"\n",
      "    <tom@frontend.com>, <Tilliwin@aol.com>,\n",
      "    \"Terence Corish\"\n",
      "    <tc@clubi.ie>,\n",
      "    \"Tena Duarte\"\n",
      "    <drwatson8914@freemail.hu>,\n",
      "    \"Ted Creighton\"\n",
      "    <creighton@idirect.com>,\n",
      "    \"Tamas Pelyhe\"\n",
      "    <mhe@matawnet.hu>, =?iso-8859-1?Q?Tadhg_O_D=FAshl=E1ine?=\n",
      "    <Nua.Ghaeilge@may.ie>, <t3219@k.ro>, <t20476@i-france.com>,\n",
      "    <systemax20022002@yahoo.com>,\n",
      "    \"System Administrator\"\n",
      "    <postmaster@udaras.ie>,\n",
      "    \"Sunday Times\"\n",
      "    <paul.colgan@sunday-times.o.uk>,\n",
      "    \"Sunday Business Post\"\n",
      "    <sbpost@iol.ie>, <sue@hotmail.com>,\n",
      "    \"Sue Rocks\"\n",
      "    <sue@haemophilia.org.uk>,\n",
      "    \"=?iso-8859-1?B?U3Rpb2bhbiDTIENvbG3haW4=?=\"\n",
      "    <scoleman@may.ie>,\n",
      "    \"Stephen Shannon\"\n",
      "    <sshannon@meathcoco.ie>,\n",
      "    \"Stephen Price\"\n",
      "    <sprice@todayfm.com>,\n",
      "    \"Staff\"\n",
      "    <loretocrumlin.ias@tinet.ie>, <spailpin@eircom.net>,\n",
      "    <sophie.lacoste@only-yellow-pages.com>,\n",
      "    \"Smart Investor\"\n",
      "    <newsales@fl2ny.com>, <slangermanazk1@hotmail.com>, <skls@yahoo.com>,\n",
      "    <Siobhan.NiChofaigh@infineon.com>, =?iso-8859-1?Q?Siobh=E1n_N=ED_Laoire?=\n",
      "    <slaoire@celt.dias.ie>, <SIMON.BARNES@YOUR-MOVE.CO.UK>,\n",
      "    =?iso-8859-1?B?U2ltb24g0yBDcvNpbu1u?= <simoncronin@hotmail.com>,\n",
      "    =?iso-8859-1?Q?Simon_O_Cr=F3in=EDn?= <croninsimon@ireland.com>,\n",
      "    =?iso-8859-1?Q?Simon_O_Cr=F3in=EDn?= <croininsimon@ireland.com>,\n",
      "    \"Shaw Graham\"\n",
      "    <shawgraham@nireland.com>,\n",
      "    \"Shaquana Samples\"\n",
      "    <domenic.philipp@freemail.hu>,\n",
      "    \"Shane Diffily\"\n",
      "    <sdiffily@comhdhail.ie>,\n",
      "    \"SeXieRachel\"\n",
      "    <sexyrachel@braintaco.com>, =?iso-8859-1?Q?Seosaimh=EDn_N=ED_Bheaglaoich?=\n",
      "    <nibheas@rte.ie>, <sender5736x53@aol.com>, <seftopbox@stbmail.com>,\n",
      "    =?iso-8859-1?Q?Sean-N=F3s_Cois_Life?= <seannoscoislife@eircom.net>,\n",
      "    \"sean simpson\"\n",
      "    <simpsonsp@hotmail.com>,\n",
      "    \"Sean O'Sullivan\"\n",
      "    <saosull@indigo.ie>, =?iso-8859-1?Q?Se=E1n_=D3_Riain?=\n",
      "    <seanoriain@tinet.ie>, =?iso-8859-1?Q?Se=E1n_=D3_Riain?=\n",
      "    <seanoriain@eircom.net>, =?iso-8859-1?Q?Sean_=D3_Daimh=EDn?=\n",
      "    <seanodaimh@aol.com>,\n",
      "    \"Sean Mac Aoire\"\n",
      "    <seanmacaoire@netscape.net>,\n",
      "    \"Sean A O'Sullivan\"\n",
      "    <sean_a-o'sullivan@bourns.com>,\n",
      "    \"=?iso-8859-1?B?U+lhbXVzINMgTulpbGw=?=\"\n",
      "    <seamusoneill@weandus.com>,\n",
      "    \"=?iso-8859-1?B?U+lhbXVzINMgQ3Jvc+Fpbg==?=\"\n",
      "    <crosson@clubi.ie>, =?iso-8859-1?Q?S=E9amus_=D3_Connaill?=\n",
      "    <jimconnell@eircom.net>, <scooney@emirates.net.ae>, <save5749@yahoo.com>,\n",
      "    <save5459@arabia.com>,\n",
      "    \"Sandra Nic Iomhair\"\n",
      "    <antseanbheairic@eircom.net>, <sales@assuredtraffic.com>,\n",
      "    <sadataycow9345@eudoramail.com>,\n",
      "    \"sabhailteacht bothar\"\n",
      "    <sabhail@yahoo.com>, <rusheicmomra@hotmail.com>,\n",
      "    \"Ruairi O hUiginn\"\n",
      "    <ruairi@celt.dias.ie>,\n",
      "    \"Ross Robinson\"\n",
      "    <ross@wfh.org>,\n",
      "    \"Ross Carroll\"\n",
      "    <rcarroll@operation.dublin.iona.ie>,\n",
      "    \"Roselie V. Zabala\"\n",
      "    <rzabala@ns.gov.gu>, =?iso-8859-1?B?UvNpc+1uIE7tIE1oaWFu4Wlu?=\n",
      "    <rnimh@indigo.ie>, <rodney@126.com>,\n",
      "    \"Rod Allen and Barbara Quigley\"\n",
      "    <allquig@nb.sympatico.ca>,\n",
      "    \"Robbyn\"\n",
      "    <M18439@communityconnect.com>, <ro3456you@email.com>,\n",
      "    \"Richard Oakley\"\n",
      "    <oakleyrichard@hotmail.com>,\n",
      "    \"Renee Paper\"\n",
      "    <hfnv@earthlink.net>,\n",
      "    \"Rene McRogers\"\n",
      "    <Rene.McRogers.B@bayer.com>, <REJ@MoreHGH.com>,\n",
      "    \"Reggie O Riain\"\n",
      "    <oreggie@hotmail.com>,\n",
      "    \"=?iso-8859-1?B?UulhbW9ubiDTIENpYXLhaW4=?=\"\n",
      "    <reamonn.gael-linn@virgin.net>,\n",
      "    \"=?iso-8859-1?B?UulhbW9ubiDTIENpYXLhaW4=?=\"\n",
      "    <reamonn@gael-linn.net>,\n",
      "    \"Raymond Kieran\"\n",
      "    <kieran31@lineone.net>, <rathcairn@eircom.net>,\n",
      "    \"rastelli\"\n",
      "    <zq8oc1d0lp2owu@intel.com>, =?iso-8859-1?Q?Raidi=F3_na_Life?=\n",
      "    <rnl106@iol.ie>,\n",
      "    \"rafco\"\n",
      "    <rafco@maptel.es>, <r6hw45esr7actionjo@aol.com>,\n",
      "    <r1207f00@altavista.co.kr>, <prwiiw@imailbox.com>,\n",
      "    <protection_now2002@yahoo.com>, <proinsias@arainnmhor.com>,\n",
      "    \"Prescription\"\n",
      "    <ytbzb@chat.ru>, <precision_ppp@yahoo.com>, <ppl2448_01@hotmail.com>,\n",
      "    =?iso-8859-1?Q?P=F3il=EDn_Roycroft?= <schullns.ias@eircom.net>,\n",
      "    <PogCD@aol.com>, =?iso-8859-1?Q?Phyllis_U=ED_Mheadhra?=\n",
      "    <phyllisomeara@eircom.net>,\n",
      "    \"Philomena Lafferty\"\n",
      "    <philafferty@eircom.net>, <Peter.Feinsinger@NAU.EDU>,\n",
      "    \"Pekka Heikkila\"\n",
      "    <pekka.heikkila@metos.com>, =?iso-8859-1?Q?Peigi_N=ED_Chonghaile?=\n",
      "    <plearaca@tinet.ie>,\n",
      "    \"Paul Mc  Evoy\"\n",
      "    <pjdent@indigo.ie>,\n",
      "    \"Patti Kerr\"\n",
      "    <pakerr@hotmail.com>,\n",
      "    \"Patrick O'donoghue\"\n",
      "    <pod2@indigo.ie>, <patgryan@oceanfree.net>,\n",
      "    \"Pat Kavanagh\"\n",
      "    <pk@gbgroup.ie>,\n",
      "    \"Pat &Carmel Downey\"\n",
      "    <pcadowney@eircom.net>,\n",
      "    \"Parttraporn Israngkuranaayudhaya\"\n",
      "    <rapis@mucc.mahidol.ac.th>,\n",
      "    \"Pamela Aldrich\"\n",
      "    <paldrich@esatclear.ie>, <padraig.ocuinneagain2@mail.dcu.ie>,\n",
      "    =?iso-8859-1?Q?P=E1draig_Swinbourne?= <PavdiealthePub@hotmail.com>,\n",
      "    =?iso-8859-1?Q?Padraig_=D3_Cinn=E9ide?= <padraig@evolution.org>,\n",
      "    \"Padraig Nallen\"\n",
      "    <pnallen@operation.dublin.iona.ie>,\n",
      "    \"Padraig Nallen\"\n",
      "    <pnallen@operation.dublin.iona.ie>,\n",
      "    =?iso-8859-1?Q?P=E1draig_Leo_O_Curraoin?= <patrickleocurran@eircom.net>,\n",
      "    \"Paddy Clancy, The Sun\"\n",
      "    <paddyclancy@the-sun.co.uk>, <p_mcevoy@hotmail.com>, <orlag@eircom.net>,\n",
      "    <opt-in@randbad.com>, <opportunity_nox@email.com>,\n",
      "    \"Olga Vanherle\"\n",
      "    <olga@wol.be>,\n",
      "    \"Oideas Gael\"\n",
      "    <oidsgael@iol.ie>, <ocsc@ocsc.ie>,\n",
      "    \"obrienp\"\n",
      "    <obrienp@iol.ie>, <o7550k46@norikomail.com>,\n",
      "    \"North Dublin\"\n",
      "    <ndnsp@iol.ie>,\n",
      "    \"Norman Kidd\"\n",
      "    <norman.k@ukonline.co.uk>,\n",
      "    \"Noirin Nuadhain\"\n",
      "    <noirin.nuadhain@ncca.ie>,\n",
      "    \"Nils van Hinsberg\"\n",
      "    <N.P.vanHinsberg@lr.tudelft.nl>, =?iso-8859-1?Q?Nicola_N=ED_Cheallaigh?=\n",
      "    <nicolakelly@mai.ie>,\n",
      "    \"Nicky Petite\"\n",
      "    <54t7854342@msn.com>, =?iso-8859-1?Q?NIC_MHEANMAN=2C_M=C1IRE?=\n",
      "    <NICMHEAN@educ.irlgov.ie>,\n",
      "    \"Niamh McEntee\"\n",
      "    <niamh.mcentee@bookham.com>,\n",
      "    \"NI NUADHAIN, NOIRIN\"\n",
      "    <NUADHAIN@educ.irlgov.ie>, <newmanj@iobox.fi>,\n",
      "    \"Natalia Barry\"\n",
      "    <natalia@haemophilia.org.uk>,\n",
      "    \"Nadene\"\n",
      "    <lywou@24horas.com>, <n0544k76@mailcity.lycos.co.jp>,\n",
      "    =?iso-8859-1?Q?Muireann_N=ED_Fhaotain?= <marian.whelan@hotmail.com>,\n",
      "    =?iso-8859-1?Q?Muireann_N=ED_Ch=E1rthaigh?= <muireann@comhdhail.ie>,\n",
      "    <MStenhouse@mlaw.ie>,\n",
      "    \"Mr. Natural\"\n",
      "    <fddgl@comptel.fi>,\n",
      "    \"Morgan, Bernie\"\n",
      "    <morber@dunwoody.tec.mn.us>, <monicareilly@P0PMAILER.ORG>,\n",
      "    \"Moneystorm\"\n",
      "    <Professional_Series@freenet.de>,\n",
      "    \"Money in the Mail\"\n",
      "    <singledolar@hotmail.com>,\n",
      "    \"Monet\"\n",
      "    <l8075@virgilio.it>,\n",
      "    \"Moire Leyden\"\n",
      "    <moira@asti.ie>, <moiral@asti.ie>, <mireillestryjewski3884@altavista.com>,\n",
      "    <mike3561@yahoo.com>, <MicOfiach@netscape.net>,\n",
      "    \"Mick Power\"\n",
      "    <Mick@vendor.ie>, =?iso-8859-1?Q?Miche=E1l_=D3_Broin?= <obroin@iol.ie>,\n",
      "    \"Micheal O Broin\"\n",
      "    <obroin@triskel.ie>,\n",
      "    \"=?iso-8859-1?B?Te1jaGXhbCDTIEJyZWFzbOFpbg==?=\"\n",
      "    <dunloy@nacn.org>, <MichaelCroc@aol.com>,\n",
      "    \"Michael Martin\"\n",
      "    <info@reiki.ie>,\n",
      "    \"Michael & Enta Butler\"\n",
      "    <dabu.ias@eircom.net>,\n",
      "    \"mfg teo\"\n",
      "    <mfggaillimh@tinet.ie>, <merchantsworld2001@juno.com>,\n",
      "    <members@list.adult-newsletter.com>,\n",
      "    \"Megan Biddles\"\n",
      "    <8734ryhje@msn.com>,\n",
      "    \"meas media\"\n",
      "    <measmedia@eircom.net>, <mcivorpd@indigo.ie>,\n",
      "    \"Maureen Monica Griffin\"\n",
      "    <mamgriff@indiana.edu>, <MaryMarie2002av@about.com>,\n",
      "    <maryloulynne@arabia.com>,\n",
      "    \"Mary O'Shaughnessy\"\n",
      "    <mary.oshaughnessy@ucc.ie>,\n",
      "    \"Mary Ng Chua\"\n",
      "    <mary.chua@ibm.net>,\n",
      "    \"Martin O'Brien\"\n",
      "    <MartinOB@compuserve.com>,\n",
      "    \"Martin Byrne\"\n",
      "    <friction@eircom.net>, <marrisa691@cranfield.ac.uk>,\n",
      "    \"Marrinan, Shonagh \\(CAP, GCF\\)\"\n",
      "    <Shonagh.Marrinan@gecapital.com>, <mark_edwards1952@financier.com>,\n",
      "    \"Mark Eweka\"\n",
      "    <business_centre2000@yahoo.com>,\n",
      "    \"Mark\"\n",
      "    <errand1636@yahoo.com>,\n",
      "    \"Marie Gillman\"\n",
      "    <gillmam@labs.wyeth.com>,\n",
      "    \"maria hickey\"\n",
      "    <findmariahickey@hotmail.com>, <MargaretDunne@novo-wfh2000.com>,\n",
      "    <margaretculliton@unison.ie>,\n",
      "    \"Margaret Kinder\"\n",
      "    <mmk@britishlibrary.net>,\n",
      "    \"Margaret Farrington\"\n",
      "    <M.Farrington@liverpool.ac.uk>, =?iso-8859-1?Q?Mait_=D3_Br=E1daigh?=\n",
      "    <maitobradaigh@tinet.ie>, =?iso-8859-1?Q?M=E1ir=EDn_Seoighe?=\n",
      "    <dobhar@eircom.net>, =?iso-8859-1?Q?Mair=E9ad_Mic_Sh=EDom=F3in?=\n",
      "    <sidhebhean@eircom.net>, =?iso-8859-1?Q?M=E1ire_U=CD_Fhaogh=E1in?=\n",
      "    <ofaoghain@eircom.net>, =?iso-8859-1?Q?M=E1ire_U=ED_Dhufaigh?=\n",
      "    <muidhufaigh@hotmail.com>,\n",
      "    \"Maire Ni Mhainnin\"\n",
      "    <m.nimhainin@udaras.ie>, =?iso-8859-1?Q?M=E1ire_N=ED_Ghiollabh=E1in?=\n",
      "    <Maura.Kilbane@may.ie>, =?iso-8859-1?Q?M=E1ire_N=ED_Flatharta?=\n",
      "    <maire.niflatharta@daff.irlgov.ie>,\n",
      "    \"Maire Hearty\"\n",
      "    <m.hearty@udaras.ie>,\n",
      "    \"Mail Delivery System\"\n",
      "    <Mailer-Daemon@tinet.ie>, =?iso-8859-1?Q?MacTh=F3mais=2C_Uinseann?=\n",
      "    <umacthomais@ealga.ie>, <m418327@gopinoy.com>, <m1015a33@freeserve.net>,\n",
      "    <m.oreilly@unison.ie>,\n",
      "    \"Lynda Kathleen Martina Iola Costelloe\"\n",
      "    <lynda@gcom.ie>,\n",
      "    \"Louise Carroll\"\n",
      "    <jcc@nznet.gen.nz>,\n",
      "    \"Lone Pedersen\"\n",
      "    <lone@bloderforeningen.dk>, <loans_help88@yahoo.com>,\n",
      "    \"Loan Admin\"\n",
      "    <marketpro7845@gironet.nl>,\n",
      "    \"Litigation Experts\"\n",
      "    <LegalService@nueworld.com>, <line@wfh.org>, <linda.ni.ghriofa@tg4.ie>,\n",
      "    \"Lin\"\n",
      "    <bvkql@email.si>, <lifequote1aa552718@altavista.se>,\n",
      "    <life_insuranceman@yahoo.com>,\n",
      "    \"Life Insurance Quote\"\n",
      "    <fyvdv@i-france.com>, =?iso-8859-1?Q?Liam_Mac_R=E9amoinn?=\n",
      "    <murrisk@oceanfree.net>,\n",
      "    \"Liam Mac Coil\"\n",
      "    <lmaccoil@yahoo.com>,\n",
      "    \"Lee Ryan\"\n",
      "    <designroom@clubi.ie>,\n",
      "    \"Lean Doody\"\n",
      "    <Lean.Doody@operation.dublin.iona.ie>,\n",
      "    \"=?iso-8859-1?B?TOE=?=\"\n",
      "    <eolas@nuacht.com>, <l715240@zmail.to>, <kuynjy@liveclothing.com.au>,\n",
      "    <kgillin2386@mindwerk.de>,\n",
      "    \"kevin Hurley\"\n",
      "    <jkevinhurley@eircom.net>,\n",
      "    \"Kerry Woods\"\n",
      "    <kerry@tech.boo.com>,\n",
      "    \"Kellys Dunkirk\"\n",
      "    <info@kellysdunkirk.com>,\n",
      "    \"=?iso-8859-1?Q?Karen_N=ED_Bhreasl=E1in.?=\"\n",
      "    <kazbeeioi@hotmail.com>,\n",
      "    \"Karen Canty\"\n",
      "    <kcanty@eircom.net>, <Kaaren2238y32@surflondon.co.uk>,\n",
      "    \"jyogBiff Armstrong\"\n",
      "    <eoxmarmstrong6dg325sgf2@msn.com>, <jwlocke@hotmail.com>,\n",
      "    \"Justin Mason\"\n",
      "    <jm5@netnoteinc.com>,\n",
      "    \"Justin Mason\"\n",
      "    <jm@netnoteinc.com>,\n",
      "    \"Juliet Fahy \\(Work\\)\"\n",
      "    <mpbe@stjames.ie>,\n",
      "    \"Juliet Fahy \\(Home\\)\"\n",
      "    <mayday@indigo.e>,\n",
      "    \"Juliet & Paddy Fahy\"\n",
      "    <mayday@indigo.ie>,\n",
      "    \"Judy Schaefer\"\n",
      "    <jschaefer@mindspring.com>,\n",
      "    \"Judy Johnson\"\n",
      "    <sgwharton@cyberpopmail.com>,\n",
      "    \"Judy\"\n",
      "    <jfnnbptavegjzmhqok@fr.maus.de>,\n",
      "    \"Jonell Baggett\"\n",
      "    <fairs@polbox.com>, <john6518e28@hotmail.com>, <john@kerryseye.com>,\n",
      "    \"John O'Connell\"\n",
      "    <John.OConnell@may.ie>,\n",
      "    \"John Lynch\"\n",
      "    <mentrim@eircom.net>,\n",
      "    \"John Dilly\"\n",
      "    <SEPT31932@aol.com>,\n",
      "    \"John Deely\"\n",
      "    <j-deely@hoffman.cc.sophia.ac.jp>,\n",
      "    \"Joe Weiss\"\n",
      "    <joe.weiss@gmx.at>,\n",
      "    \"Joe Humphries, Irish Times\"\n",
      "    <jhumphries@irish-times.ie>,\n",
      "    \"Joe & Maureen Guilfoyle\"\n",
      "    <destiny@eircom.net>,\n",
      "    \"Jessica\"\n",
      "    <saucyjessica2000@yahoo.com>,\n",
      "    \"Jessica\"\n",
      "    <naughty_jess60691@yahoo.com>,\n",
      "    \"jenny o halloran\"\n",
      "    <princess4537@hotmail.com>,\n",
      "    \"Jenny\"\n",
      "    <jenny69@usa.net>,\n",
      "    \"Jennifer Nic an Bhaird\"\n",
      "    <jennifer.m.ward@may.ie>,\n",
      "    \"jenks\"\n",
      "    <zli31ma@usa.net>,\n",
      "    \"Javier Carrera\"\n",
      "    <ashegui@nexo.es>, <JasmineJones@msn.com>, <jamie002@arabia.com>,\n",
      "    <jamescarragher2@eircom.net>, <jagrad2@aol.com>,\n",
      "    <jacquettas@altavista.com>,\n",
      "    \"Jack O'Brien\"\n",
      "    <kjob1@mediaone.net>, <j0811t23@singmail.com>, <J.OBrien@itcilo.it>,\n",
      "    \"Ivor Ferris\"\n",
      "    <gaelach@iol.ie>, <itwill7@hotmail.com>,\n",
      "    \"Irish Haemophilia Society\"\n",
      "    <haemophiliasocitey@eircom.net>,\n",
      "    \"Irish Haemophilia Society\"\n",
      "    <haemophiliasociety@eircom.net>,\n",
      "    \"Irina Malenko\"\n",
      "    <irina.malenko@the-gem.com>,\n",
      "    \"Irina Malenko\"\n",
      "    <pravda@utvinternet.com>, <info@destressu.com>,\n",
      "    \"Info Staff\"\n",
      "    <kalil@klyvold.net>,\n",
      "    \"Info Center\"\n",
      "    <cannes211@freemail.hu>, <Imagesoft03@extra.hu>, <ilwbfiwevbs@yahoo.com>,\n",
      "    <abqewvbgf@iinet.net.au>, <aa1133777@yahoo.com>,\n",
      "    <a_crothers@looksmart.com.au>, <89ok7yumhjn@msn.com>,\n",
      "    <12unidiploma@msn.com>, <0gbvll2jf@solvo.spb.su>, <09886w@ams.com.br>,\n",
      "    <0815@activate.de>, <01bb91b2.7e887960@genesys.pt>, <00luke@upline.se>,\n",
      "    <0024@simba.nu>,\n",
      "    \"=?iso-8859-1?B?sAw=?=\"\n",
      "    <dis200@indigo.ie>\n",
      "Subject: =?iso-8859-1?Q?Fw:_CD_Nua_do_dhamhsa=ED_Ch=E9il=ED?=\n",
      "Date: Tue, 21 May 2002 16:08:40 +0100\n",
      "MIME-Version: 1.0\n",
      "X-Priority: 3\n",
      "X-Msmail-Priority: Normal\n",
      "X-Mailer: Microsoft Outlook Express 5.00.2919.6600\n",
      "Disposition-Notification-To: \"rathcairn\" <rathcairn@eircom.net>\n",
      "X-Mimeole: Produced By Microsoft MimeOLE V5.00.2919.6600\n",
      "X-Keywords: \n",
      "Content-Type: multipart/alternative; boundary=\"----=_NextPart_000_00AF_01C200E1.C5BDFF40\"\n",
      "X-ExmhMDN: ignored\n",
      "\n",
      "This is a multi-part message in MIME format.\n",
      "\n",
      "------=_NextPart_000_00AF_01C200E1.C5BDFF40\n",
      "Content-Type: text/plain;\n",
      "\tcharset=\"iso-8859-1\"\n",
      "Content-Transfer-Encoding: quoted-printable\n",
      "\n",
      "\n",
      "----- Original Message -----=20\n",
      "From: rathcairn=20\n",
      "To: Automail Script ; Automail Script ; astraea@iol.ie ; =C5se Tobin ; =\n",
      "araben16313168@hotmail.com ; aofarachain@tinet.ie ; =\n",
      "aofarachain@eircom.net ; Anthony Gorman ; Ann-Mari Bergkvist ; Annemarie =\n",
      "Meehan ; annemarie mcdonnell ; anne7172@arabia.com ; Anna Swelund ; Anna =\n",
      "Ni Thuama ; ann faherty ; anewloan@mail.ru ; Andy Plunkett ; Andrew =\n",
      "Delany ; Andrea Nic Oscair ; An Fhiontarlann ; amurtagh@tinet.ie ; =\n",
      "Amanda N=ED Ghuidhir ; als2@hotmail.com ; alpha@fun.21cn.com ; Allen =\n",
      "Moira ; Allen Carberry ; alex_doyle@ie.ibm.com ; Alan McGowan ; Alain =\n",
      "Civel ; Aishling N=ED Raghallaigh ; =C1ine M=E1ire N=ED Choile=E1in ; =\n",
      "AINE GUILFOYLE ; ailin.nichuir@ucd.ie ; Ail=EDn N=ED h=D3g=E1in ; Aileen =\n",
      "O'Meara, RTE ; advisor@physiciansblend.net ; adshwe@bekkers.com.au ; =\n",
      "adrian28@esatclear.ie ; Admin ; Ade Kallas ; adare productions ; =\n",
      "abqewvbgf@iinet.net.au ; aa1133777@yahoo.com ; =\n",
      "a_crothers@looksmart.com.au ; 89ok7yumhjn@msn.com ; 12unidiploma@msn.com =\n",
      "; 0gbvll2jf@solvo.spb.su ; Daithi Mac Carthaigh ; d7596@go.ru ; =\n",
      "d23463@portugalmail.com=20\n",
      "Cc: 09886w@ams.com.br ; 0815@activate.de ; 01bb91b2.7e887960@genesys.pt =\n",
      "; 00luke@upline.se=20\n",
      "Sent: Tuesday, May 21, 2002 3:47 PM\n",
      "Subject: CD Nua do dhamhsa=ED Ch=E9il=ED\n",
      "\n",
      "\n",
      "A chara,\n",
      "\n",
      "Email gairid le cur in i=FAl duit faoi Dhl=FAthdhiosca Nua at=E1 ar =\n",
      "f=E1il dona damhsa=ED Ch=E9il=ED is coitianta i measc daoine =F3ga.\n",
      "=20\n",
      "T=E1 Ceol ar dona Damhsa=ED seo a leanas :\n",
      "\n",
      "Balla=ED Luimn=ED\n",
      "Briseadh na Carraige\n",
      "Baint an Fh=E9ir\n",
      "Ionsa=ED na hInse\n",
      "Port an Fh=F3mhair\n",
      "Cor na S=EDog\n",
      "R=E9ic=ED Mh=E1la\n",
      "Tonna=ED Thora=ED\n",
      "Droichead =C1tha Luain\n",
      "Staic=EDn Eorna\n",
      "Se=E1in=EDn\n",
      "Cor Beirte\n",
      "Shoe the Donkey\n",
      "Waltzes=20\n",
      "agus eile\n",
      "\n",
      "Is f=E9idir an CD a cheannach tr=EDd www.damhsa.com\n",
      "n=F3 086 8339082\n",
      "\n",
      "Le meas,\n",
      "\n",
      "\n",
      "Brian =D3 Broin\n",
      "\n",
      "\n",
      "------=_NextPart_000_00AF_01C200E1.C5BDFF40\n",
      "Content-Type: text/html;\n",
      "\tcharset=\"iso-8859-1\"\n",
      "Content-Transfer-Encoding: quoted-printable\n",
      "\n",
      "<!DOCTYPE HTML PUBLIC \"-//W3C//DTD HTML 4.0 Transitional//EN\">\n",
      "<HTML><HEAD>\n",
      "<META content=3D\"text/html; charset=3Diso-8859-1\" =\n",
      "http-equiv=3DContent-Type>\n",
      "<META content=3D\"MSHTML 5.00.2919.6307\" name=3DGENERATOR>\n",
      "<STYLE></STYLE>\n",
      "</HEAD>\n",
      "<BODY bgColor=3D#ffffff>\n",
      "<DIV>&nbsp;</DIV>\n",
      "<DIV style=3D\"FONT: 10pt arial\">----- Original Message -----=20\n",
      "<DIV style=3D\"BACKGROUND: #e4e4e4; font-color: black\"><B>From:</B> <A=20\n",
      "href=3D\"mailto:rathcairn@eircom.net\" =\n",
      "title=3Drathcairn@eircom.net>rathcairn</A>=20\n",
      "</DIV>\n",
      "<DIV><B>To:</B> <A href=3D\"mailto:nobody@tinet.ie\" =\n",
      "title=3Dnobody@tinet.ie>Automail=20\n",
      "Script</A> ; <A href=3D\"mailto:nobody@eircom.net\" =\n",
      "title=3Dnobody@eircom.net>Automail=20\n",
      "Script</A> ; <A href=3D\"mailto:astraea@iol.ie\"=20\n",
      "title=3Dastraea@iol.ie>astraea@iol.ie</A> ; <A =\n",
      "href=3D\"mailto:aasvtobi@online.no\"=20\n",
      "title=3Daasvtobi@online.no>=C5se Tobin</A> ; <A=20\n",
      "href=3D\"mailto:araben16313168@hotmail.com\"=20\n",
      "title=3Daraben16313168@hotmail.com>araben16313168@hotmail.com</A> ; <A=20\n",
      "href=3D\"mailto:aofarachain@tinet.ie\"=20\n",
      "title=3Daofarachain@tinet.ie>aofarachain@tinet.ie</A> ; <A=20\n",
      "href=3D\"mailto:aofarachain@eircom.net\"=20\n",
      "title=3Daofarachain@eircom.net>aofarachain@eircom.net</A> ; <A=20\n",
      "href=3D\"mailto:anthonygorman@eircom.net\" =\n",
      "title=3Danthonygorman@eircom.net>Anthony=20\n",
      "Gorman</A> ; <A href=3D\"mailto:Ann-Mari.Bergkvist@lh.luth.se\"=20\n",
      "title=3DAnn-Mari.Bergkvist@lh.luth.se>Ann-Mari Bergkvist</A> ; <A=20\n",
      "href=3D\"mailto:annemarie.meehan@barnardos.ie\"=20\n",
      "title=3Dannemarie.meehan@barnardos.ie>Annemarie Meehan</A> ; <A=20\n",
      "href=3D\"mailto:annemariemcdonnell@ireland.com\"=20\n",
      "title=3Dannemariemcdonnell@ireland.com>annemarie mcdonnell</A> ; <A=20\n",
      "href=3D\"mailto:anne7172@arabia.com\"=20\n",
      "title=3Danne7172@arabia.com>anne7172@arabia.com</A> ; <A=20\n",
      "href=3D\"mailto:Anna.Swelund@ericsson.com\" =\n",
      "title=3DAnna.Swelund@ericsson.com>Anna=20\n",
      "Swelund</A> ; <A href=3D\"mailto:anna@glornangael.ie\"=20\n",
      "title=3Danna@glornangael.ie>Anna Ni Thuama</A> ; <A=20\n",
      "href=3D\"mailto:annfaherty@esatclear.ie\" =\n",
      "title=3Dannfaherty@esatclear.ie>ann faherty=20\n",
      "</A>; <A href=3D\"mailto:anewloan@mail.ru\"=20\n",
      "title=3Danewloan@mail.ru>anewloan@mail.ru</A> ; <A=20\n",
      "href=3D\"mailto:Plunkett@gofree.Indigo.ie\" =\n",
      "title=3DPlunkett@gofree.Indigo.ie>Andy=20\n",
      "Plunkett</A> ; <A href=3D\"mailto:delanya@cs.tcd.ie\" =\n",
      "title=3Ddelanya@cs.tcd.ie>Andrew=20\n",
      "Delany</A> ; <A href=3D\"mailto:naiscoilardmhacha@cinni.org\"=20\n",
      "title=3Dnaiscoilardmhacha@cinni.org>Andrea Nic Oscair</A> ; <A=20\n",
      "href=3D\"mailto:fntrdan@oceanfree.net\" title=3Dfntrdan@oceanfree.net>An=20\n",
      "Fhiontarlann</A> ; <A href=3D\"mailto:amurtagh@tinet.ie\"=20\n",
      "title=3Damurtagh@tinet.ie>amurtagh@tinet.ie</A> ; <A=20\n",
      "href=3D\"mailto:amandaeile@hotmail.com\" =\n",
      "title=3Damandaeile@hotmail.com>Amanda N=ED=20\n",
      "Ghuidhir</A> ; <A href=3D\"mailto:als2@hotmail.com\"=20\n",
      "title=3Dals2@hotmail.com>als2@hotmail.com</A> ; <A=20\n",
      "href=3D\"mailto:alpha@fun.21cn.com\" =\n",
      "title=3Dalpha@fun.21cn.com>alpha@fun.21cn.com</A>=20\n",
      "; <A href=3D\"mailto:hillview@eircom.net\" =\n",
      "title=3Dhillview@eircom.net>Allen Moira</A>=20\n",
      "; <A href=3D\"mailto:acarberr@iol.ie\" title=3Dacarberr@iol.ie>Allen =\n",
      "Carberry</A> ; <A=20\n",
      "href=3D\"mailto:alex_doyle@ie.ibm.com\"=20\n",
      "title=3Dalex_doyle@ie.ibm.com>alex_doyle@ie.ibm.com</A> ; <A=20\n",
      "href=3D\"mailto:alan.mcgowan@kerstenhunik.ie\"=20\n",
      "title=3Dalan.mcgowan@kerstenhunik.ie>Alan McGowan</A> ; <A=20\n",
      "href=3D\"mailto:amcivel@club-internet.fr\" =\n",
      "title=3Damcivel@club-internet.fr>Alain=20\n",
      "Civel</A> ; <A href=3D\"mailto:aishlingreilly@hotmail.com\"=20\n",
      "title=3Daishlingreilly@hotmail.com>Aishling N=ED Raghallaigh</A> ; <A=20\n",
      "href=3D\"mailto:sccmh@iol.ie\" title=3Dsccmh@iol.ie>=C1ine M=E1ire N=ED =\n",
      "Choile=E1in</A> ; <A=20\n",
      "href=3D\"mailto:aine.guilfoyle@NUIGALWAY.IE\" =\n",
      "title=3Daine.guilfoyle@NUIGALWAY.IE>AINE=20\n",
      "GUILFOYLE</A> ; <A href=3D\"mailto:ailin.nichuir@ucd.ie\"=20\n",
      "title=3Dailin.nichuir@ucd.ie>ailin.nichuir@ucd.ie</A> ; <A=20\n",
      "href=3D\"mailto:aileenhogan@yahoo.com\" =\n",
      "title=3Daileenhogan@yahoo.com>Ail=EDn N=ED=20\n",
      "h=D3g=E1in</A> ; <A href=3D\"mailto:omearaa@rte.ie\" =\n",
      "title=3Domearaa@rte.ie>Aileen=20\n",
      "O'Meara, RTE</A> ; <A href=3D\"mailto:advisor@physiciansblend.net\"=20\n",
      "title=3Dadvisor@physiciansblend.net>advisor@physiciansblend.net</A> ; <A =\n",
      "\n",
      "href=3D\"mailto:adshwe@bekkers.com.au\"=20\n",
      "title=3Dadshwe@bekkers.com.au>adshwe@bekkers.com.au</A> ; <A=20\n",
      "href=3D\"mailto:adrian28@esatclear.ie\"=20\n",
      "title=3Dadrian28@esatclear.ie>adrian28@esatclear.ie</A> ; <A=20\n",
      "href=3D\"mailto:vdkpn@jubiipost.dk\" title=3Dvdkpn@jubiipost.dk>Admin</A> =\n",
      "; <A=20\n",
      "href=3D\"mailto:ade@cut.ee\" title=3Dade@cut.ee>Ade Kallas</A> ; <A=20\n",
      "href=3D\"mailto:adare@eircom.net\" title=3Dadare@eircom.net>adare =\n",
      "productions</A> ; <A=20\n",
      "href=3D\"mailto:abqewvbgf@iinet.net.au\"=20\n",
      "title=3Dabqewvbgf@iinet.net.au>abqewvbgf@iinet.net.au</A> ; <A=20\n",
      "href=3D\"mailto:aa1133777@yahoo.com\"=20\n",
      "title=3Daa1133777@yahoo.com>aa1133777@yahoo.com</A> ; <A=20\n",
      "href=3D\"mailto:a_crothers@looksmart.com.au\"=20\n",
      "title=3Da_crothers@looksmart.com.au>a_crothers@looksmart.com.au</A> ; <A =\n",
      "\n",
      "href=3D\"mailto:89ok7yumhjn@msn.com\"=20\n",
      "title=3D89ok7yumhjn@msn.com>89ok7yumhjn@msn.com</A> ; <A=20\n",
      "href=3D\"mailto:12unidiploma@msn.com\"=20\n",
      "title=3D12unidiploma@msn.com>12unidiploma@msn.com</A> ; <A=20\n",
      "href=3D\"mailto:0gbvll2jf@solvo.spb.su\"=20\n",
      "title=3D0gbvll2jf@solvo.spb.su>0gbvll2jf@solvo.spb.su</A> ; <A=20\n",
      "href=3D\"mailto:daithimaccarthaigh@eircom.net\"=20\n",
      "title=3Ddaithimaccarthaigh@eircom.net>Daithi Mac Carthaigh</A> ; <A=20\n",
      "href=3D\"mailto:d7596@go.ru\" title=3Dd7596@go.ru>d7596@go.ru</A> ; <A=20\n",
      "href=3D\"mailto:d23463@portugalmail.com\"=20\n",
      "title=3Dd23463@portugalmail.com>d23463@portugalmail.com</A> </DIV>\n",
      "<DIV><B>Cc:</B> <A href=3D\"mailto:09886w@ams.com.br\"=20\n",
      "title=3D09886w@ams.com.br>09886w@ams.com.br</A> ; <A=20\n",
      "href=3D\"mailto:0815@activate.de\" =\n",
      "title=3D0815@activate.de>0815@activate.de</A> ; <A=20\n",
      "href=3D\"mailto:01bb91b2.7e887960@genesys.pt\"=20\n",
      "title=3D01bb91b2.7e887960@genesys.pt>01bb91b2.7e887960@genesys.pt</A> ; =\n",
      "<A=20\n",
      "href=3D\"mailto:00luke@upline.se\" =\n",
      "title=3D00luke@upline.se>00luke@upline.se</A>=20\n",
      "</DIV>\n",
      "<DIV><B>Sent:</B> Tuesday, May 21, 2002 3:47 PM</DIV>\n",
      "<DIV><B>Subject:</B> CD Nua do dhamhsa=ED Ch=E9il=ED</DIV></DIV>\n",
      "<DIV><BR></DIV>\n",
      "<DIV><FONT face=3D\"Bookman Old Style\" size=3D2>A chara,</FONT></DIV>\n",
      "<DIV>&nbsp;</DIV>\n",
      "<DIV><FONT face=3D\"Bookman Old Style\" size=3D2>Email gairid le cur in =\n",
      "i=FAl duit faoi=20\n",
      "Dhl=FAthdhiosca Nua at=E1 ar f=E1il dona damhsa=ED Ch=E9il=ED is =\n",
      "coitianta i measc daoine=20\n",
      "=F3ga.</FONT></DIV>\n",
      "<DIV><FONT face=3D\"Bookman Old Style\" size=3D2></FONT>&nbsp;</DIV>\n",
      "<DIV><FONT face=3D\"Bookman Old Style\" size=3D2>T=E1 Ceol ar dona =\n",
      "Damhsa=ED seo a leanas=20\n",
      ":</FONT></DIV>\n",
      "<DIV>&nbsp;</DIV>\n",
      "<DIV><FONT face=3D\"Bookman Old Style\" size=3D2>Balla=ED =\n",
      "Luimn=ED</FONT></DIV>\n",
      "<DIV><FONT face=3D\"Bookman Old Style\" size=3D2>Briseadh na =\n",
      "Carraige</FONT></DIV>\n",
      "<DIV><FONT face=3D\"Bookman Old Style\" size=3D2>Baint an =\n",
      "Fh=E9ir</FONT></DIV>\n",
      "<DIV><FONT face=3D\"Bookman Old Style\" size=3D2>Ionsa=ED na =\n",
      "hInse</FONT></DIV>\n",
      "<DIV><FONT face=3D\"Bookman Old Style\" size=3D2>Port an =\n",
      "Fh=F3mhair</FONT></DIV>\n",
      "<DIV><FONT face=3D\"Bookman Old Style\" size=3D2>Cor na =\n",
      "S=EDog</FONT></DIV>\n",
      "<DIV><FONT face=3D\"Bookman Old Style\" size=3D2>R=E9ic=ED =\n",
      "Mh=E1la</FONT></DIV>\n",
      "<DIV><FONT face=3D\"Bookman Old Style\" size=3D2>Tonna=ED =\n",
      "Thora=ED</FONT></DIV>\n",
      "<DIV><FONT face=3D\"Bookman Old Style\" size=3D2>Droichead =C1tha =\n",
      "Luain</FONT></DIV>\n",
      "<DIV><FONT face=3D\"Bookman Old Style\" size=3D2>Staic=EDn =\n",
      "Eorna</FONT></DIV>\n",
      "<DIV><FONT face=3D\"Bookman Old Style\" size=3D2>Se=E1in=EDn</FONT></DIV>\n",
      "<DIV><FONT face=3D\"Bookman Old Style\" size=3D2>Cor Beirte</FONT></DIV>\n",
      "<DIV><FONT face=3D\"Bookman Old Style\" size=3D2>Shoe the =\n",
      "Donkey</FONT></DIV>\n",
      "<DIV><FONT face=3D\"Bookman Old Style\" =\n",
      "size=3D2>Waltzes</FONT>&nbsp;</DIV>\n",
      "<DIV><FONT face=3D\"Bookman Old Style\" size=3D2>agus eile</FONT></DIV>\n",
      "<DIV>&nbsp;</DIV>\n",
      "<DIV><FONT face=3D\"Bookman Old Style\" size=3D2>Is f=E9idir an CD a =\n",
      "cheannach tr=EDd <A=20\n",
      "href=3D\"http://www.damhsa.com\">www.damhsa.com</A></FONT></DIV>\n",
      "<DIV><FONT face=3D\"Bookman Old Style\" size=3D2>n=F3 086 =\n",
      "8339082</FONT></DIV>\n",
      "<DIV>&nbsp;</DIV>\n",
      "<DIV><FONT face=3D\"Bookman Old Style\" size=3D2>Le meas,</FONT></DIV>\n",
      "<DIV>&nbsp;</DIV>\n",
      "<DIV>&nbsp;</DIV>\n",
      "<DIV><FONT face=3D\"Bookman Old Style\" size=3D2>Brian =D3 =\n",
      "Broin</FONT></DIV>\n",
      "<DIV>&nbsp;</DIV></BODY></HTML>\n",
      "\n",
      "------=_NextPart_000_00AF_01C200E1.C5BDFF40--\n",
      "\n",
      " From social-admin@linux.ie  Tue Aug  6 12:52:55 2002\n",
      "Return-Path: <social-admin@linux.ie>\n",
      "Delivered-To: yyyy@localhost.netnoteinc.com\n",
      "Received: from localhost (localhost [127.0.0.1])\n",
      "\tby phobos.labs.netnoteinc.com (Postfix) with ESMTP id 4B1E644242\n",
      "\tfor <jm@localhost>; Tue,  6 Aug 2002 07:21:33 -0400 (EDT)\n",
      "Received: from phobos [127.0.0.1]\n",
      "\tby localhost with IMAP (fetchmail-5.9.0)\n",
      "\tfor jm@localhost (single-drop); Tue, 06 Aug 2002 12:21:33 +0100 (IST)\n",
      "Received: from lugh.tuatha.org (root@lugh.tuatha.org [194.125.145.45]) by\n",
      "    dogma.slashnull.org (8.11.6/8.11.6) with ESMTP id g744giv16318 for\n",
      "    <jm+ilug-social@jmason.org>; Sun, 4 Aug 2002 05:42:44 +0100\n",
      "Received: from lugh (root@localhost [127.0.0.1]) by lugh.tuatha.org\n",
      "    (8.9.3/8.9.3) with ESMTP id FAA29962; Sun, 4 Aug 2002 05:40:39 +0100\n",
      "Received: from mx07.routeit21.com ([64.25.34.45]) by lugh.tuatha.org\n",
      "    (8.9.3/8.9.3) with ESMTP id FAA29925 for <social@linux.ie>; Sun,\n",
      "    4 Aug 2002 05:40:33 +0100\n",
      "From: aljimenez@mx08.routeit21.com\n",
      "X-Authentication-Warning: lugh.tuatha.org: Host [64.25.34.45] claimed to\n",
      "    be mx07.routeit21.com\n",
      "Date: Sun, 4 Aug 2002 08:49:23 -0400\n",
      "Message-Id: <200208041249.g74CnNH24959@mx07.routeit21.com>\n",
      "X-Mailer: Mozilla 4.77 [en] (X11; U; Linux 2.4.6-pre7-xfs-jfs i586)\n",
      "Reply-To: <bbjkkll@mx08.routeit21.com>\n",
      "To: <social@quebectel.com>\n",
      "Subject: [ILUG-Social] Mortgage Rates Are Down.  isoxtjcn\n",
      "Sender: social-admin@linux.ie\n",
      "Errors-To: social-admin@linux.ie\n",
      "X-Mailman-Version: 1.1\n",
      "Precedence: bulk\n",
      "List-Id: Irish Linux Users' Group social events <social.linux.ie>\n",
      "X-Beenthere: social@linux.ie\n",
      "\n",
      "When America's top companies compete for your business, you win.\n",
      "\n",
      "http://getit.routeit21.com/sure_quote/\n",
      "\n",
      "Take a moment to let us show you that we are here to save you money and address your concerns with absolutely no hassle, no obligation, no cost quotes, on all your needs, from America's top companies.\n",
      "\n",
      "\n",
      "-Mortgage rates that save you thousands.\n",
      "-New home loans.\n",
      "-Refinance or consolidate high interest credit card debt into a low interest mortgage.\n",
      "\n",
      "\n",
      "http://getit.routeit21.com/sure_quote/\n",
      "\n",
      "\n",
      "\"...was able to get 3 great offers in\n",
      "less than 24 hours.\" -Jennifer C\n",
      "\n",
      "\"Met all my needs... being able to search\n",
      "for loans in a way that puts me in control.\" -Robert T.\n",
      "\n",
      "\"..it was easy, effortless...!\"-Susan A.\n",
      "\n",
      " \n",
      "\n",
      "Click here to delete your address from future updates.\n",
      "http://getit.routeit21.com/sure_quote/rm/\n",
      "\n",
      "-- \n",
      "Irish Linux Users' Group Social Events: social@linux.ie\n",
      "http://www.linux.ie/mailman/listinfo/social for (un)subscription information.\n",
      "List maintainer: listmaster@linux.ie\n",
      "\n",
      "\n",
      " From fork-admin@xent.com  Tue Aug  6 12:53:51 2002\n",
      "Return-Path: <fork-admin@xent.com>\n",
      "Delivered-To: yyyy@localhost.netnoteinc.com\n",
      "Received: from localhost (localhost [127.0.0.1])\n",
      "\tby phobos.labs.netnoteinc.com (Postfix) with ESMTP id A4C6144201\n",
      "\tfor <jm@localhost>; Tue,  6 Aug 2002 07:25:02 -0400 (EDT)\n",
      "Received: from phobos [127.0.0.1]\n",
      "\tby localhost with IMAP (fetchmail-5.9.0)\n",
      "\tfor jm@localhost (single-drop); Tue, 06 Aug 2002 12:25:02 +0100 (IST)\n",
      "Received: from xent.com ([64.161.22.236]) by dogma.slashnull.org\n",
      "    (8.11.6/8.11.6) with ESMTP id g74NHsv13071 for <jm@jmason.org>;\n",
      "    Mon, 5 Aug 2002 00:17:55 +0100\n",
      "Received: from lair.xent.com (localhost [127.0.0.1]) by xent.com (Postfix)\n",
      "    with ESMTP id 3F33B2940EB; Sun,  4 Aug 2002 16:15:04 -0700 (PDT)\n",
      "Delivered-To: fork@spamassassin.taint.org\n",
      "Received: from sm14.texas.rr.com (sm14.texas.rr.com [24.93.35.41]) by\n",
      "    xent.com (Postfix) with ESMTP id 4B62D2940EA for <fork@xent.com>;\n",
      "    Sun,  4 Aug 2002 16:14:03 -0700 (PDT)\n",
      "Received: from waynemain (cs2427121-96.houston.rr.com [24.27.121.96]) by\n",
      "    sm14.texas.rr.com (8.12.0.Beta16/8.12.0.Beta16) with ESMTP id\n",
      "    g74NG4Uw031613 for <fork@xent.com>; Sun, 4 Aug 2002 18:16:10 -0500\n",
      "Message-Id: <4110-22002804231443982@waynemain>\n",
      "From: \"Wayne\" <lwharris@flash.net>\n",
      "To: \"fork@spamassassin.taint.org\" <fork@spamassassin.taint.org>\n",
      "Subject: OOPS!  Please Excuse My mistake!\n",
      "MIME-Version: 1.0\n",
      "Content-Type: text/plain; charset=US-ASCII\n",
      "Sender: fork-admin@xent.com\n",
      "Errors-To: fork-admin@xent.com\n",
      "X-Beenthere: fork@spamassassin.taint.org\n",
      "X-Mailman-Version: 2.0.11\n",
      "Precedence: bulk\n",
      "List-Help: <mailto:fork-request@xent.com?subject=help>\n",
      "List-Post: <mailto:fork@spamassassin.taint.org>\n",
      "List-Subscribe: <http://xent.com/mailman/listinfo/fork>, <mailto:fork-request@xent.com?subject=subscribe>\n",
      "List-Id: Friends of Rohit Khare <fork.xent.com>\n",
      "List-Unsubscribe: <http://xent.com/mailman/listinfo/fork>,\n",
      "    <mailto:fork-request@xent.com?subject=unsubscribe>\n",
      "List-Archive: <http://xent.com/pipermail/fork/>\n",
      "Date: Sun, 4 Aug 2002 18:14:44 -0500\n",
      "X-MIME-Autoconverted: from quoted-printable to 8bit by dogma.slashnull.org\n",
      "    id g74NHsv13071\n",
      "Content-Transfer-Encoding: 8bit\n",
      "\n",
      "Just sent you a note with the wrong link. Tthe correct one is \n",
      "\n",
      "http://letscreatebiz.com/whjoinfree  \n",
      "\n",
      "It is worth a minute of your time to check it out.\n",
      "\n",
      "\n",
      "Remember, you have nothing to lose and potentially a lot to gain!\n",
      "\n",
      "\n",
      "Best Regards,\n",
      "\n",
      "Wayne\n",
      "\n",
      "---------------------------------------------------\n",
      "To be removed from future mailings, simply\n",
      "respond with REMOVE in the subject line.\n",
      "\n",
      "\n",
      "http://xent.com/mailman/listinfo/fork\n",
      "\n",
      "\n",
      "\n"
     ]
    }
   ],
   "source": [
    "print(FN_train[0], FN_train[10], FN_train[20])"
   ]
  },
  {
   "cell_type": "code",
   "execution_count": 59,
   "metadata": {},
   "outputs": [],
   "source": [
    "def model_saver(model, saving_name, saving_path=MODEL_SAVING_PATH):\n",
    "    from sklearn.externals import joblib\n",
    "    os.makedirs(MODEL_SAVING_PATH, exist_ok=True)\n",
    "    joblib.dump(model, os.path.join(saving_path, saving_name))\n",
    "    print('Model saved in ', saving_path)"
   ]
  },
  {
   "cell_type": "code",
   "execution_count": 60,
   "metadata": {},
   "outputs": [
    {
     "name": "stdout",
     "output_type": "stream",
     "text": [
      "Model saved in  ./Models/\n"
     ]
    }
   ],
   "source": [
    "sgd_clf_final.fit(X_train, y_train)\n",
    "model_saver(sgd_clf_final, 'sgd_clf.pkl')"
   ]
  },
  {
   "cell_type": "markdown",
   "metadata": {},
   "source": [
    "#### *Random Forests*"
   ]
  },
  {
   "cell_type": "code",
   "execution_count": 61,
   "metadata": {},
   "outputs": [
    {
     "name": "stdout",
     "output_type": "stream",
     "text": [
      "Fitting 3 folds for each of 96 candidates, totalling 288 fits\n"
     ]
    },
    {
     "name": "stderr",
     "output_type": "stream",
     "text": [
      "[Parallel(n_jobs=-1)]: Using backend LokyBackend with 4 concurrent workers.\n",
      "C:\\Users\\ghare\\Anaconda3\\lib\\site-packages\\sklearn\\externals\\joblib\\externals\\loky\\process_executor.py:706: UserWarning: A worker stopped while some jobs were given to the executor. This can be caused by a too short worker timeout or by a memory leak.\n",
      "  \"timeout or by a memory leak.\", UserWarning\n",
      "C:\\Users\\ghare\\Anaconda3\\lib\\site-packages\\sklearn\\externals\\joblib\\externals\\loky\\process_executor.py:706: UserWarning: A worker stopped while some jobs were given to the executor. This can be caused by a too short worker timeout or by a memory leak.\n",
      "  \"timeout or by a memory leak.\", UserWarning\n",
      "C:\\Users\\ghare\\Anaconda3\\lib\\site-packages\\sklearn\\externals\\joblib\\externals\\loky\\process_executor.py:706: UserWarning: A worker stopped while some jobs were given to the executor. This can be caused by a too short worker timeout or by a memory leak.\n",
      "  \"timeout or by a memory leak.\", UserWarning\n",
      "[Parallel(n_jobs=-1)]: Done  33 tasks      | elapsed: 43.4min\n",
      "[Parallel(n_jobs=-1)]: Done 154 tasks      | elapsed: 157.5min\n",
      "[Parallel(n_jobs=-1)]: Done 288 out of 288 | elapsed: 200.5min finished\n"
     ]
    },
    {
     "data": {
      "text/plain": [
       "GridSearchCV(cv=3, error_score='raise-deprecating',\n",
       "       estimator=Pipeline(memory=None,\n",
       "     steps=[('mess', MessagePunctSelector(add_main_par=True, keep_header=False, keep_punct=False,\n",
       "           keep_subject=False, mask_URL=True, mask_number=True)), ('vect', CountVectorizer(analyzer='word', binary=False, decode_error='strict',\n",
       "        dtype=<class 'numpy.int64'>, encoding='utf-8', input='...ators=500, n_jobs=None,\n",
       "            oob_score=False, random_state=42, verbose=0, warm_start=False))]),\n",
       "       fit_params=None, iid='warn', n_jobs=-1,\n",
       "       param_grid=[{'mess__keep_header': [True, False], 'mess__keep_subject': [True, False], 'mess__mask_URL': [True, False], 'mess__mask_number': [True, False], 'mess__keep_punct': [True, False], 'vect__lowercase': [True], 'vect__tokenizer': [<__main__.StemTokenizer object at 0x0000025883C08588>, <__main_...enizer': [None], 'vect__token_pattern': ['\\\\w\\\\w+', '\\\\w\\\\w+|[!\"#%&\\'()*+,-./:;<=>?@[\\\\]^_`{|}~]']}],\n",
       "       pre_dispatch='2*n_jobs', refit=True, return_train_score='warn',\n",
       "       scoring='average_precision', verbose=2)"
      ]
     },
     "execution_count": 61,
     "metadata": {},
     "output_type": "execute_result"
    }
   ],
   "source": [
    "rf_clf = Pipeline([\n",
    "    ('mess', MessagePunctSelector()),\n",
    "    ('vect', CountVectorizer()),\n",
    "    ('tfidf', TfidfTransformer()),\n",
    "    ('rf', RandomForestClassifier(n_estimators=500, random_state=42))\n",
    "])\n",
    "param_grid = [\n",
    "    {'mess__keep_header': [True, False], 'mess__keep_subject': [True, False], 'mess__mask_URL': [True, False], \n",
    "     'mess__mask_number': [True, False], 'mess__keep_punct': [True, False], 'vect__lowercase': [True],\n",
    "     'vect__tokenizer': [StemTokenizer(), LemmaTokenizer()]\n",
    "     },\n",
    "    {'mess__keep_header': [True, False], 'mess__keep_subject': [True, False], 'mess__mask_URL': [True, False], \n",
    "     'mess__mask_number': [True, False], 'mess__keep_punct': [True], 'vect__lowercase': [True], \n",
    "     'vect__tokenizer': [None], 'vect__token_pattern': ['\\w\\w+', '''\\w\\w+|[!\"#%&'()*+,-./:;<=>?@[\\]^_`{|}~]''']\n",
    "     } #specific custom pattern for tokenization with/wo punctuation\n",
    "]\n",
    "cv = GridSearchCV(rf_clf, param_grid=param_grid, cv=3, verbose=2, n_jobs=-1, scoring='average_precision')\n",
    "cv.fit(X_train, y_train)"
   ]
  },
  {
   "cell_type": "code",
   "execution_count": 62,
   "metadata": {},
   "outputs": [
    {
     "name": "stdout",
     "output_type": "stream",
     "text": [
      "Best score : 99.35%, best parameters : {'mess__keep_header': True, 'mess__keep_punct': True, 'mess__keep_subject': True, 'mess__mask_URL': True, 'mess__mask_number': True, 'vect__lowercase': True, 'vect__token_pattern': '\\\\w\\\\w+', 'vect__tokenizer': None}\n"
     ]
    }
   ],
   "source": [
    "print('Best score : {:.2f}%, best parameters : {}'.format(cv.best_score_ * 100, cv.best_params_))"
   ]
  },
  {
   "cell_type": "code",
   "execution_count": 63,
   "metadata": {},
   "outputs": [
    {
     "name": "stdout",
     "output_type": "stream",
     "text": [
      "Fitting 3 folds for each of 27 candidates, totalling 81 fits\n"
     ]
    },
    {
     "name": "stderr",
     "output_type": "stream",
     "text": [
      "[Parallel(n_jobs=-1)]: Using backend LokyBackend with 4 concurrent workers.\n",
      "[Parallel(n_jobs=-1)]: Done  33 tasks      | elapsed: 10.0min\n",
      "[Parallel(n_jobs=-1)]: Done  81 out of  81 | elapsed: 22.4min finished\n"
     ]
    },
    {
     "data": {
      "text/plain": [
       "GridSearchCV(cv=3, error_score='raise-deprecating',\n",
       "       estimator=Pipeline(memory=None,\n",
       "     steps=[('mess', MessagePunctSelector(add_main_par=True, keep_header=True, keep_punct=True,\n",
       "           keep_subject=True, mask_URL=True, mask_number=True)), ('vect', CountVectorizer(analyzer='word', binary=False, decode_error='strict',\n",
       "        dtype=<class 'numpy.int64'>, encoding='utf-8', input='con...ators=500, n_jobs=None,\n",
       "            oob_score=False, random_state=42, verbose=0, warm_start=False))]),\n",
       "       fit_params=None, iid='warn', n_jobs=-1,\n",
       "       param_grid=[{'vect__ngram_range': [(1, 1), (1, 2), (2, 2)], 'vect__max_df': [1.0, 0.8, 0.6], 'vect__min_df': [1, 0.001, 0.005]}],\n",
       "       pre_dispatch='2*n_jobs', refit=True, return_train_score='warn',\n",
       "       scoring='average_precision', verbose=2)"
      ]
     },
     "execution_count": 63,
     "metadata": {},
     "output_type": "execute_result"
    }
   ],
   "source": [
    "rf_clf = Pipeline([\n",
    "    ('mess', MessagePunctSelector(keep_header=True, keep_subject=True, keep_punct=True, \n",
    "                                  mask_URL=True, mask_number=True)),\n",
    "    ('vect', CountVectorizer(lowercase=True, tokenizer=None, token_pattern='\\\\w\\\\w+')),\n",
    "    ('tfidf', TfidfTransformer()),\n",
    "    ('rf', RandomForestClassifier(n_estimators=500, random_state=42))\n",
    "])\n",
    "param_grid = [\n",
    "    {'vect__ngram_range': [(1, 1), (1, 2), (2, 2)], 'vect__max_df': [1.0, 0.8, 0.6], \n",
    "     'vect__min_df': [1, 0.001, 0.005]\n",
    "     }\n",
    "]\n",
    "cv = GridSearchCV(rf_clf, param_grid=param_grid, cv=3, verbose=2, n_jobs=-1, scoring='average_precision')\n",
    "cv.fit(X_train, y_train)"
   ]
  },
  {
   "cell_type": "code",
   "execution_count": 64,
   "metadata": {},
   "outputs": [
    {
     "name": "stdout",
     "output_type": "stream",
     "text": [
      "Best score : 99.64%, best parameters : {'vect__max_df': 0.8, 'vect__min_df': 0.005, 'vect__ngram_range': (1, 2)}\n"
     ]
    }
   ],
   "source": [
    "print('Best score : {:.2f}%, best parameters : {}'.format(cv.best_score_ * 100, cv.best_params_))"
   ]
  },
  {
   "cell_type": "code",
   "execution_count": 65,
   "metadata": {},
   "outputs": [
    {
     "name": "stdout",
     "output_type": "stream",
     "text": [
      "Fitting 3 folds for each of 4 candidates, totalling 12 fits\n"
     ]
    },
    {
     "name": "stderr",
     "output_type": "stream",
     "text": [
      "[Parallel(n_jobs=-1)]: Using backend LokyBackend with 4 concurrent workers.\n",
      "[Parallel(n_jobs=-1)]: Done  12 out of  12 | elapsed:  3.1min remaining:    0.0s\n",
      "[Parallel(n_jobs=-1)]: Done  12 out of  12 | elapsed:  3.1min finished\n"
     ]
    },
    {
     "data": {
      "text/plain": [
       "GridSearchCV(cv=3, error_score='raise-deprecating',\n",
       "       estimator=Pipeline(memory=None,\n",
       "     steps=[('mess', MessagePunctSelector(add_main_par=True, keep_header=True, keep_punct=True,\n",
       "           keep_subject=True, mask_URL=True, mask_number=True)), ('vect', CountVectorizer(analyzer='word', binary=False, decode_error='strict',\n",
       "        dtype=<class 'numpy.int64'>, encoding='utf-8', input='con...ators=500, n_jobs=None,\n",
       "            oob_score=False, random_state=42, verbose=0, warm_start=False))]),\n",
       "       fit_params=None, iid='warn', n_jobs=-1,\n",
       "       param_grid=[{'vect__ngram_range': [(1, 2)], 'vect__max_df': [0.8, 0.6], 'vect__min_df': [0.005, 0.001]}],\n",
       "       pre_dispatch='2*n_jobs', refit=True, return_train_score='warn',\n",
       "       scoring='average_precision', verbose=2)"
      ]
     },
     "execution_count": 65,
     "metadata": {},
     "output_type": "execute_result"
    }
   ],
   "source": [
    "rf_clf = Pipeline([\n",
    "    ('mess', MessagePunctSelector(keep_header=True, keep_subject=True, keep_punct=True, \n",
    "                                  mask_URL=True, mask_number=True)),\n",
    "    ('vect', CountVectorizer(lowercase=True, tokenizer=None, token_pattern='\\\\w\\\\w+')),\n",
    "    ('tfidf', TfidfTransformer()),\n",
    "    ('rf', RandomForestClassifier(n_estimators=500, random_state=42))\n",
    "])\n",
    "param_grid = [\n",
    "    {'vect__ngram_range': [(1, 2)], 'vect__max_df': [0.8, 0.6], \n",
    "     'vect__min_df': [0.005, 0.001]\n",
    "     }\n",
    "]\n",
    "cv = GridSearchCV(rf_clf, param_grid=param_grid, cv=3, verbose=2, n_jobs=-1, scoring='average_precision')\n",
    "cv.fit(X_train, y_train)"
   ]
  },
  {
   "cell_type": "code",
   "execution_count": 66,
   "metadata": {},
   "outputs": [
    {
     "name": "stdout",
     "output_type": "stream",
     "text": [
      "Best score : 99.64%, best parameters : {'vect__max_df': 0.8, 'vect__min_df': 0.005, 'vect__ngram_range': (1, 2)}\n"
     ]
    }
   ],
   "source": [
    "print('Best score : {:.2f}%, best parameters : {}'.format(cv.best_score_ * 100, cv.best_params_))"
   ]
  },
  {
   "cell_type": "code",
   "execution_count": 67,
   "metadata": {},
   "outputs": [],
   "source": [
    "prep_pip = Pipeline([\n",
    "    ('mess', MessagePunctSelector(keep_header=True, keep_subject=True, keep_punct=True, \n",
    "                                  mask_URL=True, mask_number=True)),\n",
    "    ('vect', CountVectorizer(lowercase=True, tokenizer=None, token_pattern='\\\\w\\\\w+', \n",
    "                             max_df=0.8, min_df=0.005, ngram_range=(1, 2))),\n",
    "    ('tfidf', TfidfTransformer())\n",
    "])\n",
    "\n",
    "X_prep = prep_pip.fit_transform(X_train)"
   ]
  },
  {
   "cell_type": "code",
   "execution_count": 68,
   "metadata": {},
   "outputs": [
    {
     "name": "stdout",
     "output_type": "stream",
     "text": [
      "Fitting 3 folds for each of 30 candidates, totalling 90 fits\n"
     ]
    },
    {
     "name": "stderr",
     "output_type": "stream",
     "text": [
      "[Parallel(n_jobs=-1)]: Using backend LokyBackend with 4 concurrent workers.\n",
      "[Parallel(n_jobs=-1)]: Done  33 tasks      | elapsed:  2.0min\n",
      "[Parallel(n_jobs=-1)]: Done  90 out of  90 | elapsed:  5.5min finished\n"
     ]
    },
    {
     "data": {
      "text/plain": [
       "GridSearchCV(cv=3, error_score='raise-deprecating',\n",
       "       estimator=RandomForestClassifier(bootstrap=True, class_weight=None, criterion='gini',\n",
       "            max_depth=None, max_features='auto', max_leaf_nodes=None,\n",
       "            min_impurity_decrease=0.0, min_impurity_split=None,\n",
       "            min_samples_leaf=1, min_samples_split=2,\n",
       "            min_weight_fraction_leaf=0.0, n_estimators=500, n_jobs=None,\n",
       "            oob_score=False, random_state=42, verbose=0, warm_start=False),\n",
       "       fit_params=None, iid='warn', n_jobs=-1,\n",
       "       param_grid={'max_features': ['auto', 'log2', 0.01], 'min_samples_split': [2, 0.05, 0.1, 0.15, 0.2], 'criterion': ['gini', 'entropy']},\n",
       "       pre_dispatch='2*n_jobs', refit=True, return_train_score='warn',\n",
       "       scoring='average_precision', verbose=2)"
      ]
     },
     "execution_count": 68,
     "metadata": {},
     "output_type": "execute_result"
    }
   ],
   "source": [
    "rf_clf = RandomForestClassifier(random_state=42, n_estimators=500)\n",
    "\n",
    "\n",
    "param_grid = {'max_features': ['auto', 'log2', 0.01], \n",
    "              'min_samples_split': [2, 0.05, 0.1, 0.15, 0.2], 'criterion': ['gini', 'entropy']}\n",
    "\n",
    "cv = GridSearchCV(rf_clf, param_grid=param_grid, scoring='average_precision', cv=3, verbose=2, n_jobs=-1)\n",
    "cv.fit(X_prep, y_train)"
   ]
  },
  {
   "cell_type": "code",
   "execution_count": 69,
   "metadata": {},
   "outputs": [
    {
     "name": "stdout",
     "output_type": "stream",
     "text": [
      "Best score : 99.64%, best parameters : {'criterion': 'gini', 'max_features': 0.01, 'min_samples_split': 2}\n"
     ]
    }
   ],
   "source": [
    "print('Best score : {:.2f}%, best parameters : {}'.format(cv.best_score_ * 100, cv.best_params_))"
   ]
  },
  {
   "cell_type": "code",
   "execution_count": 70,
   "metadata": {},
   "outputs": [
    {
     "name": "stderr",
     "output_type": "stream",
     "text": [
      "[Parallel(n_jobs=-1)]: Using backend LokyBackend with 4 concurrent workers.\n",
      "[Parallel(n_jobs=-1)]: Done   5 out of   5 | elapsed:  1.2min finished\n"
     ]
    }
   ],
   "source": [
    "rf_clf_final = Pipeline([\n",
    "    ('mess', MessagePunctSelector(keep_header=True, keep_subject=True, keep_punct=True, \n",
    "                                  mask_URL=True, mask_number=True)),\n",
    "    ('vect', CountVectorizer(lowercase=True, tokenizer=None, token_pattern='\\\\w\\\\w+', \n",
    "                             max_df=0.8, min_df=0.005, ngram_range=(1, 2))),\n",
    "    ('tfidf', TfidfTransformer()),\n",
    "    ('rf', RandomForestClassifier(n_estimators=500, random_state=42, max_features=0.01))\n",
    "])\n",
    "y_pred = cross_val_predict(rf_clf_final, X_train, y_train, cv=5, verbose=2, n_jobs=-1)"
   ]
  },
  {
   "cell_type": "code",
   "execution_count": 71,
   "metadata": {},
   "outputs": [
    {
     "name": "stdout",
     "output_type": "stream",
     "text": [
      "Final accuracy score on validation set: 98.01%\n",
      "Final precision score on validation set: 96.65%\n",
      "Final recall score on validation set: 97.03%\n"
     ]
    }
   ],
   "source": [
    "print(\"Final accuracy score on validation set: {:.2f}%\".format(accuracy_score(y_train, y_pred)*100))\n",
    "print(\"Final precision score on validation set: {:.2f}%\".format(precision_score(y_train, y_pred)*100))\n",
    "print(\"Final recall score on validation set: {:.2f}%\".format(recall_score(y_train, y_pred)*100))"
   ]
  },
  {
   "cell_type": "code",
   "execution_count": 72,
   "metadata": {},
   "outputs": [
    {
     "name": "stdout",
     "output_type": "stream",
     "text": [
      "Model saved in  ./Models/\n"
     ]
    }
   ],
   "source": [
    "rf_clf_final.fit(X_train, y_train)\n",
    "model_saver(rf_clf_final, 'rf_clf.pkl')"
   ]
  },
  {
   "cell_type": "markdown",
   "metadata": {},
   "source": [
    "### **Evaluating the model on the test set**"
   ]
  },
  {
   "cell_type": "code",
   "execution_count": 73,
   "metadata": {},
   "outputs": [
    {
     "name": "stdout",
     "output_type": "stream",
     "text": [
      "Final accuracy score on test set: 99.34%\n",
      "Final precision score on test set: 98.69%\n",
      "Final recall score on test set: 99.21%\n"
     ]
    }
   ],
   "source": [
    "y_test_pred = sgd_clf_final.predict(X_test)\n",
    "print(\"Final accuracy score on test set: {:.2f}%\".format(accuracy_score(y_test, y_test_pred)*100))\n",
    "print(\"Final precision score on test set: {:.2f}%\".format(precision_score(y_test, y_test_pred)*100))\n",
    "print(\"Final recall score on test set: {:.2f}%\".format(recall_score(y_test, y_test_pred)*100))"
   ]
  }
 ],
 "metadata": {
  "kernelspec": {
   "display_name": "Python 3",
   "language": "python",
   "name": "python3"
  },
  "language_info": {
   "codemirror_mode": {
    "name": "ipython",
    "version": 3
   },
   "file_extension": ".py",
   "mimetype": "text/x-python",
   "name": "python",
   "nbconvert_exporter": "python",
   "pygments_lexer": "ipython3",
   "version": "3.7.3"
  }
 },
 "nbformat": 4,
 "nbformat_minor": 1
}
